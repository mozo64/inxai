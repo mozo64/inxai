{
 "cells": [
  {
   "cell_type": "raw",
   "id": "purple-agreement",
   "metadata": {},
   "source": [
    "! pip3 install -U scikit-learn scipy matplotlib\n",
    "! pip3 install -U shap \n",
    "! pip3 install -U lime \n",
    "! pip3 install -U xgboost \n",
    "! pip3 install -U eli5 \n",
    "! pip3 install -U seaborn \n",
    "\n",
    "! pip3 install ipywidgets\n",
    "\n",
    "! pip3 install lightgbm\n",
    "\n",
    "! pip3 install mlxtend\n",
    "\n",
    "! pip3 install -U catboost\n"
   ]
  },
  {
   "cell_type": "code",
   "execution_count": 185,
   "id": "beneficial-python",
   "metadata": {},
   "outputs": [
    {
     "name": "stdout",
     "output_type": "stream",
     "text": [
      "1.20.0\n"
     ]
    }
   ],
   "source": [
    "import os\n",
    "\n",
    "import numpy as np \n",
    "print(np.version.version)\n",
    "import pandas as pd \n",
    "\n",
    "import pickle\n",
    "\n",
    "import itertools \n",
    "\n",
    "from eli5 import show_prediction, show_weights\n",
    "from eli5.sklearn import PermutationImportance\n",
    "\n",
    "from sklearn import datasets\n",
    "from sklearn import model_selection\n",
    "from sklearn.model_selection import train_test_split\n",
    "from sklearn.metrics import accuracy_score, roc_curve, auc, confusion_matrix, classification_report\n",
    "from sklearn.compose import ColumnTransformer\n",
    "\n",
    "from sklearn.svm import SVC\n",
    "from sklearn.linear_model import LogisticRegression\n",
    "from sklearn.naive_bayes import GaussianNB\n",
    "from sklearn.ensemble import RandomForestClassifier, StackingClassifier\n",
    "\n",
    "import xgboost as xgb \n",
    "import lightgbm as lgb\n",
    "from catboost import CatBoostClassifier, Pool\n",
    "\n",
    "import seaborn as sns \n",
    "\n",
    "import matplotlib.gridspec as gridspec\n",
    "import matplotlib.pyplot as plt \n",
    "\n",
    "from mlxtend.plotting import plot_decision_regions\n",
    "from mlxtend.classifier import EnsembleVoteClassifier\n",
    "\n",
    "import sys\n",
    "sys.path.append('..')\n",
    "\n",
    "from inxai import *\n",
    "import shap\n",
    "import lime\n",
    "\n",
    "\n",
    "import logging\n",
    "\n",
    "from ConfigSpace.hyperparameters import UniformFloatHyperparameter\n",
    "from ConfigSpace.hyperparameters import Constant\n",
    "\n",
    "# Import ConfigSpace and different types of parameters\n",
    "from smac.configspace import ConfigurationSpace\n",
    "from smac.facade.smac_bo_facade import SMAC4BO\n",
    "# Import SMAC-utilities\n",
    "from smac.scenario.scenario import Scenario\n"
   ]
  },
  {
   "cell_type": "markdown",
   "id": "stunning-mineral",
   "metadata": {},
   "source": [
    "# 1. Helper functions"
   ]
  },
  {
   "cell_type": "code",
   "execution_count": 2,
   "id": "pacific-samuel",
   "metadata": {},
   "outputs": [],
   "source": [
    "path = '../examples/'\n",
    "\n",
    "def to_pickle(obj, name):\n",
    "    with open(path + name + '.pickle', 'wb') as f:\n",
    "        pickle.dump(obj, f)\n",
    "\n",
    "def from_pickle(name):\n",
    "    return pd.read_pickle(path + name + '.pickle')\n"
   ]
  },
  {
   "cell_type": "code",
   "execution_count": 109,
   "id": "divided-count",
   "metadata": {},
   "outputs": [],
   "source": [
    "## Nie uzywam stacking-ensemble poniewaz potrzebuje miec kontrole nad wagami gdy lacze modele\n",
    "## Interesuje mnie srednia wazona z predykcji 3 modeli \n",
    "\n",
    "class weighted_model:\n",
    "    '''\n",
    "    Wrapper for classificators to combine up to 3 models.\n",
    "    Weights are always scaled to sum up to 1 (or 100%). \n",
    "    '''\n",
    "    def __init__(self, w1, m1, w2 = 0.0, m2 = None, w3 = 0.0, m3 = None, w4 = 0.0, m4 = None, w5 = 0.0, m5 = None):\n",
    "        self.w1 = w1\n",
    "        self.w2 = w2\n",
    "        self.w3 = w3\n",
    "        self.w4 = w4\n",
    "        self.w5 = w5\n",
    "        self.m1 = m1\n",
    "        self.m2 = m2\n",
    "        self.m3 = m3\n",
    "        self.m4 = m4\n",
    "        self.m5 = m5\n",
    "        self.colnames = None\n",
    "        \n",
    "    def predict(self, X):\n",
    "        weighted_proba = self.predict_proba(X)\n",
    "        return [0 if wp[0] > 0.5 else 1 for wp in weighted_proba]\n",
    "    \n",
    "    def predict_proba(self, X):\n",
    "        w_ = self.w1 + self.w2 + self.w3 + self.w4 + self.w5\n",
    "        m2_predict_proba = 0.0 if self.w2 == 0.0 else self.m2.predict_proba(X)\n",
    "        m3_predict_proba = 0.0 if self.w3 == 0.0 else self.m3.predict_proba(X)\n",
    "        m4_predict_proba = 0.0 if self.w4 == 0.0 else self.m4.predict_proba(X)\n",
    "        m5_predict_proba = 0.0 if self.w5 == 0.0 else self.m5.predict_proba(X)\n",
    "        weighted_prediction = (self.w1 * self.m1.predict_proba(X) + self.w2 * m2_predict_proba + self.w3 * m3_predict_proba + self.w4 * m4_predict_proba + self.w5 * m5_predict_proba) / w_\n",
    "        return weighted_prediction\n",
    "\n",
    "    def fit(self, X):\n",
    "        self.colnames = X.columns\n",
    "        return self\n"
   ]
  },
  {
   "cell_type": "code",
   "execution_count": 110,
   "id": "built-redhead",
   "metadata": {},
   "outputs": [],
   "source": [
    "def AreaUnderTheCurveAccLoss(acc_loss):\n",
    "    l = len(acc_loss)\n",
    "    return auc(np.linspace(0, 1, l), acc_loss)"
   ]
  },
  {
   "cell_type": "code",
   "execution_count": 146,
   "id": "multiple-collection",
   "metadata": {},
   "outputs": [],
   "source": [
    "def weighted_shap(w1, m1, w2 = 0.0, m2 = None, w3 = 0.0, m3 = None, w4 = 0.0, m4 = None, w5 = 0.0, m5 = None):\n",
    "    return generate_per_instance_importances(models=weighted_model(w1=w1, m1=m1, w2=w2, m2=m2, w3=w3, m3=m3, w4=w4, m4=m4, w5=w5, m5=m5), X=X_test.iloc[:, ], y=y_test[:, ], framework='kernel_shap') \n",
    "\n",
    "def weighted_shap_naive(w1, shap1, w2 = 0.0, shap2 = None, w3 = 0.0, shap3 = None, w4 = 0.0, shap4 = None, w5 = 0.0, shap5 = None):\n",
    "    '''\n",
    "    Use this as a fast approximation \n",
    "    '''\n",
    "    w_ = w1 + w2 + w3 + w4 + w5\n",
    "    \n",
    "    shapNone = [shap_i * 0.0 for shap_i in shap1]\n",
    "    \n",
    "    shap1_w = [shap_i * w1 for shap_i in shap1]\n",
    "    shap2_w = shapNone if w2 == 0.0 else [shap_i * w2 for shap_i in shap2]\n",
    "    shap3_w = shapNone if w3 == 0.0 else [shap_i * w3 for shap_i in shap3]\n",
    "    shap4_w = shapNone if w4 == 0.0 else [shap_i * w4 for shap_i in shap4]\n",
    "    shap5_w = shapNone if w5 == 0.0 else [shap_i * w5 for shap_i in shap5]\n",
    "    \n",
    "    shap_zip =  zip(shap1_w, shap2_w, shap3_w, shap4_w, shap5_w)\n",
    "    \n",
    "    return [(shap1_w_i + shap2_w_i + shap3_w_i + shap4_w_i + shap5_w_i) / w_ for shap1_w_i, shap2_w_i, shap3_w_i, shap4_w_i, shap5_w_i in shap_zip]\n"
   ]
  },
  {
   "cell_type": "code",
   "execution_count": 267,
   "id": "confident-archive",
   "metadata": {},
   "outputs": [],
   "source": [
    "def weighted_acc_loss(X_test, y_test, ct, w1, m1, w2 = 0.0, m2 = None, w3 = 0.0, m3 = None, w4 = 0.0, m4 = None, w5 = 0.0, m5 = None, plot=True):\n",
    "#     print(\"debug-1\")\n",
    "    weighted_perm = PermutationImportance(weighted_model(w1=w1, m1=m1, w2=w2, m2=m2, w3=w3, m3=m3, w4=w4, m4=m4, w5=w5, m5=m5), random_state=2021, scoring=\"accuracy\").fit(X_test, y_test)\n",
    "#     print(\"debug-2\")\n",
    "    weighted_perm_importances = weighted_perm.feature_importances_\n",
    "    show_weights(weighted_perm, feature_names=FEATURE_IDS)\n",
    "    \n",
    "    return gm.gradual_perturbation(model = weighted_model(w1=w1, m1=m1, w2=w2, m2=m2, w3=w3, m3=m3, w4=w4, m4=m4, w5=w5, m5=m5), X = X_test, y = y_test, column_transformer = ct, importances_orig = weighted_perm_importances, resolution=50,  count_per_step=10, plot=plot)\n",
    "\n",
    "def weighted_acc_loss_auc(X_test, y_test, ct, w1, m1, w2 = 0.0, m2 = None, w3 = 0.0, m3 = None, w4 = 0.0, m4 = None, w5 = 0.0, m5 = None, plot=True):\n",
    "    w_acc_loss = weighted_acc_loss(X_test, y_test, ct, w1, m1, w2, m2, w3, m3, w4, m4, w5, m5, plot)\n",
    "    return AreaUnderTheCurveAccLoss(w_acc_loss)\n",
    "\n",
    "def weighted_acc_loss_auc_naive(w1, auc1, w2 = 0.0, auc2 = None, w3 = 0.0, auc3 = None, w4 = 0.0, auc4 = None, w5 = 0.0, auc5 = None):\n",
    "    '''\n",
    "    Use this as a fast approximation \n",
    "    '''\n",
    "    return (w1 * auc1 + w2 * auc2 + w3 * auc3 + w4 * auc4 + w5 * auc5) / (w1 + w2 + w3 + w4 + w5)"
   ]
  },
  {
   "cell_type": "code",
   "execution_count": 239,
   "id": "complicated-arthritis",
   "metadata": {},
   "outputs": [],
   "source": [
    "def weighted_stability(X_test, w1, m1, w2 = 0.0, m2 = None, w3 = 0.0, m3 = None, w4 = 0.0, m4 = None, w5 = 0.0, m5 = None):\n",
    "    w_shap_ensemble = weighted_shap(w1=w1, m1=m1, w2=w2, m2=m2, w3=w3, m3=m3, w4=w4, m4=m4, w5=w5, m5=m5)\n",
    "#     w_shap_ensemble_naive = weighted_shap_naive(w1=w1, shap1=shap1, w2=w2, shap2=shap2, w3=w3, shap3=shap3, w4=w4, shap4=shap4, w5=w5, shap5=shap5)\n",
    "    return gm.stability(X_test, w_shap_ensemble, epsilon=0.3)\n",
    "\n",
    "def weighted_stability_naive(w1, stability1, w2 = 0.0, stability2 = None, w3 = 0.0, stability3 = None, w4 = 0.0, stability4 = None, w5 = 0.0, stability5 = None):\n",
    "    '''\n",
    "    Use this as a fast approximation of weighted_stability\n",
    "    '''\n",
    "    stability1None = np.array(stability1) * 0.0\n",
    "    \n",
    "    stability1_w =  np.array(stability1) * w1\n",
    "    stability2_w = stability1None if w2 == 0.0 else  np.array(stability2) * w2\n",
    "    stability3_w = stability1None if w3 == 0.0 else  np.array(stability3) * w3\n",
    "    stability4_w = stability1None if w4 == 0.0 else  np.array(stability4) * w4\n",
    "    stability5_w = stability1None if w5 == 0.0 else  np.array(stability5) * w5\n",
    "\n",
    "    return np.array(stability1 + stability2 + stability3 + stability4 + stability5) / (w1 + w2 + w3 + w4 + w5)\n"
   ]
  },
  {
   "cell_type": "code",
   "execution_count": 119,
   "id": "worst-excellence",
   "metadata": {},
   "outputs": [],
   "source": [
    "## czy to ma sens? ##\n",
    "def weighted_consistency_naive(w1, shap1, w2 = 0.0, shap2 = None, w3 = 0.0, shap3 = None, w4 = 0.0, shap4 = None, w5 = 0.0, shap5 = None):\n",
    "    '''\n",
    "    Use this as a fast approximation \n",
    "    '''\n",
    "    gm = GlobalFeatureMetric()\n",
    "    \n",
    "    w_ = w1 + w2 + w3 + w4 + w5\n",
    "    \n",
    "    shapNone = [shap_i * 0.0 for shap_i in shap1]\n",
    "    \n",
    "    shap1_w = [shap_i * w1 / w_ for shap_i in shap1]\n",
    "    shap2_w = shapNone if w2 == 0.0 else [shap_i * w2 / w_ for shap_i in shap2]\n",
    "    shap3_w = shapNone if w3 == 0.0 else [shap_i * w3 / w_ for shap_i in shap3]\n",
    "    shap4_w = shapNone if w4 == 0.0 else [shap_i * w4 / w_ for shap_i in shap4]\n",
    "    shap5_w = shapNone if w5 == 0.0 else [shap_i * w5 / w_ for shap_i in shap5]\n",
    "\n",
    "    shapes = [shap1_w]\n",
    "    if w2 > 0.0: shapes.append(shap2_w)\n",
    "    if w3 > 0.0: shapes.append(shap3_w)\n",
    "    if w4 > 0.0: shapes.append(shap4_w)\n",
    "    if w5 > 0.0: shapes.append(shap5_w)\n",
    "\n",
    "    return gm.consistency(shapes)\n"
   ]
  },
  {
   "cell_type": "markdown",
   "id": "brilliant-centre",
   "metadata": {},
   "source": [
    "# 2. Syntetic\n",
    "\n"
   ]
  },
  {
   "cell_type": "code",
   "execution_count": 50,
   "id": "sixth-queue",
   "metadata": {},
   "outputs": [
    {
     "name": "stdout",
     "output_type": "stream",
     "text": [
      "<class 'pandas.core.frame.DataFrame'>\n",
      "RangeIndex: 200 entries, 0 to 199\n",
      "Data columns (total 3 columns):\n",
      " #   Column  Non-Null Count  Dtype  \n",
      "---  ------  --------------  -----  \n",
      " 0   0       200 non-null    float64\n",
      " 1   1       200 non-null    float64\n",
      " 2   target  200 non-null    int64  \n",
      "dtypes: float64(2), int64(1)\n",
      "memory usage: 4.8 KB\n"
     ]
    },
    {
     "data": {
      "text/plain": [
       "<AxesSubplot:xlabel='0', ylabel='1'>"
      ]
     },
     "execution_count": 50,
     "metadata": {},
     "output_type": "execute_result"
    },
    {
     "data": {
      "image/png": "[encoded data removed]",
      "text/plain": [
       "<Figure size 432x288 with 2 Axes>"
      ]
     },
     "metadata": {
      "needs_background": "light"
     },
     "output_type": "display_data"
    }
   ],
   "source": [
    "X, y = datasets.make_moons(n_samples=200,  noise=0.5, random_state=2021)\n",
    "Xdf = pd.DataFrame(X, columns=['0','1'])\n",
    "ydf = pd.DataFrame(y, columns=['target'])\n",
    "\n",
    "df = pd.concat([Xdf, ydf], axis=1)\n",
    "df.info()\n",
    "\n",
    "# X=Xdf\n",
    "# y=ydf\n",
    "\n",
    "X_train, X_test, y_train, y_test = train_test_split(Xdf, y, test_size=0.33, random_state=42)\n",
    "X_train.columns = ['0','1']\n",
    "X_test.columns = ['0','1']\n",
    "# y_train= pd.DataFrame(y_train, columns=['target'])\n",
    "# y_test= pd.DataFrame(y_test, columns=['target'])\n",
    "\n",
    "X_train.plot(kind='scatter',x='0', y='1',style='.', c=y_train, colormap='viridis')"
   ]
  },
  {
   "cell_type": "code",
   "execution_count": 51,
   "id": "detailed-laugh",
   "metadata": {},
   "outputs": [],
   "source": [
    "TARGET_COL = \"target\"\n",
    "FEATURE_IDS = [str(i) for i in range(X.shape[1])]\n"
   ]
  },
  {
   "cell_type": "markdown",
   "id": "pretty-aerospace",
   "metadata": {},
   "source": [
    "# 3.Classificators \n",
    "- svc_radial\n",
    "- svc_lin\n",
    "- xgbc\n",
    "- lgbm\n",
    "- rfc\n",
    "- catboost"
   ]
  },
  {
   "cell_type": "code",
   "execution_count": 57,
   "id": "martial-identification",
   "metadata": {},
   "outputs": [
    {
     "name": "stdout",
     "output_type": "stream",
     "text": [
      "0.7575757575757576\n",
      "              precision    recall  f1-score   support\n",
      "\n",
      "           0       0.74      0.82      0.78        34\n",
      "           1       0.79      0.69      0.73        32\n",
      "\n",
      "    accuracy                           0.76        66\n",
      "   macro avg       0.76      0.76      0.76        66\n",
      "weighted avg       0.76      0.76      0.76        66\n",
      "\n"
     ]
    }
   ],
   "source": [
    "svc_radial = SVC(kernel='rbf',probability=True) # does not work with eli\n",
    "\n",
    "svc_radial.fit(X_train, y_train)\n",
    "svc_radial_preds = svc_radial.predict(X_test)\n",
    "\n",
    "# to_pickle(svc_radial, 'model_svc_radial')\n",
    "\n",
    "print(accuracy_score(y_test, svc_radial_preds))\n",
    "print(classification_report(y_test, svc_radial_preds))\n",
    "\n",
    "# show_prediction(svc_radial, X_train.iloc[1], feature_names = FEATURE_IDS, \n",
    "#                 show_feature_values=True)"
   ]
  },
  {
   "cell_type": "code",
   "execution_count": 58,
   "id": "sixth-catholic",
   "metadata": {},
   "outputs": [
    {
     "name": "stdout",
     "output_type": "stream",
     "text": [
      "0.8181818181818182\n",
      "              precision    recall  f1-score   support\n",
      "\n",
      "           0       0.79      0.88      0.83        34\n",
      "           1       0.86      0.75      0.80        32\n",
      "\n",
      "    accuracy                           0.82        66\n",
      "   macro avg       0.82      0.82      0.82        66\n",
      "weighted avg       0.82      0.82      0.82        66\n",
      "\n"
     ]
    },
    {
     "data": {
      "text/html": [
       "\n",
       "    <style>\n",
       "    table.eli5-weights tr:hover {\n",
       "        filter: brightness(85%);\n",
       "    }\n",
       "</style>\n",
       "\n",
       "\n",
       "\n",
       "    \n",
       "\n",
       "    \n",
       "\n",
       "    \n",
       "\n",
       "    \n",
       "\n",
       "    \n",
       "\n",
       "    \n",
       "\n",
       "\n",
       "    \n",
       "\n",
       "    \n",
       "\n",
       "    \n",
       "\n",
       "    \n",
       "        \n",
       "\n",
       "    \n",
       "\n",
       "        \n",
       "            \n",
       "                \n",
       "                \n",
       "    \n",
       "        <p style=\"margin-bottom: 0.5em; margin-top: 0em\">\n",
       "            <b>\n",
       "    \n",
       "        y=0\n",
       "    \n",
       "</b>\n",
       "\n",
       "    \n",
       "    (probability <b>0.712</b>, score <b>-0.693</b>)\n",
       "\n",
       "top features\n",
       "        </p>\n",
       "    \n",
       "    <table class=\"eli5-weights\"\n",
       "           style=\"border-collapse: collapse; border: none; margin-top: 0em; table-layout: auto; margin-bottom: 2em;\">\n",
       "        <thead>\n",
       "        <tr style=\"border: none;\">\n",
       "            \n",
       "                <th style=\"padding: 0 1em 0 0.5em; text-align: right; border: none;\" title=\"Feature contribution already accounts for the feature value (for linear models, contribution = weight * feature value), and the sum of feature contributions is equal to the score or, for some classifiers, to the probability. Feature values are shown if &quot;show_feature_values&quot; is True.\">\n",
       "                    Contribution<sup>?</sup>\n",
       "                </th>\n",
       "            \n",
       "            <th style=\"padding: 0 0.5em 0 0.5em; text-align: left; border: none;\">Feature</th>\n",
       "            \n",
       "                <th style=\"padding: 0 0.5em 0 1em; text-align: right; border: none;\">Value</th>\n",
       "            \n",
       "        </tr>\n",
       "        </thead>\n",
       "        <tbody>\n",
       "        \n",
       "            <tr style=\"background-color: hsl(120, 100.00%, 80.00%); border: none;\">\n",
       "    <td style=\"padding: 0 1em 0 0.5em; text-align: right; border: none;\">\n",
       "        +1.003\n",
       "    </td>\n",
       "    <td style=\"padding: 0 0.5em 0 0.5em; text-align: left; border: none;\">\n",
       "        0\n",
       "    </td>\n",
       "    \n",
       "        <td style=\"padding: 0 0.5em 0 1em; text-align: right; border: none;\">\n",
       "            -1.174\n",
       "        </td>\n",
       "    \n",
       "</tr>\n",
       "        \n",
       "            <tr style=\"background-color: hsl(120, 100.00%, 95.32%); border: none;\">\n",
       "    <td style=\"padding: 0 1em 0 0.5em; text-align: right; border: none;\">\n",
       "        +0.126\n",
       "    </td>\n",
       "    <td style=\"padding: 0 0.5em 0 0.5em; text-align: left; border: none;\">\n",
       "        &lt;BIAS&gt;\n",
       "    </td>\n",
       "    \n",
       "        <td style=\"padding: 0 0.5em 0 1em; text-align: right; border: none;\">\n",
       "            1.000\n",
       "        </td>\n",
       "    \n",
       "</tr>\n",
       "        \n",
       "        \n",
       "\n",
       "        \n",
       "        \n",
       "            <tr style=\"background-color: hsl(0, 100.00%, 88.84%); border: none;\">\n",
       "    <td style=\"padding: 0 1em 0 0.5em; text-align: right; border: none;\">\n",
       "        -0.436\n",
       "    </td>\n",
       "    <td style=\"padding: 0 0.5em 0 0.5em; text-align: left; border: none;\">\n",
       "        1\n",
       "    </td>\n",
       "    \n",
       "        <td style=\"padding: 0 0.5em 0 1em; text-align: right; border: none;\">\n",
       "            -0.297\n",
       "        </td>\n",
       "    \n",
       "</tr>\n",
       "        \n",
       "\n",
       "        </tbody>\n",
       "    </table>\n",
       "\n",
       "            \n",
       "        \n",
       "\n",
       "        \n",
       "\n",
       "\n",
       "\n",
       "    \n",
       "\n",
       "    \n",
       "\n",
       "    \n",
       "\n",
       "    \n",
       "\n",
       "\n",
       "    \n",
       "\n",
       "    \n",
       "\n",
       "    \n",
       "\n",
       "    \n",
       "\n",
       "    \n",
       "\n",
       "    \n",
       "\n",
       "\n",
       "    \n",
       "\n",
       "    \n",
       "\n",
       "    \n",
       "\n",
       "    \n",
       "\n",
       "    \n",
       "\n",
       "    \n",
       "\n",
       "\n",
       "\n"
      ],
      "text/plain": [
       "<IPython.core.display.HTML object>"
      ]
     },
     "execution_count": 58,
     "metadata": {},
     "output_type": "execute_result"
    }
   ],
   "source": [
    "svc_lin = SVC(kernel='linear',probability=True) \n",
    "svc_lin.fit(X_train, y_train)\n",
    "svc_lin_preds = svc_lin.predict(X_test)\n",
    "\n",
    "# to_pickle(svc_lin, 'model_svc_lin')\n",
    "\n",
    "print(accuracy_score(y_test, svc_lin_preds))\n",
    "print(classification_report(y_test, svc_lin_preds))\n",
    "\n",
    "show_prediction(svc_lin, X_train.iloc[1], feature_names = FEATURE_IDS, \n",
    "                show_feature_values=True)"
   ]
  },
  {
   "cell_type": "code",
   "execution_count": 59,
   "id": "higher-stations",
   "metadata": {},
   "outputs": [
    {
     "name": "stdout",
     "output_type": "stream",
     "text": [
      "[06:46:46] WARNING: ../src/learner.cc:1061: Starting in XGBoost 1.3.0, the default evaluation metric used with the objective 'binary:logistic' was changed from 'error' to 'logloss'. Explicitly set eval_metric if you'd like to restore the old behavior.\n",
      "0.7424242424242424\n",
      "              precision    recall  f1-score   support\n",
      "\n",
      "           0       0.73      0.79      0.76        34\n",
      "           1       0.76      0.69      0.72        32\n",
      "\n",
      "    accuracy                           0.74        66\n",
      "   macro avg       0.74      0.74      0.74        66\n",
      "weighted avg       0.74      0.74      0.74        66\n",
      "\n"
     ]
    },
    {
     "name": "stderr",
     "output_type": "stream",
     "text": [
      "The use of label encoder in XGBClassifier is deprecated and will be removed in a future release. To remove this warning, do the following: 1) Pass option use_label_encoder=False when constructing XGBClassifier object; and 2) Encode your labels (y) as integers starting with 0, i.e. 0, 1, 2, ..., [num_class - 1].\n"
     ]
    },
    {
     "data": {
      "text/html": [
       "\n",
       "    <style>\n",
       "    table.eli5-weights tr:hover {\n",
       "        filter: brightness(85%);\n",
       "    }\n",
       "</style>\n",
       "\n",
       "\n",
       "\n",
       "    \n",
       "\n",
       "    \n",
       "\n",
       "    \n",
       "\n",
       "    \n",
       "\n",
       "    \n",
       "\n",
       "    \n",
       "\n",
       "\n",
       "    \n",
       "\n",
       "    \n",
       "\n",
       "    \n",
       "\n",
       "    \n",
       "        \n",
       "\n",
       "    \n",
       "\n",
       "        \n",
       "            \n",
       "                \n",
       "                \n",
       "    \n",
       "        <p style=\"margin-bottom: 0.5em; margin-top: 0em\">\n",
       "            <b>\n",
       "    \n",
       "        y=0\n",
       "    \n",
       "</b>\n",
       "\n",
       "    \n",
       "    (probability <b>0.984</b>, score <b>-4.102</b>)\n",
       "\n",
       "top features\n",
       "        </p>\n",
       "    \n",
       "    <table class=\"eli5-weights\"\n",
       "           style=\"border-collapse: collapse; border: none; margin-top: 0em; table-layout: auto; margin-bottom: 2em;\">\n",
       "        <thead>\n",
       "        <tr style=\"border: none;\">\n",
       "            \n",
       "                <th style=\"padding: 0 1em 0 0.5em; text-align: right; border: none;\" title=\"Feature contribution already accounts for the feature value (for linear models, contribution = weight * feature value), and the sum of feature contributions is equal to the score or, for some classifiers, to the probability. Feature values are shown if &quot;show_feature_values&quot; is True.\">\n",
       "                    Contribution<sup>?</sup>\n",
       "                </th>\n",
       "            \n",
       "            <th style=\"padding: 0 0.5em 0 0.5em; text-align: left; border: none;\">Feature</th>\n",
       "            \n",
       "                <th style=\"padding: 0 0.5em 0 1em; text-align: right; border: none;\">Value</th>\n",
       "            \n",
       "        </tr>\n",
       "        </thead>\n",
       "        <tbody>\n",
       "        \n",
       "            <tr style=\"background-color: hsl(120, 100.00%, 80.00%); border: none;\">\n",
       "    <td style=\"padding: 0 1em 0 0.5em; text-align: right; border: none;\">\n",
       "        +4.069\n",
       "    </td>\n",
       "    <td style=\"padding: 0 0.5em 0 0.5em; text-align: left; border: none;\">\n",
       "        0\n",
       "    </td>\n",
       "    \n",
       "        <td style=\"padding: 0 0.5em 0 1em; text-align: right; border: none;\">\n",
       "            -1.174\n",
       "        </td>\n",
       "    \n",
       "</tr>\n",
       "        \n",
       "            <tr style=\"background-color: hsl(120, 100.00%, 98.80%); border: none;\">\n",
       "    <td style=\"padding: 0 1em 0 0.5em; text-align: right; border: none;\">\n",
       "        +0.073\n",
       "    </td>\n",
       "    <td style=\"padding: 0 0.5em 0 0.5em; text-align: left; border: none;\">\n",
       "        1\n",
       "    </td>\n",
       "    \n",
       "        <td style=\"padding: 0 0.5em 0 1em; text-align: right; border: none;\">\n",
       "            -0.297\n",
       "        </td>\n",
       "    \n",
       "</tr>\n",
       "        \n",
       "        \n",
       "\n",
       "        \n",
       "        \n",
       "            <tr style=\"background-color: hsl(0, 100.00%, 99.22%); border: none;\">\n",
       "    <td style=\"padding: 0 1em 0 0.5em; text-align: right; border: none;\">\n",
       "        -0.040\n",
       "    </td>\n",
       "    <td style=\"padding: 0 0.5em 0 0.5em; text-align: left; border: none;\">\n",
       "        &lt;BIAS&gt;\n",
       "    </td>\n",
       "    \n",
       "        <td style=\"padding: 0 0.5em 0 1em; text-align: right; border: none;\">\n",
       "            1.000\n",
       "        </td>\n",
       "    \n",
       "</tr>\n",
       "        \n",
       "\n",
       "        </tbody>\n",
       "    </table>\n",
       "\n",
       "            \n",
       "        \n",
       "\n",
       "        \n",
       "\n",
       "\n",
       "\n",
       "    \n",
       "\n",
       "    \n",
       "\n",
       "    \n",
       "\n",
       "    \n",
       "\n",
       "\n",
       "    \n",
       "\n",
       "    \n",
       "\n",
       "    \n",
       "\n",
       "    \n",
       "\n",
       "    \n",
       "\n",
       "    \n",
       "\n",
       "\n",
       "    \n",
       "\n",
       "    \n",
       "\n",
       "    \n",
       "\n",
       "    \n",
       "\n",
       "    \n",
       "\n",
       "    \n",
       "\n",
       "\n",
       "\n"
      ],
      "text/plain": [
       "<IPython.core.display.HTML object>"
      ]
     },
     "execution_count": 59,
     "metadata": {},
     "output_type": "execute_result"
    }
   ],
   "source": [
    "xgbc = xgb.XGBClassifier() \n",
    "xgbc.fit(X_train, y_train)\n",
    "xgbc_preds = xgbc.predict(X_test)\n",
    "\n",
    "# to_pickle(xgbc, 'model_xgbc')\n",
    "\n",
    "print(accuracy_score(y_test, xgbc_preds))\n",
    "print(classification_report(y_test, xgbc_preds))\n",
    "\n",
    "show_prediction(xgbc, X_train.iloc[1], feature_names = FEATURE_IDS, \n",
    "                show_feature_values=True)"
   ]
  },
  {
   "cell_type": "code",
   "execution_count": 62,
   "id": "swedish-proposal",
   "metadata": {},
   "outputs": [
    {
     "name": "stdout",
     "output_type": "stream",
     "text": [
      "[LightGBM] [Warning] Auto-choosing col-wise multi-threading, the overhead of testing was 0.000044 seconds.\n",
      "You can set `force_col_wise=true` to remove the overhead.\n",
      "[LightGBM] [Info] Total Bins 93\n",
      "[LightGBM] [Info] Number of data points in the train set: 134, number of used features: 2\n",
      "[LightGBM] [Info] Start training from score 0.507463\n",
      "[LightGBM] [Warning] No further splits with positive gain, best gain: -inf\n",
      "Training until validation scores don't improve for 15 rounds\n",
      "[LightGBM] [Warning] No further splits with positive gain, best gain: -inf\n",
      "[LightGBM] [Warning] No further splits with positive gain, best gain: -inf\n",
      "[LightGBM] [Warning] No further splits with positive gain, best gain: -inf\n",
      "[LightGBM] [Warning] No further splits with positive gain, best gain: -inf\n",
      "[LightGBM] [Warning] No further splits with positive gain, best gain: -inf\n",
      "[LightGBM] [Warning] No further splits with positive gain, best gain: -inf\n",
      "[LightGBM] [Warning] No further splits with positive gain, best gain: -inf\n",
      "[LightGBM] [Warning] No further splits with positive gain, best gain: -inf\n",
      "[LightGBM] [Warning] No further splits with positive gain, best gain: -inf\n",
      "[LightGBM] [Warning] No further splits with positive gain, best gain: -inf\n",
      "[LightGBM] [Warning] No further splits with positive gain, best gain: -inf\n",
      "[LightGBM] [Warning] No further splits with positive gain, best gain: -inf\n",
      "[LightGBM] [Warning] No further splits with positive gain, best gain: -inf\n",
      "[LightGBM] [Warning] No further splits with positive gain, best gain: -inf\n",
      "[LightGBM] [Warning] No further splits with positive gain, best gain: -inf\n",
      "[LightGBM] [Warning] No further splits with positive gain, best gain: -inf\n",
      "[LightGBM] [Warning] No further splits with positive gain, best gain: -inf\n",
      "[LightGBM] [Warning] No further splits with positive gain, best gain: -inf\n",
      "Early stopping, best iteration is:\n",
      "[4]\tvalid_0's auc: 0.799632\n",
      "0.6666666666666666\n",
      "              precision    recall  f1-score   support\n",
      "\n",
      "           0       0.68      0.68      0.68        34\n",
      "           1       0.66      0.66      0.66        32\n",
      "\n",
      "    accuracy                           0.67        66\n",
      "   macro avg       0.67      0.67      0.67        66\n",
      "weighted avg       0.67      0.67      0.67        66\n",
      "\n"
     ]
    }
   ],
   "source": [
    "params = {'metric' : 'auc',\n",
    "          'boosting_type' : 'gbdt',\n",
    "          'colsample_bytree' : 0.92,\n",
    "#           'max_depth' : -1,\n",
    "#           'n_estimators' : 200,\n",
    "          'min_child_samples': 4, \n",
    "#           'min_child_weight': 0.1,\n",
    "          'subsample': 0.85,\n",
    "#           'verbose' : -1,\n",
    "          'num_threads' : 4 }\n",
    "\n",
    "lgbm = lgb.train(params,                                    # does not work with eli\n",
    "                 lgb.Dataset(X_train,label=y_train),\n",
    "#                  2500,\n",
    "                 valid_sets=lgb.Dataset(X_test,label=y_test),\n",
    "                 early_stopping_rounds= 15,\n",
    "                 verbose_eval= 30\n",
    "                 )\n",
    "\n",
    "lgbm_preds = lgbm.predict(X_test)\n",
    "lgbm_preds = (lgbm_preds > 0.5) * 1\n",
    "\n",
    "# to_pickle(lgbm, 'model_lgbm')\n",
    "\n",
    "print(accuracy_score(y_test, lgbm_preds))\n",
    "print(classification_report(y_test, lgbm_preds))\n",
    "\n",
    "# show_prediction(lgbm, X_train.iloc[1], feature_names = FEATURE_IDS, #estimator is not supported\n",
    "#                 show_feature_values=True)"
   ]
  },
  {
   "cell_type": "code",
   "execution_count": 63,
   "id": "quick-partition",
   "metadata": {},
   "outputs": [
    {
     "name": "stdout",
     "output_type": "stream",
     "text": [
      "0.7424242424242424\n",
      "              precision    recall  f1-score   support\n",
      "\n",
      "           0       0.72      0.82      0.77        34\n",
      "           1       0.78      0.66      0.71        32\n",
      "\n",
      "    accuracy                           0.74        66\n",
      "   macro avg       0.75      0.74      0.74        66\n",
      "weighted avg       0.75      0.74      0.74        66\n",
      "\n"
     ]
    },
    {
     "data": {
      "text/html": [
       "\n",
       "    <style>\n",
       "    table.eli5-weights tr:hover {\n",
       "        filter: brightness(85%);\n",
       "    }\n",
       "</style>\n",
       "\n",
       "\n",
       "\n",
       "    \n",
       "\n",
       "    \n",
       "\n",
       "    \n",
       "\n",
       "    \n",
       "\n",
       "    \n",
       "\n",
       "    \n",
       "\n",
       "\n",
       "    \n",
       "\n",
       "    \n",
       "\n",
       "    \n",
       "\n",
       "    \n",
       "        \n",
       "\n",
       "    \n",
       "\n",
       "        \n",
       "            \n",
       "                \n",
       "                \n",
       "    \n",
       "        <p style=\"margin-bottom: 0.5em; margin-top: 0em\">\n",
       "            <b>\n",
       "    \n",
       "        y=0\n",
       "    \n",
       "</b>\n",
       "\n",
       "    \n",
       "    (probability <b>1.000</b>)\n",
       "\n",
       "top features\n",
       "        </p>\n",
       "    \n",
       "    <table class=\"eli5-weights\"\n",
       "           style=\"border-collapse: collapse; border: none; margin-top: 0em; table-layout: auto; margin-bottom: 2em;\">\n",
       "        <thead>\n",
       "        <tr style=\"border: none;\">\n",
       "            \n",
       "                <th style=\"padding: 0 1em 0 0.5em; text-align: right; border: none;\" title=\"Feature contribution already accounts for the feature value (for linear models, contribution = weight * feature value), and the sum of feature contributions is equal to the score or, for some classifiers, to the probability. Feature values are shown if &quot;show_feature_values&quot; is True.\">\n",
       "                    Contribution<sup>?</sup>\n",
       "                </th>\n",
       "            \n",
       "            <th style=\"padding: 0 0.5em 0 0.5em; text-align: left; border: none;\">Feature</th>\n",
       "            \n",
       "                <th style=\"padding: 0 0.5em 0 1em; text-align: right; border: none;\">Value</th>\n",
       "            \n",
       "        </tr>\n",
       "        </thead>\n",
       "        <tbody>\n",
       "        \n",
       "            <tr style=\"background-color: hsl(120, 100.00%, 80.00%); border: none;\">\n",
       "    <td style=\"padding: 0 1em 0 0.5em; text-align: right; border: none;\">\n",
       "        +0.494\n",
       "    </td>\n",
       "    <td style=\"padding: 0 0.5em 0 0.5em; text-align: left; border: none;\">\n",
       "        &lt;BIAS&gt;\n",
       "    </td>\n",
       "    \n",
       "        <td style=\"padding: 0 0.5em 0 1em; text-align: right; border: none;\">\n",
       "            1.000\n",
       "        </td>\n",
       "    \n",
       "</tr>\n",
       "        \n",
       "            <tr style=\"background-color: hsl(120, 100.00%, 82.00%); border: none;\">\n",
       "    <td style=\"padding: 0 1em 0 0.5em; text-align: right; border: none;\">\n",
       "        +0.425\n",
       "    </td>\n",
       "    <td style=\"padding: 0 0.5em 0 0.5em; text-align: left; border: none;\">\n",
       "        0\n",
       "    </td>\n",
       "    \n",
       "        <td style=\"padding: 0 0.5em 0 1em; text-align: right; border: none;\">\n",
       "            -1.174\n",
       "        </td>\n",
       "    \n",
       "</tr>\n",
       "        \n",
       "            <tr style=\"background-color: hsl(120, 100.00%, 94.32%); border: none;\">\n",
       "    <td style=\"padding: 0 1em 0 0.5em; text-align: right; border: none;\">\n",
       "        +0.082\n",
       "    </td>\n",
       "    <td style=\"padding: 0 0.5em 0 0.5em; text-align: left; border: none;\">\n",
       "        1\n",
       "    </td>\n",
       "    \n",
       "        <td style=\"padding: 0 0.5em 0 1em; text-align: right; border: none;\">\n",
       "            -0.297\n",
       "        </td>\n",
       "    \n",
       "</tr>\n",
       "        \n",
       "        \n",
       "\n",
       "        \n",
       "        \n",
       "\n",
       "        </tbody>\n",
       "    </table>\n",
       "\n",
       "            \n",
       "        \n",
       "\n",
       "        \n",
       "\n",
       "\n",
       "\n",
       "    \n",
       "\n",
       "    \n",
       "\n",
       "    \n",
       "\n",
       "    \n",
       "\n",
       "\n",
       "    \n",
       "\n",
       "    \n",
       "\n",
       "    \n",
       "\n",
       "    \n",
       "\n",
       "    \n",
       "\n",
       "    \n",
       "\n",
       "\n",
       "    \n",
       "\n",
       "    \n",
       "\n",
       "    \n",
       "\n",
       "    \n",
       "\n",
       "    \n",
       "\n",
       "    \n",
       "\n",
       "\n",
       "\n"
      ],
      "text/plain": [
       "<IPython.core.display.HTML object>"
      ]
     },
     "execution_count": 63,
     "metadata": {},
     "output_type": "execute_result"
    }
   ],
   "source": [
    "rfc = RandomForestClassifier()\n",
    "rfc.fit(X_train, y_train)\n",
    "rfc_preds = rfc.predict(X_test)\n",
    "\n",
    "# to_pickle(rfc, 'model_rfc')\n",
    "\n",
    "print(accuracy_score(y_test, rfc_preds))\n",
    "print(classification_report(y_test, rfc_preds))\n",
    "\n",
    "show_prediction(rfc, X_train.iloc[1], feature_names = FEATURE_IDS, \n",
    "                show_feature_values=True)"
   ]
  },
  {
   "cell_type": "code",
   "execution_count": 64,
   "id": "indonesian-chapel",
   "metadata": {},
   "outputs": [
    {
     "name": "stdout",
     "output_type": "stream",
     "text": [
      "0.6515151515151515\n",
      "              precision    recall  f1-score   support\n",
      "\n",
      "           0       0.67      0.65      0.66        34\n",
      "           1       0.64      0.66      0.65        32\n",
      "\n",
      "    accuracy                           0.65        66\n",
      "   macro avg       0.65      0.65      0.65        66\n",
      "weighted avg       0.65      0.65      0.65        66\n",
      "\n"
     ]
    }
   ],
   "source": [
    "ctbc = CatBoostClassifier(\n",
    "#     custom_loss=['Accuracy'],\n",
    "    random_seed=42,\n",
    "    logging_level='Silent',\n",
    "    iterations=1000, \n",
    "    learning_rate=0.1, \n",
    "    loss_function='CrossEntropy'\n",
    ")\n",
    "\n",
    "ctbc.fit(X_train, y_train)\n",
    "ctbc_preds = ctbc.predict(X_test)\n",
    "\n",
    "# to_pickle(ctbc, 'model_ctbc')\n",
    "\n",
    "print(accuracy_score(y_test, ctbc_preds))\n",
    "print(classification_report(y_test, ctbc_preds))\n",
    "\n",
    "# show_prediction(ctbc, X_train.iloc[1], feature_names = FEATURE_IDS,  #estimator is not supported\n",
    "#                 show_feature_values=True)"
   ]
  },
  {
   "cell_type": "markdown",
   "id": "revised-mauritius",
   "metadata": {},
   "source": [
    "## read models from pickle's"
   ]
  },
  {
   "cell_type": "raw",
   "id": "western-elimination",
   "metadata": {},
   "source": [
    "svc_radial = from_pickle('model_svc_radial')\n",
    "svc_lin = from_pickle('model_svc_lin')\n",
    "xgbc = from_pickle('model_xgbc')\n",
    "lgbm = from_pickle('model_lgbm')\n",
    "rfc = from_pickle('model_rfc')\n",
    "ctbc = from_pickle('model_ctbc')\n"
   ]
  },
  {
   "cell_type": "markdown",
   "id": "mature-stick",
   "metadata": {},
   "source": [
    "# 4. Local explanations"
   ]
  },
  {
   "cell_type": "markdown",
   "id": "logical-review",
   "metadata": {},
   "source": [
    "## LIME values \n",
    "- fix by reset of index"
   ]
  },
  {
   "cell_type": "code",
   "execution_count": 70,
   "id": "disciplinary-prior",
   "metadata": {},
   "outputs": [],
   "source": [
    "X_test_copy = X_test.copy().reset_index(drop=True)\n",
    "\n",
    "lime_svc_radial = generate_per_instance_importances(models=[svc_radial], X=X_test_copy, y=y_test, framework='lime') # does not work \n",
    "to_pickle(lime_svc_radial, 'lime_svc_radial')\n",
    "# print(lime_svc_radial)\n",
    "\n",
    "lime_svc_lin = generate_per_instance_importances(models=svc_lin, X=X_test_copy, y=y_test, framework='lime') # does not work \n",
    "to_pickle(lime_svc_lin, 'lime_svc_lin')\n",
    "# print(lime_svc_lin)\n",
    "\n",
    "lime_rfc = generate_per_instance_importances(models=rfc, X=X_test_copy, y=y_test, framework='lime') # does not work \n",
    "to_pickle(lime_rfc, 'lime_rfc')\n",
    "# print(lime_rfc)\n",
    "\n",
    "lime_ctbc = generate_per_instance_importances(models=ctbc, X=X_test_copy, y=y_test, framework='lime') # does not work \n",
    "to_pickle(lime_ctbc, 'lime_ctbc')\n",
    "# print(lime_ctbc)"
   ]
  },
  {
   "cell_type": "code",
   "execution_count": 71,
   "id": "superior-volume",
   "metadata": {
    "collapsed": true,
    "jupyter": {
     "outputs_hidden": true
    }
   },
   "outputs": [
    {
     "ename": "AttributeError",
     "evalue": "'Booster' object has no attribute 'predict_proba'",
     "output_type": "error",
     "traceback": [
      "\u001b[0;31m---------------------------------------------------------------------------\u001b[0m",
      "\u001b[0;31mAttributeError\u001b[0m                            Traceback (most recent call last)",
      "\u001b[0;32m<ipython-input-71-8608dee11556>\u001b[0m in \u001b[0;36m<module>\u001b[0;34m\u001b[0m\n\u001b[1;32m      4\u001b[0m \u001b[0;31m# print(lime_xgbc)\u001b[0m\u001b[0;34m\u001b[0m\u001b[0;34m\u001b[0m\u001b[0;34m\u001b[0m\u001b[0m\n\u001b[1;32m      5\u001b[0m \u001b[0;34m\u001b[0m\u001b[0m\n\u001b[0;32m----> 6\u001b[0;31m \u001b[0mlime_lgbm\u001b[0m \u001b[0;34m=\u001b[0m \u001b[0mgenerate_per_instance_importances\u001b[0m\u001b[0;34m(\u001b[0m\u001b[0mmodels\u001b[0m\u001b[0;34m=\u001b[0m\u001b[0mlgbm\u001b[0m\u001b[0;34m,\u001b[0m \u001b[0mX\u001b[0m\u001b[0;34m=\u001b[0m\u001b[0mX_test_copy\u001b[0m\u001b[0;34m,\u001b[0m \u001b[0my\u001b[0m\u001b[0;34m=\u001b[0m\u001b[0my_test\u001b[0m\u001b[0;34m,\u001b[0m \u001b[0mframework\u001b[0m\u001b[0;34m=\u001b[0m\u001b[0;34m'lime'\u001b[0m\u001b[0;34m)\u001b[0m \u001b[0;31m# does not work\u001b[0m\u001b[0;34m\u001b[0m\u001b[0;34m\u001b[0m\u001b[0m\n\u001b[0m\u001b[1;32m      7\u001b[0m \u001b[0mto_pickle\u001b[0m\u001b[0;34m(\u001b[0m\u001b[0mlime_lgbm\u001b[0m\u001b[0;34m,\u001b[0m \u001b[0;34m'lime_lgbm'\u001b[0m\u001b[0;34m)\u001b[0m\u001b[0;34m\u001b[0m\u001b[0;34m\u001b[0m\u001b[0m\n\u001b[1;32m      8\u001b[0m \u001b[0;31m# print(lime_lgbm)\u001b[0m\u001b[0;34m\u001b[0m\u001b[0;34m\u001b[0m\u001b[0;34m\u001b[0m\u001b[0m\n",
      "\u001b[0;32m~/Notebooks/mozo/inxai/inxai/global_metrics.py\u001b[0m in \u001b[0;36mgenerate_per_instance_importances\u001b[0;34m(models, X, y, framework)\u001b[0m\n\u001b[1;32m     59\u001b[0m \u001b[0;34m\u001b[0m\u001b[0m\n\u001b[1;32m     60\u001b[0m                 \u001b[0;31m# If is multiclass, choose explanation for the correct class\u001b[0m\u001b[0;34m\u001b[0m\u001b[0;34m\u001b[0m\u001b[0;34m\u001b[0m\u001b[0m\n\u001b[0;32m---> 61\u001b[0;31m                 exp = explainer.explain_instance(row, model.predict_proba, num_features=len(X.columns),\n\u001b[0m\u001b[1;32m     62\u001b[0m                                                  labels=(correct_label,))\n\u001b[1;32m     63\u001b[0m                 \u001b[0mimps\u001b[0m \u001b[0;34m=\u001b[0m \u001b[0mdict\u001b[0m\u001b[0;34m(\u001b[0m\u001b[0;34m)\u001b[0m\u001b[0;34m\u001b[0m\u001b[0;34m\u001b[0m\u001b[0m\n",
      "\u001b[0;31mAttributeError\u001b[0m: 'Booster' object has no attribute 'predict_proba'"
     ]
    }
   ],
   "source": [
    "lime_xgbc = generate_per_instance_importances(models=xgbc, X=X_test_copy, y=y_test, framework='lime') # does not work \n",
    "to_pickle(lime_xgbc, 'lime_xgbc')\n",
    "# print(lime_xgbc)\n",
    "\n",
    "## not working\n",
    "lime_lgbm = generate_per_instance_importances(models=lgbm, X=X_test_copy, y=y_test, framework='lime') # does not work \n",
    "to_pickle(lime_lgbm, 'lime_lgbm')\n",
    "# print(lime_lgbm)\n"
   ]
  },
  {
   "cell_type": "markdown",
   "id": "dimensional-gregory",
   "metadata": {},
   "source": [
    "### LIME's baseline"
   ]
  },
  {
   "cell_type": "code",
   "execution_count": 72,
   "id": "italic-success",
   "metadata": {},
   "outputs": [
    {
     "name": "stdout",
     "output_type": "stream",
     "text": [
      "66\n",
      "66\n",
      "66\n",
      "66\n",
      "66\n"
     ]
    }
   ],
   "source": [
    "## \n",
    "lime_svc_radial = from_pickle('lime_svc_radial')\n",
    "print(len(lime_svc_radial))\n",
    "\n",
    "lime_svc_lin = from_pickle('lime_svc_lin')\n",
    "print(len(lime_svc_lin))\n",
    "\n",
    "## \n",
    "lime_xgbc = from_pickle('lime_xgbc')\n",
    "print(len(lime_xgbc))\n",
    "\n",
    "# lime_lgbm = from_pickle('lime_lgbm')\n",
    "# print(len(lime_lgbm))\n",
    "\n",
    "lime_rfc = from_pickle('lime_rfc')\n",
    "print(len(lime_rfc))\n",
    "\n",
    "lime_ctbc = from_pickle('lime_ctbc')\n",
    "print(len(lime_ctbc))\n"
   ]
  },
  {
   "cell_type": "markdown",
   "id": "superior-uncertainty",
   "metadata": {},
   "source": [
    "## SHAP values"
   ]
  },
  {
   "cell_type": "code",
   "execution_count": 75,
   "id": "committed-founder",
   "metadata": {
    "collapsed": true,
    "jupyter": {
     "outputs_hidden": true
    }
   },
   "outputs": [
    {
     "data": {
      "application/vnd.jupyter.widget-view+json": {
       "model_id": "8d38979a0fa04a159906d07b2ebe152c",
       "version_major": 2,
       "version_minor": 0
      },
      "text/plain": [
       "  0%|          | 0/66 [00:00<?, ?it/s]"
      ]
     },
     "metadata": {},
     "output_type": "display_data"
    },
    {
     "name": "stderr",
     "output_type": "stream",
     "text": [
      "INFO:shap:num_full_subsets = 1\n",
      "INFO:shap:phi = [-0.00859598 -0.44389542]\n",
      "INFO:shap:phi = [0.00859598 0.44389542]\n",
      "INFO:shap:num_full_subsets = 1\n",
      "INFO:shap:phi = [0.04174907 0.07909871]\n",
      "INFO:shap:phi = [-0.04174907 -0.07909871]\n",
      "INFO:shap:num_full_subsets = 1\n",
      "INFO:shap:phi = [-0.00212034 -0.36623353]\n",
      "INFO:shap:phi = [0.00212034 0.36623353]\n",
      "INFO:shap:num_full_subsets = 1\n",
      "INFO:shap:phi = [-0.20975902 -0.19355954]\n",
      "INFO:shap:phi = [0.20975902 0.19355954]\n",
      "INFO:shap:num_full_subsets = 1\n",
      "INFO:shap:phi = [0.04742248 0.08211843]\n",
      "INFO:shap:phi = [-0.04742248 -0.08211843]\n",
      "INFO:shap:num_full_subsets = 1\n",
      "INFO:shap:phi = [0.04021497 0.27966569]\n",
      "INFO:shap:phi = [-0.04021497 -0.27966569]\n",
      "INFO:shap:num_full_subsets = 1\n",
      "INFO:shap:phi = [0.04444239 0.26418433]\n",
      "INFO:shap:phi = [-0.04444239 -0.26418433]\n",
      "INFO:shap:num_full_subsets = 1\n",
      "INFO:shap:phi = [ 0.00626591 -0.41630347]\n",
      "INFO:shap:phi = [-0.00626591  0.41630347]\n",
      "INFO:shap:num_full_subsets = 1\n",
      "INFO:shap:phi = [-0.00128875 -0.4098116 ]\n",
      "INFO:shap:phi = [0.00128875 0.4098116 ]\n",
      "INFO:shap:num_full_subsets = 1\n",
      "INFO:shap:phi = [-0.15718241 -0.30347195]\n",
      "INFO:shap:phi = [0.15718241 0.30347195]\n",
      "INFO:shap:num_full_subsets = 1\n",
      "INFO:shap:phi = [0.05566646 0.25682986]\n",
      "INFO:shap:phi = [-0.05566646 -0.25682986]\n",
      "INFO:shap:num_full_subsets = 1\n",
      "INFO:shap:phi = [ 0.00687622 -0.35329778]\n",
      "INFO:shap:phi = [-0.00687622  0.35329778]\n",
      "INFO:shap:num_full_subsets = 1\n",
      "INFO:shap:phi = [0.05399297 0.26078815]\n",
      "INFO:shap:phi = [-0.05399297 -0.26078815]\n",
      "INFO:shap:num_full_subsets = 1\n",
      "INFO:shap:phi = [0.09205385 0.291514  ]\n",
      "INFO:shap:phi = [-0.09205385 -0.291514  ]\n",
      "INFO:shap:num_full_subsets = 1\n",
      "INFO:shap:phi = [0.07158594 0.29459325]\n",
      "INFO:shap:phi = [-0.07158594 -0.29459325]\n",
      "INFO:shap:num_full_subsets = 1\n",
      "INFO:shap:phi = [-0.43552538 -0.03360023]\n",
      "INFO:shap:phi = [0.43552538 0.03360023]\n",
      "INFO:shap:num_full_subsets = 1\n",
      "INFO:shap:phi = [0.04397187 0.28810109]\n",
      "INFO:shap:phi = [-0.04397187 -0.28810109]\n",
      "INFO:shap:num_full_subsets = 1\n",
      "INFO:shap:phi = [0.05825164 0.25549864]\n",
      "INFO:shap:phi = [-0.05825164 -0.25549864]\n",
      "INFO:shap:num_full_subsets = 1\n",
      "INFO:shap:phi = [0.21348494 0.15941396]\n",
      "INFO:shap:phi = [-0.21348494 -0.15941396]\n",
      "INFO:shap:num_full_subsets = 1\n",
      "INFO:shap:phi = [0.16236291 0.15186005]\n",
      "INFO:shap:phi = [-0.16236291 -0.15186005]\n",
      "INFO:shap:num_full_subsets = 1\n",
      "INFO:shap:phi = [0.07116037 0.16254382]\n",
      "INFO:shap:phi = [-0.07116037 -0.16254382]\n",
      "INFO:shap:num_full_subsets = 1\n",
      "INFO:shap:phi = [0.1295121  0.14293306]\n",
      "INFO:shap:phi = [-0.1295121  -0.14293306]\n",
      "INFO:shap:num_full_subsets = 1\n",
      "INFO:shap:phi = [0.03673103 0.25834624]\n",
      "INFO:shap:phi = [-0.03673103 -0.25834624]\n",
      "INFO:shap:num_full_subsets = 1\n",
      "INFO:shap:phi = [0.05565512 0.12859737]\n",
      "INFO:shap:phi = [-0.05565512 -0.12859737]\n",
      "INFO:shap:num_full_subsets = 1\n",
      "INFO:shap:phi = [0.18163955 0.17986568]\n",
      "INFO:shap:phi = [-0.18163955 -0.17986568]\n",
      "INFO:shap:num_full_subsets = 1\n",
      "INFO:shap:phi = [ 0.50862918 -0.26309344]\n",
      "INFO:shap:phi = [-0.50862918  0.26309344]\n",
      "INFO:shap:num_full_subsets = 1\n",
      "INFO:shap:phi = [0.0384274  0.10457603]\n",
      "INFO:shap:phi = [-0.0384274  -0.10457603]\n",
      "INFO:shap:num_full_subsets = 1\n",
      "INFO:shap:phi = [0.05290657 0.12983429]\n",
      "INFO:shap:phi = [-0.05290657 -0.12983429]\n",
      "INFO:shap:num_full_subsets = 1\n",
      "INFO:shap:phi = [0.07596767 0.29262099]\n",
      "INFO:shap:phi = [-0.07596767 -0.29262099]\n",
      "INFO:shap:num_full_subsets = 1\n",
      "INFO:shap:phi = [ 0.03757451 -0.00051958]\n",
      "INFO:shap:phi = [-0.03757451  0.00051958]\n",
      "INFO:shap:num_full_subsets = 1\n",
      "INFO:shap:phi = [ 0.01182001 -0.14271444]\n",
      "INFO:shap:phi = [-0.01182001  0.14271444]\n",
      "INFO:shap:num_full_subsets = 1\n",
      "INFO:shap:phi = [-0.03551634  0.25990803]\n",
      "INFO:shap:phi = [ 0.03551634 -0.25990803]\n",
      "INFO:shap:num_full_subsets = 1\n",
      "INFO:shap:phi = [0.08488367 0.28930458]\n",
      "INFO:shap:phi = [-0.08488367 -0.28930458]\n",
      "INFO:shap:num_full_subsets = 1\n",
      "INFO:shap:phi = [ 0.06042278 -0.21000133]\n",
      "INFO:shap:phi = [-0.06042278  0.21000133]\n",
      "INFO:shap:num_full_subsets = 1\n",
      "INFO:shap:phi = [ 0.02138889 -0.2512968 ]\n",
      "INFO:shap:phi = [-0.02138889  0.2512968 ]\n",
      "INFO:shap:num_full_subsets = 1\n",
      "INFO:shap:phi = [ 0.01877569 -0.36439537]\n",
      "INFO:shap:phi = [-0.01877569  0.36439537]\n",
      "INFO:shap:num_full_subsets = 1\n",
      "INFO:shap:phi = [-0.09523385 -0.37448654]\n",
      "INFO:shap:phi = [0.09523385 0.37448654]\n",
      "INFO:shap:num_full_subsets = 1\n",
      "INFO:shap:phi = [0.05803523 0.27791224]\n",
      "INFO:shap:phi = [-0.05803523 -0.27791224]\n",
      "INFO:shap:num_full_subsets = 1\n",
      "INFO:shap:phi = [-0.17260796 -0.2933145 ]\n",
      "INFO:shap:phi = [0.17260796 0.2933145 ]\n",
      "INFO:shap:num_full_subsets = 1\n",
      "INFO:shap:phi = [-0.21470381 -0.10835823]\n",
      "INFO:shap:phi = [0.21470381 0.10835823]\n",
      "INFO:shap:num_full_subsets = 1\n",
      "INFO:shap:phi = [-0.01318984 -0.37800554]\n",
      "INFO:shap:phi = [0.01318984 0.37800554]\n",
      "INFO:shap:num_full_subsets = 1\n",
      "INFO:shap:phi = [0.10418642 0.2221414 ]\n",
      "INFO:shap:phi = [-0.10418642 -0.2221414 ]\n",
      "INFO:shap:num_full_subsets = 1\n",
      "INFO:shap:phi = [ 0.15353022 -0.27255726]\n",
      "INFO:shap:phi = [-0.15353022  0.27255726]\n",
      "INFO:shap:num_full_subsets = 1\n",
      "INFO:shap:phi = [-0.23948663 -0.20897117]\n",
      "INFO:shap:phi = [0.23948663 0.20897117]\n",
      "INFO:shap:num_full_subsets = 1\n",
      "INFO:shap:phi = [-0.09240095 -0.08804006]\n",
      "INFO:shap:phi = [0.09240095 0.08804006]\n",
      "INFO:shap:num_full_subsets = 1\n",
      "INFO:shap:phi = [0.0561619  0.19349692]\n",
      "INFO:shap:phi = [-0.0561619  -0.19349692]\n",
      "INFO:shap:num_full_subsets = 1\n",
      "INFO:shap:phi = [0.08885511 0.26809268]\n",
      "INFO:shap:phi = [-0.08885511 -0.26809268]\n",
      "INFO:shap:num_full_subsets = 1\n",
      "INFO:shap:phi = [0.03937545 0.22137618]\n",
      "INFO:shap:phi = [-0.03937545 -0.22137618]\n",
      "INFO:shap:num_full_subsets = 1\n",
      "INFO:shap:phi = [-0.03883159 -0.43844837]\n",
      "INFO:shap:phi = [0.03883159 0.43844837]\n",
      "INFO:shap:num_full_subsets = 1\n",
      "INFO:shap:phi = [-0.57721468  0.11676168]\n",
      "INFO:shap:phi = [ 0.57721468 -0.11676168]\n",
      "INFO:shap:num_full_subsets = 1\n",
      "INFO:shap:phi = [0.05083143 0.17501581]\n",
      "INFO:shap:phi = [-0.05083143 -0.17501581]\n",
      "INFO:shap:num_full_subsets = 1\n",
      "INFO:shap:phi = [0.0433143  0.12193721]\n",
      "INFO:shap:phi = [-0.0433143  -0.12193721]\n",
      "INFO:shap:num_full_subsets = 1\n",
      "INFO:shap:phi = [0.09252961 0.28692091]\n",
      "INFO:shap:phi = [-0.09252961 -0.28692091]\n",
      "INFO:shap:num_full_subsets = 1\n",
      "INFO:shap:phi = [-0.4439932  -0.00506081]\n",
      "INFO:shap:phi = [0.4439932  0.00506081]\n",
      "INFO:shap:num_full_subsets = 1\n",
      "INFO:shap:phi = [0.08472758 0.29617085]\n",
      "INFO:shap:phi = [-0.08472758 -0.29617085]\n",
      "INFO:shap:num_full_subsets = 1\n",
      "INFO:shap:phi = [ 0.35025772 -0.07904707]\n",
      "INFO:shap:phi = [-0.35025772  0.07904707]\n",
      "INFO:shap:num_full_subsets = 1\n",
      "INFO:shap:phi = [-0.33755876 -0.07168994]\n",
      "INFO:shap:phi = [0.33755876 0.07168994]\n",
      "INFO:shap:num_full_subsets = 1\n",
      "INFO:shap:phi = [ 0.00717282 -0.39699752]\n",
      "INFO:shap:phi = [-0.00717282  0.39699752]\n",
      "INFO:shap:num_full_subsets = 1\n",
      "INFO:shap:phi = [ 0.04384527 -0.06829919]\n",
      "INFO:shap:phi = [-0.04384527  0.06829919]\n",
      "INFO:shap:num_full_subsets = 1\n",
      "INFO:shap:phi = [0.04050246 0.23527863]\n",
      "INFO:shap:phi = [-0.04050246 -0.23527863]\n",
      "INFO:shap:num_full_subsets = 1\n",
      "INFO:shap:phi = [0.08883071 0.15690372]\n",
      "INFO:shap:phi = [-0.08883071 -0.15690372]\n",
      "INFO:shap:num_full_subsets = 1\n",
      "INFO:shap:phi = [-0.35581844 -0.07407368]\n",
      "INFO:shap:phi = [0.35581844 0.07407368]\n",
      "INFO:shap:num_full_subsets = 1\n",
      "INFO:shap:phi = [-0.02137455 -0.16240632]\n",
      "INFO:shap:phi = [0.02137455 0.16240632]\n",
      "INFO:shap:num_full_subsets = 1\n",
      "INFO:shap:phi = [0.07523769 0.2461865 ]\n",
      "INFO:shap:phi = [-0.07523769 -0.2461865 ]\n",
      "INFO:shap:num_full_subsets = 1\n",
      "INFO:shap:phi = [-0.01058053 -0.43077041]\n",
      "INFO:shap:phi = [0.01058053 0.43077041]\n",
      "INFO:shap:num_full_subsets = 1\n",
      "INFO:shap:phi = [-0.23824708 -0.22766989]\n",
      "INFO:shap:phi = [0.23824708 0.22766989]\n"
     ]
    },
    {
     "name": "stdout",
     "output_type": "stream",
     "text": [
      "66\n"
     ]
    },
    {
     "data": {
      "application/vnd.jupyter.widget-view+json": {
       "model_id": "fac7a111bbe840b2b666cfebccdd2394",
       "version_major": 2,
       "version_minor": 0
      },
      "text/plain": [
       "  0%|          | 0/66 [00:00<?, ?it/s]"
      ]
     },
     "metadata": {},
     "output_type": "display_data"
    },
    {
     "name": "stderr",
     "output_type": "stream",
     "text": [
      "INFO:shap:num_full_subsets = 1\n",
      "INFO:shap:phi = [-0.1068347 -0.3112759]\n",
      "INFO:shap:phi = [0.1068347 0.3112759]\n",
      "INFO:shap:num_full_subsets = 1\n",
      "INFO:shap:phi = [ 0.06709329 -0.00051808]\n",
      "INFO:shap:phi = [-0.06709329  0.00051808]\n",
      "INFO:shap:num_full_subsets = 1\n",
      "INFO:shap:phi = [ 0.00640776 -0.25226155]\n",
      "INFO:shap:phi = [-0.00640776  0.25226155]\n",
      "INFO:shap:num_full_subsets = 1\n",
      "INFO:shap:phi = [-0.23068956 -0.16095183]\n",
      "INFO:shap:phi = [0.23068956 0.16095183]\n",
      "INFO:shap:num_full_subsets = 1\n",
      "INFO:shap:phi = [ 0.05438372 -0.00102237]\n",
      "INFO:shap:phi = [-0.05438372  0.00102237]\n",
      "INFO:shap:num_full_subsets = 1\n",
      "INFO:shap:phi = [0.11550642 0.25533961]\n",
      "INFO:shap:phi = [-0.11550642 -0.25533961]\n",
      "INFO:shap:num_full_subsets = 1\n",
      "INFO:shap:phi = [0.10844017 0.19892723]\n",
      "INFO:shap:phi = [-0.10844017 -0.19892723]\n",
      "INFO:shap:num_full_subsets = 1\n",
      "INFO:shap:phi = [-0.05741379 -0.28474606]\n",
      "INFO:shap:phi = [0.05741379 0.28474606]\n",
      "INFO:shap:num_full_subsets = 1\n",
      "INFO:shap:phi = [-0.00756731 -0.28723922]\n",
      "INFO:shap:phi = [0.00756731 0.28723922]\n",
      "INFO:shap:num_full_subsets = 1\n",
      "INFO:shap:phi = [-0.16031152 -0.34092468]\n",
      "INFO:shap:phi = [0.16031152 0.34092468]\n",
      "INFO:shap:num_full_subsets = 1\n",
      "INFO:shap:phi = [0.16661693 0.22481062]\n",
      "INFO:shap:phi = [-0.16661693 -0.22481062]\n",
      "INFO:shap:num_full_subsets = 1\n",
      "INFO:shap:phi = [-0.02421327 -0.24112202]\n",
      "INFO:shap:phi = [0.02421327 0.24112202]\n",
      "INFO:shap:num_full_subsets = 1\n",
      "INFO:shap:phi = [0.160805   0.24087157]\n",
      "INFO:shap:phi = [-0.160805   -0.24087157]\n",
      "INFO:shap:num_full_subsets = 1\n",
      "INFO:shap:phi = [-0.01719256  0.27253298]\n",
      "INFO:shap:phi = [ 0.01719256 -0.27253298]\n",
      "INFO:shap:num_full_subsets = 1\n",
      "INFO:shap:phi = [-0.0599629   0.38067619]\n",
      "INFO:shap:phi = [ 0.0599629  -0.38067619]\n",
      "INFO:shap:num_full_subsets = 1\n",
      "INFO:shap:phi = [-0.3478465 -0.0820153]\n",
      "INFO:shap:phi = [0.3478465 0.0820153]\n",
      "INFO:shap:num_full_subsets = 1\n",
      "INFO:shap:phi = [0.0883456  0.30949513]\n",
      "INFO:shap:phi = [-0.0883456  -0.30949513]\n",
      "INFO:shap:num_full_subsets = 1\n",
      "INFO:shap:phi = [0.12909919 0.32700882]\n",
      "INFO:shap:phi = [-0.12909919 -0.32700882]\n",
      "INFO:shap:num_full_subsets = 1\n",
      "INFO:shap:phi = [0.25892448 0.17962268]\n",
      "INFO:shap:phi = [-0.25892448 -0.17962268]\n",
      "INFO:shap:num_full_subsets = 1\n",
      "INFO:shap:phi = [0.25615157 0.07639332]\n",
      "INFO:shap:phi = [-0.25615157 -0.07639332]\n",
      "INFO:shap:num_full_subsets = 1\n",
      "INFO:shap:phi = [0.02867783 0.05000839]\n",
      "INFO:shap:phi = [-0.02867783 -0.05000839]\n",
      "INFO:shap:num_full_subsets = 1\n",
      "INFO:shap:phi = [0.23881856 0.06185298]\n",
      "INFO:shap:phi = [-0.23881856 -0.06185298]\n",
      "INFO:shap:num_full_subsets = 1\n",
      "INFO:shap:phi = [-0.13886765  0.1454879 ]\n",
      "INFO:shap:phi = [ 0.13886765 -0.1454879 ]\n",
      "INFO:shap:num_full_subsets = 1\n",
      "INFO:shap:phi = [0.18363255 0.04716854]\n",
      "INFO:shap:phi = [-0.18363255 -0.04716854]\n",
      "INFO:shap:num_full_subsets = 1\n",
      "INFO:shap:phi = [0.25662365 0.14513378]\n",
      "INFO:shap:phi = [-0.25662365 -0.14513378]\n",
      "INFO:shap:num_full_subsets = 1\n",
      "INFO:shap:phi = [ 0.37308637 -0.28760392]\n",
      "INFO:shap:phi = [-0.37308637  0.28760392]\n",
      "INFO:shap:num_full_subsets = 1\n",
      "INFO:shap:phi = [0.08299859 0.01929555]\n",
      "INFO:shap:phi = [-0.08299859 -0.01929555]\n",
      "INFO:shap:num_full_subsets = 1\n",
      "INFO:shap:phi = [0.05883003 0.03100851]\n",
      "INFO:shap:phi = [-0.05883003 -0.03100851]\n",
      "INFO:shap:num_full_subsets = 1\n",
      "INFO:shap:phi = [0.03136053 0.30877239]\n",
      "INFO:shap:phi = [-0.03136053 -0.30877239]\n",
      "INFO:shap:num_full_subsets = 1\n",
      "INFO:shap:phi = [ 0.04807855 -0.05060256]\n",
      "INFO:shap:phi = [-0.04807855  0.05060256]\n",
      "INFO:shap:num_full_subsets = 1\n",
      "INFO:shap:phi = [ 0.05794778 -0.12039099]\n",
      "INFO:shap:phi = [-0.05794778  0.12039099]\n",
      "INFO:shap:num_full_subsets = 1\n",
      "INFO:shap:phi = [-0.17650966  0.16184418]\n",
      "INFO:shap:phi = [ 0.17650966 -0.16184418]\n",
      "INFO:shap:num_full_subsets = 1\n",
      "INFO:shap:phi = [0.01639363 0.26465643]\n",
      "INFO:shap:phi = [-0.01639363 -0.26465643]\n",
      "INFO:shap:num_full_subsets = 1\n",
      "INFO:shap:phi = [ 0.18821369 -0.15156457]\n",
      "INFO:shap:phi = [-0.18821369  0.15156457]\n",
      "INFO:shap:num_full_subsets = 1\n",
      "INFO:shap:phi = [-0.0801321  -0.18376073]\n",
      "INFO:shap:phi = [0.0801321  0.18376073]\n",
      "INFO:shap:num_full_subsets = 1\n",
      "INFO:shap:phi = [ 0.152149  -0.2570871]\n",
      "INFO:shap:phi = [-0.152149   0.2570871]\n",
      "INFO:shap:num_full_subsets = 1\n",
      "INFO:shap:phi = [-0.16593858 -0.29346292]\n",
      "INFO:shap:phi = [0.16593858 0.29346292]\n",
      "INFO:shap:num_full_subsets = 1\n",
      "INFO:shap:phi = [0.07530522 0.22608399]\n",
      "INFO:shap:phi = [-0.07530522 -0.22608399]\n",
      "INFO:shap:num_full_subsets = 1\n",
      "INFO:shap:phi = [-0.20669141 -0.24929721]\n",
      "INFO:shap:phi = [0.20669141 0.24929721]\n",
      "INFO:shap:num_full_subsets = 1\n",
      "INFO:shap:phi = [-0.23270032 -0.10910044]\n",
      "INFO:shap:phi = [0.23270032 0.10910044]\n",
      "INFO:shap:num_full_subsets = 1\n",
      "INFO:shap:phi = [ 0.05660337 -0.26628846]\n",
      "INFO:shap:phi = [-0.05660337  0.26628846]\n",
      "INFO:shap:num_full_subsets = 1\n",
      "INFO:shap:phi = [0.17575882 0.27406901]\n",
      "INFO:shap:phi = [-0.17575882 -0.27406901]\n",
      "INFO:shap:num_full_subsets = 1\n",
      "INFO:shap:phi = [ 0.23702138 -0.20023784]\n",
      "INFO:shap:phi = [-0.23702138  0.20023784]\n",
      "INFO:shap:num_full_subsets = 1\n",
      "INFO:shap:phi = [-0.26115124 -0.23489221]\n",
      "INFO:shap:phi = [0.26115124 0.23489221]\n",
      "INFO:shap:num_full_subsets = 1\n",
      "INFO:shap:phi = [-0.18879463 -0.10033158]\n",
      "INFO:shap:phi = [0.18879463 0.10033158]\n",
      "INFO:shap:num_full_subsets = 1\n",
      "INFO:shap:phi = [0.06826464 0.08646088]\n",
      "INFO:shap:phi = [-0.06826464 -0.08646088]\n",
      "INFO:shap:num_full_subsets = 1\n",
      "INFO:shap:phi = [0.00800797 0.18637027]\n",
      "INFO:shap:phi = [-0.00800797 -0.18637027]\n",
      "INFO:shap:num_full_subsets = 1\n",
      "INFO:shap:phi = [0.13022784 0.13215689]\n",
      "INFO:shap:phi = [-0.13022784 -0.13215689]\n",
      "INFO:shap:num_full_subsets = 1\n",
      "INFO:shap:phi = [-0.1249151  -0.34627518]\n",
      "INFO:shap:phi = [0.1249151  0.34627518]\n",
      "INFO:shap:num_full_subsets = 1\n",
      "INFO:shap:phi = [-0.43738499  0.15915679]\n",
      "INFO:shap:phi = [ 0.43738499 -0.15915679]\n",
      "INFO:shap:num_full_subsets = 1\n",
      "INFO:shap:phi = [-0.12799337  0.04229069]\n",
      "INFO:shap:phi = [ 0.12799337 -0.04229069]\n",
      "INFO:shap:num_full_subsets = 1\n",
      "INFO:shap:phi = [0.07039118 0.41251023]\n",
      "INFO:shap:phi = [-0.07039118 -0.41251023]\n",
      "INFO:shap:num_full_subsets = 1\n",
      "INFO:shap:phi = [-0.04533276  0.23627973]\n",
      "INFO:shap:phi = [ 0.04533276 -0.23627973]\n",
      "INFO:shap:num_full_subsets = 1\n",
      "INFO:shap:phi = [-0.32897709 -0.05836995]\n",
      "INFO:shap:phi = [0.32897709 0.05836995]\n",
      "INFO:shap:num_full_subsets = 1\n",
      "INFO:shap:phi = [-0.04374417  0.34058286]\n",
      "INFO:shap:phi = [ 0.04374417 -0.34058286]\n",
      "INFO:shap:num_full_subsets = 1\n",
      "INFO:shap:phi = [ 0.31974377 -0.09896892]\n",
      "INFO:shap:phi = [-0.31974377  0.09896892]\n",
      "INFO:shap:num_full_subsets = 1\n",
      "INFO:shap:phi = [-0.27781001 -0.09835736]\n",
      "INFO:shap:phi = [0.27781001 0.09835736]\n",
      "INFO:shap:num_full_subsets = 1\n",
      "INFO:shap:phi = [-0.05599917 -0.26914304]\n",
      "INFO:shap:phi = [0.05599917 0.26914304]\n",
      "INFO:shap:num_full_subsets = 1\n",
      "INFO:shap:phi = [ 0.00343407 -0.09308331]\n",
      "INFO:shap:phi = [-0.00343407  0.09308331]\n",
      "INFO:shap:num_full_subsets = 1\n",
      "INFO:shap:phi = [0.12487021 0.15041101]\n",
      "INFO:shap:phi = [-0.12487021 -0.15041101]\n",
      "INFO:shap:num_full_subsets = 1\n",
      "INFO:shap:phi = [-0.03065975  0.03365024]\n",
      "INFO:shap:phi = [ 0.03065975 -0.03365024]\n",
      "INFO:shap:num_full_subsets = 1\n",
      "INFO:shap:phi = [-0.28718298 -0.1040853 ]\n",
      "INFO:shap:phi = [0.28718298 0.1040853 ]\n",
      "INFO:shap:num_full_subsets = 1\n",
      "INFO:shap:phi = [-0.14738122 -0.13903387]\n",
      "INFO:shap:phi = [0.14738122 0.13903387]\n",
      "INFO:shap:num_full_subsets = 1\n",
      "INFO:shap:phi = [0.18159939 0.2274978 ]\n",
      "INFO:shap:phi = [-0.18159939 -0.2274978 ]\n",
      "INFO:shap:num_full_subsets = 1\n",
      "INFO:shap:phi = [ 0.03104444 -0.32004204]\n",
      "INFO:shap:phi = [-0.03104444  0.32004204]\n",
      "INFO:shap:num_full_subsets = 1\n",
      "INFO:shap:phi = [-0.24065888 -0.21437066]\n",
      "INFO:shap:phi = [0.24065888 0.21437066]\n"
     ]
    },
    {
     "name": "stdout",
     "output_type": "stream",
     "text": [
      "66\n",
      "66\n"
     ]
    }
   ],
   "source": [
    "gm = GlobalFeatureMetric()\n",
    "\n",
    "shap_svc_radial = generate_per_instance_importances(models=svc_radial, X=X_test.iloc[:, ], y=y_test[:, ], framework='kernel_shap') \n",
    "to_pickle(shap_svc_radial, 'shap_svc_radial')\n",
    "print(len(shap_svc_radial))\n",
    "\n",
    "shap_svc_lin = generate_per_instance_importances(models=svc_lin, X=X_test.iloc[:, ], y=y_test[:, ], framework='kernel_shap') \n",
    "to_pickle(shap_svc_lin, 'shap_svc_lin')\n",
    "print(len(shap_svc_lin))\n",
    "\n",
    "\n",
    "# # shap_xgbc = generate_per_instance_importances(models=xgbc, X=X_test.iloc[:, ], y=y_test.iloc[:, ], framework='kernel_shap') \n",
    "# # to_pickle(shap_xgbc, 'shap_xgbc')\n",
    "# # print(len(shap_xgbc))\n",
    "\n",
    "shap_xgbc_tree = generate_per_instance_importances(models=xgbc, X=X_test.iloc[:, ], y=y_test[:, ], framework='tree_shap') \n",
    "to_pickle(shap_xgbc_tree, 'shap_xgbc_tree')\n",
    "print(len(shap_xgbc_tree))\n"
   ]
  },
  {
   "cell_type": "code",
   "execution_count": 79,
   "id": "herbal-jimmy",
   "metadata": {
    "collapsed": true,
    "jupyter": {
     "outputs_hidden": true
    }
   },
   "outputs": [
    {
     "ename": "TypeError",
     "evalue": "'(slice(0, 10, None),)' is an invalid key",
     "output_type": "error",
     "traceback": [
      "\u001b[0;31m---------------------------------------------------------------------------\u001b[0m",
      "\u001b[0;31mTypeError\u001b[0m                                 Traceback (most recent call last)",
      "\u001b[0;32m<ipython-input-79-6fef04b7e846>\u001b[0m in \u001b[0;36m<module>\u001b[0;34m\u001b[0m\n\u001b[1;32m      1\u001b[0m \u001b[0;31m# lgbm - nie udalo mi sie policzyc:\u001b[0m\u001b[0;34m\u001b[0m\u001b[0;34m\u001b[0m\u001b[0;34m\u001b[0m\u001b[0m\n\u001b[0;32m----> 2\u001b[0;31m \u001b[0mshap_lgbm\u001b[0m \u001b[0;34m=\u001b[0m \u001b[0mgenerate_per_instance_importances\u001b[0m\u001b[0;34m(\u001b[0m\u001b[0mmodels\u001b[0m\u001b[0;34m=\u001b[0m\u001b[0mlgbm\u001b[0m\u001b[0;34m,\u001b[0m \u001b[0mX\u001b[0m\u001b[0;34m=\u001b[0m\u001b[0mX_test\u001b[0m\u001b[0;34m[\u001b[0m\u001b[0;36m0\u001b[0m\u001b[0;34m:\u001b[0m\u001b[0;36m10\u001b[0m\u001b[0;34m,\u001b[0m \u001b[0;34m]\u001b[0m\u001b[0;34m,\u001b[0m \u001b[0my\u001b[0m\u001b[0;34m=\u001b[0m\u001b[0my_test\u001b[0m\u001b[0;34m[\u001b[0m\u001b[0;36m0\u001b[0m\u001b[0;34m:\u001b[0m\u001b[0;36m10\u001b[0m\u001b[0;34m,\u001b[0m \u001b[0;34m]\u001b[0m\u001b[0;34m,\u001b[0m \u001b[0mframework\u001b[0m\u001b[0;34m=\u001b[0m\u001b[0;34m'kernel_shap'\u001b[0m\u001b[0;34m)\u001b[0m \u001b[0;31m# nie dziala\u001b[0m\u001b[0;34m\u001b[0m\u001b[0;34m\u001b[0m\u001b[0m\n\u001b[0m\u001b[1;32m      3\u001b[0m \u001b[0;31m# shap_lgbm = generate_per_instance_importances(models=lgbm, X=X_test[0:10, ], y=y_test[0:10, ], framework='tree_shap') # nie dziala\u001b[0m\u001b[0;34m\u001b[0m\u001b[0;34m\u001b[0m\u001b[0;34m\u001b[0m\u001b[0m\n\u001b[1;32m      4\u001b[0m \u001b[0mto_pickle\u001b[0m\u001b[0;34m(\u001b[0m\u001b[0mshap_lgbm\u001b[0m\u001b[0;34m,\u001b[0m \u001b[0;34m'shap_lgbm'\u001b[0m\u001b[0;34m)\u001b[0m\u001b[0;34m\u001b[0m\u001b[0;34m\u001b[0m\u001b[0m\n\u001b[1;32m      5\u001b[0m \u001b[0mprint\u001b[0m\u001b[0;34m(\u001b[0m\u001b[0mlen\u001b[0m\u001b[0;34m(\u001b[0m\u001b[0mshap_lgbm\u001b[0m\u001b[0;34m)\u001b[0m\u001b[0;34m)\u001b[0m\u001b[0;34m\u001b[0m\u001b[0;34m\u001b[0m\u001b[0m\n",
      "\u001b[0;32m~/.local/lib/python3.8/site-packages/pandas/core/frame.py\u001b[0m in \u001b[0;36m__getitem__\u001b[0;34m(self, key)\u001b[0m\n\u001b[1;32m   3022\u001b[0m             \u001b[0;32mif\u001b[0m \u001b[0mself\u001b[0m\u001b[0;34m.\u001b[0m\u001b[0mcolumns\u001b[0m\u001b[0;34m.\u001b[0m\u001b[0mnlevels\u001b[0m \u001b[0;34m>\u001b[0m \u001b[0;36m1\u001b[0m\u001b[0;34m:\u001b[0m\u001b[0;34m\u001b[0m\u001b[0;34m\u001b[0m\u001b[0m\n\u001b[1;32m   3023\u001b[0m                 \u001b[0;32mreturn\u001b[0m \u001b[0mself\u001b[0m\u001b[0;34m.\u001b[0m\u001b[0m_getitem_multilevel\u001b[0m\u001b[0;34m(\u001b[0m\u001b[0mkey\u001b[0m\u001b[0;34m)\u001b[0m\u001b[0;34m\u001b[0m\u001b[0;34m\u001b[0m\u001b[0m\n\u001b[0;32m-> 3024\u001b[0;31m             \u001b[0mindexer\u001b[0m \u001b[0;34m=\u001b[0m \u001b[0mself\u001b[0m\u001b[0;34m.\u001b[0m\u001b[0mcolumns\u001b[0m\u001b[0;34m.\u001b[0m\u001b[0mget_loc\u001b[0m\u001b[0;34m(\u001b[0m\u001b[0mkey\u001b[0m\u001b[0;34m)\u001b[0m\u001b[0;34m\u001b[0m\u001b[0;34m\u001b[0m\u001b[0m\n\u001b[0m\u001b[1;32m   3025\u001b[0m             \u001b[0;32mif\u001b[0m \u001b[0mis_integer\u001b[0m\u001b[0;34m(\u001b[0m\u001b[0mindexer\u001b[0m\u001b[0;34m)\u001b[0m\u001b[0;34m:\u001b[0m\u001b[0;34m\u001b[0m\u001b[0;34m\u001b[0m\u001b[0m\n\u001b[1;32m   3026\u001b[0m                 \u001b[0mindexer\u001b[0m \u001b[0;34m=\u001b[0m \u001b[0;34m[\u001b[0m\u001b[0mindexer\u001b[0m\u001b[0;34m]\u001b[0m\u001b[0;34m\u001b[0m\u001b[0;34m\u001b[0m\u001b[0m\n",
      "\u001b[0;32m~/.local/lib/python3.8/site-packages/pandas/core/indexes/base.py\u001b[0m in \u001b[0;36mget_loc\u001b[0;34m(self, key, method, tolerance)\u001b[0m\n\u001b[1;32m   3078\u001b[0m             \u001b[0mcasted_key\u001b[0m \u001b[0;34m=\u001b[0m \u001b[0mself\u001b[0m\u001b[0;34m.\u001b[0m\u001b[0m_maybe_cast_indexer\u001b[0m\u001b[0;34m(\u001b[0m\u001b[0mkey\u001b[0m\u001b[0;34m)\u001b[0m\u001b[0;34m\u001b[0m\u001b[0;34m\u001b[0m\u001b[0m\n\u001b[1;32m   3079\u001b[0m             \u001b[0;32mtry\u001b[0m\u001b[0;34m:\u001b[0m\u001b[0;34m\u001b[0m\u001b[0;34m\u001b[0m\u001b[0m\n\u001b[0;32m-> 3080\u001b[0;31m                 \u001b[0;32mreturn\u001b[0m \u001b[0mself\u001b[0m\u001b[0;34m.\u001b[0m\u001b[0m_engine\u001b[0m\u001b[0;34m.\u001b[0m\u001b[0mget_loc\u001b[0m\u001b[0;34m(\u001b[0m\u001b[0mcasted_key\u001b[0m\u001b[0;34m)\u001b[0m\u001b[0;34m\u001b[0m\u001b[0;34m\u001b[0m\u001b[0m\n\u001b[0m\u001b[1;32m   3081\u001b[0m             \u001b[0;32mexcept\u001b[0m \u001b[0mKeyError\u001b[0m \u001b[0;32mas\u001b[0m \u001b[0merr\u001b[0m\u001b[0;34m:\u001b[0m\u001b[0;34m\u001b[0m\u001b[0;34m\u001b[0m\u001b[0m\n\u001b[1;32m   3082\u001b[0m                 \u001b[0;32mraise\u001b[0m \u001b[0mKeyError\u001b[0m\u001b[0;34m(\u001b[0m\u001b[0mkey\u001b[0m\u001b[0;34m)\u001b[0m \u001b[0;32mfrom\u001b[0m \u001b[0merr\u001b[0m\u001b[0;34m\u001b[0m\u001b[0;34m\u001b[0m\u001b[0m\n",
      "\u001b[0;32mpandas/_libs/index.pyx\u001b[0m in \u001b[0;36mpandas._libs.index.IndexEngine.get_loc\u001b[0;34m()\u001b[0m\n",
      "\u001b[0;32mpandas/_libs/index.pyx\u001b[0m in \u001b[0;36mpandas._libs.index.IndexEngine.get_loc\u001b[0;34m()\u001b[0m\n",
      "\u001b[0;31mTypeError\u001b[0m: '(slice(0, 10, None),)' is an invalid key"
     ]
    }
   ],
   "source": [
    "# lgbm - nie udalo mi sie policzyc:  \n",
    "shap_lgbm = generate_per_instance_importances(models=lgbm, X=X_test[0:10, ], y=y_test[0:10, ], framework='kernel_shap') # nie dziala\n",
    "# shap_lgbm = generate_per_instance_importances(models=lgbm, X=X_test[0:10, ], y=y_test[0:10, ], framework='tree_shap') # nie dziala\n",
    "to_pickle(shap_lgbm, 'shap_lgbm')\n",
    "print(len(shap_lgbm))\n"
   ]
  },
  {
   "cell_type": "code",
   "execution_count": 80,
   "id": "stuck-serbia",
   "metadata": {},
   "outputs": [
    {
     "name": "stdout",
     "output_type": "stream",
     "text": [
      "66\n",
      "66\n"
     ]
    }
   ],
   "source": [
    "shap_rfc = generate_per_instance_importances(models=rfc, X=X_test.iloc[:, ], y=y_test[:, ], framework='tree_shap')  \n",
    "to_pickle(shap_rfc, 'shap_rfc')\n",
    "print(len(shap_rfc))\n",
    "\n",
    "shap_ctbc = generate_per_instance_importances(models=ctbc, X=X_test.iloc[:, ], y=y_test[:, ], framework='tree_shap')  \n",
    "to_pickle(shap_ctbc, 'shap_ctbc')\n",
    "print(len(shap_ctbc))"
   ]
  },
  {
   "cell_type": "markdown",
   "id": "british-region",
   "metadata": {},
   "source": [
    "### SHAP's baseline"
   ]
  },
  {
   "cell_type": "code",
   "execution_count": 82,
   "id": "deluxe-annotation",
   "metadata": {},
   "outputs": [
    {
     "name": "stdout",
     "output_type": "stream",
     "text": [
      "66\n",
      "66\n",
      "66\n",
      "66\n",
      "66\n"
     ]
    }
   ],
   "source": [
    "shap_svc_radial = from_pickle('shap_svc_radial')\n",
    "print(len(shap_svc_radial))\n",
    "\n",
    "shap_svc_lin = from_pickle('shap_svc_lin')\n",
    "print(len(shap_svc_lin))\n",
    "\n",
    "shap_xgbc = from_pickle('shap_xgbc_tree')\n",
    "print(len(shap_xgbc))\n",
    "\n",
    "shap_rfc = from_pickle('shap_rfc')\n",
    "print(len(shap_rfc))\n",
    "\n",
    "shap_ctbc = from_pickle('shap_ctbc')\n",
    "print(len(shap_ctbc))\n"
   ]
  },
  {
   "cell_type": "markdown",
   "id": "informed-transition",
   "metadata": {},
   "source": [
    "### modele Accuracy + Lime / Shap\n",
    "\n"
   ]
  },
  {
   "cell_type": "raw",
   "id": "suffering-memorabilia",
   "metadata": {},
   "source": [
    "model_svc_lin    0.82* L S\n",
    "model_svc_radial 0.76  L S\n",
    "model_xgbc       0.74* L S\n",
    "model_lgbm       0.67  \n",
    "model_rfc        0.74* L S\n",
    "model_ctbc       0.65  L S"
   ]
  },
  {
   "cell_type": "markdown",
   "id": "handmade-string",
   "metadata": {},
   "source": [
    "### Consistency pairwaise {ctbc, rfc, svc_lin, svc_radial, xgbc}"
   ]
  },
  {
   "cell_type": "code",
   "execution_count": 88,
   "id": "contained-consolidation",
   "metadata": {},
   "outputs": [],
   "source": [
    "shap_ctbc_rfc_consistency = gm.consistency([shap_ctbc, shap_rfc])\n",
    "# shap_ctbc_svc_lin_consistency = gm.consistency([shap_ctbc, svc_lin]) # błąd\n",
    "# shap_ctbc_svc_radial_consistency = gm.consistency([shap_ctbc, svc_radial]) # błąd\n",
    "shap_ctbc_xgbc_consistency = gm.consistency([shap_ctbc, shap_xgbc])\n",
    "\n",
    "shap_rfc_svc_lin_consistency = gm.consistency([shap_rfc, shap_svc_lin])\n",
    "shap_rfc_svc_radial_consistency = gm.consistency([shap_rfc, shap_svc_radial])\n",
    "shap_rfc_xgbc_consistency = gm.consistency([shap_rfc, shap_xgbc])\n",
    "\n",
    "shap_svc_lin_svc_radial_consistency = gm.consistency([shap_svc_lin, shap_svc_radial])\n",
    "shap_svc_lin_xgbc_consistency = gm.consistency([shap_svc_lin, shap_xgbc])\n",
    "\n",
    "# shap_svc_radial_xgbc_consistency = gm.consistency([svc_radial, shap_xgbc]) # błąd\n"
   ]
  },
  {
   "cell_type": "code",
   "execution_count": 89,
   "id": "assured-greeting",
   "metadata": {},
   "outputs": [
    {
     "data": {
      "text/plain": [
       "<AxesSubplot:xlabel='variable', ylabel='value'>"
      ]
     },
     "execution_count": 89,
     "metadata": {},
     "output_type": "execute_result"
    },
    {
     "data": {
      "image/png": "[encoded data removed]",
      "text/plain": [
       "<Figure size 432x288 with 1 Axes>"
      ]
     },
     "metadata": {
      "needs_background": "light"
     },
     "output_type": "display_data"
    }
   ],
   "source": [
    "sns.boxplot(x=\"variable\", y=\"value\", data=pd.melt(pd.DataFrame({'ctbc_rfc':shap_ctbc_rfc_consistency, \n",
    "                                                                'ctbc_xgbc':shap_ctbc_xgbc_consistency, \n",
    "                                                                'rfc_svc_lin':shap_rfc_svc_lin_consistency, \n",
    "                                                                'rfc_svc_radial':shap_rfc_svc_radial_consistency,\n",
    "                                                               'rfc_xgbc':shap_rfc_xgbc_consistency,\n",
    "                                                               'svc_lin_svc_radial':shap_svc_lin_svc_radial_consistency,\n",
    "                                                               'svc_lin_xgbc':shap_svc_lin_xgbc_consistency})))"
   ]
  },
  {
   "cell_type": "markdown",
   "id": "excellent-badge",
   "metadata": {},
   "source": [
    "### Stability per model"
   ]
  },
  {
   "cell_type": "code",
   "execution_count": 91,
   "id": "federal-showcase",
   "metadata": {},
   "outputs": [],
   "source": [
    "shap_xgbc_stability = gm.stability(X_test, shap_xgbc, epsilon=0.3)\n",
    "shap_rfc_stability = gm.stability(X_test, shap_rfc, epsilon=0.3)\n",
    "shap_ctbc_stability = gm.stability(X_test, shap_ctbc, epsilon=0.3)\n",
    "\n",
    "to_pickle(shap_xgbc_stability, 'shap_xgbc_stability')\n",
    "to_pickle(shap_rfc_stability, 'shap_rfc_stability')\n",
    "to_pickle(shap_ctbc_stability, 'shap_ctbc_stability')\n"
   ]
  },
  {
   "cell_type": "code",
   "execution_count": 93,
   "id": "agreed-extraction",
   "metadata": {},
   "outputs": [],
   "source": [
    "shap_svc_lin_stability = gm.stability(X_test, shap_svc_lin, epsilon=0.3)\n",
    "shap_svc_radial_stability = gm.stability(X_test, shap_svc_radial, epsilon=0.3)\n",
    "\n",
    "to_pickle(shap_svc_lin_stability, 'shap_svc_lin_stability')\n",
    "to_pickle(shap_svc_radial_stability, 'shap_svc_radial_stability')\n"
   ]
  },
  {
   "cell_type": "raw",
   "id": "alike-fusion",
   "metadata": {},
   "source": [
    "shap_xgbc_stability = from_pickle('shap_xgbc_stability')\n",
    "shap_rfc_stability = from_pickle('shap_rfc_stability')\n",
    "shap_ctbc_stability = from_pickle('shap_ctbc_stability')\n"
   ]
  },
  {
   "cell_type": "code",
   "execution_count": 95,
   "id": "infectious-literacy",
   "metadata": {},
   "outputs": [
    {
     "data": {
      "text/plain": [
       "<AxesSubplot:xlabel='variable', ylabel='value'>"
      ]
     },
     "execution_count": 95,
     "metadata": {},
     "output_type": "execute_result"
    },
    {
     "data": {
      "image/png": "[encoded data removed]",
      "text/plain": [
       "<Figure size 432x288 with 1 Axes>"
      ]
     },
     "metadata": {
      "needs_background": "light"
     },
     "output_type": "display_data"
    }
   ],
   "source": [
    "sns.boxplot(x=\"variable\", y=\"value\", data=pd.melt(pd.DataFrame({'svc_lin':shap_svc_lin_stability,'svc_radial':shap_svc_radial_stability,'xgbc':shap_xgbc_stability,'rfc':shap_rfc_stability,'ctbc':shap_ctbc_stability})))"
   ]
  },
  {
   "cell_type": "markdown",
   "id": "pretty-midwest",
   "metadata": {},
   "source": [
    "### Area under the accuracy loss"
   ]
  },
  {
   "cell_type": "code",
   "execution_count": 96,
   "id": "capable-enclosure",
   "metadata": {},
   "outputs": [],
   "source": [
    "ct = ColumnTransformer([('_INXAI_categorical_noise_perturber', CategoricalNoisePerturber(),FEATURE_IDS)])"
   ]
  },
  {
   "cell_type": "code",
   "execution_count": 123,
   "id": "removed-consolidation",
   "metadata": {},
   "outputs": [
    {
     "data": {
      "image/png": "[encoded data removed]",
      "text/plain": [
       "<Figure size 432x288 with 1 Axes>"
      ]
     },
     "metadata": {
      "needs_background": "light"
     },
     "output_type": "display_data"
    }
   ],
   "source": [
    "acc_loss_svc_lin = weighted_acc_loss(X_test, y_test, ct, w1=1.0, m1 = svc_lin, w2 = 0.0, m2 = None, w3 = 0.0, m3 = None, w4 = 0.0, m4 = None, w5 = 0.0, m5 = None)\n",
    "to_pickle(acc_loss_svc_lin, 'acc_loss_svc_lin')"
   ]
  },
  {
   "cell_type": "code",
   "execution_count": 124,
   "id": "basic-despite",
   "metadata": {},
   "outputs": [
    {
     "data": {
      "image/png": "[encoded data removed]",
      "text/plain": [
       "<Figure size 432x288 with 1 Axes>"
      ]
     },
     "metadata": {
      "needs_background": "light"
     },
     "output_type": "display_data"
    }
   ],
   "source": [
    "acc_loss_svc_radial = weighted_acc_loss(X_test, y_test, ct, w1=1.0, m1 = svc_radial, w2 = 0.0, m2 = None, w3 = 0.0, m3 = None, w4 = 0.0, m4 = None, w5 = 0.0, m5 = None)\n",
    "to_pickle(acc_loss_svc_radial, 'acc_loss_svc_radial')"
   ]
  },
  {
   "cell_type": "code",
   "execution_count": 125,
   "id": "included-republican",
   "metadata": {},
   "outputs": [
    {
     "data": {
      "image/png": "[encoded data removed]",
      "text/plain": [
       "<Figure size 432x288 with 1 Axes>"
      ]
     },
     "metadata": {
      "needs_background": "light"
     },
     "output_type": "display_data"
    }
   ],
   "source": [
    "acc_loss_xgbc = weighted_acc_loss(X_test, y_test, ct, w1=1.0, m1 = xgbc, w2 = 0.0, m2 = None, w3 = 0.0, m3 = None, w4 = 0.0, m4 = None, w5 = 0.0, m5 = None)\n",
    "to_pickle(acc_loss_xgbc, 'acc_loss_xgbc')"
   ]
  },
  {
   "cell_type": "code",
   "execution_count": 126,
   "id": "fluid-moore",
   "metadata": {},
   "outputs": [
    {
     "data": {
      "image/png": "[encoded data removed]",
      "text/plain": [
       "<Figure size 432x288 with 1 Axes>"
      ]
     },
     "metadata": {
      "needs_background": "light"
     },
     "output_type": "display_data"
    }
   ],
   "source": [
    "acc_loss_rfc = weighted_acc_loss(X_test, y_test, ct, w1=1.0, m1 = rfc, w2 = 0.0, m2 = None, w3 = 0.0, m3 = None, w4 = 0.0, m4 = None, w5 = 0.0, m5 = None)\n",
    "to_pickle(acc_loss_rfc, 'acc_loss_rfc')"
   ]
  },
  {
   "cell_type": "code",
   "execution_count": 127,
   "id": "interstate-biology",
   "metadata": {},
   "outputs": [
    {
     "data": {
      "image/png": "[encoded data removed]",
      "text/plain": [
       "<Figure size 432x288 with 1 Axes>"
      ]
     },
     "metadata": {
      "needs_background": "light"
     },
     "output_type": "display_data"
    }
   ],
   "source": [
    "acc_loss_ctbc = weighted_acc_loss(X_test, y_test, ct, w1=1.0, m1 = ctbc, w2 = 0.0, m2 = None, w3 = 0.0, m3 = None, w4 = 0.0, m4 = None, w5 = 0.0, m5 = None)\n",
    "to_pickle(acc_loss_ctbc, 'acc_loss_ctbc')"
   ]
  },
  {
   "cell_type": "raw",
   "id": "talented-horizon",
   "metadata": {},
   "source": [
    "acc_loss_xgbc = from_pickle('acc_loss_xgbc')\n",
    "acc_loss_rfc = from_pickle('acc_loss_rfc')\n",
    "acc_loss_ctbc = from_pickle('acc_loss_ctbc')"
   ]
  },
  {
   "cell_type": "code",
   "execution_count": 128,
   "id": "italic-radical",
   "metadata": {},
   "outputs": [
    {
     "data": {
      "text/plain": [
       "<matplotlib.legend.Legend at 0x7fae5ab4eb80>"
      ]
     },
     "execution_count": 128,
     "metadata": {},
     "output_type": "execute_result"
    },
    {
     "data": {
      "image/png": "[encoded data removed]",
      "text/plain": [
       "<Figure size 432x288 with 1 Axes>"
      ]
     },
     "metadata": {
      "needs_background": "light"
     },
     "output_type": "display_data"
    }
   ],
   "source": [
    "plt.plot(np.linspace(0, 100, 50), acc_loss_svc_lin)\n",
    "plt.plot(np.linspace(0, 100, 50), acc_loss_svc_radial)\n",
    "plt.plot(np.linspace(0, 100, 50), acc_loss_xgbc)\n",
    "plt.plot(np.linspace(0, 100, 50), acc_loss_rfc)\n",
    "plt.plot(np.linspace(0, 100, 50), acc_loss_ctbc)\n",
    "plt.xlabel('Percentile of perturbation range', fontsize=13)\n",
    "plt.ylabel('Loss of accuracy', fontsize=13)\n",
    "plt.legend(['svc_lin','svc_radial','xgbc','rfc','ctb'])"
   ]
  },
  {
   "cell_type": "code",
   "execution_count": 131,
   "id": "employed-subsection",
   "metadata": {},
   "outputs": [
    {
     "name": "stdout",
     "output_type": "stream",
     "text": [
      "0.07377860235003086\n",
      "0.06513605442176867\n",
      "0.05729746444032157\n",
      "0.059925788497217046\n",
      "0.028262213976499667\n"
     ]
    }
   ],
   "source": [
    "svc_lin_auc_acc_loss = AreaUnderTheCurveAccLoss(acc_loss_svc_lin)\n",
    "print(svc_lin_auc_acc_loss)\n",
    "\n",
    "svc_radial_auc_acc_loss = AreaUnderTheCurveAccLoss(acc_loss_svc_radial)\n",
    "print(svc_radial_auc_acc_loss)\n",
    "\n",
    "xgbc_auc_acc_loss = AreaUnderTheCurveAccLoss(acc_loss_xgbc)\n",
    "print(xgbc_auc_acc_loss)\n",
    "\n",
    "rfc_auc_acc_loss = AreaUnderTheCurveAccLoss(acc_loss_rfc)\n",
    "print(rfc_auc_acc_loss)\n",
    "\n",
    "ctbc_auc_acc_loss = AreaUnderTheCurveAccLoss(acc_loss_ctbc)\n",
    "print(ctbc_auc_acc_loss)\n",
    "\n"
   ]
  },
  {
   "cell_type": "markdown",
   "id": "stretch-frontier",
   "metadata": {},
   "source": [
    "# 5. Weighted model "
   ]
  },
  {
   "cell_type": "markdown",
   "id": "powered-butler",
   "metadata": {},
   "source": [
    "## Weights from SHAP\n",
    "- intial weights = 1 / auc_acc_loss\n",
    "- \n",
    "- those are starting points for experiments with SMAC optimization"
   ]
  },
  {
   "cell_type": "code",
   "execution_count": 249,
   "id": "alpha-fence",
   "metadata": {},
   "outputs": [
    {
     "name": "stdout",
     "output_type": "stream",
     "text": [
      "0.13770319470951742 0.15597428083404155 0.177312370521807 0.16953551216558743 0.3594746417690466\n",
      "1.0\n"
     ]
    }
   ],
   "source": [
    "# norm of SHAP values; those are absolute values: \n",
    "# w_svc_lin = 1 / np.mean([np.linalg.norm(x) for x in shap_svc_lin])\n",
    "# w_svc_radial = 1 / np.mean([np.linalg.norm(x) for x in shap_svc_radial])\n",
    "# w_xgbc = 1 / np.mean([np.linalg.norm(x) for x in shap_xgbc])\n",
    "# w_rfc = 1 / np.mean([np.linalg.norm(x) for x in shap_rfc])\n",
    "# w_ctbc = 1 / np.mean([np.linalg.norm(x) for x in shap_ctbc])\n",
    "\n",
    "# does not scale to 100% - scaling is done in weighted_model\n",
    "w_svc_lin = 1 / svc_lin_auc_acc_loss\n",
    "w_svc_radial = 1 / svc_radial_auc_acc_loss\n",
    "w_xgbc = 1 / xgbc_auc_acc_loss\n",
    "w_rfc = 1 / rfc_auc_acc_loss\n",
    "w_ctbc = 1 / ctbc_auc_acc_loss\n",
    "\n",
    "# normalised to sum == 100% for a better SMAC performance\n",
    "w_ = w_svc_lin + w_svc_radial + w_xgbc + w_rfc + w_ctbc\n",
    "\n",
    "w_svc_lin = w_svc_lin / w_\n",
    "w_svc_radial = w_svc_radial / w_\n",
    "w_xgbc = w_xgbc / w_\n",
    "w_rfc = w_rfc / w_\n",
    "w_ctbc = w_ctbc / w_\n",
    "\n",
    "print(w_svc_lin, w_svc_radial, w_xgbc, w_rfc, w_ctbc)\n",
    "print(w_svc_lin + w_svc_radial + w_xgbc + w_rfc + w_ctbc)"
   ]
  },
  {
   "cell_type": "markdown",
   "id": "affected-talent",
   "metadata": {},
   "source": [
    "### weighted model examples"
   ]
  },
  {
   "cell_type": "code",
   "execution_count": 162,
   "id": "heavy-attribute",
   "metadata": {},
   "outputs": [
    {
     "name": "stdout",
     "output_type": "stream",
     "text": [
      "[0.02445286 0.97554714]\n",
      "1\n"
     ]
    }
   ],
   "source": [
    "print(weighted_model(w1=w_xgbc, m1=xgbc, w2=w_rfc, m2=rfc, w3=w_ctbc, m3=ctbc, w4=w_svc_lin, m4=svc_lin, w5=w_svc_radial, m5=svc_radial).predict_proba(X_test)[0])\n",
    "print(weighted_model(w1=w_xgbc, m1=xgbc, w2=w_rfc, m2=rfc, w3=w_ctbc, m3=ctbc, w4=w_svc_lin, m4=svc_lin, w5=w_svc_radial, m5=svc_radial).predict(X_test)[0])"
   ]
  },
  {
   "cell_type": "code",
   "execution_count": 163,
   "id": "healthy-sugar",
   "metadata": {},
   "outputs": [
    {
     "name": "stdout",
     "output_type": "stream",
     "text": [
      "[0.00257272 0.99742729]\n",
      "1\n"
     ]
    }
   ],
   "source": [
    "print(weighted_model(w1=w_xgbc, m1=xgbc, w2=w_rfc, m2=rfc, w3=0.0, m3=None).predict_proba(X_test)[0])\n",
    "print(weighted_model(w1=w_xgbc, m1=xgbc, w2=w_rfc, m2=rfc, w3=0.0, m3=None).predict(X_test)[0])"
   ]
  },
  {
   "cell_type": "markdown",
   "id": "weird-athletics",
   "metadata": {},
   "source": [
    "### weighted AUC for Accuracy Loss\n",
    "- accurate method"
   ]
  },
  {
   "cell_type": "code",
   "execution_count": 234,
   "id": "explicit-rachel",
   "metadata": {},
   "outputs": [
    {
     "data": {
      "text/plain": [
       "['0', '1']"
      ]
     },
     "execution_count": 234,
     "metadata": {},
     "output_type": "execute_result"
    }
   ],
   "source": [
    "FEATURE_IDS"
   ]
  },
  {
   "cell_type": "code",
   "execution_count": 235,
   "id": "convenient-zimbabwe",
   "metadata": {},
   "outputs": [
    {
     "data": {
      "text/plain": [
       "Index(['0', '1'], dtype='object')"
      ]
     },
     "execution_count": 235,
     "metadata": {},
     "output_type": "execute_result"
    }
   ],
   "source": [
    "X_test.columns"
   ]
  },
  {
   "cell_type": "code",
   "execution_count": 236,
   "id": "excess-sequence",
   "metadata": {},
   "outputs": [
    {
     "name": "stdout",
     "output_type": "stream",
     "text": [
      "debug-1\n",
      "debug-2\n",
      "0.05281385281385282\n"
     ]
    },
    {
     "data": {
      "image/png": "[encoded data removed]",
      "text/plain": [
       "<Figure size 432x288 with 1 Axes>"
      ]
     },
     "metadata": {
      "needs_background": "light"
     },
     "output_type": "display_data"
    }
   ],
   "source": [
    "ct = ColumnTransformer([('_INXAI_categorical_noise_perturber', CategoricalNoisePerturber(),FEATURE_IDS)])\n",
    "\n",
    "weighted_svc_lin_svc_radial_xgbc_rfc_ctbc_acc_loss = weighted_acc_loss(X_test, y_test, ct, w1=w_xgbc, m1=xgbc, w2=w_rfc, m2=rfc, w3=w_ctbc, m3=ctbc, w4=w_svc_lin, m4=svc_lin, w5=w_svc_radial, m5=svc_radial)\n",
    "to_pickle(weighted_svc_lin_svc_radial_xgbc_rfc_ctbc_acc_loss, \"weighted_svc_lin_svc_radial_xgbc_rfc_ctbc_acc_loss\")\n",
    "print(AreaUnderTheCurveAccLoss(weighted_svc_lin_svc_radial_xgbc_rfc_ctbc_acc_loss))"
   ]
  },
  {
   "cell_type": "markdown",
   "id": "forced-fireplace",
   "metadata": {},
   "source": [
    "- approximate method\n",
    "- convernce diff > 10% "
   ]
  },
  {
   "cell_type": "code",
   "execution_count": 140,
   "id": "varying-idaho",
   "metadata": {},
   "outputs": [
    {
     "data": {
      "text/plain": [
       "0.05079774622401179"
      ]
     },
     "execution_count": 140,
     "metadata": {},
     "output_type": "execute_result"
    }
   ],
   "source": [
    "weighted_acc_loss_auc_naive(w1=w_xgbc, auc1=xgbc_auc_acc_loss, w2=w_rfc, auc2=rfc_auc_acc_loss, w3=w_ctbc, auc3=ctbc_auc_acc_loss, w4=w_svc_lin, auc4=svc_lin_auc_acc_loss, w5=w_svc_radial, auc5=svc_radial_auc_acc_loss)"
   ]
  },
  {
   "cell_type": "code",
   "execution_count": 142,
   "id": "fossil-extreme",
   "metadata": {},
   "outputs": [
    {
     "data": {
      "text/plain": [
       "110.54303510131196"
      ]
     },
     "execution_count": 142,
     "metadata": {},
     "output_type": "execute_result"
    }
   ],
   "source": [
    "0.05615337043908473 / 0.05079774622401179 * 100"
   ]
  },
  {
   "cell_type": "markdown",
   "id": "terminal-simon",
   "metadata": {},
   "source": [
    "### weighted SHAP values"
   ]
  },
  {
   "cell_type": "code",
   "execution_count": 144,
   "id": "deadly-occupation",
   "metadata": {},
   "outputs": [
    {
     "name": "stdout",
     "output_type": "stream",
     "text": [
      "[array([0.77175116, 3.79352181]), array([-0.35830525, -1.14660062]), array([-1.38705825, -1.09515088]), array([2.65862361, 0.57610699]), array([-0.27098561, -0.97841593]), array([1.12555168, 0.44876433]), array([-0.00405893, -0.72059695]), array([0.20714523, 3.08633304]), array([-0.01572323,  2.84165684]), array([2.63291748, 2.86440497]), array([-0.66118262, -1.45603635]), array([-0.25933499,  0.52407871]), array([-0.12532453,  0.2379926 ]), array([-0.14097076, -0.46805929]), array([-0.23430731, -3.89535017]), array([ 3.66310152, -0.09810384]), array([ 0.17148371, -2.79089281]), array([-0.70156198, -3.33270133]), array([-3.28013661, -1.67522223]), array([-1.18873263, -1.02929098]), array([-0.28510832, -1.86315093]), array([-0.45213234, -1.14773389]), array([-0.06298526, -1.54291234]), array([-0.434038  , -1.23405764]), array([-2.21897103, -1.69508106]), array([-4.90803041,  2.42560162]), array([0.1862821 , 0.51751235]), array([-0.03436442,  0.26475401]), array([ 0.18842268, -2.19339166]), array([-0.66333916, -1.28525365]), array([-0.57402538, -0.79324645]), array([-0.12476439, -1.94354659]), array([ 0.14618541, -0.0122667 ]), array([-0.1383832 ,  1.03156292]), array([-0.64611237,  0.83904603]), array([1.00664125, 3.04802864]), array([0.28985538, 3.63086595]), array([ 0.21750517, -1.70118908]), array([2.71852842, 2.51932244]), array([1.92238759, 0.82422878]), array([-0.49384414,  2.85333211]), array([-1.27604889, -3.05035148]), array([-0.60737417,  0.6944793 ]), array([2.81336888, 2.48473477]), array([0.47882518, 0.14330523]), array([-0.12505735, -1.15618261]), array([ 0.93375727, -1.16182565]), array([ 0.16216111, -1.88825822]), array([0.8387082 , 3.60077656]), array([ 3.96107347, -1.19857387]), array([-0.38292006, -2.0591431 ]), array([ 0.64279702, -3.53755963]), array([-0.60137219, -1.90776962]), array([ 3.5729287 , -0.45195915]), array([-0.47631527, -2.93386867]), array([-3.44743648,  0.54178096]), array([ 3.19732179, -0.07561256]), array([0.21293085, 2.71283707]), array([-0.0494457 , -0.14741219]), array([ 0.1680213 , -1.92484905]), array([ 1.1635774, -1.3581197]), array([3.13201597, 0.81902081]), array([ 0.67919983, -0.01969237]), array([-0.27099265,  0.28929756]), array([-0.27964916,  3.09236767]), array([2.94223383, 2.24052035])]\n"
     ]
    }
   ],
   "source": [
    "weighted_svc_lin_svc_radial_xgbc_rfc_ctbc_shap_naive = weighted_shap_naive(w1=w_xgbc, shap1=shap_xgbc, w2=w_rfc, shap2=shap_rfc, w3=w_ctbc, shap3=shap_ctbc, w4=w_svc_lin, shap4=shap_svc_lin, w5=w_svc_radial, shap5=shap_svc_radial)\n",
    "print(weighted_svc_lin_svc_radial_xgbc_rfc_ctbc_shap_naive)"
   ]
  },
  {
   "cell_type": "code",
   "execution_count": 149,
   "id": "printable-annual",
   "metadata": {},
   "outputs": [
    {
     "name": "stdout",
     "output_type": "stream",
     "text": [
      "[array([0.02551577, 0.46571357]), array([-0.07713437, -0.14858068]), array([-0.16924657, -0.04325174]), array([0.29553789, 0.17180859]), array([-0.08481117, -0.12997718]), array([-0.12559068, -0.00560578]), array([0.06520844, 0.16894979]), array([0.02590901, 0.44594782]), array([0.02690283, 0.43305169]), array([0.22434222, 0.28015515]), array([0.12749196, 0.25311112]), array([ 0.02438884, -0.23913846]), array([0.03204657, 0.03183521]), array([0.07890249, 0.14679136]), array([-0.04839751, -0.38491658]), array([0.44654773, 0.04789129]), array([0.0305833 , 0.38578116]), array([0.06977188, 0.38044536]), array([0.30768555, 0.151227  ]), array([0.22387027, 0.19391765]), array([-0.07207815, -0.2303777 ]), array([0.15604644, 0.22522508]), array([0.07431802, 0.21831919]), array([0.11500072, 0.20768329]), array([0.2530548 , 0.18683406]), array([-0.56839496,  0.28278454]), array([-0.00442043,  0.12620899]), array([ 0.04236306, -0.08046621]), array([0.0429828 , 0.35820679]), array([-0.12071543, -0.16072585]), array([-0.13475594, -0.0659474 ]), array([0.05431347, 0.25647092]), array([-0.00386126,  0.04375914]), array([ 0.03514092, -0.26006073]), array([-0.07347898,  0.24548663]), array([0.06108683, 0.35859381]), array([0.02928915, 0.46047879]), array([0.06665954, 0.2707276 ]), array([0.23125202, 0.26783444]), array([0.22618375, 0.18632186]), array([-0.01363678,  0.43066962]), array([0.14339028, 0.31052865]), array([ 0.1000056 , -0.19963199]), array([0.25640509, 0.24547356]), array([0.08608269, 0.17116654]), array([-0.08553978, -0.20199767]), array([-0.06632729,  0.16841784]), array([0.04022323, 0.30837284]), array([-0.02788478, -0.47473756]), array([ 0.54323102, -0.10247225]), array([-0.0779979 , -0.23628583]), array([-0.03742665,  0.44142713]), array([0.12431676, 0.2801299 ]), array([4.81988907e-01, 3.42046208e-04]), array([0.07925007, 0.35616592]), array([ 0.49774526, -0.10694109]), array([0.39331828, 0.08399256]), array([-0.02977563, -0.41453408]), array([-0.02952043,  0.06203458]), array([0.05549606, 0.32202876]), array([-0.114479  ,  0.16650601]), array([0.32688353, 0.15674766]), array([-0.1370174 , -0.17519447]), array([0.08059953, 0.03889195]), array([-0.00215009,  0.46709118]), array([0.26029498, 0.23018128])]\n"
     ]
    }
   ],
   "source": [
    "weighted_svc_lin_svc_radial_xgbc_rfc_ctbc_shap = weighted_shap(w1=w_xgbc, m1=xgbc, w2=w_rfc, m2=rfc, w3=w_ctbc, m3=ctbc, w4=w_svc_lin, m4=svc_lin, w5=w_svc_radial, m5=svc_radial) \n",
    "to_pickle(weighted_svc_lin_svc_radial_xgbc_rfc_ctbc_shap, 'weighted_svc_lin_svc_radial_xgbc_rfc_ctbc_shap')\n",
    "print(weighted_svc_lin_svc_radial_xgbc_rfc_ctbc_shap)"
   ]
  },
  {
   "cell_type": "markdown",
   "id": "charming-dictionary",
   "metadata": {},
   "source": [
    "### weighted stability"
   ]
  },
  {
   "cell_type": "code",
   "execution_count": 155,
   "id": "present-navigator",
   "metadata": {},
   "outputs": [
    {
     "name": "stdout",
     "output_type": "stream",
     "text": [
      "[1.0, 0.7906190910637232, 0.6841417528491883, 0.9066666314681636, 0.8064608288985199, 0.7466202597751894, 0.8258635578668753, 0.549653137029724, 0.5940910659986836, 1.0, 0.8158646752891127, 0.6327776869139485, 0.8158646752891127, 0.8566763113637985, 0.6109503012615108, 0.9547599392341107, 0.7466202597751894, 1.0, 1.0, 0.9378357669086613, 0.7558259995664665, 0.9378357669086613, 0.7249375701665797, 0.9666730456814848, 0.977372566465294, 1.0, 0.7751346267633957, 0.8396974257470797, 0.7878082812663136, 0.7935956389112663, 0.8826588883338993, 0.9649062108897307, 0.7878082812663136, 0.66924449492122, 0.6569860362062422, 0.66924449492122, 0.8194626718757386, 0.7923944267982886, 0.8194626718757386, 0.865851031334694, 0.7122787330835617, 1.0, 0.9353695179119768, 1.0, 0.7473423824606126, 0.7049531063767461, 0.8541338278864665, 0.7109814765239348, 1.0, 1.0, 0.7249375701665797, 1.0, 0.8274275062710768, 0.8496614573867477, 0.6109503012615108, 1.0, 0.865851031334694, 0.549653137029724, 0.8308635630643884, 0.7049531063767461, 0.7558259995664665, 0.8496614573867477, 0.7473423824606126, 0.8380597525641942, 0.6979735309529191, 0.9624141698207709]\n"
     ]
    }
   ],
   "source": [
    "weighted_svc_lin_svc_radial_xgbc_rfc_ctbc_stability = weighted_stability(X_test[:], w1=w_xgbc, m1=xgbc, w2=w_rfc, m2=rfc, w3=w_ctbc, m3=ctbc, w4=w_svc_lin, m4=svc_lin, w5=w_svc_radial, m5=svc_radial)\n",
    "to_pickle(weighted_svc_lin_svc_radial_xgbc_rfc_ctbc_stability, 'weighted_svc_lin_svc_radial_xgbc_rfc_ctbc_stability')\n",
    "print(weighted_svc_lin_svc_radial_xgbc_rfc_ctbc_stability)"
   ]
  },
  {
   "cell_type": "code",
   "execution_count": 260,
   "id": "fifth-designation",
   "metadata": {
    "collapsed": true,
    "jupyter": {
     "outputs_hidden": true
    }
   },
   "outputs": [
    {
     "name": "stdout",
     "output_type": "stream",
     "text": [
      "[1.         0.47525558 0.19783733 0.46753797 0.45850322 0.35341235\n",
      " 0.43584339 0.22617624 0.19783733 1.         0.41025732 0.22471664\n",
      " 0.48340358 0.30764692 0.86229526 0.63560866 0.35341235 1.\n",
      " 1.         0.40819271 0.44031916 0.40819271 0.56840649 0.89693677\n",
      " 0.49571234 1.         0.44031916 0.47099708 0.29119495 0.44120415\n",
      " 0.51342908 0.69801838 0.29119495 0.25800104 0.26916461 0.25800104\n",
      " 0.35112555 0.45917791 0.35112555 0.33389985 0.22981706 1.\n",
      " 0.67270081 1.         0.33389985 0.44130768 0.33269968 0.45372874\n",
      " 1.         1.         0.56840649 1.         0.31342977 0.51777989\n",
      " 0.30764692 1.         0.54770669 0.22471664 0.44120415 0.44130768\n",
      " 0.56714671 0.51777989 0.7008584  0.41025732 0.22938461 1.\n",
      " 1.         0.83834123 0.61036934 0.88766523 0.83043433 0.74914518\n",
      " 0.85049499 0.590523   0.61036934 1.         0.9082078  0.72060424\n",
      " 0.89724661 0.81633123 0.57207725 0.97106914 0.74914518 1.\n",
      " 1.         0.94729179 0.7584504  0.89686419 0.73339372 0.89686419\n",
      " 0.98370442 1.         0.86788376 0.786363   0.83214225 0.81340908\n",
      " 0.87863208 0.92361638 0.83214225 0.71970036 0.76039807 0.71970036\n",
      " 0.84768821 0.84856451 0.84768821 0.8234234  0.66900555 1.\n",
      " 0.93262564 1.         0.82417956 0.69203922 0.82599295 0.7150288\n",
      " 1.         1.         0.73339372 1.         0.82599295 0.9242848\n",
      " 0.57207725 1.         0.8234234  0.590523   0.82707154 0.69203922\n",
      " 0.7584504  0.9242848  0.82417956 0.89724661 0.62582489 0.90376221\n",
      " 1.         0.18529822 0.1100806  0.35816687 0.20978107 0.12756092\n",
      " 0.24466353 0.21368316 0.1100806  1.         0.19546054 0.17948243\n",
      " 0.19546054 0.17794667 0.39881376 0.6497851  0.12756092 1.\n",
      " 1.         0.31657038 0.17407923 0.45884874 0.55818355 0.81013478\n",
      " 0.31657038 1.         0.17407923 0.18082924 0.19755118 0.19644722\n",
      " 0.42295786 0.55818355 0.19755118 0.22895434 0.2140715  0.22895434\n",
      " 0.17051788 0.17814002 0.17051788 0.25704541 0.12153319 1.\n",
      " 0.45178802 1.         0.27755155 0.23063602 0.26489896 0.29913669\n",
      " 1.         1.         0.58979121 1.         0.22482274 0.28304773\n",
      " 0.17794667 1.         0.25704541 0.21024456 0.30491781 0.28302253\n",
      " 0.25140255 0.28304773 0.66265467 0.21445259 0.11455035 0.58173202\n",
      " 1.         0.89351785 0.69895306 0.94218085 0.90158604 0.95347809\n",
      " 0.9452699  0.6505259  0.68635088 1.         0.98425537 0.68635088\n",
      " 0.97873332 0.93464307 0.61841087 0.97639968 0.95347809 1.\n",
      " 1.         0.9496743  0.90539372 0.95775652 0.79476283 0.95775652\n",
      " 0.9496743  1.         0.8806128  0.86763134 0.9548662  0.91585477\n",
      " 0.91345295 0.96650948 0.93964668 0.70200675 0.72818303 0.70200675\n",
      " 0.95471261 0.96274523 0.95471261 0.95773901 0.95036621 1.\n",
      " 0.94901447 1.         0.74702551 0.80924809 0.93464307 0.81409285\n",
      " 1.         1.         0.79476283 1.         0.9465593  0.95260312\n",
      " 0.61841087 1.         0.94218085 0.6505259  0.91994753 0.80924809\n",
      " 0.93656617 0.95260312 0.74702551 0.97873332 0.94507781 0.96152687\n",
      " 1.         0.82577766 0.61434966 0.87848823 0.82064136 0.98625517\n",
      " 0.96568387 0.56404959 0.60283023 1.         0.98074723 0.60283023\n",
      " 0.97784592 0.98191979 0.658988   0.97676728 0.99261818 1.\n",
      " 1.         0.9706789  0.77569421 0.94508228 0.74080031 0.94508228\n",
      " 0.9744602  1.         0.81523174 0.76875456 0.98757676 0.88229164\n",
      " 0.8488579  0.94249701 0.98269961 0.68362019 0.66128725 0.68362019\n",
      " 0.91868019 0.98390523 0.91868019 0.90796727 0.95708464 1.\n",
      " 0.91960157 1.         0.81584424 0.74683148 0.98191979 0.75230776\n",
      " 1.         1.         0.74080031 1.         0.98539023 0.91747891\n",
      " 0.658988   1.         0.87848823 0.56404959 0.89299898 0.74683148\n",
      " 0.77569421 0.91747891 0.81584424 0.97784592 0.95016472 0.92916071]\n"
     ]
    }
   ],
   "source": [
    "print(weighted_stability_naive(w1=w_xgbc, stability1=shap_xgbc_stability, w2=w_rfc, stability2=shap_rfc_stability, w3=w_ctbc, stability3=shap_ctbc_stability, w4=w_svc_lin, stability4=shap_svc_lin_stability, w5=w_svc_radial, stability5=shap_svc_radial_stability))"
   ]
  },
  {
   "cell_type": "markdown",
   "id": "competitive-airplane",
   "metadata": {},
   "source": [
    "### weighted consistency"
   ]
  },
  {
   "cell_type": "code",
   "execution_count": 159,
   "id": "comparative-miracle",
   "metadata": {},
   "outputs": [
    {
     "name": "stdout",
     "output_type": "stream",
     "text": [
      "[0.26247390120855363, 0.46960682159268513, 0.3891659681767395, 0.354090350333444, 0.5123584209582885, 0.4922006538899875, 0.6455600949131134, 0.31910822495803287, 0.3384429522341566, 0.2558957756956487, 0.4453573152655696, 0.5969208784489841, 0.5988062143280284, 0.6709251213162153, 0.24915383024002705, 0.2668939275276059, 0.2846336865941613, 0.2476490966660093, 0.24809119487803946, 0.4494959043353055, 0.389239027777095, 0.48381564535382277, 0.4124410573243983, 0.47623484642091946, 0.311623206325747, 0.19402942039692142, 0.6301145025464753, 0.7394276028580323, 0.350059374317697, 0.4576812858395198, 0.5451497654221951, 0.36171573489780545, 0.8725735411689566, 0.5129166747361781, 0.5551436879656031, 0.30346595028034906, 0.2787102487814045, 0.3875346847856095, 0.2675227219749054, 0.4199291193581278, 0.33065129179650926, 0.254641903225555, 0.5156486185700079, 0.26462055497448417, 0.6572795223753461, 0.5384506999110702, 0.4364446590712566, 0.38978894530615804, 0.24385664551511088, 0.24651341410377806, 0.3816844090046131, 0.23924258829011222, 0.36639675173328, 0.2654019947533061, 0.2809343745485417, 0.2549565475393393, 0.29665523060744814, 0.31113062216883214, 0.7706657626727491, 0.38369900175974797, 0.39217399580190404, 0.2992702637909412, 0.6118715051911388, 0.6762985368027575, 0.3131218460969883, 0.26709579430312386]\n"
     ]
    }
   ],
   "source": [
    "weighted_svc_lin_svc_radial_xgbc_rfc_ctbc_consistency_naive = weighted_consistency_naive(w1=w_xgbc, shap1=shap_xgbc, w2=w_rfc, shap2=shap_rfc, w3=w_ctbc, shap3=shap_ctbc, w4=w_svc_lin, shap4=shap_svc_lin, w5=w_svc_radial, shap5=shap_svc_radial) \n",
    "to_pickle(weighted_svc_lin_svc_radial_xgbc_rfc_ctbc_consistency_naive, 'weighted_svc_lin_svc_radial_xgbc_rfc_ctbc_consistency_naive')\n",
    "print(weighted_svc_lin_svc_radial_xgbc_rfc_ctbc_consistency_naive)\n"
   ]
  },
  {
   "cell_type": "markdown",
   "id": "fallen-ownership",
   "metadata": {},
   "source": [
    "# 6. SMAC \n",
    "\n",
    "From examples\n",
    "- https://automl.github.io/SMAC3/master/examples/SMAC4BO_rosenbrock.html#sphx-glr-examples-smac4bo-rosenbrock-py \n",
    "- https://automl.github.io/SMAC3/master/examples/SMAC4HPO_rosenbrock.html#sphx-glr-examples-smac4hpo-rosenbrock-py"
   ]
  },
  {
   "cell_type": "markdown",
   "id": "romantic-stereo",
   "metadata": {},
   "source": [
    "## Optimizing weighted model = xgbc + rfc (we exclude ctbc).\n",
    "## Firstly we use SHAP values. "
   ]
  },
  {
   "cell_type": "code",
   "execution_count": 354,
   "id": "reported-effort",
   "metadata": {},
   "outputs": [],
   "source": [
    "def exact_joint_metrics(w_xgbc, w_rfc, w_ctbc, w_svc_lin, w_svc_radial, importance_auc_acc_loss = 1.0, importance_stability = 1.0, importance_consistency = 1.0):\n",
    "#     print(\"debug-0\")\n",
    "    w_ = w_svc_lin + w_svc_radial + w_xgbc + w_rfc + w_ctbc\n",
    "    \n",
    "#     print(\"debug-1a\")    \n",
    "    ct = ColumnTransformer([('_INXAI_categorical_noise_perturber', CategoricalNoisePerturber(),FEATURE_IDS)])\n",
    "#     print(\"debug-1b\")\n",
    "    w_acc_loss = weighted_acc_loss(X_test[:], y_test[:], ct, w1=w_xgbc, m1=xgbc, w2=w_rfc, m2=rfc, w3=w_ctbc, m3=ctbc, w4=w_svc_lin, m4=svc_lin, w5=w_svc_radial, m5=svc_radial, plot = False)\n",
    "#     print(\"debug-1c\")\n",
    "    w_auc_acc_loss = AreaUnderTheCurveAccLoss(w_acc_loss)    \n",
    "#     print(\"debug-1d\")\n",
    "\n",
    "    w_stability = weighted_stability(X_test[:], w1=w_xgbc, m1=xgbc, w2=w_rfc, m2=rfc, w3=w_ctbc, m3=ctbc, w4=w_svc_lin, m4=svc_lin, w5=w_svc_radial, m5=svc_radial)\n",
    "    w_stability_m = np.mean(w_stability)\n",
    "    print(\"debug-2\")\n",
    "    \n",
    "    w_consistency = weighted_consistency_naive(w_xgbc, shap_xgbc[:], w_rfc, shap_rfc[:], w_ctbc, shap_ctbc[:], w_svc_lin, shap_svc_lin[:], w_svc_radial, shap_svc_radial[:])\n",
    "    w_consistency_m = np.mean(w_consistency)\n",
    "    print(\"debug-3\")\n",
    "    \n",
    "    joint_metric = get_joint_metric(w_auc_acc_loss, importance_auc_acc_loss, w_stability_m, importance_stability, w_consistency_m, importance_consistency)\n",
    "    \n",
    "    print(f'AUC_acc_loss={w_auc_acc_loss}, stability={w_stability_m}, consistency={w_consistency_m}, joint_metric={joint_metric}')\n",
    "    \n",
    "    return {'auc_acc_loss' : w_auc_acc_loss, 'stability' : w_stability_m, 'consistency' : w_consistency_m, 'joint_metric' : joint_metric, \n",
    "            'w_svc_lin' : w_svc_lin, 'w_svc_radial' : w_svc_radial, 'w_xgbc' : w_xgbc, 'w_rfc' : w_rfc, 'w_ctbc' : w_ctbc, 'w_' : w_}\n",
    "\n",
    "\n",
    "def naive_joint_metrics(w_xgbc, w_rfc, w_ctbc, w_svc_lin, w_svc_radial, importance_auc_acc_loss = 1.0, importance_stability = 1.0, importance_consistency = 1.0):\n",
    "#     print(\"debug-0\")\n",
    "    w_ = w_svc_lin + w_svc_radial + w_xgbc + w_rfc + w_ctbc\n",
    "    \n",
    "#     print(\"debug-1a\")    \n",
    "#     print(\"debug-1b\")\n",
    "#     print(\"debug-1c\")\n",
    "    w_auc_acc_loss = weighted_acc_loss_auc_naive(w1=w_xgbc, auc1=xgbc_auc_acc_loss, w2=w_rfc, auc2=rfc_auc_acc_loss, w3=w_ctbc, auc3=ctbc_auc_acc_loss, w4=w_svc_lin, auc4=svc_lin_auc_acc_loss, w5=w_svc_radial, auc5=svc_radial_auc_acc_loss)\n",
    "#     print(\"debug-1d\")\n",
    "\n",
    "    w_stability = weighted_stability_naive(w1=w_xgbc, stability1=shap_xgbc_stability, w2=w_rfc, stability2=shap_rfc_stability, w3=w_ctbc, stability3=shap_ctbc_stability, w4=w_svc_lin, stability4=shap_svc_lin_stability, w5=w_svc_radial, stability5=shap_svc_radial_stability)\n",
    "    w_stability_m = np.mean(w_stability)\n",
    "#     print(\"debug-2\")\n",
    "    \n",
    "    w_consistency = weighted_consistency_naive(w_xgbc, shap_xgbc[:], w_rfc, shap_rfc[:], w_ctbc, shap_ctbc[:], w_svc_lin, shap_svc_lin[:], w_svc_radial, shap_svc_radial[:])\n",
    "    w_consistency_m = np.mean(w_consistency)\n",
    "#     print(\"debug-3\")\n",
    "    \n",
    "    joint_metric = get_joint_metric(w_auc_acc_loss, importance_auc_acc_loss, w_stability_m, importance_stability, w_consistency_m, importance_consistency)\n",
    "    \n",
    "    print(f'AUC_acc_loss={w_auc_acc_loss}, stability={w_stability_m}, consistency={w_consistency_m}, joint_metric={joint_metric}')\n",
    "    \n",
    "    return {'auc_acc_loss' : w_auc_acc_loss, 'stability' : w_stability_m, 'consistency' : w_consistency_m, 'joint_metric' : joint_metric, \n",
    "            'w_svc_lin' : w_svc_lin, 'w_svc_radial' : w_svc_radial, 'w_xgbc' : w_xgbc, 'w_rfc' : w_rfc, 'w_ctbc' : w_ctbc, 'w_' : w_}\n",
    "\n",
    "def optimize_joint_metrics(x, method = 'naive'):\n",
    "\n",
    "    print(method)\n",
    "    \n",
    "    w_xgbc = x[\"w0\"]\n",
    "    w_rfc = x[\"w1\"] if \"w1\" in x else 0.0\n",
    "    w_ctbc = x[\"w2\"] if \"w2\" in x else 0.0\n",
    "    w_svc_lin = x[\"w3\"] if \"w3\" in x else 0.0\n",
    "    w_svc_radial = x[\"w4\"] if \"w4\" in x else 0.0\n",
    "    \n",
    "    # works only if w_xgbc + w_rfc + w_ctbc + w_svc_lin <= 1\n",
    "#     if w_rfc == -1.0: \n",
    "#         w_rfc = 1.0 - w_xgbc\n",
    "#     elif w_ctbc == -1.0:\n",
    "#         w_ctbc = 1.0 - (w_xgbc + w_rfc)\n",
    "#     elif w_svc_lin == -1.0:\n",
    "#         w_svc_lin = 1.0 - (w_xgbc + w_rfc + w_ctbc)\n",
    "#     elif w_svc_radial == -1.0:\n",
    "#         print(\"debug-1\")\n",
    "#         w_svc_radial = 1.0 - (w_xgbc + w_rfc + w_ctbc + w_svc_lin)\n",
    "\n",
    "    w_ = w_svc_lin + w_svc_radial + w_xgbc + w_rfc + w_ctbc\n",
    "    \n",
    "    w_xgbc = w_xgbc / w_\n",
    "    w_rfc = w_rfc / w_\n",
    "    w_ctbc = w_ctbc / w_\n",
    "    w_svc_lin = w_svc_lin / w_\n",
    "    w_svc_radial = w_svc_radial / w_\n",
    "    w_ = w_svc_lin + w_svc_radial + w_xgbc + w_rfc + w_ctbc\n",
    "    \n",
    "    print(f'w_svc_lin={w_svc_lin}, w_svc_radial={w_svc_radial}, w_xgbc={w_xgbc}, w_rfc={w_rfc}, w_ctbc={w_ctbc}, w_={w_}')\n",
    "\n",
    "    \n",
    "    importance_auc_acc_loss = x[\"importance_auc_acc_loss\"]\n",
    "    importance_stability = x[\"importance_stability\"]\n",
    "    importance_consistency = x[\"importance_consistency\"]\n",
    "    print(f'importance_auc_acc_loss={importance_auc_acc_loss}, importance_stability={importance_stability}, importance_consistency={importance_consistency}')\n",
    "    \n",
    "    joint_metric = {}\n",
    "    if method == 'naive': \n",
    "        joint_metric = naive_joint_metrics(w_xgbc, w_rfc, w_ctbc, w_svc_lin, w_svc_radial, importance_auc_acc_loss, importance_stability, importance_consistency)\n",
    "    elif method == 'exact': \n",
    "        joint_metric = exact_joint_metrics(w_xgbc, w_rfc, w_ctbc, w_svc_lin, w_svc_radial, importance_auc_acc_loss, importance_stability, importance_consistency)\n",
    "#     print(\"debug-4\")\n",
    "    \n",
    "    return joint_metric['joint_metric']\n",
    "\n",
    "\n",
    "def get_joint_metric(w_auc_acc_loss, importance_auc_acc_loss, w_stability_m, importance_stability, w_consistency_m, importance_consistency):\n",
    "    return pow(w_auc_acc_loss, importance_auc_acc_loss) / (pow(w_stability_m, importance_stability) * pow(w_consistency_m, importance_consistency))\n"
   ]
  },
  {
   "cell_type": "code",
   "execution_count": 346,
   "id": "drawn-westminster",
   "metadata": {},
   "outputs": [],
   "source": [
    "def run_experiment(importance_auc_acc_loss = 1.0, importance_stability = 1.0, importance_consistency = 1.0):\n",
    "    logging.basicConfig(level=logging.INFO)  # logging.DEBUG for debug output\n",
    "\n",
    "    # Build Configuration Space which defines all parameters and their ranges\n",
    "    cs = ConfigurationSpace()\n",
    "\n",
    "    x0 = UniformFloatHyperparameter(\"w0\", 0.0, 1.0, default_value=w_xgbc)\n",
    "    x1 = UniformFloatHyperparameter(\"w1\", 0.0, 1.0, default_value=w_rfc)\n",
    "    x2 = UniformFloatHyperparameter(\"w2\", 0.0, 1.0, default_value=w_ctbc)\n",
    "    x3 = UniformFloatHyperparameter(\"w3\", 0.0, 1.0, default_value=w_svc_lin)\n",
    "        \n",
    "#     print(dir(x0))\n",
    "#     w_complement_to_1 = -1 ## handle later on\n",
    "#     x4 = Constant(\"w4\", w_complement_to_1)\n",
    "    x4 = UniformFloatHyperparameter(\"w4\", 0.0, 1.0, default_value=w_svc_radial)\n",
    "    \n",
    "    i_auc_acc_loss = Constant(\"importance_auc_acc_loss\", importance_auc_acc_loss)\n",
    "    i_stability = Constant(\"importance_stability\", importance_stability)\n",
    "    i_consistency = Constant(\"importance_consistency\", importance_consistency)\n",
    "\n",
    "    cs.add_hyperparameters([x0, x1, x2, x3, x4, i_auc_acc_loss, i_stability, i_consistency])\n",
    "\n",
    "    # Scenario object\n",
    "    scenario = Scenario({\"run_obj\": \"quality\",  # we optimize quality (alternatively runtime)\n",
    "                         \"runcount-limit\": 30,  # max. number of function evaluations; for this example set to a low number\n",
    "                         \"cs\": cs,  # configuration space\n",
    "                         \"deterministic\": \"true\",\n",
    "                         \"abort_on_first_run_crash\": \"true\"\n",
    "                         })\n",
    "\n",
    "    # Example call of the function\n",
    "    # It returns: Status, Cost, Runtime, Additional Infos\n",
    "    def_value = optimize_joint_metrics(cs.get_default_configuration())\n",
    "    print(\"Default Value: %.2f\" % def_value)\n",
    "\n",
    "    # Optimize, using a SMAC-object\n",
    "    print(\"Optimizing! Depending on your machine, this might take a few minutes.\")\n",
    "    smac = SMAC4BO(scenario=scenario,\n",
    "                   rng=np.random.RandomState(2021),\n",
    "                   tae_runner=optimize_joint_metrics,\n",
    "                   )\n",
    "\n",
    "    cfg = smac.optimize()\n",
    "    \n",
    "    return {k: cfg[k] for k in cfg if cfg[k]}\n"
   ]
  },
  {
   "cell_type": "code",
   "execution_count": 343,
   "id": "shared-squad",
   "metadata": {
    "collapsed": true,
    "jupyter": {
     "outputs_hidden": true
    }
   },
   "outputs": [
    {
     "data": {
      "text/plain": [
       "[0.0,\n",
       " 0.00757575757575768,\n",
       " -0.003030303030302939,\n",
       " -0.00454545454545463,\n",
       " 0.00454545454545463,\n",
       " 0.00454545454545463,\n",
       " 0.021212121212121238,\n",
       " 0.010606060606060619,\n",
       " 0.027272727272727226,\n",
       " 0.036363636363636376,\n",
       " 0.018181818181818188,\n",
       " 0.013636363636363669,\n",
       " 0.028787878787878807,\n",
       " 0.021212121212121127,\n",
       " 0.045454545454545414,\n",
       " 0.03181818181818186,\n",
       " 0.046969696969696884,\n",
       " 0.028787878787878807,\n",
       " 0.045454545454545414,\n",
       " 0.030303030303030276,\n",
       " 0.022727272727272596,\n",
       " 0.05454545454545445,\n",
       " 0.04999999999999993,\n",
       " 0.051515151515151514,\n",
       " 0.051515151515151514,\n",
       " 0.048484848484848464,\n",
       " 0.046969696969696884,\n",
       " 0.04999999999999993,\n",
       " 0.05606060606060603,\n",
       " 0.05303030303030287,\n",
       " 0.09696969696969704,\n",
       " 0.06666666666666665,\n",
       " 0.08787878787878789,\n",
       " 0.09242424242424241,\n",
       " 0.056060606060606144,\n",
       " 0.08030303030303021,\n",
       " 0.07424242424242422,\n",
       " 0.07878787878787874,\n",
       " 0.054545454545454675,\n",
       " 0.0984848484848484,\n",
       " 0.08636363636363631,\n",
       " 0.10909090909090913,\n",
       " 0.1166666666666667,\n",
       " 0.07878787878787885,\n",
       " 0.08636363636363642,\n",
       " 0.10151515151515156,\n",
       " 0.08484848484848484,\n",
       " 0.12272727272727268,\n",
       " 0.08333333333333326,\n",
       " 0.12575757575757573]"
      ]
     },
     "execution_count": 343,
     "metadata": {},
     "output_type": "execute_result"
    }
   ],
   "source": [
    "## Przyklad - SMAC zaczyna od tej wartosci:\n",
    "## ! problem: dziala \"na sycho\", w SMAC ta sama f. z tymi samymi parametrami wywla się \n",
    "\n",
    "w_xgbc_test = 0.2\n",
    "w_rfc_test = 0.2\n",
    "w_ctbc_test = 0.2\n",
    "w_svc_lin_test = 0.2\n",
    "w_svc_radial_test = 0.2\n",
    "\n",
    "weighted_acc_loss(X_test, y_test, ct, w1=w_xgbc_test, m1=xgbc, w2=w_rfc_test, m2=rfc, w3=w_ctbc_test, m3=ctbc, w4=w_svc_lin_test, m4=svc_lin, w5=w_svc_radial_test, m5=svc_radial, plot = False)"
   ]
  },
  {
   "cell_type": "markdown",
   "id": "floating-timothy",
   "metadata": {},
   "source": [
    "### Wszystkie eksperymenty zbiegaja sie do podobnych metryk, gdy liczymy exact_joint_metrics ?"
   ]
  },
  {
   "cell_type": "code",
   "execution_count": 355,
   "id": "logical-plain",
   "metadata": {},
   "outputs": [
    {
     "name": "stderr",
     "output_type": "stream",
     "text": [
      "`np.float` is a deprecated alias for the builtin `float`. To silence this warning, use `float` by itself. Doing this will not modify any behavior and is safe. If you specifically wanted the numpy scalar type, use `np.float64` here.\n",
      "Deprecated in NumPy 1.20; for more details and guidance: https://numpy.org/devdocs/release/1.20.0-notes.html#deprecations\n",
      "INFO:smac.utils.io.cmd_reader.CMDReader:Output to smac3-output_2021-02-09_15:02:05_453514\n",
      "`np.float` is a deprecated alias for the builtin `float`. To silence this warning, use `float` by itself. Doing this will not modify any behavior and is safe. If you specifically wanted the numpy scalar type, use `np.float64` here.\n",
      "Deprecated in NumPy 1.20; for more details and guidance: https://numpy.org/devdocs/release/1.20.0-notes.html#deprecations\n",
      "INFO:smac.facade.smac_bo_facade.SMAC4BO:Optimizing a deterministic scenario for quality without a tuner timeout - will make SMAC deterministic and only evaluate one configuration per iteration!\n",
      "INFO:smac.initial_design.sobol_design.SobolDesign:Running initial design for 7 configurations\n",
      "INFO:smac.facade.smac_bo_facade.SMAC4BO:<class 'smac.facade.smac_bo_facade.SMAC4BO'>\n",
      "INFO:smac.optimizer.smbo.SMBO:Running initial design\n",
      "INFO:smac.intensification.intensification.Intensifier:First run, no incumbent provided; challenger is assumed to be the incumbent\n"
     ]
    },
    {
     "name": "stdout",
     "output_type": "stream",
     "text": [
      "naive\n",
      "w_svc_lin=0.1377031947, w_svc_radial=0.1559742808, w_xgbc=0.1773123705, w_rfc=0.1695355122, w_ctbc=0.3594746418, w_=1.0\n",
      "importance_auc_acc_loss=1.0, importance_stability=1.0, importance_consistency=1.0\n",
      "AUC_acc_loss=0.05079774622277981, stability=0.7067812153419838, consistency=0.4096159680933908, joint_metric=0.17546179471211973\n",
      "Default Value: 0.18\n",
      "Optimizing! Depending on your machine, this might take a few minutes.\n",
      "naive\n",
      "w_svc_lin=0.2, w_svc_radial=0.2, w_xgbc=0.2, w_rfc=0.2, w_ctbc=0.2, w_=1.0\n",
      "importance_auc_acc_loss=1.0, importance_stability=1.0, importance_consistency=1.0\n",
      "AUC_acc_loss=0.056880024737167564, stability=0.7067812153419838, consistency=0.5328851601905255, joint_metric=0.15102232501532784\n"
     ]
    },
    {
     "name": "stderr",
     "output_type": "stream",
     "text": [
      "INFO:smac.intensification.intensification.Intensifier:First run, no incumbent provided; challenger is assumed to be the incumbent\n",
      "INFO:smac.intensification.intensification.Intensifier:Updated estimated cost of incumbent on 1 runs: 0.1510\n"
     ]
    },
    {
     "name": "stdout",
     "output_type": "stream",
     "text": [
      "naive\n",
      "w_svc_lin=0.09090909090909091, w_svc_radial=0.2727272727272727, w_xgbc=0.2727272727272727, w_rfc=0.09090909090909091, w_ctbc=0.2727272727272727, w_=1.0\n",
      "importance_auc_acc_loss=1.0, importance_stability=1.0, importance_consistency=1.0\n",
      "AUC_acc_loss=0.053253780851183416, stability=0.7067812153419838, consistency=0.46014605337703784, joint_metric=0.16374564069646827\n"
     ]
    },
    {
     "name": "stderr",
     "output_type": "stream",
     "text": [
      "INFO:smac.intensification.intensification.Intensifier:Wallclock time limit for intensification reached (used: 0.069721 sec, available: 0.000010 sec)\n"
     ]
    },
    {
     "name": "stdout",
     "output_type": "stream",
     "text": [
      "naive\n",
      "w_svc_lin=0.3333333333333333, w_svc_radial=0.1111111111111111, w_xgbc=0.1111111111111111, w_rfc=0.3333333333333333, w_ctbc=0.1111111111111111, w_=1.0\n",
      "importance_auc_acc_loss=1.0, importance_stability=1.0, importance_consistency=1.0\n",
      "AUC_acc_loss=0.06131210059781485, stability=0.7067812153419838, consistency=0.6527278808485087, joint_metric=0.1329012401482329\n"
     ]
    },
    {
     "name": "stderr",
     "output_type": "stream",
     "text": [
      "INFO:smac.intensification.intensification.Intensifier:Challenger (0.1329) is better than incumbent (0.1510) on 1 runs.\n",
      "INFO:smac.intensification.intensification.Intensifier:Changes in incumbent:\n",
      "INFO:smac.intensification.intensification.Intensifier:  w0 : 0.5 -> 0.25\n",
      "INFO:smac.intensification.intensification.Intensifier:  w1 : 0.5 -> 0.75\n",
      "INFO:smac.intensification.intensification.Intensifier:  w2 : 0.5 -> 0.25\n",
      "INFO:smac.intensification.intensification.Intensifier:  w3 : 0.5 -> 0.75\n",
      "INFO:smac.intensification.intensification.Intensifier:  w4 : 0.5 -> 0.25\n",
      "INFO:smac.intensification.intensification.Intensifier:Wallclock time limit for intensification reached (used: 0.035836 sec, available: 0.000010 sec)\n"
     ]
    },
    {
     "name": "stdout",
     "output_type": "stream",
     "text": [
      "naive\n",
      "w_svc_lin=0.05263157894736842, w_svc_radial=0.3684210526315789, w_xgbc=0.15789473684210525, w_rfc=0.15789473684210525, w_ctbc=0.2631578947368421, w_=1.0\n",
      "importance_auc_acc_loss=1.0, importance_stability=1.0, importance_consistency=1.0\n",
      "AUC_acc_loss=0.05382693747355398, stability=0.7067812153419838, consistency=0.47059273922098976, joint_metric=0.16183388143920924\n"
     ]
    },
    {
     "name": "stderr",
     "output_type": "stream",
     "text": [
      "INFO:smac.intensification.intensification.Intensifier:Wallclock time limit for intensification reached (used: 0.035284 sec, available: 0.000010 sec)\n"
     ]
    },
    {
     "name": "stdout",
     "output_type": "stream",
     "text": [
      "naive\n",
      "w_svc_lin=0.21739130434782608, w_svc_radial=0.13043478260869565, w_xgbc=0.30434782608695654, w_rfc=0.30434782608695654, w_ctbc=0.043478260869565216, w_=1.0\n",
      "importance_auc_acc_loss=1.0, importance_stability=1.0, importance_consistency=1.0\n",
      "AUC_acc_loss=0.0614402678067274, stability=0.7067812153419838, consistency=0.5733404953649649, joint_metric=0.15161964808717596\n"
     ]
    },
    {
     "name": "stderr",
     "output_type": "stream",
     "text": [
      "INFO:smac.intensification.intensification.Intensifier:Wallclock time limit for intensification reached (used: 0.036698 sec, available: 0.000010 sec)\n"
     ]
    },
    {
     "name": "stdout",
     "output_type": "stream",
     "text": [
      "naive\n",
      "w_svc_lin=0.23076923076923078, w_svc_radial=0.07692307692307693, w_xgbc=0.38461538461538464, w_rfc=0.07692307692307693, w_ctbc=0.23076923076923078, w_=1.0\n",
      "importance_auc_acc_loss=1.0, importance_stability=1.0, importance_consistency=1.0\n",
      "AUC_acc_loss=0.05520550877693732, stability=0.7067812153419838, consistency=0.47958632129918666, joint_metric=0.16286607514687013\n"
     ]
    },
    {
     "name": "stderr",
     "output_type": "stream",
     "text": [
      "INFO:smac.intensification.intensification.Intensifier:Wallclock time limit for intensification reached (used: 0.034512 sec, available: 0.000010 sec)\n"
     ]
    },
    {
     "name": "stdout",
     "output_type": "stream",
     "text": [
      "naive\n",
      "w_svc_lin=0.28, w_svc_radial=0.2, w_xgbc=0.04, w_rfc=0.2, w_ctbc=0.28, w_=1.0\n",
      "importance_auc_acc_loss=1.0, importance_stability=1.0, importance_consistency=1.0\n",
      "AUC_acc_loss=0.05587569573283855, stability=0.7067812153419838, consistency=0.46691930109578994, joint_metric=0.16931526651806103\n"
     ]
    },
    {
     "name": "stderr",
     "output_type": "stream",
     "text": [
      "INFO:smac.intensification.intensification.Intensifier:Wallclock time limit for intensification reached (used: 0.033879 sec, available: 0.000010 sec)\n"
     ]
    },
    {
     "name": "stdout",
     "output_type": "stream",
     "text": [
      "naive\n",
      "w_svc_lin=0.33343027476046705, w_svc_radial=0.1100184324624556, w_xgbc=0.11151399871705266, w_rfc=0.3335192790935111, w_ctbc=0.11151801496651352, w_=0.9999999999999999\n",
      "importance_auc_acc_loss=1.0, importance_stability=1.0, importance_consistency=1.0\n",
      "AUC_acc_loss=0.061293807413294765, stability=0.7067812153419839, consistency=0.6519502197825401, joint_metric=0.13302006783066228\n"
     ]
    },
    {
     "name": "stderr",
     "output_type": "stream",
     "text": [
      "INFO:smac.intensification.intensification.Intensifier:Wallclock time limit for intensification reached (used: 0.036132 sec, available: 0.000010 sec)\n"
     ]
    },
    {
     "name": "stdout",
     "output_type": "stream",
     "text": [
      "naive\n",
      "w_svc_lin=0.3432691228727619, w_svc_radial=0.11395497146786025, w_xgbc=0.1146358019031445, w_rfc=0.343384384847589, w_ctbc=0.08475571890864458, w_=1.0000000000000002\n",
      "importance_auc_acc_loss=1.0, importance_stability=1.0, importance_consistency=1.0\n",
      "AUC_acc_loss=0.06228979840491995, stability=0.7067812153419837, consistency=0.6985964563119135, joint_metric=0.1261553139151956\n"
     ]
    },
    {
     "name": "stderr",
     "output_type": "stream",
     "text": [
      "INFO:smac.intensification.intensification.Intensifier:Challenger (0.1262) is better than incumbent (0.1329) on 1 runs.\n",
      "INFO:smac.intensification.intensification.Intensifier:Changes in incumbent:\n",
      "INFO:smac.intensification.intensification.Intensifier:  w0 : 0.25 -> 0.25054646993342505\n",
      "INFO:smac.intensification.intensification.Intensifier:  w1 : 0.75 -> 0.7504963024249074\n",
      "INFO:smac.intensification.intensification.Intensifier:  w2 : 0.25 -> 0.1852409616078941\n",
      "INFO:smac.intensification.intensification.Intensifier:  w3 : 0.75 -> 0.7502443873998362\n",
      "INFO:smac.intensification.intensification.Intensifier:  w4 : 0.25 -> 0.2490584560725561\n",
      "INFO:smac.intensification.intensification.Intensifier:Wallclock time limit for intensification reached (used: 0.035751 sec, available: 0.000010 sec)\n"
     ]
    },
    {
     "name": "stdout",
     "output_type": "stream",
     "text": [
      "naive\n",
      "w_svc_lin=0.3655455809671682, w_svc_radial=0.12143404484745465, w_xgbc=0.12213567860793992, w_rfc=0.3656373245386136, w_ctbc=0.025247371038823654, w_=1.0\n",
      "importance_auc_acc_loss=1.0, importance_stability=1.0, importance_consistency=1.0\n",
      "AUC_acc_loss=0.06450189289439258, stability=0.7067812153419838, consistency=0.7414462945871794, joint_metric=0.12308574601947014\n"
     ]
    },
    {
     "name": "stderr",
     "output_type": "stream",
     "text": [
      "INFO:smac.intensification.intensification.Intensifier:Challenger (0.1231) is better than incumbent (0.1262) on 1 runs.\n",
      "INFO:smac.intensification.intensification.Intensifier:Changes in incumbent:\n",
      "INFO:smac.intensification.intensification.Intensifier:  w0 : 0.25054646993342505 -> 0.2506923739863765\n",
      "INFO:smac.intensification.intensification.Intensifier:  w1 : 0.7504963024249074 -> 0.7504972334976109\n",
      "INFO:smac.intensification.intensification.Intensifier:  w2 : 0.1852409616078941 -> 0.051822067513580164\n",
      "INFO:smac.intensification.intensification.Intensifier:  w3 : 0.7502443873998362 -> 0.7503089231366601\n",
      "INFO:smac.intensification.intensification.Intensifier:  w4 : 0.2490584560725561 -> 0.24925221960159868\n",
      "INFO:smac.intensification.intensification.Intensifier:Wallclock time limit for intensification reached (used: 0.036835 sec, available: 0.000010 sec)\n"
     ]
    },
    {
     "name": "stdout",
     "output_type": "stream",
     "text": [
      "naive\n",
      "w_svc_lin=0.36285560064848155, w_svc_radial=0.11633085359916809, w_xgbc=0.11132298456583725, w_rfc=0.3629740510607184, w_ctbc=0.046516510125794816, w_=1.0\n",
      "importance_auc_acc_loss=1.0, importance_stability=1.0, importance_consistency=1.0\n",
      "AUC_acc_loss=0.06379300240770155, stability=0.7067812153419837, consistency=0.7511059728468296, joint_metric=0.12016744538236593\n"
     ]
    },
    {
     "name": "stderr",
     "output_type": "stream",
     "text": [
      "INFO:smac.intensification.intensification.Intensifier:Challenger (0.1202) is better than incumbent (0.1231) on 1 runs.\n",
      "INFO:smac.intensification.intensification.Intensifier:Changes in incumbent:\n",
      "INFO:smac.intensification.intensification.Intensifier:  w0 : 0.2506923739863765 -> 0.23019207854909007\n",
      "INFO:smac.intensification.intensification.Intensifier:  w1 : 0.7504972334976109 -> 0.7505525619791122\n",
      "INFO:smac.intensification.intensification.Intensifier:  w2 : 0.051822067513580164 -> 0.09618617569827972\n",
      "INFO:smac.intensification.intensification.Intensifier:  w3 : 0.7503089231366601 -> 0.7503076319073564\n",
      "INFO:smac.intensification.intensification.Intensifier:  w4 : 0.24925221960159868 -> 0.2405472786578537\n",
      "INFO:smac.intensification.intensification.Intensifier:Wallclock time limit for intensification reached (used: 0.036029 sec, available: 0.000010 sec)\n"
     ]
    },
    {
     "name": "stdout",
     "output_type": "stream",
     "text": [
      "naive\n",
      "w_svc_lin=0.4004092595642341, w_svc_radial=0.1089934721513994, w_xgbc=0.03919190284263627, w_rfc=0.40052770659492914, w_ctbc=0.05087765884680112, w_=1.0000000000000002\n",
      "importance_auc_acc_loss=1.0, importance_stability=1.0, importance_consistency=1.0\n",
      "AUC_acc_loss=0.06432649084544027, stability=0.7067812153419838, consistency=0.781124339580161, joint_metric=0.11651576512468577\n"
     ]
    },
    {
     "name": "stderr",
     "output_type": "stream",
     "text": [
      "INFO:smac.intensification.intensification.Intensifier:Challenger (0.1165) is better than incumbent (0.1202) on 1 runs.\n",
      "INFO:smac.intensification.intensification.Intensifier:Changes in incumbent:\n",
      "INFO:smac.intensification.intensification.Intensifier:  w0 : 0.23019207854909007 -> 0.07343981965802733\n",
      "INFO:smac.intensification.intensification.Intensifier:  w1 : 0.7505525619791122 -> 0.7505295840949856\n",
      "INFO:smac.intensification.intensification.Intensifier:  w2 : 0.09618617569827972 -> 0.09533719516845941\n",
      "INFO:smac.intensification.intensification.Intensifier:  w4 : 0.2405472786578537 -> 0.20423761946034083\n",
      "INFO:smac.intensification.intensification.Intensifier:Wallclock time limit for intensification reached (used: 0.036520 sec, available: 0.000010 sec)\n"
     ]
    },
    {
     "name": "stdout",
     "output_type": "stream",
     "text": [
      "naive\n",
      "w_svc_lin=0.42162923961519166, w_svc_radial=0.04412977652920523, w_xgbc=0.06437938623614624, w_rfc=0.4215723398018624, w_ctbc=0.048289257817594466, w_=1.0\n",
      "importance_auc_acc_loss=1.0, importance_stability=1.0, importance_consistency=1.0\n",
      "AUC_acc_loss=0.06429824733634776, stability=0.7067812153419838, consistency=0.7779142281487453, joint_metric=0.11694520557603134\n"
     ]
    },
    {
     "name": "stderr",
     "output_type": "stream",
     "text": [
      "INFO:smac.intensification.intensification.Intensifier:Wallclock time limit for intensification reached (used: 0.036758 sec, available: 0.000010 sec)\n"
     ]
    },
    {
     "name": "stdout",
     "output_type": "stream",
     "text": [
      "naive\n",
      "w_svc_lin=0.44098761201729225, w_svc_radial=0.09134694810018719, w_xgbc=0.06345958849999767, w_rfc=0.34562240405638167, w_ctbc=0.05858344732614119, w_=1.0\n",
      "importance_auc_acc_loss=1.0, importance_stability=1.0, importance_consistency=1.0\n",
      "AUC_acc_loss=0.06448889597570064, stability=0.7067812153419838, consistency=0.7580554581810091, joint_metric=0.12036465199563366\n"
     ]
    },
    {
     "name": "stderr",
     "output_type": "stream",
     "text": [
      "INFO:smac.intensification.intensification.Intensifier:Wallclock time limit for intensification reached (used: 0.036666 sec, available: 0.000010 sec)\n"
     ]
    },
    {
     "name": "stdout",
     "output_type": "stream",
     "text": [
      "naive\n",
      "w_svc_lin=0.38247838027308717, w_svc_radial=0.05743724460351199, w_xgbc=0.0004733540872334574, w_rfc=0.5095201419520571, w_ctbc=0.05009087908411029, w_=1.0\n",
      "importance_auc_acc_loss=1.0, importance_stability=1.0, importance_consistency=1.0\n",
      "AUC_acc_loss=0.06393615320960082, stability=0.7067812153419839, consistency=0.7721662956951925, joint_metric=0.11715225791546144\n"
     ]
    },
    {
     "name": "stderr",
     "output_type": "stream",
     "text": [
      "INFO:smac.intensification.intensification.Intensifier:Wallclock time limit for intensification reached (used: 0.036164 sec, available: 0.000010 sec)\n"
     ]
    },
    {
     "name": "stdout",
     "output_type": "stream",
     "text": [
      "naive\n",
      "w_svc_lin=0.47276637810018485, w_svc_radial=0.05861351319986052, w_xgbc=0.005006799343976245, w_rfc=0.41653461610761117, w_ctbc=0.04707869324836715, w_=1.0\n",
      "importance_auc_acc_loss=1.0, importance_stability=1.0, importance_consistency=1.0\n",
      "AUC_acc_loss=0.06527648591627991, stability=0.7067812153419839, consistency=0.7847571956260513, joint_metric=0.1176891596135233\n"
     ]
    },
    {
     "name": "stderr",
     "output_type": "stream",
     "text": [
      "INFO:smac.intensification.intensification.Intensifier:Wallclock time limit for intensification reached (used: 0.036314 sec, available: 0.000010 sec)\n"
     ]
    },
    {
     "name": "stdout",
     "output_type": "stream",
     "text": [
      "naive\n",
      "w_svc_lin=0.407495810407324, w_svc_radial=0.07382067774533116, w_xgbc=0.03847768178311797, w_rfc=0.433619551511747, w_ctbc=0.04658627855247977, w_=0.9999999999999999\n",
      "importance_auc_acc_loss=1.0, importance_stability=1.0, importance_consistency=1.0\n",
      "AUC_acc_loss=0.06437915754710154, stability=0.7067812153419838, consistency=0.7881184698239477, joint_metric=0.11557629955883976\n"
     ]
    },
    {
     "name": "stderr",
     "output_type": "stream",
     "text": [
      "INFO:smac.intensification.intensification.Intensifier:Challenger (0.1156) is better than incumbent (0.1165) on 1 runs.\n",
      "INFO:smac.intensification.intensification.Intensifier:Changes in incumbent:\n",
      "INFO:smac.intensification.intensification.Intensifier:  w0 : 0.07343981965802733 -> 0.07780399839122923\n",
      "INFO:smac.intensification.intensification.Intensifier:  w1 : 0.7505295840949856 -> 0.876802689891461\n",
      "INFO:smac.intensification.intensification.Intensifier:  w2 : 0.09533719516845941 -> 0.09420002904490937\n",
      "INFO:smac.intensification.intensification.Intensifier:  w3 : 0.7503076319073564 -> 0.8239790420865356\n",
      "INFO:smac.intensification.intensification.Intensifier:  w4 : 0.20423761946034083 -> 0.14926948886658678\n",
      "INFO:smac.intensification.intensification.Intensifier:Wallclock time limit for intensification reached (used: 0.037634 sec, available: 0.000010 sec)\n"
     ]
    },
    {
     "name": "stdout",
     "output_type": "stream",
     "text": [
      "naive\n",
      "w_svc_lin=0.3280002910192509, w_svc_radial=0.31812784759114715, w_xgbc=1.042447912532519e-05, w_rfc=0.3297669764693602, w_ctbc=0.024094460441116534, w_=1.0000000000000002\n",
      "importance_auc_acc_loss=1.0, importance_stability=1.0, importance_consistency=1.0\n",
      "AUC_acc_loss=0.06536410201370757, stability=0.7067812153419838, consistency=0.8575589122694438, joint_metric=0.1078425965608746\n"
     ]
    },
    {
     "name": "stderr",
     "output_type": "stream",
     "text": [
      "INFO:smac.intensification.intensification.Intensifier:Challenger (0.1078) is better than incumbent (0.1156) on 1 runs.\n",
      "INFO:smac.intensification.intensification.Intensifier:Changes in incumbent:\n",
      "INFO:smac.intensification.intensification.Intensifier:  w0 : 0.07780399839122923 -> 3.1610340870918464e-05\n",
      "INFO:smac.intensification.intensification.Intensifier:  w1 : 0.876802689891461 -> 0.999958502372026\n",
      "INFO:smac.intensification.intensification.Intensifier:  w2 : 0.09420002904490937 -> 0.07306207806529567\n",
      "INFO:smac.intensification.intensification.Intensifier:  w3 : 0.8239790420865356 -> 0.9946013494036847\n",
      "INFO:smac.intensification.intensification.Intensifier:  w4 : 0.14926948886658678 -> 0.9646649565883283\n",
      "INFO:smac.intensification.intensification.Intensifier:Wallclock time limit for intensification reached (used: 0.036361 sec, available: 0.000010 sec)\n"
     ]
    },
    {
     "name": "stdout",
     "output_type": "stream",
     "text": [
      "naive\n",
      "w_svc_lin=0.30456369439087194, w_svc_radial=0.3476591860325941, w_xgbc=0.0001539498940302546, w_rfc=0.34761350487937825, w_ctbc=9.664803125258666e-06, w_=0.9999999999999998\n",
      "importance_auc_acc_loss=1.0, importance_stability=1.0, importance_consistency=1.0\n",
      "AUC_acc_loss=0.06595553881985804, stability=0.706781215341984, consistency=0.89899809829909, joint_metric=0.10380242540312\n"
     ]
    },
    {
     "name": "stderr",
     "output_type": "stream",
     "text": [
      "INFO:smac.intensification.intensification.Intensifier:Challenger (0.1038) is better than incumbent (0.1078) on 1 runs.\n",
      "INFO:smac.intensification.intensification.Intensifier:Changes in incumbent:\n",
      "INFO:smac.intensification.intensification.Intensifier:  w0 : 3.1610340870918464e-05 -> 0.00044276930255096863\n",
      "INFO:smac.intensification.intensification.Intensifier:  w1 : 0.999958502372026 -> 0.9997576814342775\n",
      "INFO:smac.intensification.intensification.Intensifier:  w2 : 0.07306207806529567 -> 2.7796564369328034e-05\n",
      "INFO:smac.intensification.intensification.Intensifier:  w3 : 0.9946013494036847 -> 0.8759437958514698\n",
      "INFO:smac.intensification.intensification.Intensifier:  w4 : 0.9646649565883283 -> 0.999889063222336\n",
      "INFO:smac.intensification.intensification.Intensifier:Wallclock time limit for intensification reached (used: 0.042615 sec, available: 0.000010 sec)\n"
     ]
    },
    {
     "name": "stdout",
     "output_type": "stream",
     "text": [
      "naive\n",
      "w_svc_lin=0.2179608844044409, w_svc_radial=0.3882350628437836, w_xgbc=0.00019788538129375104, w_rfc=0.3882482484634517, w_ctbc=0.00535791890703005, w_=1.0\n",
      "importance_auc_acc_loss=1.0, importance_stability=1.0, importance_consistency=1.0\n",
      "AUC_acc_loss=0.06479779700322069, stability=0.7067812153419838, consistency=0.8809988178692213, joint_metric=0.10406385662302224\n"
     ]
    },
    {
     "name": "stderr",
     "output_type": "stream",
     "text": [
      "INFO:smac.intensification.intensification.Intensifier:Wallclock time limit for intensification reached (used: 0.036060 sec, available: 0.000010 sec)\n"
     ]
    },
    {
     "name": "stdout",
     "output_type": "stream",
     "text": [
      "naive\n",
      "w_svc_lin=0.29481212251603156, w_svc_radial=0.4076127942036074, w_xgbc=1.8002084897626057e-05, w_rfc=0.29725978792454133, w_ctbc=0.0002972932709221337, w_=1.0000000000000002\n",
      "importance_auc_acc_loss=1.0, importance_stability=1.0, importance_consistency=1.0\n",
      "AUC_acc_loss=0.06612407632108375, stability=0.7067812153419838, consistency=0.8937928072657731, joint_metric=0.10467374551054996\n"
     ]
    },
    {
     "name": "stderr",
     "output_type": "stream",
     "text": [
      "INFO:smac.intensification.intensification.Intensifier:Wallclock time limit for intensification reached (used: 0.036675 sec, available: 0.000010 sec)\n"
     ]
    },
    {
     "name": "stdout",
     "output_type": "stream",
     "text": [
      "naive\n",
      "w_svc_lin=0.27100335846188656, w_svc_radial=0.37666798415955893, w_xgbc=6.52758698575655e-05, w_rfc=0.3522295881706409, w_ctbc=3.379333805598647e-05, w_=1.0\n",
      "importance_auc_acc_loss=1.0, importance_stability=1.0, importance_consistency=1.0\n",
      "AUC_acc_loss=0.06564124635419613, stability=0.7067812153419839, consistency=0.8953103774479636, joint_metric=0.10373330184491783\n"
     ]
    },
    {
     "name": "stderr",
     "output_type": "stream",
     "text": [
      "INFO:smac.intensification.intensification.Intensifier:Challenger (0.1037) is better than incumbent (0.1038) on 1 runs.\n",
      "INFO:smac.intensification.intensification.Intensifier:Changes in incumbent:\n",
      "INFO:smac.intensification.intensification.Intensifier:  w0 : 0.00044276930255096863 -> 0.00017329255052479125\n",
      "INFO:smac.intensification.intensification.Intensifier:  w1 : 0.9997576814342775 -> 0.9350892425880524\n",
      "INFO:smac.intensification.intensification.Intensifier:  w2 : 2.7796564369328034e-05 -> 8.971360711464588e-05\n",
      "INFO:smac.intensification.intensification.Intensifier:  w3 : 0.8759437958514698 -> 0.7194521235966583\n",
      "INFO:smac.intensification.intensification.Intensifier:  w4 : 0.999889063222336 -> 0.9999676115917188\n",
      "INFO:smac.intensification.intensification.Intensifier:Wallclock time limit for intensification reached (used: 0.037393 sec, available: 0.000010 sec)\n"
     ]
    },
    {
     "name": "stdout",
     "output_type": "stream",
     "text": [
      "naive\n",
      "w_svc_lin=0.0007651669489467358, w_svc_radial=0.5523907798470936, w_xgbc=2.4396156982516123e-05, w_rfc=0.44675449420300856, w_ctbc=6.516284396875073e-05, w_=1.0\n",
      "importance_auc_acc_loss=1.0, importance_stability=1.0, importance_consistency=1.0\n",
      "AUC_acc_loss=0.06281236366022866, stability=0.7067812153419837, consistency=0.8601286975028154, joint_metric=0.10332292689559479\n"
     ]
    },
    {
     "name": "stderr",
     "output_type": "stream",
     "text": [
      "INFO:smac.intensification.intensification.Intensifier:Challenger (0.1033) is better than incumbent (0.1037) on 1 runs.\n",
      "INFO:smac.intensification.intensification.Intensifier:Changes in incumbent:\n",
      "INFO:smac.intensification.intensification.Intensifier:  w0 : 0.00017329255052479125 -> 4.4162394773005615e-05\n",
      "INFO:smac.intensification.intensification.Intensifier:  w1 : 0.9350892425880524 -> 0.8087236179758697\n",
      "INFO:smac.intensification.intensification.Intensifier:  w2 : 8.971360711464588e-05 -> 0.00011795903928401999\n",
      "INFO:smac.intensification.intensification.Intensifier:  w3 : 0.7194521235966583 -> 0.0013851199961887133\n",
      "INFO:smac.intensification.intensification.Intensifier:  w4 : 0.9999676115917188 -> 0.9999484634427774\n",
      "INFO:smac.intensification.intensification.Intensifier:Wallclock time limit for intensification reached (used: 0.037062 sec, available: 0.000010 sec)\n"
     ]
    },
    {
     "name": "stdout",
     "output_type": "stream",
     "text": [
      "naive\n",
      "w_svc_lin=0.04128860485820724, w_svc_radial=0.47932332483143286, w_xgbc=2.1169156880580273e-05, w_rfc=0.47934372808611675, w_ctbc=2.317306736264506e-05, w_=1.0\n",
      "importance_auc_acc_loss=1.0, importance_stability=1.0, importance_consistency=1.0\n",
      "AUC_acc_loss=0.06299436445922257, stability=0.7067812153419837, consistency=0.867083508762639, joint_metric=0.10279116162577212\n"
     ]
    },
    {
     "name": "stderr",
     "output_type": "stream",
     "text": [
      "INFO:smac.intensification.intensification.Intensifier:Challenger (0.1028) is better than incumbent (0.1033) on 1 runs.\n",
      "INFO:smac.intensification.intensification.Intensifier:Changes in incumbent:\n",
      "INFO:smac.intensification.intensification.Intensifier:  w1 : 0.8087236179758697 -> 0.999991028037725\n",
      "INFO:smac.intensification.intensification.Intensifier:  w2 : 0.00011795903928401999 -> 4.834288652796507e-05\n",
      "INFO:smac.intensification.intensification.Intensifier:  w3 : 0.0013851199961887133 -> 0.08613492155880342\n",
      "INFO:smac.intensification.intensification.Intensifier:Wallclock time limit for intensification reached (used: 0.034681 sec, available: 0.000010 sec)\n"
     ]
    },
    {
     "name": "stdout",
     "output_type": "stream",
     "text": [
      "naive\n",
      "w_svc_lin=0.06545843764358755, w_svc_radial=0.15684873678705408, w_xgbc=0.4263686536878561, w_rfc=0.11162000294714473, w_ctbc=0.23970416893435756, w_=0.9999999999999999\n",
      "importance_auc_acc_loss=1.0, importance_stability=1.0, importance_consistency=1.0\n",
      "AUC_acc_loss=0.05293926987200665, stability=0.7067812153419838, consistency=0.4655065850920667, joint_metric=0.160904103504135\n"
     ]
    },
    {
     "name": "stderr",
     "output_type": "stream",
     "text": [
      "INFO:smac.intensification.intensification.Intensifier:Wallclock time limit for intensification reached (used: 0.035298 sec, available: 0.000010 sec)\n"
     ]
    },
    {
     "name": "stdout",
     "output_type": "stream",
     "text": [
      "naive\n",
      "w_svc_lin=0.00010284844590650511, w_svc_radial=0.4752675323841343, w_xgbc=8.23629904746332e-05, w_rfc=0.47520013560219587, w_ctbc=0.04934712057728859, w_=1.0\n",
      "importance_auc_acc_loss=1.0, importance_stability=1.0, importance_consistency=1.0\n",
      "AUC_acc_loss=0.06084076076020897, stability=0.706781215341984, consistency=0.7702493232593012, joint_metric=0.11175792046572483\n"
     ]
    },
    {
     "name": "stderr",
     "output_type": "stream",
     "text": [
      "INFO:smac.intensification.intensification.Intensifier:Wallclock time limit for intensification reached (used: 0.038039 sec, available: 0.000010 sec)\n"
     ]
    },
    {
     "name": "stdout",
     "output_type": "stream",
     "text": [
      "naive\n",
      "w_svc_lin=0.12297429037082919, w_svc_radial=0.4761787005413071, w_xgbc=0.0007009717853065851, w_rfc=0.40009749198412486, w_ctbc=4.8545318432277966e-05, w_=1.0\n",
      "importance_auc_acc_loss=1.0, importance_stability=1.0, importance_consistency=1.0\n",
      "AUC_acc_loss=0.06410696660851933, stability=0.7067812153419838, consistency=0.8752987187987172, joint_metric=0.10362485512377692\n"
     ]
    },
    {
     "name": "stderr",
     "output_type": "stream",
     "text": [
      "INFO:smac.intensification.intensification.Intensifier:Wallclock time limit for intensification reached (used: 0.035037 sec, available: 0.000010 sec)\n"
     ]
    },
    {
     "name": "stdout",
     "output_type": "stream",
     "text": [
      "naive\n",
      "w_svc_lin=0.000859726338273859, w_svc_radial=0.4192310329058745, w_xgbc=0.0004942830220436002, w_rfc=0.5793869419686263, w_ctbc=2.8015765181838466e-05, w_=1.0\n",
      "importance_auc_acc_loss=1.0, importance_stability=1.0, importance_consistency=1.0\n",
      "AUC_acc_loss=0.062119817076183234, stability=0.7067812153419838, consistency=0.8539883148185539, joint_metric=0.10291845109506519\n"
     ]
    },
    {
     "name": "stderr",
     "output_type": "stream",
     "text": [
      "INFO:smac.intensification.intensification.Intensifier:Wallclock time limit for intensification reached (used: 0.036100 sec, available: 0.000010 sec)\n"
     ]
    },
    {
     "name": "stdout",
     "output_type": "stream",
     "text": [
      "naive\n",
      "w_svc_lin=0.1956837712563662, w_svc_radial=0.0018953580548859658, w_xgbc=0.5135530913504759, w_rfc=0.10547321262706483, w_ctbc=0.18339456671120702, w_=0.9999999999999999\n",
      "importance_auc_acc_loss=1.0, importance_stability=1.0, importance_consistency=1.0\n",
      "AUC_acc_loss=0.0554897231996918, stability=0.7067812153419838, consistency=0.44991864709621304, joint_metric=0.174499250894304\n"
     ]
    },
    {
     "name": "stderr",
     "output_type": "stream",
     "text": [
      "INFO:smac.intensification.intensification.Intensifier:Wallclock time limit for intensification reached (used: 0.034866 sec, available: 0.000010 sec)\n"
     ]
    },
    {
     "name": "stdout",
     "output_type": "stream",
     "text": [
      "naive\n",
      "w_svc_lin=8.168863112764127e-05, w_svc_radial=0.43917211321169886, w_xgbc=0.07106032368648602, w_rfc=0.48967509995274494, w_ctbc=1.0774517942479642e-05, w_=0.9999999999999999\n",
      "importance_auc_acc_loss=1.0, importance_stability=1.0, importance_consistency=1.0\n",
      "AUC_acc_loss=0.062028012893110426, stability=0.7067812153419838, consistency=0.79416755036125, joint_metric=0.11050724000188344\n"
     ]
    },
    {
     "name": "stderr",
     "output_type": "stream",
     "text": [
      "INFO:smac.intensification.intensification.Intensifier:Wallclock time limit for intensification reached (used: 0.036491 sec, available: 0.000010 sec)\n",
      "INFO:smac.stats.stats.Stats:##########################################################\n",
      "INFO:smac.stats.stats.Stats:Statistics:\n",
      "INFO:smac.stats.stats.Stats:#Incumbent changed: 11\n",
      "INFO:smac.stats.stats.Stats:#Submitted target algorithm runs: 30 / 30.0\n",
      "INFO:smac.stats.stats.Stats:#Finished target algorithm runs: 30 / 30.0\n",
      "INFO:smac.stats.stats.Stats:#Configurations: 30\n",
      "INFO:smac.stats.stats.Stats:Used wallclock time: 113.35 / inf sec \n",
      "INFO:smac.stats.stats.Stats:Used target algorithm runtime: 0.70 / inf sec\n",
      "INFO:smac.stats.stats.Stats:##########################################################\n",
      "INFO:smac.facade.smac_bo_facade.SMAC4BO:Final Incumbent: Configuration:\n",
      "  importance_auc_acc_loss, Constant: 1.0\n",
      "  importance_consistency, Constant: 1.0\n",
      "  importance_stability, Constant: 1.0\n",
      "  w0, Value: 4.4162394773005615e-05\n",
      "  w1, Value: 0.999991028037725\n",
      "  w2, Value: 4.834288652796507e-05\n",
      "  w3, Value: 0.08613492155880342\n",
      "  w4, Value: 0.9999484634427774\n",
      "\n",
      "INFO:smac.facade.smac_bo_facade.SMAC4BO:Estimated cost of incumbent: 0.102791\n"
     ]
    },
    {
     "name": "stdout",
     "output_type": "stream",
     "text": [
      "AUC_acc_loss=0.06299436445922259, stability=0.3387941823518861, consistency=0.867083508763887, joint_metric=0.21443952087912377\n",
      "{'auc_acc_loss': 0.06299436445922259, 'stability': 0.3387941823518861, 'consistency': 0.867083508763887, 'joint_metric': 0.21443952087912377, 'w_svc_lin': 0.08613492155880342, 'w_svc_radial': 0.9999484634427774, 'w_xgbc': 4.4162394773005615e-05, 'w_rfc': 0.999991028037725, 'w_ctbc': 4.834288652796507e-05, 'w_': 2.0861669183206066}\n"
     ]
    },
    {
     "data": {
      "application/vnd.jupyter.widget-view+json": {
       "model_id": "f6a9eef0f1c6422d90ad7e308dfed07a",
       "version_major": 2,
       "version_minor": 0
      },
      "text/plain": [
       "  0%|          | 0/66 [00:00<?, ?it/s]"
      ]
     },
     "metadata": {},
     "output_type": "display_data"
    },
    {
     "name": "stderr",
     "output_type": "stream",
     "text": [
      "INFO:shap:num_full_subsets = 1\n",
      "INFO:shap:phi = [-0.0332613  -0.44654182]\n",
      "INFO:shap:phi = [0.0332613  0.44654182]\n",
      "INFO:shap:num_full_subsets = 1\n",
      "INFO:shap:phi = [0.05256283 0.08365554]\n",
      "INFO:shap:phi = [-0.05256283 -0.08365554]\n",
      "INFO:shap:num_full_subsets = 1\n",
      "INFO:shap:phi = [ 0.08779345 -0.07911768]\n",
      "INFO:shap:phi = [-0.08779345  0.07911768]\n",
      "INFO:shap:num_full_subsets = 1\n",
      "INFO:shap:phi = [-0.24041384 -0.1811726 ]\n",
      "INFO:shap:phi = [0.24041384 0.1811726 ]\n",
      "INFO:shap:num_full_subsets = 1\n",
      "INFO:shap:phi = [0.06125807 0.08816744]\n",
      "INFO:shap:phi = [-0.06125807 -0.08816744]\n",
      "INFO:shap:num_full_subsets = 1\n",
      "INFO:shap:phi = [-0.02771281  0.14244534]\n",
      "INFO:shap:phi = [ 0.02771281 -0.14244534]\n",
      "INFO:shap:num_full_subsets = 1\n",
      "INFO:shap:phi = [0.02262374 0.17998913]\n",
      "INFO:shap:phi = [-0.02262374 -0.17998913]\n",
      "INFO:shap:num_full_subsets = 1\n",
      "INFO:shap:phi = [-0.0165452  -0.43497942]\n",
      "INFO:shap:phi = [0.0165452  0.43497942]\n",
      "INFO:shap:num_full_subsets = 1\n",
      "INFO:shap:phi = [-0.00597988 -0.43451191]\n",
      "INFO:shap:phi = [0.00597988 0.43451191]\n",
      "INFO:shap:num_full_subsets = 1\n",
      "INFO:shap:phi = [-0.19679623 -0.29035179]\n",
      "INFO:shap:phi = [0.19679623 0.29035179]\n",
      "INFO:shap:num_full_subsets = 1\n",
      "INFO:shap:phi = [0.07416738 0.17692112]\n",
      "INFO:shap:phi = [-0.07416738 -0.17692112]\n",
      "INFO:shap:num_full_subsets = 1\n",
      "INFO:shap:phi = [ 0.03813949 -0.21151957]\n",
      "INFO:shap:phi = [-0.03813949  0.21151957]\n",
      "INFO:shap:num_full_subsets = 1\n",
      "INFO:shap:phi = [0.06785394 0.1607652 ]\n",
      "INFO:shap:phi = [-0.06785394 -0.1607652 ]\n",
      "INFO:shap:num_full_subsets = 1\n",
      "INFO:shap:phi = [0.05227763 0.20327874]\n",
      "INFO:shap:phi = [-0.05227763 -0.20327874]\n",
      "INFO:shap:num_full_subsets = 1\n",
      "INFO:shap:phi = [0.04378767 0.35474269]\n",
      "INFO:shap:phi = [-0.04378767 -0.35474269]\n",
      "INFO:shap:num_full_subsets = 1\n",
      "INFO:shap:phi = [-0.43967998 -0.04858138]\n",
      "INFO:shap:phi = [0.43967998 0.04858138]\n",
      "INFO:shap:num_full_subsets = 1\n",
      "INFO:shap:phi = [0.0374706  0.33830724]\n",
      "INFO:shap:phi = [-0.0374706  -0.33830724]\n",
      "INFO:shap:num_full_subsets = 1\n",
      "INFO:shap:phi = [0.08801546 0.31014847]\n",
      "INFO:shap:phi = [-0.08801546 -0.31014847]\n",
      "INFO:shap:num_full_subsets = 1\n",
      "INFO:shap:phi = [0.26707773 0.15871267]\n",
      "INFO:shap:phi = [-0.26707773 -0.15871267]\n",
      "INFO:shap:num_full_subsets = 1\n",
      "INFO:shap:phi = [0.21373007 0.15559099]\n",
      "INFO:shap:phi = [-0.21373007 -0.15559099]\n",
      "INFO:shap:num_full_subsets = 1\n",
      "INFO:shap:phi = [0.0694313  0.15973408]\n",
      "INFO:shap:phi = [-0.0694313  -0.15973408]\n",
      "INFO:shap:num_full_subsets = 1\n",
      "INFO:shap:phi = [0.1697378  0.16385996]\n",
      "INFO:shap:phi = [-0.1697378  -0.16385996]\n",
      "INFO:shap:num_full_subsets = 1\n",
      "INFO:shap:phi = [0.03875079 0.18330335]\n",
      "INFO:shap:phi = [-0.03875079 -0.18330335]\n",
      "INFO:shap:num_full_subsets = 1\n",
      "INFO:shap:phi = [0.08815405 0.09962389]\n",
      "INFO:shap:phi = [-0.08815405 -0.09962389]\n",
      "INFO:shap:num_full_subsets = 1\n",
      "INFO:shap:phi = [0.22015884 0.16509722]\n",
      "INFO:shap:phi = [-0.22015884 -0.16509722]\n",
      "INFO:shap:num_full_subsets = 1\n",
      "INFO:shap:phi = [ 0.49556112 -0.30358559]\n",
      "INFO:shap:phi = [-0.49556112  0.30358559]\n",
      "INFO:shap:num_full_subsets = 1\n",
      "INFO:shap:phi = [0.03186808 0.06369449]\n",
      "INFO:shap:phi = [-0.03186808 -0.06369449]\n",
      "INFO:shap:num_full_subsets = 1\n",
      "INFO:shap:phi = [0.05618805 0.06270755]\n",
      "INFO:shap:phi = [-0.05618805 -0.06270755]\n",
      "INFO:shap:num_full_subsets = 1\n",
      "INFO:shap:phi = [0.05492203 0.29283557]\n",
      "INFO:shap:phi = [-0.05492203 -0.29283557]\n",
      "INFO:shap:num_full_subsets = 1\n",
      "INFO:shap:phi = [0.08914453 0.0615849 ]\n",
      "INFO:shap:phi = [-0.08914453 -0.0615849 ]\n",
      "INFO:shap:num_full_subsets = 1\n",
      "INFO:shap:phi = [ 0.06304662 -0.04322997]\n",
      "INFO:shap:phi = [-0.06304662  0.04322997]\n",
      "INFO:shap:num_full_subsets = 1\n",
      "INFO:shap:phi = [-0.00113745  0.23157396]\n",
      "INFO:shap:phi = [ 0.00113745 -0.23157396]\n",
      "INFO:shap:num_full_subsets = 1\n",
      "INFO:shap:phi = [0.04437501 0.17417884]\n",
      "INFO:shap:phi = [-0.04437501 -0.17417884]\n",
      "INFO:shap:num_full_subsets = 1\n",
      "INFO:shap:phi = [ 0.07286503 -0.19215823]\n",
      "INFO:shap:phi = [-0.07286503  0.19215823]\n",
      "INFO:shap:num_full_subsets = 1\n",
      "INFO:shap:phi = [ 0.04620384 -0.202023  ]\n",
      "INFO:shap:phi = [-0.04620384  0.202023  ]\n",
      "INFO:shap:num_full_subsets = 1\n",
      "INFO:shap:phi = [-0.03320306 -0.34888945]\n",
      "INFO:shap:phi = [0.03320306 0.34888945]\n",
      "INFO:shap:num_full_subsets = 1\n",
      "INFO:shap:phi = [-0.05932584 -0.4016798 ]\n",
      "INFO:shap:phi = [0.05932584 0.4016798 ]\n",
      "INFO:shap:num_full_subsets = 1\n",
      "INFO:shap:phi = [0.03572399 0.22767708]\n",
      "INFO:shap:phi = [-0.03572399 -0.22767708]\n",
      "INFO:shap:num_full_subsets = 1\n",
      "INFO:shap:phi = [-0.2002948  -0.28751013]\n",
      "INFO:shap:phi = [0.2002948  0.28751013]\n",
      "INFO:shap:num_full_subsets = 1\n",
      "INFO:shap:phi = [-0.1779334  -0.10725748]\n",
      "INFO:shap:phi = [0.1779334  0.10725748]\n",
      "INFO:shap:num_full_subsets = 1\n",
      "INFO:shap:phi = [ 0.00342363 -0.3685446 ]\n",
      "INFO:shap:phi = [-0.00342363  0.3685446 ]\n",
      "INFO:shap:num_full_subsets = 1\n",
      "INFO:shap:phi = [0.14105113 0.26767575]\n",
      "INFO:shap:phi = [-0.14105113 -0.26767575]\n",
      "INFO:shap:num_full_subsets = 1\n",
      "INFO:shap:phi = [ 0.11370159 -0.17998964]\n",
      "INFO:shap:phi = [-0.11370159  0.17998964]\n",
      "INFO:shap:num_full_subsets = 1\n",
      "INFO:shap:phi = [-0.24709205 -0.23399548]\n",
      "INFO:shap:phi = [0.24709205 0.23399548]\n",
      "INFO:shap:num_full_subsets = 1\n",
      "INFO:shap:phi = [-0.06094912 -0.10096947]\n",
      "INFO:shap:phi = [0.06094912 0.10096947]\n",
      "INFO:shap:num_full_subsets = 1\n",
      "INFO:shap:phi = [0.06819913 0.190925  ]\n",
      "INFO:shap:phi = [-0.06819913 -0.190925  ]\n",
      "INFO:shap:num_full_subsets = 1\n",
      "INFO:shap:phi = [0.00020992 0.18733431]\n",
      "INFO:shap:phi = [-0.00020992 -0.18733431]\n",
      "INFO:shap:num_full_subsets = 1\n",
      "INFO:shap:phi = [0.01495565 0.22996807]\n",
      "INFO:shap:phi = [-0.01495565 -0.22996807]\n",
      "INFO:shap:num_full_subsets = 1\n",
      "INFO:shap:phi = [-0.03205029 -0.46182618]\n",
      "INFO:shap:phi = [0.03205029 0.46182618]\n",
      "INFO:shap:num_full_subsets = 1\n",
      "INFO:shap:phi = [-0.5429621   0.10346808]\n",
      "INFO:shap:phi = [ 0.5429621  -0.10346808]\n",
      "INFO:shap:num_full_subsets = 1\n",
      "INFO:shap:phi = [0.03724363 0.19095907]\n",
      "INFO:shap:phi = [-0.03724363 -0.19095907]\n",
      "INFO:shap:num_full_subsets = 1\n",
      "INFO:shap:phi = [0.00075018 0.2841988 ]\n",
      "INFO:shap:phi = [-0.00075018 -0.2841988 ]\n",
      "INFO:shap:num_full_subsets = 1\n",
      "INFO:shap:phi = [0.11173797 0.26862138]\n",
      "INFO:shap:phi = [-0.11173797 -0.26862138]\n",
      "INFO:shap:num_full_subsets = 1\n",
      "INFO:shap:phi = [-0.45897622 -0.01790862]\n",
      "INFO:shap:phi = [0.45897622 0.01790862]\n",
      "INFO:shap:num_full_subsets = 1\n",
      "INFO:shap:phi = [0.07330863 0.34087811]\n",
      "INFO:shap:phi = [-0.07330863 -0.34087811]\n",
      "INFO:shap:num_full_subsets = 1\n",
      "INFO:shap:phi = [ 0.38875745 -0.07342831]\n",
      "INFO:shap:phi = [-0.38875745  0.07342831]\n",
      "INFO:shap:num_full_subsets = 1\n",
      "INFO:shap:phi = [-0.37414106 -0.08320291]\n",
      "INFO:shap:phi = [0.37414106 0.08320291]\n",
      "INFO:shap:num_full_subsets = 1\n",
      "INFO:shap:phi = [-0.0122761 -0.3665427]\n",
      "INFO:shap:phi = [0.0122761 0.3665427]\n",
      "INFO:shap:num_full_subsets = 1\n",
      "INFO:shap:phi = [ 0.04243927 -0.08299233]\n",
      "INFO:shap:phi = [-0.04243927  0.08299233]\n",
      "INFO:shap:num_full_subsets = 1\n",
      "INFO:shap:phi = [0.05620057 0.25877456]\n",
      "INFO:shap:phi = [-0.05620057 -0.25877456]\n",
      "INFO:shap:num_full_subsets = 1\n",
      "INFO:shap:phi = [0.01203502 0.14306069]\n",
      "INFO:shap:phi = [-0.01203502 -0.14306069]\n",
      "INFO:shap:num_full_subsets = 1\n",
      "INFO:shap:phi = [-0.37608562 -0.09177681]\n",
      "INFO:shap:phi = [0.37608562 0.09177681]\n",
      "INFO:shap:num_full_subsets = 1\n",
      "INFO:shap:phi = [-0.07451282 -0.14641842]\n",
      "INFO:shap:phi = [0.07451282 0.14641842]\n",
      "INFO:shap:num_full_subsets = 1\n",
      "INFO:shap:phi = [0.13856082 0.17503849]\n",
      "INFO:shap:phi = [-0.13856082 -0.17503849]\n",
      "INFO:shap:num_full_subsets = 1\n",
      "INFO:shap:phi = [-0.00571405 -0.46341752]\n",
      "INFO:shap:phi = [0.00571405 0.46341752]\n",
      "INFO:shap:num_full_subsets = 1\n",
      "INFO:shap:phi = [-0.26842055 -0.19537497]\n",
      "INFO:shap:phi = [0.26842055 0.19537497]\n"
     ]
    },
    {
     "name": "stdout",
     "output_type": "stream",
     "text": [
      "debug-2\n",
      "debug-3\n",
      "AUC_acc_loss=0.04879406307977734, stability=0.8602265736363256, consistency=0.867083508763887, joint_metric=0.06541738845192241\n"
     ]
    },
    {
     "data": {
      "text/plain": [
       "{'auc_acc_loss': 0.04879406307977734,\n",
       " 'stability': 0.8602265736363256,\n",
       " 'consistency': 0.867083508763887,\n",
       " 'joint_metric': 0.06541738845192241,\n",
       " 'w_svc_lin': 0.08613492155880342,\n",
       " 'w_svc_radial': 0.9999484634427774,\n",
       " 'w_xgbc': 4.4162394773005615e-05,\n",
       " 'w_rfc': 0.999991028037725,\n",
       " 'w_ctbc': 4.834288652796507e-05,\n",
       " 'w_': 2.0861669183206066}"
      ]
     },
     "execution_count": 355,
     "metadata": {},
     "output_type": "execute_result"
    }
   ],
   "source": [
    "# importance_auc_acc_loss = importance_stability = importance_consistency = 1.0\n",
    "e1 = run_experiment()\n",
    "to_pickle(e1, 'e1')\n",
    "print(naive_joint_metrics(e1['w0'], e1['w1'], e1['w2'], e1['w3'], e1['w4'], e1['importance_auc_acc_loss'], e1['importance_consistency'], e1['importance_stability']))\n",
    "r1 = exact_joint_metrics(e1['w0'], e1['w1'], e1['w2'], e1['w3'], e1['w4'], e1['importance_auc_acc_loss'], e1['importance_consistency'], e1['importance_stability'])\n",
    "to_pickle(r1, 'r1')\n",
    "r1"
   ]
  },
  {
   "cell_type": "code",
   "execution_count": 335,
   "id": "controlling-cosmetic",
   "metadata": {
    "collapsed": true,
    "jupyter": {
     "outputs_hidden": true
    }
   },
   "outputs": [
    {
     "name": "stderr",
     "output_type": "stream",
     "text": [
      "`np.float` is a deprecated alias for the builtin `float`. To silence this warning, use `float` by itself. Doing this will not modify any behavior and is safe. If you specifically wanted the numpy scalar type, use `np.float64` here.\n",
      "Deprecated in NumPy 1.20; for more details and guidance: https://numpy.org/devdocs/release/1.20.0-notes.html#deprecations\n",
      "INFO:smac.utils.io.cmd_reader.CMDReader:Output to smac3-output_2021-02-09_14:07:45_299682\n",
      "`np.float` is a deprecated alias for the builtin `float`. To silence this warning, use `float` by itself. Doing this will not modify any behavior and is safe. If you specifically wanted the numpy scalar type, use `np.float64` here.\n",
      "Deprecated in NumPy 1.20; for more details and guidance: https://numpy.org/devdocs/release/1.20.0-notes.html#deprecations\n",
      "INFO:smac.facade.smac_bo_facade.SMAC4BO:Optimizing a deterministic scenario for quality without a tuner timeout - will make SMAC deterministic and only evaluate one configuration per iteration!\n",
      "INFO:smac.initial_design.sobol_design.SobolDesign:Running initial design for 7 configurations\n",
      "INFO:smac.facade.smac_bo_facade.SMAC4BO:<class 'smac.facade.smac_bo_facade.SMAC4BO'>\n",
      "INFO:smac.optimizer.smbo.SMBO:Running initial design\n",
      "INFO:smac.intensification.intensification.Intensifier:First run, no incumbent provided; challenger is assumed to be the incumbent\n"
     ]
    },
    {
     "name": "stdout",
     "output_type": "stream",
     "text": [
      "naive\n",
      "w_svc_lin=0.1377031947, w_svc_radial=0.1559742808, w_xgbc=0.1773123705, w_rfc=0.1695355122, w_ctbc=0.3594746418, w_=1.0\n",
      "importance_auc_acc_loss=3.0, importance_stability=1.0, importance_consistency=1.0\n",
      "AUC_acc_loss=0.05079774622277981, stability=0.7067812153419838, consistency=0.4096159680933908, joint_metric=0.00045276354889467793\n",
      "Default Value: 0.00\n",
      "Optimizing! Depending on your machine, this might take a few minutes.\n",
      "naive\n",
      "w_svc_lin=0.2, w_svc_radial=0.2, w_xgbc=0.2, w_rfc=0.2, w_ctbc=0.2, w_=1.0\n",
      "importance_auc_acc_loss=3.0, importance_stability=1.0, importance_consistency=1.0\n",
      "AUC_acc_loss=0.056880024737167564, stability=0.7067812153419838, consistency=0.5328851601905255, joint_metric=0.0004886081482821154\n"
     ]
    },
    {
     "name": "stderr",
     "output_type": "stream",
     "text": [
      "INFO:smac.intensification.intensification.Intensifier:First run, no incumbent provided; challenger is assumed to be the incumbent\n",
      "INFO:smac.intensification.intensification.Intensifier:Updated estimated cost of incumbent on 1 runs: 0.0005\n"
     ]
    },
    {
     "name": "stdout",
     "output_type": "stream",
     "text": [
      "naive\n",
      "w_svc_lin=0.09090909090909091, w_svc_radial=0.2727272727272727, w_xgbc=0.2727272727272727, w_rfc=0.09090909090909091, w_ctbc=0.2727272727272727, w_=1.0\n",
      "importance_auc_acc_loss=3.0, importance_stability=1.0, importance_consistency=1.0\n",
      "AUC_acc_loss=0.053253780851183416, stability=0.7067812153419838, consistency=0.46014605337703784, joint_metric=0.00046437693456438314\n"
     ]
    },
    {
     "name": "stderr",
     "output_type": "stream",
     "text": [
      "INFO:smac.intensification.intensification.Intensifier:Challenger (0.0005) is better than incumbent (0.0005) on 1 runs.\n",
      "INFO:smac.intensification.intensification.Intensifier:Changes in incumbent:\n",
      "INFO:smac.intensification.intensification.Intensifier:  w0 : 0.5 -> 0.75\n",
      "INFO:smac.intensification.intensification.Intensifier:  w1 : 0.5 -> 0.25\n",
      "INFO:smac.intensification.intensification.Intensifier:  w2 : 0.5 -> 0.75\n",
      "INFO:smac.intensification.intensification.Intensifier:  w3 : 0.5 -> 0.25\n",
      "INFO:smac.intensification.intensification.Intensifier:  w4 : 0.5 -> 0.75\n",
      "INFO:smac.intensification.intensification.Intensifier:Wallclock time limit for intensification reached (used: 0.069600 sec, available: 0.000010 sec)\n"
     ]
    },
    {
     "name": "stdout",
     "output_type": "stream",
     "text": [
      "naive\n",
      "w_svc_lin=0.3333333333333333, w_svc_radial=0.1111111111111111, w_xgbc=0.1111111111111111, w_rfc=0.3333333333333333, w_ctbc=0.1111111111111111, w_=1.0\n",
      "importance_auc_acc_loss=3.0, importance_stability=1.0, importance_consistency=1.0\n",
      "AUC_acc_loss=0.06131210059781485, stability=0.7067812153419838, consistency=0.6527278808485087, joint_metric=0.0004995988439669279\n"
     ]
    },
    {
     "name": "stderr",
     "output_type": "stream",
     "text": [
      "INFO:smac.intensification.intensification.Intensifier:Wallclock time limit for intensification reached (used: 0.035767 sec, available: 0.000010 sec)\n"
     ]
    },
    {
     "name": "stdout",
     "output_type": "stream",
     "text": [
      "naive\n",
      "w_svc_lin=0.05263157894736842, w_svc_radial=0.3684210526315789, w_xgbc=0.15789473684210525, w_rfc=0.15789473684210525, w_ctbc=0.2631578947368421, w_=1.0\n",
      "importance_auc_acc_loss=3.0, importance_stability=1.0, importance_consistency=1.0\n",
      "AUC_acc_loss=0.05382693747355398, stability=0.7067812153419838, consistency=0.47059273922098976, joint_metric=0.00046888764822300796\n"
     ]
    },
    {
     "name": "stderr",
     "output_type": "stream",
     "text": [
      "INFO:smac.intensification.intensification.Intensifier:Wallclock time limit for intensification reached (used: 0.032923 sec, available: 0.000010 sec)\n"
     ]
    },
    {
     "name": "stdout",
     "output_type": "stream",
     "text": [
      "naive\n",
      "w_svc_lin=0.21739130434782608, w_svc_radial=0.13043478260869565, w_xgbc=0.30434782608695654, w_rfc=0.30434782608695654, w_ctbc=0.043478260869565216, w_=1.0\n",
      "importance_auc_acc_loss=3.0, importance_stability=1.0, importance_consistency=1.0\n",
      "AUC_acc_loss=0.0614402678067274, stability=0.7067812153419838, consistency=0.5733404953649649, joint_metric=0.0005723499963295708\n"
     ]
    },
    {
     "name": "stderr",
     "output_type": "stream",
     "text": [
      "INFO:smac.intensification.intensification.Intensifier:Wallclock time limit for intensification reached (used: 0.033459 sec, available: 0.000010 sec)\n"
     ]
    },
    {
     "name": "stdout",
     "output_type": "stream",
     "text": [
      "naive\n",
      "w_svc_lin=0.23076923076923078, w_svc_radial=0.07692307692307693, w_xgbc=0.38461538461538464, w_rfc=0.07692307692307693, w_ctbc=0.23076923076923078, w_=1.0\n",
      "importance_auc_acc_loss=3.0, importance_stability=1.0, importance_consistency=1.0\n",
      "AUC_acc_loss=0.05520550877693732, stability=0.7067812153419838, consistency=0.47958632129918666, joint_metric=0.0004963585006517565\n"
     ]
    },
    {
     "name": "stderr",
     "output_type": "stream",
     "text": [
      "INFO:smac.intensification.intensification.Intensifier:Wallclock time limit for intensification reached (used: 0.033181 sec, available: 0.000010 sec)\n"
     ]
    },
    {
     "name": "stdout",
     "output_type": "stream",
     "text": [
      "naive\n",
      "w_svc_lin=0.28, w_svc_radial=0.2, w_xgbc=0.04, w_rfc=0.2, w_ctbc=0.28, w_=1.0\n",
      "importance_auc_acc_loss=3.0, importance_stability=1.0, importance_consistency=1.0\n",
      "AUC_acc_loss=0.05587569573283855, stability=0.7067812153419838, consistency=0.46691930109578994, joint_metric=0.0005286180716502245\n"
     ]
    },
    {
     "name": "stderr",
     "output_type": "stream",
     "text": [
      "INFO:smac.intensification.intensification.Intensifier:Wallclock time limit for intensification reached (used: 0.034939 sec, available: 0.000010 sec)\n"
     ]
    },
    {
     "name": "stdout",
     "output_type": "stream",
     "text": [
      "naive\n",
      "w_svc_lin=0.09124259819889165, w_svc_radial=0.2723736942903685, w_xgbc=0.27257467562783655, w_rfc=0.09175493825746564, w_ctbc=0.2720540936254377, w_=1.0\n",
      "importance_auc_acc_loss=3.0, importance_stability=1.0, importance_consistency=1.0\n",
      "AUC_acc_loss=0.05327827495919033, stability=0.7067812153419838, consistency=0.4606759965912469, joint_metric=0.00046448306258826266\n"
     ]
    },
    {
     "name": "stderr",
     "output_type": "stream",
     "text": [
      "INFO:smac.intensification.intensification.Intensifier:Wallclock time limit for intensification reached (used: 0.034552 sec, available: 0.000010 sec)\n"
     ]
    },
    {
     "name": "stdout",
     "output_type": "stream",
     "text": [
      "naive\n",
      "w_svc_lin=0.10401132117303341, w_svc_radial=0.2682376487507462, w_xgbc=0.2681272236826336, w_rfc=0.08997922656193325, w_ctbc=0.2696445798316535, w_=1.0\n",
      "importance_auc_acc_loss=3.0, importance_stability=1.0, importance_consistency=1.0\n",
      "AUC_acc_loss=0.05352159096905943, stability=0.7067812153419839, consistency=0.4630344039271358, joint_metric=0.0004684775511472681\n"
     ]
    },
    {
     "name": "stderr",
     "output_type": "stream",
     "text": [
      "INFO:smac.intensification.intensification.Intensifier:Wallclock time limit for intensification reached (used: 0.037674 sec, available: 0.000010 sec)\n"
     ]
    },
    {
     "name": "stdout",
     "output_type": "stream",
     "text": [
      "naive\n",
      "w_svc_lin=0.0001837994989915238, w_svc_radial=0.3017363587342715, w_xgbc=0.3017985279221898, w_rfc=0.10087583896475168, w_ctbc=0.29540547487979535, w_=1.0\n",
      "importance_auc_acc_loss=3.0, importance_stability=1.0, importance_consistency=1.0\n",
      "AUC_acc_loss=0.05135364370661643, stability=0.7067812153419839, consistency=0.44025028611134764, joint_metric=0.0004352403446863504\n"
     ]
    },
    {
     "name": "stderr",
     "output_type": "stream",
     "text": [
      "INFO:smac.intensification.intensification.Intensifier:Challenger (0.0004) is better than incumbent (0.0005) on 1 runs.\n",
      "INFO:smac.intensification.intensification.Intensifier:Changes in incumbent:\n",
      "INFO:smac.intensification.intensification.Intensifier:  w0 : 0.75 -> 0.751935080173099\n",
      "INFO:smac.intensification.intensification.Intensifier:  w1 : 0.25 -> 0.2513335057719217\n",
      "INFO:smac.intensification.intensification.Intensifier:  w2 : 0.75 -> 0.7360067027715261\n",
      "INFO:smac.intensification.intensification.Intensifier:  w3 : 0.25 -> 0.00045793891693732573\n",
      "INFO:smac.intensification.intensification.Intensifier:  w4 : 0.75 -> 0.7517801848075599\n",
      "INFO:smac.intensification.intensification.Intensifier:Wallclock time limit for intensification reached (used: 0.036312 sec, available: 0.000010 sec)\n"
     ]
    },
    {
     "name": "stdout",
     "output_type": "stream",
     "text": [
      "naive\n",
      "w_svc_lin=5.423522954935767e-05, w_svc_radial=0.30286260872969545, w_xgbc=0.3026955304666976, w_rfc=0.10069830947258025, w_ctbc=0.2936893161014773, w_=1.0\n",
      "importance_auc_acc_loss=3.0, importance_stability=1.0, importance_consistency=1.0\n",
      "AUC_acc_loss=0.05140969904688339, stability=0.7067812153419838, consistency=0.4413370935276894, joint_metric=0.0004355918601146081\n"
     ]
    },
    {
     "name": "stderr",
     "output_type": "stream",
     "text": [
      "INFO:smac.intensification.intensification.Intensifier:Wallclock time limit for intensification reached (used: 0.036436 sec, available: 0.000010 sec)\n"
     ]
    },
    {
     "name": "stdout",
     "output_type": "stream",
     "text": [
      "naive\n",
      "w_svc_lin=2.195143339448784e-05, w_svc_radial=0.3018507772029712, w_xgbc=0.30214845860506057, w_rfc=0.10093503286911232, w_ctbc=0.2950437798894614, w_=1.0\n",
      "importance_auc_acc_loss=3.0, importance_stability=1.0, importance_consistency=1.0\n",
      "AUC_acc_loss=0.051362530631188064, stability=0.7067812153419838, consistency=0.4404698013806728, joint_metric=0.0004352493215901939\n"
     ]
    },
    {
     "name": "stderr",
     "output_type": "stream",
     "text": [
      "INFO:smac.intensification.intensification.Intensifier:Wallclock time limit for intensification reached (used: 0.036004 sec, available: 0.000010 sec)\n"
     ]
    },
    {
     "name": "stdout",
     "output_type": "stream",
     "text": [
      "naive\n",
      "w_svc_lin=7.742661346260492e-06, w_svc_radial=0.26906897380904665, w_xgbc=0.29732111958209795, w_rfc=0.12397295044820578, w_ctbc=0.3096292134993035, w_=1.0\n",
      "importance_auc_acc_loss=3.0, importance_stability=1.0, importance_consistency=1.0\n",
      "AUC_acc_loss=0.05074239273380772, stability=0.7067812153419837, consistency=0.4317982977629277, joint_metric=0.0004281016509064774\n"
     ]
    },
    {
     "name": "stderr",
     "output_type": "stream",
     "text": [
      "INFO:smac.intensification.intensification.Intensifier:Challenger (0.0004) is better than incumbent (0.0004) on 1 runs.\n",
      "INFO:smac.intensification.intensification.Intensifier:Changes in incumbent:\n",
      "INFO:smac.intensification.intensification.Intensifier:  w0 : 0.751935080173099 -> 0.7053602694333135\n",
      "INFO:smac.intensification.intensification.Intensifier:  w1 : 0.2513335057719217 -> 0.2941116118945708\n",
      "INFO:smac.intensification.intensification.Intensifier:  w2 : 0.7360067027715261 -> 0.734559811174086\n",
      "INFO:smac.intensification.intensification.Intensifier:  w3 : 0.00045793891693732573 -> 1.8368576376294658e-05\n",
      "INFO:smac.intensification.intensification.Intensifier:  w4 : 0.7517801848075599 -> 0.638335292591579\n",
      "INFO:smac.intensification.intensification.Intensifier:Wallclock time limit for intensification reached (used: 0.035839 sec, available: 0.000010 sec)\n"
     ]
    },
    {
     "name": "stdout",
     "output_type": "stream",
     "text": [
      "naive\n",
      "w_svc_lin=8.478413228887056e-06, w_svc_radial=0.1860237324112022, w_xgbc=0.3237752053735536, w_rfc=0.14093913636421482, w_ctbc=0.3492534474378006, w_=1.0\n",
      "importance_auc_acc_loss=3.0, importance_stability=1.0, importance_consistency=1.0\n",
      "AUC_acc_loss=0.048985540340363426, stability=0.7067812153419837, consistency=0.40780343941345726, joint_metric=0.0004078193481322305\n"
     ]
    },
    {
     "name": "stderr",
     "output_type": "stream",
     "text": [
      "INFO:smac.intensification.intensification.Intensifier:Challenger (0.0004) is better than incumbent (0.0004) on 1 runs.\n",
      "INFO:smac.intensification.intensification.Intensifier:Changes in incumbent:\n",
      "INFO:smac.intensification.intensification.Intensifier:  w0 : 0.7053602694333135 -> 0.7014625765575354\n",
      "INFO:smac.intensification.intensification.Intensifier:  w1 : 0.2941116118945708 -> 0.30534620344931224\n",
      "INFO:smac.intensification.intensification.Intensifier:  w2 : 0.734559811174086 -> 0.7566614708148135\n",
      "INFO:smac.intensification.intensification.Intensifier:  w4 : 0.638335292591579 -> 0.4030224812535009\n",
      "INFO:smac.intensification.intensification.Intensifier:Wallclock time limit for intensification reached (used: 0.036490 sec, available: 0.000010 sec)\n"
     ]
    },
    {
     "name": "stdout",
     "output_type": "stream",
     "text": [
      "naive\n",
      "w_svc_lin=9.15809076315059e-06, w_svc_radial=0.07267246416581026, w_xgbc=0.3685427389728687, w_rfc=0.14675729114253266, w_ctbc=0.41201834762802525, w_=1.0\n",
      "importance_auc_acc_loss=3.0, importance_stability=1.0, importance_consistency=1.0\n",
      "AUC_acc_loss=0.046289934825380595, stability=0.7067812153419838, consistency=0.3740237566054144, joint_metric=0.0003752109651215751\n"
     ]
    },
    {
     "name": "stderr",
     "output_type": "stream",
     "text": [
      "INFO:smac.intensification.intensification.Intensifier:Challenger (0.0004) is better than incumbent (0.0004) on 1 runs.\n",
      "INFO:smac.intensification.intensification.Intensifier:Changes in incumbent:\n",
      "INFO:smac.intensification.intensification.Intensifier:  w0 : 0.7014625765575354 -> 0.739193967807223\n",
      "INFO:smac.intensification.intensification.Intensifier:  w1 : 0.30534620344931224 -> 0.2943542033866383\n",
      "INFO:smac.intensification.intensification.Intensifier:  w2 : 0.7566614708148135 -> 0.8263939157812491\n",
      "INFO:smac.intensification.intensification.Intensifier:  w4 : 0.4030224812535009 -> 0.14576069870965006\n",
      "INFO:smac.intensification.intensification.Intensifier:Wallclock time limit for intensification reached (used: 0.036372 sec, available: 0.000010 sec)\n"
     ]
    },
    {
     "name": "stdout",
     "output_type": "stream",
     "text": [
      "naive\n",
      "w_svc_lin=4.163463144020481e-05, w_svc_radial=1.2027160941022857e-06, w_xgbc=0.3971094346291072, w_rfc=0.14682298045337175, w_ctbc=0.45602474756998673, w_=1.0\n",
      "importance_auc_acc_loss=3.0, importance_stability=1.0, importance_consistency=1.0\n",
      "AUC_acc_loss=0.04444326566225745, stability=0.7067812153419838, consistency=0.35342410908634314, joint_metric=0.0003514282897866897\n"
     ]
    },
    {
     "name": "stderr",
     "output_type": "stream",
     "text": [
      "INFO:smac.intensification.intensification.Intensifier:Challenger (0.0004) is better than incumbent (0.0004) on 1 runs.\n",
      "INFO:smac.intensification.intensification.Intensifier:Changes in incumbent:\n",
      "INFO:smac.intensification.intensification.Intensifier:  w0 : 0.739193967807223 -> 0.8005049408683478\n",
      "INFO:smac.intensification.intensification.Intensifier:  w1 : 0.2943542033866383 -> 0.2959701055597284\n",
      "INFO:smac.intensification.intensification.Intensifier:  w2 : 0.8263939157812491 -> 0.9192681708229002\n",
      "INFO:smac.intensification.intensification.Intensifier:  w3 : 1.8368576376294658e-05 -> 8.392832119500011e-05\n",
      "INFO:smac.intensification.intensification.Intensifier:  w4 : 0.14576069870965006 -> 2.4244706668578126e-06\n",
      "INFO:smac.intensification.intensification.Intensifier:Wallclock time limit for intensification reached (used: 0.036293 sec, available: 0.000010 sec)\n"
     ]
    },
    {
     "name": "stdout",
     "output_type": "stream",
     "text": [
      "naive\n",
      "w_svc_lin=0.43135828408714233, w_svc_radial=0.19112992926676586, w_xgbc=0.2595989260195606, w_rfc=0.07813788508661021, w_ctbc=0.03977497553992094, w_=1.0\n",
      "importance_auc_acc_loss=3.0, importance_stability=1.0, importance_consistency=1.0\n",
      "AUC_acc_loss=0.06495542426369656, stability=0.7067812153419838, consistency=0.6008079249802647, joint_metric=0.0006453950352738337\n"
     ]
    },
    {
     "name": "stderr",
     "output_type": "stream",
     "text": [
      "INFO:smac.intensification.intensification.Intensifier:Wallclock time limit for intensification reached (used: 0.035799 sec, available: 0.000010 sec)\n"
     ]
    },
    {
     "name": "stdout",
     "output_type": "stream",
     "text": [
      "naive\n",
      "w_svc_lin=5.122862127119093e-05, w_svc_radial=2.566435589937606e-05, w_xgbc=0.43909698699263655, w_rfc=0.12178938416644494, w_ctbc=0.43903673586374803, w_=1.0\n",
      "importance_auc_acc_loss=3.0, importance_stability=1.0, importance_consistency=1.0\n",
      "AUC_acc_loss=0.04487107029831311, stability=0.7067812153419838, consistency=0.35892949484647174, joint_metric=0.0003561271959322565\n"
     ]
    },
    {
     "name": "stderr",
     "output_type": "stream",
     "text": [
      "INFO:smac.intensification.intensification.Intensifier:Wallclock time limit for intensification reached (used: 0.035971 sec, available: 0.000010 sec)\n"
     ]
    },
    {
     "name": "stdout",
     "output_type": "stream",
     "text": [
      "naive\n",
      "w_svc_lin=3.61124895558722e-05, w_svc_radial=2.5166810308576452e-05, w_xgbc=0.3560645936172179, w_rfc=0.21334883771658086, w_ctbc=0.4305252893663368, w_=1.0\n",
      "importance_auc_acc_loss=3.0, importance_stability=1.0, importance_consistency=1.0\n",
      "AUC_acc_loss=0.045358597162469545, stability=0.7067812153419838, consistency=0.36555013984986146, joint_metric=0.0003611992919209635\n"
     ]
    },
    {
     "name": "stderr",
     "output_type": "stream",
     "text": [
      "INFO:smac.intensification.intensification.Intensifier:Wallclock time limit for intensification reached (used: 0.036075 sec, available: 0.000010 sec)\n"
     ]
    },
    {
     "name": "stdout",
     "output_type": "stream",
     "text": [
      "naive\n",
      "w_svc_lin=0.31665333238593185, w_svc_radial=0.06669950858617711, w_xgbc=0.11309310238926766, w_rfc=0.3445001707850888, w_ctbc=0.15905388585353464, w_=1.0\n",
      "importance_auc_acc_loss=3.0, importance_stability=1.0, importance_consistency=1.0\n",
      "AUC_acc_loss=0.05932639045419172, stability=0.7067812153419838, consistency=0.5801254795892286, joint_metric=0.0005092568018182901\n"
     ]
    },
    {
     "name": "stderr",
     "output_type": "stream",
     "text": [
      "INFO:smac.intensification.intensification.Intensifier:Wallclock time limit for intensification reached (used: 0.033644 sec, available: 0.000010 sec)\n"
     ]
    },
    {
     "name": "stdout",
     "output_type": "stream",
     "text": [
      "naive\n",
      "w_svc_lin=3.9705563258033266e-05, w_svc_radial=2.0193714774024045e-06, w_xgbc=0.41718528198478183, w_rfc=0.0559405146655714, w_ctbc=0.5268324784149113, w_=1.0\n",
      "importance_auc_acc_loss=3.0, importance_stability=1.0, importance_consistency=1.0\n",
      "AUC_acc_loss=0.04214845149940809, stability=0.7067812153419838, consistency=0.3266174354886306, joint_metric=0.0003243549334276417\n"
     ]
    },
    {
     "name": "stderr",
     "output_type": "stream",
     "text": [
      "INFO:smac.intensification.intensification.Intensifier:Challenger (0.0003) is better than incumbent (0.0004) on 1 runs.\n",
      "INFO:smac.intensification.intensification.Intensifier:Changes in incumbent:\n",
      "INFO:smac.intensification.intensification.Intensifier:  w0 : 0.8005049408683478 -> 0.7918319905761364\n",
      "INFO:smac.intensification.intensification.Intensifier:  w1 : 0.2959701055597284 -> 0.10617701772880084\n",
      "INFO:smac.intensification.intensification.Intensifier:  w2 : 0.9192681708229002 -> 0.999946134481935\n",
      "INFO:smac.intensification.intensification.Intensifier:  w3 : 8.392832119500011e-05 -> 7.536252247916566e-05\n",
      "INFO:smac.intensification.intensification.Intensifier:  w4 : 2.4244706668578126e-06 -> 3.832836405581893e-06\n",
      "INFO:smac.intensification.intensification.Intensifier:Wallclock time limit for intensification reached (used: 0.035962 sec, available: 0.000010 sec)\n"
     ]
    },
    {
     "name": "stdout",
     "output_type": "stream",
     "text": [
      "naive\n",
      "w_svc_lin=4.706283724486763e-05, w_svc_radial=2.3935525246248515e-06, w_xgbc=0.3754017909671934, w_rfc=9.643028655165562e-05, w_ctbc=0.6244523223564854, w_=1.0\n",
      "importance_auc_acc_loss=3.0, importance_stability=1.0, importance_consistency=1.0\n",
      "AUC_acc_loss=0.03916738271921561, stability=0.7067812153419838, consistency=0.2973196337919257, joint_metric=0.00028593351781454167\n"
     ]
    },
    {
     "name": "stderr",
     "output_type": "stream",
     "text": [
      "INFO:smac.intensification.intensification.Intensifier:Challenger (0.0003) is better than incumbent (0.0003) on 1 runs.\n",
      "INFO:smac.intensification.intensification.Intensifier:Changes in incumbent:\n",
      "INFO:smac.intensification.intensification.Intensifier:  w0 : 0.7918319905761364 -> 0.6011372787255707\n",
      "INFO:smac.intensification.intensification.Intensifier:  w1 : 0.10617701772880084 -> 0.00015441545948685978\n",
      "INFO:smac.intensification.intensification.Intensifier:Wallclock time limit for intensification reached (used: 0.036369 sec, available: 0.000010 sec)\n"
     ]
    },
    {
     "name": "stdout",
     "output_type": "stream",
     "text": [
      "naive\n",
      "w_svc_lin=5.655362537749013e-05, w_svc_radial=2.876241228183528e-06, w_xgbc=0.24944403710074356, w_rfc=0.00011587661560462079, w_ctbc=0.7503806564170461, w_=1.0\n",
      "importance_auc_acc_loss=3.0, importance_stability=1.0, importance_consistency=1.0\n",
      "AUC_acc_loss=0.035511233313116786, stability=0.7067812153419838, consistency=0.2682770282853599, joint_metric=0.00023617220355728582\n"
     ]
    },
    {
     "name": "stderr",
     "output_type": "stream",
     "text": [
      "INFO:smac.intensification.intensification.Intensifier:Challenger (0.0002) is better than incumbent (0.0003) on 1 runs.\n",
      "INFO:smac.intensification.intensification.Intensifier:Changes in incumbent:\n",
      "INFO:smac.intensification.intensification.Intensifier:  w0 : 0.6011372787255707 -> 0.33240542454738936\n",
      "INFO:smac.intensification.intensification.Intensifier:Wallclock time limit for intensification reached (used: 0.036374 sec, available: 0.000010 sec)\n"
     ]
    },
    {
     "name": "stdout",
     "output_type": "stream",
     "text": [
      "naive\n",
      "w_svc_lin=7.122581944507019e-05, w_svc_radial=3.622449260001071e-06, w_xgbc=0.054729887043212855, w_rfc=9.117293440766065e-05, w_ctbc=0.9451040917536745, w_=1.0\n",
      "importance_auc_acc_loss=3.0, importance_stability=1.0, importance_consistency=1.0\n",
      "AUC_acc_loss=0.029857572331335038, stability=0.7067812153419837, consistency=0.2337994223393577, joint_metric=0.00016107756174963455\n"
     ]
    },
    {
     "name": "stderr",
     "output_type": "stream",
     "text": [
      "INFO:smac.intensification.intensification.Intensifier:Challenger (0.0002) is better than incumbent (0.0002) on 1 runs.\n",
      "INFO:smac.intensification.intensification.Intensifier:Changes in incumbent:\n",
      "INFO:smac.intensification.intensification.Intensifier:  w0 : 0.33240542454738936 -> 0.05790852776017875\n",
      "INFO:smac.intensification.intensification.Intensifier:  w1 : 0.00015441545948685978 -> 9.64681399571373e-05\n",
      "INFO:smac.intensification.intensification.Intensifier:  w2 : 0.999946134481935 -> 0.9999945092224211\n",
      "INFO:smac.intensification.intensification.Intensifier:Wallclock time limit for intensification reached (used: 0.037905 sec, available: 0.000010 sec)\n"
     ]
    },
    {
     "name": "stdout",
     "output_type": "stream",
     "text": [
      "naive\n",
      "w_svc_lin=5.943111590399267e-05, w_svc_radial=0.00025080321683326913, w_xgbc=2.7529174575281267e-05, w_rfc=2.6268671416604582e-05, w_ctbc=0.9996359678212708, w_=1.0\n",
      "importance_auc_acc_loss=3.0, importance_stability=1.0, importance_consistency=1.0\n",
      "AUC_acc_loss=0.02827579822056711, stability=0.7067812153419838, consistency=0.22567130110180464, joint_metric=0.00014173701761361035\n"
     ]
    },
    {
     "name": "stderr",
     "output_type": "stream",
     "text": [
      "INFO:smac.intensification.intensification.Intensifier:Challenger (0.0001) is better than incumbent (0.0002) on 1 runs.\n",
      "INFO:smac.intensification.intensification.Intensifier:Changes in incumbent:\n",
      "INFO:smac.intensification.intensification.Intensifier:  w0 : 0.05790852776017875 -> 2.7527651841731697e-05\n",
      "INFO:smac.intensification.intensification.Intensifier:  w1 : 9.64681399571373e-05 -> 2.6267218405830162e-05\n",
      "INFO:smac.intensification.intensification.Intensifier:  w2 : 0.9999945092224211 -> 0.9995806745097552\n",
      "INFO:smac.intensification.intensification.Intensifier:  w3 : 7.536252247916566e-05 -> 5.942782856408976e-05\n",
      "INFO:smac.intensification.intensification.Intensifier:  w4 : 3.832836405581893e-06 -> 0.0002507893440427295\n",
      "INFO:smac.intensification.intensification.Intensifier:Wallclock time limit for intensification reached (used: 0.037724 sec, available: 0.000010 sec)\n"
     ]
    },
    {
     "name": "stdout",
     "output_type": "stream",
     "text": [
      "naive\n",
      "w_svc_lin=5.944503231253201e-05, w_svc_radial=1.6701634729647377e-05, w_xgbc=2.753562081534109e-05, w_rfc=2.6274822496853682e-05, w_ctbc=0.9998700428896455, w_=0.9999999999999999\n",
      "importance_auc_acc_loss=3.0, importance_stability=1.0, importance_consistency=1.0\n",
      "AUC_acc_loss=0.028267167011538676, stability=0.7067812153419839, consistency=0.22563697053278467, joint_metric=0.00014162880671540033\n"
     ]
    },
    {
     "name": "stderr",
     "output_type": "stream",
     "text": [
      "INFO:smac.intensification.intensification.Intensifier:Challenger (0.0001) is better than incumbent (0.0001) on 1 runs.\n",
      "INFO:smac.intensification.intensification.Intensifier:Changes in incumbent:\n",
      "INFO:smac.intensification.intensification.Intensifier:  w4 : 0.0002507893440427295 -> 1.669680117650954e-05\n",
      "INFO:smac.intensification.intensification.Intensifier:Wallclock time limit for intensification reached (used: 0.036076 sec, available: 0.000010 sec)\n"
     ]
    },
    {
     "name": "stdout",
     "output_type": "stream",
     "text": [
      "naive\n",
      "w_svc_lin=5.944602469229056e-05, w_svc_radial=1.670191354797072e-05, w_xgbc=2.753608049702808e-05, w_rfc=9.581187295602913e-06, w_ctbc=0.9998867347939671, w_=1.0\n",
      "importance_auc_acc_loss=3.0, importance_stability=1.0, importance_consistency=1.0\n",
      "AUC_acc_loss=0.028266638500174072, stability=0.7067812153419838, consistency=0.2256343805212627, joint_metric=0.0001416224883976888\n"
     ]
    },
    {
     "name": "stderr",
     "output_type": "stream",
     "text": [
      "INFO:smac.intensification.intensification.Intensifier:Challenger (0.0001) is better than incumbent (0.0001) on 1 runs.\n",
      "INFO:smac.intensification.intensification.Intensifier:Changes in incumbent:\n",
      "INFO:smac.intensification.intensification.Intensifier:  w1 : 2.6267218405830162e-05 -> 9.57825454251725e-06\n",
      "INFO:smac.intensification.intensification.Intensifier:Wallclock time limit for intensification reached (used: 0.035794 sec, available: 0.000010 sec)\n"
     ]
    },
    {
     "name": "stdout",
     "output_type": "stream",
     "text": [
      "naive\n",
      "w_svc_lin=2.516566621342706e-05, w_svc_radial=1.670248612959213e-05, w_xgbc=2.7537024499855836e-05, w_rfc=9.581515761664062e-06, w_ctbc=0.9999210133073955, w_=1.0\n",
      "importance_auc_acc_loss=3.0, importance_stability=1.0, importance_consistency=1.0\n",
      "AUC_acc_loss=0.02826507824098702, stability=0.7067812153419838, consistency=0.22562934360590026, joint_metric=0.00014160219893428707\n"
     ]
    },
    {
     "name": "stderr",
     "output_type": "stream",
     "text": [
      "INFO:smac.intensification.intensification.Intensifier:Challenger (0.0001) is better than incumbent (0.0001) on 1 runs.\n",
      "INFO:smac.intensification.intensification.Intensifier:Changes in incumbent:\n",
      "INFO:smac.intensification.intensification.Intensifier:  w3 : 5.942782856408976e-05 -> 2.515710068428335e-05\n",
      "INFO:smac.intensification.intensification.Intensifier:Wallclock time limit for intensification reached (used: 0.036658 sec, available: 0.000010 sec)\n"
     ]
    },
    {
     "name": "stdout",
     "output_type": "stream",
     "text": [
      "naive\n",
      "w_svc_lin=3.67184593508836e-06, w_svc_radial=5.04382947950632e-06, w_xgbc=0.0005999356517557997, w_rfc=0.00011552080376529559, w_ctbc=0.9992758278690643, w_=1.0\n",
      "importance_auc_acc_loss=3.0, importance_stability=1.0, importance_consistency=1.0\n",
      "AUC_acc_loss=0.028283644174518383, stability=0.7067812153419838, consistency=0.22572232825278216, joint_metric=0.0001418229697230344\n"
     ]
    },
    {
     "name": "stderr",
     "output_type": "stream",
     "text": [
      "INFO:smac.intensification.intensification.Intensifier:Wallclock time limit for intensification reached (used: 0.037416 sec, available: 0.000010 sec)\n"
     ]
    },
    {
     "name": "stdout",
     "output_type": "stream",
     "text": [
      "naive\n",
      "w_svc_lin=0.5993629145252716, w_svc_radial=0.10137329220781525, w_xgbc=0.013310823392069415, w_rfc=0.23698482195000195, w_ctbc=0.048968147924841846, w_=1.0\n",
      "importance_auc_acc_loss=3.0, importance_stability=1.0, importance_consistency=1.0\n",
      "AUC_acc_loss=0.06717134143416738, stability=0.7067812153419838, consistency=0.7757824141676779, joint_metric=0.0005527479431590516\n"
     ]
    },
    {
     "name": "stderr",
     "output_type": "stream",
     "text": [
      "INFO:smac.intensification.intensification.Intensifier:Wallclock time limit for intensification reached (used: 0.033588 sec, available: 0.000010 sec)\n",
      "INFO:smac.stats.stats.Stats:##########################################################\n",
      "INFO:smac.stats.stats.Stats:Statistics:\n",
      "INFO:smac.stats.stats.Stats:#Incumbent changed: 14\n",
      "INFO:smac.stats.stats.Stats:#Submitted target algorithm runs: 30 / 30.0\n",
      "INFO:smac.stats.stats.Stats:#Finished target algorithm runs: 30 / 30.0\n",
      "INFO:smac.stats.stats.Stats:#Configurations: 30\n",
      "INFO:smac.stats.stats.Stats:Used wallclock time: 106.08 / inf sec \n",
      "INFO:smac.stats.stats.Stats:Used target algorithm runtime: 0.69 / inf sec\n",
      "INFO:smac.stats.stats.Stats:##########################################################\n",
      "INFO:smac.facade.smac_bo_facade.SMAC4BO:Final Incumbent: Configuration:\n",
      "  importance_auc_acc_loss, Constant: 3.0\n",
      "  importance_consistency, Constant: 1.0\n",
      "  importance_stability, Constant: 1.0\n",
      "  w0, Value: 2.7527651841731697e-05\n",
      "  w1, Value: 9.57825454251725e-06\n",
      "  w2, Value: 0.9995806745097552\n",
      "  w3, Value: 2.515710068428335e-05\n",
      "  w4, Value: 1.669680117650954e-05\n",
      "\n",
      "INFO:smac.facade.smac_bo_facade.SMAC4BO:Estimated cost of incumbent: 0.000142\n"
     ]
    },
    {
     "name": "stdout",
     "output_type": "stream",
     "text": [
      "AUC_acc_loss=0.028265078240987018, stability=0.7070218613200007, consistency=0.2256293436058978, joint_metric=0.00014155400240527564\n",
      "{'auc_acc_loss': 0.028265078240987018, 'stability': 0.7070218613200007, 'consistency': 0.2256293436058978, 'joint_metric': 0.00014155400240527564, 'w_svc_lin': 2.515710068428335e-05, 'w_svc_radial': 1.669680117650954e-05, 'w_xgbc': 2.7527651841731697e-05, 'w_rfc': 9.57825454251725e-06, 'w_ctbc': 0.9995806745097552, 'w_': 0.9996596343180002}\n"
     ]
    },
    {
     "data": {
      "application/vnd.jupyter.widget-view+json": {
       "model_id": "42f6fd8ecce44e79affe0c9ca9e2368d",
       "version_major": 2,
       "version_minor": 0
      },
      "text/plain": [
       "  0%|          | 0/66 [00:00<?, ?it/s]"
      ]
     },
     "metadata": {},
     "output_type": "display_data"
    },
    {
     "name": "stderr",
     "output_type": "stream",
     "text": [
      "INFO:shap:num_full_subsets = 1\n",
      "INFO:shap:phi = [ 0.00649362 -0.51743326]\n",
      "INFO:shap:phi = [-0.00649362  0.51743326]\n",
      "INFO:shap:num_full_subsets = 1\n",
      "INFO:shap:phi = [0.10853614 0.34439137]\n",
      "INFO:shap:phi = [-0.10853614 -0.34439137]\n",
      "INFO:shap:num_full_subsets = 1\n",
      "INFO:shap:phi = [0.22891747 0.25571694]\n",
      "INFO:shap:phi = [-0.22891747 -0.25571694]\n",
      "INFO:shap:num_full_subsets = 1\n",
      "INFO:shap:phi = [-0.31089689 -0.19867557]\n",
      "INFO:shap:phi = [0.31089689 0.19867557]\n",
      "INFO:shap:num_full_subsets = 1\n",
      "INFO:shap:phi = [0.12548022 0.29342069]\n",
      "INFO:shap:phi = [-0.12548022 -0.29342069]\n",
      "INFO:shap:num_full_subsets = 1\n",
      "INFO:shap:phi = [-0.24889164 -0.24994398]\n",
      "INFO:shap:phi = [0.24889164 0.24994398]\n",
      "INFO:shap:num_full_subsets = 1\n",
      "INFO:shap:phi = [0.09476807 0.11554788]\n",
      "INFO:shap:phi = [-0.09476807 -0.11554788]\n",
      "INFO:shap:num_full_subsets = 1\n",
      "INFO:shap:phi = [ 0.00202084 -0.51176656]\n",
      "INFO:shap:phi = [-0.00202084  0.51176656]\n",
      "INFO:shap:num_full_subsets = 1\n",
      "INFO:shap:phi = [-0.03951352 -0.4686818 ]\n",
      "INFO:shap:phi = [0.03951352 0.4686818 ]\n",
      "INFO:shap:num_full_subsets = 1\n",
      "INFO:shap:phi = [-0.25269579 -0.25828233]\n",
      "INFO:shap:phi = [0.25269579 0.25828233]\n",
      "INFO:shap:num_full_subsets = 1\n",
      "INFO:shap:phi = [0.14805971 0.31728598]\n",
      "INFO:shap:phi = [-0.14805971 -0.31728598]\n",
      "INFO:shap:num_full_subsets = 1\n",
      "INFO:shap:phi = [ 0.0109211  -0.35372996]\n",
      "INFO:shap:phi = [-0.0109211   0.35372996]\n",
      "INFO:shap:num_full_subsets = 1\n",
      "INFO:shap:phi = [-0.11709474 -0.25420976]\n",
      "INFO:shap:phi = [0.11709474 0.25420976]\n",
      "INFO:shap:num_full_subsets = 1\n",
      "INFO:shap:phi = [0.21687241 0.03425985]\n",
      "INFO:shap:phi = [-0.21687241 -0.03425985]\n",
      "INFO:shap:num_full_subsets = 1\n",
      "INFO:shap:phi = [0.07914821 0.40956129]\n",
      "INFO:shap:phi = [-0.07914821 -0.40956129]\n",
      "INFO:shap:num_full_subsets = 1\n",
      "INFO:shap:phi = [-0.49768185 -0.01281586]\n",
      "INFO:shap:phi = [0.49768185 0.01281586]\n",
      "INFO:shap:num_full_subsets = 1\n",
      "INFO:shap:phi = [0.0422717 0.4446602]\n",
      "INFO:shap:phi = [-0.0422717 -0.4446602]\n",
      "INFO:shap:num_full_subsets = 1\n",
      "INFO:shap:phi = [0.0221188  0.46676898]\n",
      "INFO:shap:phi = [-0.0221188  -0.46676898]\n",
      "INFO:shap:num_full_subsets = 1\n",
      "INFO:shap:phi = [0.34700172 0.14198473]\n",
      "INFO:shap:phi = [-0.34700172 -0.14198473]\n",
      "INFO:shap:num_full_subsets = 1\n",
      "INFO:shap:phi = [0.19938263 0.27219913]\n",
      "INFO:shap:phi = [-0.19938263 -0.27219913]\n",
      "INFO:shap:num_full_subsets = 1\n",
      "INFO:shap:phi = [0.10381444 0.37457734]\n",
      "INFO:shap:phi = [-0.10381444 -0.37457734]\n",
      "INFO:shap:num_full_subsets = 1\n",
      "INFO:shap:phi = [0.12145414 0.32264555]\n",
      "INFO:shap:phi = [-0.12145414 -0.32264555]\n",
      "INFO:shap:num_full_subsets = 1\n",
      "INFO:shap:phi = [0.16378312 0.28956982]\n",
      "INFO:shap:phi = [-0.16378312 -0.28956982]\n",
      "INFO:shap:num_full_subsets = 1\n",
      "INFO:shap:phi = [0.09759698 0.34758821]\n",
      "INFO:shap:phi = [-0.09759698 -0.34758821]\n",
      "INFO:shap:num_full_subsets = 1\n",
      "INFO:shap:phi = [0.26100167 0.22762602]\n",
      "INFO:shap:phi = [-0.26100167 -0.22762602]\n",
      "INFO:shap:num_full_subsets = 1\n",
      "INFO:shap:phi = [ 0.71871051 -0.23339554]\n",
      "INFO:shap:phi = [-0.71871051  0.23339554]\n",
      "INFO:shap:num_full_subsets = 1\n",
      "INFO:shap:phi = [-0.06921337 -0.37720268]\n",
      "INFO:shap:phi = [0.06921337 0.37720268]\n",
      "INFO:shap:num_full_subsets = 1\n",
      "INFO:shap:phi = [-0.01477085 -0.30671696]\n",
      "INFO:shap:phi = [0.01477085 0.30671696]\n",
      "INFO:shap:num_full_subsets = 1\n",
      "INFO:shap:phi = [0.05851598 0.41547346]\n",
      "INFO:shap:phi = [-0.05851598 -0.41547346]\n",
      "INFO:shap:num_full_subsets = 1\n",
      "INFO:shap:phi = [0.1319727  0.33314819]\n",
      "INFO:shap:phi = [-0.1319727  -0.33314819]\n",
      "INFO:shap:num_full_subsets = 1\n",
      "INFO:shap:phi = [0.17397019 0.23429412]\n",
      "INFO:shap:phi = [-0.17397019 -0.23429412]\n",
      "INFO:shap:num_full_subsets = 1\n",
      "INFO:shap:phi = [0.15952281 0.31728879]\n",
      "INFO:shap:phi = [-0.15952281 -0.31728879]\n",
      "INFO:shap:num_full_subsets = 1\n",
      "INFO:shap:phi = [ 0.00996552 -0.10843531]\n",
      "INFO:shap:phi = [-0.00996552  0.10843531]\n",
      "INFO:shap:num_full_subsets = 1\n",
      "INFO:shap:phi = [-0.0559398  -0.40575881]\n",
      "INFO:shap:phi = [0.0559398  0.40575881]\n",
      "INFO:shap:num_full_subsets = 1\n",
      "INFO:shap:phi = [ 0.16187048 -0.33345544]\n",
      "INFO:shap:phi = [-0.16187048  0.33345544]\n",
      "INFO:shap:num_full_subsets = 1\n",
      "INFO:shap:phi = [-0.12510793 -0.38570931]\n",
      "INFO:shap:phi = [0.12510793 0.38570931]\n",
      "INFO:shap:num_full_subsets = 1\n",
      "INFO:shap:phi = [ 0.04740096 -0.5580352 ]\n",
      "INFO:shap:phi = [-0.04740096  0.5580352 ]\n",
      "INFO:shap:num_full_subsets = 1\n",
      "INFO:shap:phi = [0.08973949 0.35909992]\n",
      "INFO:shap:phi = [-0.08973949 -0.35909992]\n",
      "INFO:shap:num_full_subsets = 1\n",
      "INFO:shap:phi = [-0.2531759  -0.25779601]\n",
      "INFO:shap:phi = [0.2531759  0.25779601]\n",
      "INFO:shap:num_full_subsets = 1\n",
      "INFO:shap:phi = [-0.24324841 -0.26409504]\n",
      "INFO:shap:phi = [0.24324841 0.26409504]\n",
      "INFO:shap:num_full_subsets = 1\n",
      "INFO:shap:phi = [-0.00444546 -0.50121635]\n",
      "INFO:shap:phi = [0.00444546 0.50121635]\n",
      "INFO:shap:num_full_subsets = 1\n",
      "INFO:shap:phi = [0.11524852 0.37369191]\n",
      "INFO:shap:phi = [-0.11524852 -0.37369191]\n",
      "INFO:shap:num_full_subsets = 1\n",
      "INFO:shap:phi = [ 0.06733463 -0.29013785]\n",
      "INFO:shap:phi = [-0.06733463  0.29013785]\n",
      "INFO:shap:num_full_subsets = 1\n",
      "INFO:shap:phi = [-0.26097892 -0.24999521]\n",
      "INFO:shap:phi = [0.26097892 0.24999521]\n",
      "INFO:shap:num_full_subsets = 1\n",
      "INFO:shap:phi = [-0.07856957 -0.18791216]\n",
      "INFO:shap:phi = [0.07856957 0.18791216]\n",
      "INFO:shap:num_full_subsets = 1\n",
      "INFO:shap:phi = [0.10101436 0.26817372]\n",
      "INFO:shap:phi = [-0.10101436 -0.26817372]\n",
      "INFO:shap:num_full_subsets = 1\n",
      "INFO:shap:phi = [-0.10258964  0.18346467]\n",
      "INFO:shap:phi = [ 0.10258964 -0.18346467]\n",
      "INFO:shap:num_full_subsets = 1\n",
      "INFO:shap:phi = [0.04062284 0.41364022]\n",
      "INFO:shap:phi = [-0.04062284 -0.41364022]\n",
      "INFO:shap:num_full_subsets = 1\n",
      "INFO:shap:phi = [ 0.00302187 -0.51398458]\n",
      "INFO:shap:phi = [-0.00302187  0.51398458]\n",
      "INFO:shap:num_full_subsets = 1\n",
      "INFO:shap:phi = [-0.57969317  0.06989713]\n",
      "INFO:shap:phi = [ 0.57969317 -0.06989713]\n",
      "INFO:shap:num_full_subsets = 1\n",
      "INFO:shap:phi = [0.1548977  0.32354388]\n",
      "INFO:shap:phi = [-0.1548977  -0.32354388]\n",
      "INFO:shap:num_full_subsets = 1\n",
      "INFO:shap:phi = [-0.0921461   0.57987817]\n",
      "INFO:shap:phi = [ 0.0921461  -0.57987817]\n",
      "INFO:shap:num_full_subsets = 1\n",
      "INFO:shap:phi = [0.17647823 0.30689624]\n",
      "INFO:shap:phi = [-0.17647823 -0.30689624]\n",
      "INFO:shap:num_full_subsets = 1\n",
      "INFO:shap:phi = [-0.5809855   0.07099205]\n",
      "INFO:shap:phi = [ 0.5809855  -0.07099205]\n",
      "INFO:shap:num_full_subsets = 1\n",
      "INFO:shap:phi = [0.1269091  0.36131328]\n",
      "INFO:shap:phi = [-0.1269091  -0.36131328]\n",
      "INFO:shap:num_full_subsets = 1\n",
      "INFO:shap:phi = [ 0.65231296 -0.16619627]\n",
      "INFO:shap:phi = [-0.65231296  0.16619627]\n",
      "INFO:shap:num_full_subsets = 1\n",
      "INFO:shap:phi = [-0.45685913 -0.05253742]\n",
      "INFO:shap:phi = [0.45685913 0.05253742]\n",
      "INFO:shap:num_full_subsets = 1\n",
      "INFO:shap:phi = [ 0.0019211  -0.51163305]\n",
      "INFO:shap:phi = [-0.0019211   0.51163305]\n",
      "INFO:shap:num_full_subsets = 1\n",
      "INFO:shap:phi = [ 0.01482895 -0.00874633]\n",
      "INFO:shap:phi = [-0.01482895  0.00874633]\n",
      "INFO:shap:num_full_subsets = 1\n",
      "INFO:shap:phi = [0.04171508 0.41532292]\n",
      "INFO:shap:phi = [-0.04171508 -0.41532292]\n",
      "INFO:shap:num_full_subsets = 1\n",
      "INFO:shap:phi = [-0.24771324  0.22087189]\n",
      "INFO:shap:phi = [ 0.24771324 -0.22087189]\n",
      "INFO:shap:num_full_subsets = 1\n",
      "INFO:shap:phi = [-0.27714182 -0.23364674]\n",
      "INFO:shap:phi = [0.27714182 0.23364674]\n",
      "INFO:shap:num_full_subsets = 1\n",
      "INFO:shap:phi = [-0.1844332  -0.16553616]\n",
      "INFO:shap:phi = [0.1844332  0.16553616]\n",
      "INFO:shap:num_full_subsets = 1\n",
      "INFO:shap:phi = [-0.06187436 -0.21893425]\n",
      "INFO:shap:phi = [0.06187436 0.21893425]\n",
      "INFO:shap:num_full_subsets = 1\n",
      "INFO:shap:phi = [-0.01417025 -0.49499476]\n",
      "INFO:shap:phi = [0.01417025 0.49499476]\n",
      "INFO:shap:num_full_subsets = 1\n",
      "INFO:shap:phi = [-0.25778597 -0.25318404]\n",
      "INFO:shap:phi = [0.25778597 0.25318404]\n"
     ]
    },
    {
     "name": "stdout",
     "output_type": "stream",
     "text": [
      "debug-2\n",
      "debug-3\n",
      "AUC_acc_loss=0.031106988249845372, stability=0.7538509017481968, consistency=0.2256293436058978, joint_metric=0.0001769672315163885\n"
     ]
    },
    {
     "data": {
      "text/plain": [
       "{'auc_acc_loss': 0.031106988249845372,\n",
       " 'stability': 0.7538509017481968,\n",
       " 'consistency': 0.2256293436058978,\n",
       " 'joint_metric': 0.0001769672315163885,\n",
       " 'w_svc_lin': 2.515710068428335e-05,\n",
       " 'w_svc_radial': 1.669680117650954e-05,\n",
       " 'w_xgbc': 2.7527651841731697e-05,\n",
       " 'w_rfc': 9.57825454251725e-06,\n",
       " 'w_ctbc': 0.9995806745097552,\n",
       " 'w_': 0.9996596343180002}"
      ]
     },
     "execution_count": 335,
     "metadata": {},
     "output_type": "execute_result"
    }
   ],
   "source": [
    "# importance_auc_acc_loss jest wazniejszy - slaby efekt\n",
    "e2 = run_experiment(importance_auc_acc_loss = 3.0, importance_stability = 1.0, importance_consistency = 1.0)\n",
    "to_pickle(e2, 'e2')\n",
    "print(naive_joint_metrics(e2['w0'], e2['w1'], e2['w2'], e2['w3'], e2['w4'], e2['importance_auc_acc_loss'], e2['importance_consistency'], e2['importance_stability']))\n",
    "r2 = exact_joint_metrics(e2['w0'], e2['w1'], e2['w2'], e2['w3'], e2['w4'], e2['importance_auc_acc_loss'], e2['importance_consistency'], e2['importance_stability'])\n",
    "to_pickle(r2, 'r2')\n",
    "r2"
   ]
  },
  {
   "cell_type": "code",
   "execution_count": 336,
   "id": "joint-stations",
   "metadata": {
    "collapsed": true,
    "jupyter": {
     "outputs_hidden": true
    }
   },
   "outputs": [
    {
     "name": "stderr",
     "output_type": "stream",
     "text": [
      "`np.float` is a deprecated alias for the builtin `float`. To silence this warning, use `float` by itself. Doing this will not modify any behavior and is safe. If you specifically wanted the numpy scalar type, use `np.float64` here.\n",
      "Deprecated in NumPy 1.20; for more details and guidance: https://numpy.org/devdocs/release/1.20.0-notes.html#deprecations\n",
      "INFO:smac.utils.io.cmd_reader.CMDReader:Output to smac3-output_2021-02-09_14:09:41_599033\n",
      "`np.float` is a deprecated alias for the builtin `float`. To silence this warning, use `float` by itself. Doing this will not modify any behavior and is safe. If you specifically wanted the numpy scalar type, use `np.float64` here.\n",
      "Deprecated in NumPy 1.20; for more details and guidance: https://numpy.org/devdocs/release/1.20.0-notes.html#deprecations\n",
      "INFO:smac.facade.smac_bo_facade.SMAC4BO:Optimizing a deterministic scenario for quality without a tuner timeout - will make SMAC deterministic and only evaluate one configuration per iteration!\n",
      "INFO:smac.initial_design.sobol_design.SobolDesign:Running initial design for 7 configurations\n",
      "INFO:smac.facade.smac_bo_facade.SMAC4BO:<class 'smac.facade.smac_bo_facade.SMAC4BO'>\n",
      "INFO:smac.optimizer.smbo.SMBO:Running initial design\n",
      "INFO:smac.intensification.intensification.Intensifier:First run, no incumbent provided; challenger is assumed to be the incumbent\n"
     ]
    },
    {
     "name": "stdout",
     "output_type": "stream",
     "text": [
      "naive\n",
      "w_svc_lin=0.1377031947, w_svc_radial=0.1559742808, w_xgbc=0.1773123705, w_rfc=0.1695355122, w_ctbc=0.3594746418, w_=1.0\n",
      "importance_auc_acc_loss=1.0, importance_stability=3.0, importance_consistency=1.0\n",
      "AUC_acc_loss=0.05079774622277981, stability=0.7067812153419838, consistency=0.4096159680933908, joint_metric=0.351246956954624\n",
      "Default Value: 0.35\n",
      "Optimizing! Depending on your machine, this might take a few minutes.\n",
      "naive\n",
      "w_svc_lin=0.2, w_svc_radial=0.2, w_xgbc=0.2, w_rfc=0.2, w_ctbc=0.2, w_=1.0\n",
      "importance_auc_acc_loss=1.0, importance_stability=3.0, importance_consistency=1.0\n",
      "AUC_acc_loss=0.056880024737167564, stability=0.7067812153419838, consistency=0.5328851601905255, joint_metric=0.3023229768103017\n"
     ]
    },
    {
     "name": "stderr",
     "output_type": "stream",
     "text": [
      "INFO:smac.intensification.intensification.Intensifier:First run, no incumbent provided; challenger is assumed to be the incumbent\n",
      "INFO:smac.intensification.intensification.Intensifier:Updated estimated cost of incumbent on 1 runs: 0.3023\n"
     ]
    },
    {
     "name": "stdout",
     "output_type": "stream",
     "text": [
      "naive\n",
      "w_svc_lin=0.09090909090909091, w_svc_radial=0.2727272727272727, w_xgbc=0.2727272727272727, w_rfc=0.09090909090909091, w_ctbc=0.2727272727272727, w_=1.0\n",
      "importance_auc_acc_loss=1.0, importance_stability=3.0, importance_consistency=1.0\n",
      "AUC_acc_loss=0.053253780851183416, stability=0.7067812153419838, consistency=0.46014605337703784, joint_metric=0.32779305662286695\n"
     ]
    },
    {
     "name": "stderr",
     "output_type": "stream",
     "text": [
      "INFO:smac.intensification.intensification.Intensifier:Wallclock time limit for intensification reached (used: 0.068733 sec, available: 0.000010 sec)\n"
     ]
    },
    {
     "name": "stdout",
     "output_type": "stream",
     "text": [
      "naive\n",
      "w_svc_lin=0.3333333333333333, w_svc_radial=0.1111111111111111, w_xgbc=0.1111111111111111, w_rfc=0.3333333333333333, w_ctbc=0.1111111111111111, w_=1.0\n",
      "importance_auc_acc_loss=1.0, importance_stability=3.0, importance_consistency=1.0\n",
      "AUC_acc_loss=0.06131210059781485, stability=0.7067812153419838, consistency=0.6527278808485087, joint_metric=0.2660474108004669\n"
     ]
    },
    {
     "name": "stderr",
     "output_type": "stream",
     "text": [
      "INFO:smac.intensification.intensification.Intensifier:Challenger (0.2660) is better than incumbent (0.3023) on 1 runs.\n",
      "INFO:smac.intensification.intensification.Intensifier:Changes in incumbent:\n",
      "INFO:smac.intensification.intensification.Intensifier:  w0 : 0.5 -> 0.25\n",
      "INFO:smac.intensification.intensification.Intensifier:  w1 : 0.5 -> 0.75\n",
      "INFO:smac.intensification.intensification.Intensifier:  w2 : 0.5 -> 0.25\n",
      "INFO:smac.intensification.intensification.Intensifier:  w3 : 0.5 -> 0.75\n",
      "INFO:smac.intensification.intensification.Intensifier:  w4 : 0.5 -> 0.25\n",
      "INFO:smac.intensification.intensification.Intensifier:Wallclock time limit for intensification reached (used: 0.034605 sec, available: 0.000010 sec)\n"
     ]
    },
    {
     "name": "stdout",
     "output_type": "stream",
     "text": [
      "naive\n",
      "w_svc_lin=0.05263157894736842, w_svc_radial=0.3684210526315789, w_xgbc=0.15789473684210525, w_rfc=0.15789473684210525, w_ctbc=0.2631578947368421, w_=1.0\n",
      "importance_auc_acc_loss=1.0, importance_stability=3.0, importance_consistency=1.0\n",
      "AUC_acc_loss=0.05382693747355398, stability=0.7067812153419838, consistency=0.47059273922098976, joint_metric=0.3239660148292743\n"
     ]
    },
    {
     "name": "stderr",
     "output_type": "stream",
     "text": [
      "INFO:smac.intensification.intensification.Intensifier:Wallclock time limit for intensification reached (used: 0.035075 sec, available: 0.000010 sec)\n"
     ]
    },
    {
     "name": "stdout",
     "output_type": "stream",
     "text": [
      "naive\n",
      "w_svc_lin=0.21739130434782608, w_svc_radial=0.13043478260869565, w_xgbc=0.30434782608695654, w_rfc=0.30434782608695654, w_ctbc=0.043478260869565216, w_=1.0\n",
      "importance_auc_acc_loss=1.0, importance_stability=3.0, importance_consistency=1.0\n",
      "AUC_acc_loss=0.0614402678067274, stability=0.7067812153419838, consistency=0.5733404953649649, joint_metric=0.3035187237912879\n"
     ]
    },
    {
     "name": "stderr",
     "output_type": "stream",
     "text": [
      "INFO:smac.intensification.intensification.Intensifier:Wallclock time limit for intensification reached (used: 0.035390 sec, available: 0.000010 sec)\n"
     ]
    },
    {
     "name": "stdout",
     "output_type": "stream",
     "text": [
      "naive\n",
      "w_svc_lin=0.23076923076923078, w_svc_radial=0.07692307692307693, w_xgbc=0.38461538461538464, w_rfc=0.07692307692307693, w_ctbc=0.23076923076923078, w_=1.0\n",
      "importance_auc_acc_loss=1.0, importance_stability=3.0, importance_consistency=1.0\n",
      "AUC_acc_loss=0.05520550877693732, stability=0.7067812153419838, consistency=0.47958632129918666, joint_metric=0.3260323045272591\n"
     ]
    },
    {
     "name": "stderr",
     "output_type": "stream",
     "text": [
      "INFO:smac.intensification.intensification.Intensifier:Wallclock time limit for intensification reached (used: 0.033628 sec, available: 0.000010 sec)\n"
     ]
    },
    {
     "name": "stdout",
     "output_type": "stream",
     "text": [
      "naive\n",
      "w_svc_lin=0.28, w_svc_radial=0.2, w_xgbc=0.04, w_rfc=0.2, w_ctbc=0.28, w_=1.0\n",
      "importance_auc_acc_loss=1.0, importance_stability=3.0, importance_consistency=1.0\n",
      "AUC_acc_loss=0.05587569573283855, stability=0.7067812153419838, consistency=0.46691930109578994, joint_metric=0.33894257281481105\n"
     ]
    },
    {
     "name": "stderr",
     "output_type": "stream",
     "text": [
      "INFO:smac.intensification.intensification.Intensifier:Wallclock time limit for intensification reached (used: 0.032252 sec, available: 0.000010 sec)\n"
     ]
    },
    {
     "name": "stdout",
     "output_type": "stream",
     "text": [
      "naive\n",
      "w_svc_lin=0.33343027476046705, w_svc_radial=0.1100184324624556, w_xgbc=0.11151399871705266, w_rfc=0.3335192790935111, w_ctbc=0.11151801496651352, w_=0.9999999999999999\n",
      "importance_auc_acc_loss=1.0, importance_stability=3.0, importance_consistency=1.0\n",
      "AUC_acc_loss=0.061293807413294765, stability=0.7067812153419839, consistency=0.6519502197825401, joint_metric=0.26628528515894906\n"
     ]
    },
    {
     "name": "stderr",
     "output_type": "stream",
     "text": [
      "INFO:smac.intensification.intensification.Intensifier:Wallclock time limit for intensification reached (used: 0.036329 sec, available: 0.000010 sec)\n"
     ]
    },
    {
     "name": "stdout",
     "output_type": "stream",
     "text": [
      "naive\n",
      "w_svc_lin=0.3432691228727619, w_svc_radial=0.11395497146786025, w_xgbc=0.1146358019031445, w_rfc=0.343384384847589, w_ctbc=0.08475571890864458, w_=1.0000000000000002\n",
      "importance_auc_acc_loss=1.0, importance_stability=3.0, importance_consistency=1.0\n",
      "AUC_acc_loss=0.06228979840491995, stability=0.7067812153419837, consistency=0.6985964563119135, joint_metric=0.25254312592134365\n"
     ]
    },
    {
     "name": "stderr",
     "output_type": "stream",
     "text": [
      "INFO:smac.intensification.intensification.Intensifier:Challenger (0.2525) is better than incumbent (0.2660) on 1 runs.\n",
      "INFO:smac.intensification.intensification.Intensifier:Changes in incumbent:\n",
      "INFO:smac.intensification.intensification.Intensifier:  w0 : 0.25 -> 0.25054646993342505\n",
      "INFO:smac.intensification.intensification.Intensifier:  w1 : 0.75 -> 0.7504963024249074\n",
      "INFO:smac.intensification.intensification.Intensifier:  w2 : 0.25 -> 0.1852409616078941\n",
      "INFO:smac.intensification.intensification.Intensifier:  w3 : 0.75 -> 0.7502443873998362\n",
      "INFO:smac.intensification.intensification.Intensifier:  w4 : 0.25 -> 0.2490584560725561\n",
      "INFO:smac.intensification.intensification.Intensifier:Wallclock time limit for intensification reached (used: 0.035781 sec, available: 0.000010 sec)\n"
     ]
    },
    {
     "name": "stdout",
     "output_type": "stream",
     "text": [
      "naive\n",
      "w_svc_lin=0.3655455809671682, w_svc_radial=0.12143404484745465, w_xgbc=0.12213567860793992, w_rfc=0.3656373245386136, w_ctbc=0.025247371038823654, w_=1.0\n",
      "importance_auc_acc_loss=1.0, importance_stability=3.0, importance_consistency=1.0\n",
      "AUC_acc_loss=0.06450189289439258, stability=0.7067812153419838, consistency=0.7414462945871794, joint_metric=0.2463983330659636\n"
     ]
    },
    {
     "name": "stderr",
     "output_type": "stream",
     "text": [
      "INFO:smac.intensification.intensification.Intensifier:Challenger (0.2464) is better than incumbent (0.2525) on 1 runs.\n",
      "INFO:smac.intensification.intensification.Intensifier:Changes in incumbent:\n",
      "INFO:smac.intensification.intensification.Intensifier:  w0 : 0.25054646993342505 -> 0.2506923739863765\n",
      "INFO:smac.intensification.intensification.Intensifier:  w1 : 0.7504963024249074 -> 0.7504972334976109\n",
      "INFO:smac.intensification.intensification.Intensifier:  w2 : 0.1852409616078941 -> 0.051822067513580164\n",
      "INFO:smac.intensification.intensification.Intensifier:  w3 : 0.7502443873998362 -> 0.7503089231366601\n",
      "INFO:smac.intensification.intensification.Intensifier:  w4 : 0.2490584560725561 -> 0.24925221960159868\n",
      "INFO:smac.intensification.intensification.Intensifier:Wallclock time limit for intensification reached (used: 0.035959 sec, available: 0.000010 sec)\n"
     ]
    },
    {
     "name": "stdout",
     "output_type": "stream",
     "text": [
      "naive\n",
      "w_svc_lin=0.36285560064848155, w_svc_radial=0.11633085359916809, w_xgbc=0.11132298456583725, w_rfc=0.3629740510607184, w_ctbc=0.046516510125794816, w_=1.0\n",
      "importance_auc_acc_loss=1.0, importance_stability=3.0, importance_consistency=1.0\n",
      "AUC_acc_loss=0.06379300240770155, stability=0.7067812153419837, consistency=0.7511059728468296, joint_metric=0.24055635350600657\n"
     ]
    },
    {
     "name": "stderr",
     "output_type": "stream",
     "text": [
      "INFO:smac.intensification.intensification.Intensifier:Challenger (0.2406) is better than incumbent (0.2464) on 1 runs.\n",
      "INFO:smac.intensification.intensification.Intensifier:Changes in incumbent:\n",
      "INFO:smac.intensification.intensification.Intensifier:  w0 : 0.2506923739863765 -> 0.23019207854909007\n",
      "INFO:smac.intensification.intensification.Intensifier:  w1 : 0.7504972334976109 -> 0.7505525619791122\n",
      "INFO:smac.intensification.intensification.Intensifier:  w2 : 0.051822067513580164 -> 0.09618617569827972\n",
      "INFO:smac.intensification.intensification.Intensifier:  w3 : 0.7503089231366601 -> 0.7503076319073564\n",
      "INFO:smac.intensification.intensification.Intensifier:  w4 : 0.24925221960159868 -> 0.2405472786578537\n",
      "INFO:smac.intensification.intensification.Intensifier:Wallclock time limit for intensification reached (used: 0.037650 sec, available: 0.000010 sec)\n"
     ]
    },
    {
     "name": "stdout",
     "output_type": "stream",
     "text": [
      "naive\n",
      "w_svc_lin=0.4004092595642341, w_svc_radial=0.1089934721513994, w_xgbc=0.03919190284263627, w_rfc=0.40052770659492914, w_ctbc=0.05087765884680112, w_=1.0000000000000002\n",
      "importance_auc_acc_loss=1.0, importance_stability=3.0, importance_consistency=1.0\n",
      "AUC_acc_loss=0.06432649084544027, stability=0.7067812153419838, consistency=0.781124339580161, joint_metric=0.23324626312202368\n"
     ]
    },
    {
     "name": "stderr",
     "output_type": "stream",
     "text": [
      "INFO:smac.intensification.intensification.Intensifier:Challenger (0.2332) is better than incumbent (0.2406) on 1 runs.\n",
      "INFO:smac.intensification.intensification.Intensifier:Changes in incumbent:\n",
      "INFO:smac.intensification.intensification.Intensifier:  w0 : 0.23019207854909007 -> 0.07343981965802733\n",
      "INFO:smac.intensification.intensification.Intensifier:  w1 : 0.7505525619791122 -> 0.7505295840949856\n",
      "INFO:smac.intensification.intensification.Intensifier:  w2 : 0.09618617569827972 -> 0.09533719516845941\n",
      "INFO:smac.intensification.intensification.Intensifier:  w4 : 0.2405472786578537 -> 0.20423761946034083\n",
      "INFO:smac.intensification.intensification.Intensifier:Wallclock time limit for intensification reached (used: 0.035915 sec, available: 0.000010 sec)\n"
     ]
    },
    {
     "name": "stdout",
     "output_type": "stream",
     "text": [
      "naive\n",
      "w_svc_lin=0.42162923961519166, w_svc_radial=0.04412977652920523, w_xgbc=0.06437938623614624, w_rfc=0.4215723398018624, w_ctbc=0.048289257817594466, w_=1.0\n",
      "importance_auc_acc_loss=1.0, importance_stability=3.0, importance_consistency=1.0\n",
      "AUC_acc_loss=0.06429824733634776, stability=0.7067812153419838, consistency=0.7779142281487453, joint_metric=0.23410593546252284\n"
     ]
    },
    {
     "name": "stderr",
     "output_type": "stream",
     "text": [
      "INFO:smac.intensification.intensification.Intensifier:Wallclock time limit for intensification reached (used: 0.037143 sec, available: 0.000010 sec)\n"
     ]
    },
    {
     "name": "stdout",
     "output_type": "stream",
     "text": [
      "naive\n",
      "w_svc_lin=0.44098761201729225, w_svc_radial=0.09134694810018719, w_xgbc=0.06345958849999767, w_rfc=0.34562240405638167, w_ctbc=0.05858344732614119, w_=1.0\n",
      "importance_auc_acc_loss=1.0, importance_stability=3.0, importance_consistency=1.0\n",
      "AUC_acc_loss=0.06448889597570064, stability=0.7067812153419838, consistency=0.7580554581810091, joint_metric=0.24095113017471245\n"
     ]
    },
    {
     "name": "stderr",
     "output_type": "stream",
     "text": [
      "INFO:smac.intensification.intensification.Intensifier:Wallclock time limit for intensification reached (used: 0.036205 sec, available: 0.000010 sec)\n"
     ]
    },
    {
     "name": "stdout",
     "output_type": "stream",
     "text": [
      "naive\n",
      "w_svc_lin=0.38247838027308717, w_svc_radial=0.05743724460351199, w_xgbc=0.0004733540872334574, w_rfc=0.5095201419520571, w_ctbc=0.05009087908411029, w_=1.0\n",
      "importance_auc_acc_loss=1.0, importance_stability=3.0, importance_consistency=1.0\n",
      "AUC_acc_loss=0.06393615320960082, stability=0.7067812153419839, consistency=0.7721662956951925, joint_metric=0.23452042172874657\n"
     ]
    },
    {
     "name": "stderr",
     "output_type": "stream",
     "text": [
      "INFO:smac.intensification.intensification.Intensifier:Wallclock time limit for intensification reached (used: 0.036949 sec, available: 0.000010 sec)\n"
     ]
    },
    {
     "name": "stdout",
     "output_type": "stream",
     "text": [
      "naive\n",
      "w_svc_lin=0.47276637810018485, w_svc_radial=0.05861351319986052, w_xgbc=0.005006799343976245, w_rfc=0.41653461610761117, w_ctbc=0.04707869324836715, w_=1.0\n",
      "importance_auc_acc_loss=1.0, importance_stability=3.0, importance_consistency=1.0\n",
      "AUC_acc_loss=0.06527648591627991, stability=0.7067812153419839, consistency=0.7847571956260513, joint_metric=0.23559521460851515\n"
     ]
    },
    {
     "name": "stderr",
     "output_type": "stream",
     "text": [
      "INFO:smac.intensification.intensification.Intensifier:Wallclock time limit for intensification reached (used: 0.036925 sec, available: 0.000010 sec)\n"
     ]
    },
    {
     "name": "stdout",
     "output_type": "stream",
     "text": [
      "naive\n",
      "w_svc_lin=0.407495810407324, w_svc_radial=0.07382067774533116, w_xgbc=0.03847768178311797, w_rfc=0.433619551511747, w_ctbc=0.04658627855247977, w_=0.9999999999999999\n",
      "importance_auc_acc_loss=1.0, importance_stability=3.0, importance_consistency=1.0\n",
      "AUC_acc_loss=0.06437915754710154, stability=0.7067812153419838, consistency=0.7881184698239477, joint_metric=0.2313656006011115\n"
     ]
    },
    {
     "name": "stderr",
     "output_type": "stream",
     "text": [
      "INFO:smac.intensification.intensification.Intensifier:Challenger (0.2314) is better than incumbent (0.2332) on 1 runs.\n",
      "INFO:smac.intensification.intensification.Intensifier:Changes in incumbent:\n",
      "INFO:smac.intensification.intensification.Intensifier:  w0 : 0.07343981965802733 -> 0.07780399839122923\n",
      "INFO:smac.intensification.intensification.Intensifier:  w1 : 0.7505295840949856 -> 0.876802689891461\n",
      "INFO:smac.intensification.intensification.Intensifier:  w2 : 0.09533719516845941 -> 0.09420002904490937\n",
      "INFO:smac.intensification.intensification.Intensifier:  w3 : 0.7503076319073564 -> 0.8239790420865356\n",
      "INFO:smac.intensification.intensification.Intensifier:  w4 : 0.20423761946034083 -> 0.14926948886658678\n",
      "INFO:smac.intensification.intensification.Intensifier:Wallclock time limit for intensification reached (used: 0.036354 sec, available: 0.000010 sec)\n"
     ]
    },
    {
     "name": "stdout",
     "output_type": "stream",
     "text": [
      "naive\n",
      "w_svc_lin=0.3280002910192509, w_svc_radial=0.31812784759114715, w_xgbc=1.042447912532519e-05, w_rfc=0.3297669764693602, w_ctbc=0.024094460441116534, w_=1.0000000000000002\n",
      "importance_auc_acc_loss=1.0, importance_stability=3.0, importance_consistency=1.0\n",
      "AUC_acc_loss=0.06536410201370757, stability=0.7067812153419838, consistency=0.8575589122694438, joint_metric=0.21588394176772857\n"
     ]
    },
    {
     "name": "stderr",
     "output_type": "stream",
     "text": [
      "INFO:smac.intensification.intensification.Intensifier:Challenger (0.2159) is better than incumbent (0.2314) on 1 runs.\n",
      "INFO:smac.intensification.intensification.Intensifier:Changes in incumbent:\n",
      "INFO:smac.intensification.intensification.Intensifier:  w0 : 0.07780399839122923 -> 3.1610340870918464e-05\n",
      "INFO:smac.intensification.intensification.Intensifier:  w1 : 0.876802689891461 -> 0.999958502372026\n",
      "INFO:smac.intensification.intensification.Intensifier:  w2 : 0.09420002904490937 -> 0.07306207806529567\n",
      "INFO:smac.intensification.intensification.Intensifier:  w3 : 0.8239790420865356 -> 0.9946013494036847\n",
      "INFO:smac.intensification.intensification.Intensifier:  w4 : 0.14926948886658678 -> 0.9646649565883283\n",
      "INFO:smac.intensification.intensification.Intensifier:Wallclock time limit for intensification reached (used: 0.036800 sec, available: 0.000010 sec)\n"
     ]
    },
    {
     "name": "stdout",
     "output_type": "stream",
     "text": [
      "naive\n",
      "w_svc_lin=0.30456369439087194, w_svc_radial=0.3476591860325941, w_xgbc=0.0001539498940302546, w_rfc=0.34761350487937825, w_ctbc=9.664803125258666e-06, w_=0.9999999999999998\n",
      "importance_auc_acc_loss=1.0, importance_stability=3.0, importance_consistency=1.0\n",
      "AUC_acc_loss=0.06595553881985804, stability=0.706781215341984, consistency=0.89899809829909, joint_metric=0.20779615361381462\n"
     ]
    },
    {
     "name": "stderr",
     "output_type": "stream",
     "text": [
      "INFO:smac.intensification.intensification.Intensifier:Challenger (0.2078) is better than incumbent (0.2159) on 1 runs.\n",
      "INFO:smac.intensification.intensification.Intensifier:Changes in incumbent:\n",
      "INFO:smac.intensification.intensification.Intensifier:  w0 : 3.1610340870918464e-05 -> 0.00044276930255096863\n",
      "INFO:smac.intensification.intensification.Intensifier:  w1 : 0.999958502372026 -> 0.9997576814342775\n",
      "INFO:smac.intensification.intensification.Intensifier:  w2 : 0.07306207806529567 -> 2.7796564369328034e-05\n",
      "INFO:smac.intensification.intensification.Intensifier:  w3 : 0.9946013494036847 -> 0.8759437958514698\n",
      "INFO:smac.intensification.intensification.Intensifier:  w4 : 0.9646649565883283 -> 0.999889063222336\n",
      "INFO:smac.intensification.intensification.Intensifier:Wallclock time limit for intensification reached (used: 0.037944 sec, available: 0.000010 sec)\n"
     ]
    },
    {
     "name": "stdout",
     "output_type": "stream",
     "text": [
      "naive\n",
      "w_svc_lin=0.2179608844044409, w_svc_radial=0.3882350628437836, w_xgbc=0.00019788538129375104, w_rfc=0.3882482484634517, w_ctbc=0.00535791890703005, w_=1.0\n",
      "importance_auc_acc_loss=1.0, importance_stability=3.0, importance_consistency=1.0\n",
      "AUC_acc_loss=0.06479779700322069, stability=0.7067812153419838, consistency=0.8809988178692213, joint_metric=0.20831949785860748\n"
     ]
    },
    {
     "name": "stderr",
     "output_type": "stream",
     "text": [
      "INFO:smac.intensification.intensification.Intensifier:Wallclock time limit for intensification reached (used: 0.036436 sec, available: 0.000010 sec)\n"
     ]
    },
    {
     "name": "stdout",
     "output_type": "stream",
     "text": [
      "naive\n",
      "w_svc_lin=0.29481212251603156, w_svc_radial=0.4076127942036074, w_xgbc=1.8002084897626057e-05, w_rfc=0.29725978792454133, w_ctbc=0.0002972932709221337, w_=1.0000000000000002\n",
      "importance_auc_acc_loss=1.0, importance_stability=3.0, importance_consistency=1.0\n",
      "AUC_acc_loss=0.06612407632108375, stability=0.7067812153419838, consistency=0.8937928072657731, joint_metric=0.20954039962913837\n"
     ]
    },
    {
     "name": "stderr",
     "output_type": "stream",
     "text": [
      "INFO:smac.intensification.intensification.Intensifier:Wallclock time limit for intensification reached (used: 0.035619 sec, available: 0.000010 sec)\n"
     ]
    },
    {
     "name": "stdout",
     "output_type": "stream",
     "text": [
      "naive\n",
      "w_svc_lin=0.27100335846188656, w_svc_radial=0.37666798415955893, w_xgbc=6.52758698575655e-05, w_rfc=0.3522295881706409, w_ctbc=3.379333805598647e-05, w_=1.0\n",
      "importance_auc_acc_loss=1.0, importance_stability=3.0, importance_consistency=1.0\n",
      "AUC_acc_loss=0.06564124635419613, stability=0.7067812153419839, consistency=0.8953103774479636, joint_metric=0.20765777910606373\n"
     ]
    },
    {
     "name": "stderr",
     "output_type": "stream",
     "text": [
      "INFO:smac.intensification.intensification.Intensifier:Challenger (0.2077) is better than incumbent (0.2078) on 1 runs.\n",
      "INFO:smac.intensification.intensification.Intensifier:Changes in incumbent:\n",
      "INFO:smac.intensification.intensification.Intensifier:  w0 : 0.00044276930255096863 -> 0.00017329255052479125\n",
      "INFO:smac.intensification.intensification.Intensifier:  w1 : 0.9997576814342775 -> 0.9350892425880524\n",
      "INFO:smac.intensification.intensification.Intensifier:  w2 : 2.7796564369328034e-05 -> 8.971360711464588e-05\n",
      "INFO:smac.intensification.intensification.Intensifier:  w3 : 0.8759437958514698 -> 0.7194521235966583\n",
      "INFO:smac.intensification.intensification.Intensifier:  w4 : 0.999889063222336 -> 0.9999676115917188\n",
      "INFO:smac.intensification.intensification.Intensifier:Wallclock time limit for intensification reached (used: 0.035547 sec, available: 0.000010 sec)\n"
     ]
    },
    {
     "name": "stdout",
     "output_type": "stream",
     "text": [
      "naive\n",
      "w_svc_lin=0.0007651669489467358, w_svc_radial=0.5523907798470936, w_xgbc=2.4396156982516123e-05, w_rfc=0.44675449420300856, w_ctbc=6.516284396875073e-05, w_=1.0\n",
      "importance_auc_acc_loss=1.0, importance_stability=3.0, importance_consistency=1.0\n",
      "AUC_acc_loss=0.06281236366022866, stability=0.7067812153419837, consistency=0.8601286975028154, joint_metric=0.2068362729064002\n"
     ]
    },
    {
     "name": "stderr",
     "output_type": "stream",
     "text": [
      "INFO:smac.intensification.intensification.Intensifier:Challenger (0.2068) is better than incumbent (0.2077) on 1 runs.\n",
      "INFO:smac.intensification.intensification.Intensifier:Changes in incumbent:\n",
      "INFO:smac.intensification.intensification.Intensifier:  w0 : 0.00017329255052479125 -> 4.4162394773005615e-05\n",
      "INFO:smac.intensification.intensification.Intensifier:  w1 : 0.9350892425880524 -> 0.8087236179758697\n",
      "INFO:smac.intensification.intensification.Intensifier:  w2 : 8.971360711464588e-05 -> 0.00011795903928401999\n",
      "INFO:smac.intensification.intensification.Intensifier:  w3 : 0.7194521235966583 -> 0.0013851199961887133\n",
      "INFO:smac.intensification.intensification.Intensifier:  w4 : 0.9999676115917188 -> 0.9999484634427774\n",
      "INFO:smac.intensification.intensification.Intensifier:Wallclock time limit for intensification reached (used: 0.035707 sec, available: 0.000010 sec)\n"
     ]
    },
    {
     "name": "stdout",
     "output_type": "stream",
     "text": [
      "naive\n",
      "w_svc_lin=0.04128860485820724, w_svc_radial=0.47932332483143286, w_xgbc=2.1169156880580273e-05, w_rfc=0.47934372808611675, w_ctbc=2.317306736264506e-05, w_=1.0\n",
      "importance_auc_acc_loss=1.0, importance_stability=3.0, importance_consistency=1.0\n",
      "AUC_acc_loss=0.06299436445922257, stability=0.7067812153419837, consistency=0.867083508762639, joint_metric=0.20577176234929673\n"
     ]
    },
    {
     "name": "stderr",
     "output_type": "stream",
     "text": [
      "INFO:smac.intensification.intensification.Intensifier:Challenger (0.2058) is better than incumbent (0.2068) on 1 runs.\n",
      "INFO:smac.intensification.intensification.Intensifier:Changes in incumbent:\n",
      "INFO:smac.intensification.intensification.Intensifier:  w1 : 0.8087236179758697 -> 0.999991028037725\n",
      "INFO:smac.intensification.intensification.Intensifier:  w2 : 0.00011795903928401999 -> 4.834288652796507e-05\n",
      "INFO:smac.intensification.intensification.Intensifier:  w3 : 0.0013851199961887133 -> 0.08613492155880342\n",
      "INFO:smac.intensification.intensification.Intensifier:Wallclock time limit for intensification reached (used: 0.036500 sec, available: 0.000010 sec)\n"
     ]
    },
    {
     "name": "stdout",
     "output_type": "stream",
     "text": [
      "naive\n",
      "w_svc_lin=0.06545843764358755, w_svc_radial=0.15684873678705408, w_xgbc=0.4263686536878561, w_rfc=0.11162000294714473, w_ctbc=0.23970416893435756, w_=0.9999999999999999\n",
      "importance_auc_acc_loss=1.0, importance_stability=3.0, importance_consistency=1.0\n",
      "AUC_acc_loss=0.05293926987200665, stability=0.7067812153419838, consistency=0.4655065850920667, joint_metric=0.3221047454237367\n"
     ]
    },
    {
     "name": "stderr",
     "output_type": "stream",
     "text": [
      "INFO:smac.intensification.intensification.Intensifier:Wallclock time limit for intensification reached (used: 0.033836 sec, available: 0.000010 sec)\n"
     ]
    },
    {
     "name": "stdout",
     "output_type": "stream",
     "text": [
      "naive\n",
      "w_svc_lin=0.00010284844590650511, w_svc_radial=0.4752675323841343, w_xgbc=8.23629904746332e-05, w_rfc=0.47520013560219587, w_ctbc=0.04934712057728859, w_=1.0\n",
      "importance_auc_acc_loss=1.0, importance_stability=3.0, importance_consistency=1.0\n",
      "AUC_acc_loss=0.06084076076020897, stability=0.706781215341984, consistency=0.7702493232593012, joint_metric=0.22372180532843522\n"
     ]
    },
    {
     "name": "stderr",
     "output_type": "stream",
     "text": [
      "INFO:smac.intensification.intensification.Intensifier:Wallclock time limit for intensification reached (used: 0.035916 sec, available: 0.000010 sec)\n"
     ]
    },
    {
     "name": "stdout",
     "output_type": "stream",
     "text": [
      "naive\n",
      "w_svc_lin=0.12297429037082919, w_svc_radial=0.4761787005413071, w_xgbc=0.0007009717853065851, w_rfc=0.40009749198412486, w_ctbc=4.8545318432277966e-05, w_=1.0\n",
      "importance_auc_acc_loss=1.0, importance_stability=3.0, importance_consistency=1.0\n",
      "AUC_acc_loss=0.06410696660851933, stability=0.7067812153419838, consistency=0.8752987187987172, joint_metric=0.20744068580176384\n"
     ]
    },
    {
     "name": "stderr",
     "output_type": "stream",
     "text": [
      "INFO:smac.intensification.intensification.Intensifier:Wallclock time limit for intensification reached (used: 0.036124 sec, available: 0.000010 sec)\n"
     ]
    },
    {
     "name": "stdout",
     "output_type": "stream",
     "text": [
      "naive\n",
      "w_svc_lin=0.000859726338273859, w_svc_radial=0.4192310329058745, w_xgbc=0.0004942830220436002, w_rfc=0.5793869419686263, w_ctbc=2.8015765181838466e-05, w_=1.0\n",
      "importance_auc_acc_loss=1.0, importance_stability=3.0, importance_consistency=1.0\n",
      "AUC_acc_loss=0.062119817076183234, stability=0.7067812153419838, consistency=0.8539883148185539, joint_metric=0.20602657587616677\n"
     ]
    },
    {
     "name": "stderr",
     "output_type": "stream",
     "text": [
      "INFO:smac.intensification.intensification.Intensifier:Wallclock time limit for intensification reached (used: 0.045139 sec, available: 0.000010 sec)\n"
     ]
    },
    {
     "name": "stdout",
     "output_type": "stream",
     "text": [
      "naive\n",
      "w_svc_lin=0.1956837712563662, w_svc_radial=0.0018953580548859658, w_xgbc=0.5135530913504759, w_rfc=0.10547321262706483, w_ctbc=0.18339456671120702, w_=0.9999999999999999\n",
      "importance_auc_acc_loss=1.0, importance_stability=3.0, importance_consistency=1.0\n",
      "AUC_acc_loss=0.0554897231996918, stability=0.7067812153419838, consistency=0.44991864709621304, joint_metric=0.34932009539767955\n"
     ]
    },
    {
     "name": "stderr",
     "output_type": "stream",
     "text": [
      "INFO:smac.intensification.intensification.Intensifier:Wallclock time limit for intensification reached (used: 0.035349 sec, available: 0.000010 sec)\n"
     ]
    },
    {
     "name": "stdout",
     "output_type": "stream",
     "text": [
      "naive\n",
      "w_svc_lin=8.168863112764127e-05, w_svc_radial=0.43917211321169886, w_xgbc=0.07106032368648602, w_rfc=0.48967509995274494, w_ctbc=1.0774517942479642e-05, w_=0.9999999999999999\n",
      "importance_auc_acc_loss=1.0, importance_stability=3.0, importance_consistency=1.0\n",
      "AUC_acc_loss=0.062028012893110426, stability=0.7067812153419838, consistency=0.79416755036125, joint_metric=0.22121813945765345\n"
     ]
    },
    {
     "name": "stderr",
     "output_type": "stream",
     "text": [
      "INFO:smac.intensification.intensification.Intensifier:Wallclock time limit for intensification reached (used: 0.035863 sec, available: 0.000010 sec)\n",
      "INFO:smac.stats.stats.Stats:##########################################################\n",
      "INFO:smac.stats.stats.Stats:Statistics:\n",
      "INFO:smac.stats.stats.Stats:#Incumbent changed: 11\n",
      "INFO:smac.stats.stats.Stats:#Submitted target algorithm runs: 30 / 30.0\n",
      "INFO:smac.stats.stats.Stats:#Finished target algorithm runs: 30 / 30.0\n",
      "INFO:smac.stats.stats.Stats:#Configurations: 30\n",
      "INFO:smac.stats.stats.Stats:Used wallclock time: 113.32 / inf sec \n",
      "INFO:smac.stats.stats.Stats:Used target algorithm runtime: 0.69 / inf sec\n",
      "INFO:smac.stats.stats.Stats:##########################################################\n",
      "INFO:smac.facade.smac_bo_facade.SMAC4BO:Final Incumbent: Configuration:\n",
      "  importance_auc_acc_loss, Constant: 1.0\n",
      "  importance_consistency, Constant: 1.0\n",
      "  importance_stability, Constant: 3.0\n",
      "  w0, Value: 4.4162394773005615e-05\n",
      "  w1, Value: 0.999991028037725\n",
      "  w2, Value: 4.834288652796507e-05\n",
      "  w3, Value: 0.08613492155880342\n",
      "  w4, Value: 0.9999484634427774\n",
      "\n",
      "INFO:smac.facade.smac_bo_facade.SMAC4BO:Estimated cost of incumbent: 0.205772\n"
     ]
    },
    {
     "name": "stdout",
     "output_type": "stream",
     "text": [
      "AUC_acc_loss=0.06299436445922259, stability=0.3387941823518861, consistency=0.867083508763887, joint_metric=0.2852219701922295\n",
      "{'auc_acc_loss': 0.06299436445922259, 'stability': 0.3387941823518861, 'consistency': 0.867083508763887, 'joint_metric': 0.2852219701922295, 'w_svc_lin': 0.08613492155880342, 'w_svc_radial': 0.9999484634427774, 'w_xgbc': 4.4162394773005615e-05, 'w_rfc': 0.999991028037725, 'w_ctbc': 4.834288652796507e-05, 'w_': 2.0861669183206066}\n"
     ]
    },
    {
     "data": {
      "application/vnd.jupyter.widget-view+json": {
       "model_id": "fa8043cc45804886aa0843027e0b14d8",
       "version_major": 2,
       "version_minor": 0
      },
      "text/plain": [
       "  0%|          | 0/66 [00:00<?, ?it/s]"
      ]
     },
     "metadata": {},
     "output_type": "display_data"
    },
    {
     "name": "stderr",
     "output_type": "stream",
     "text": [
      "INFO:shap:num_full_subsets = 1\n",
      "INFO:shap:phi = [-0.0332613  -0.44654182]\n",
      "INFO:shap:phi = [0.0332613  0.44654182]\n",
      "INFO:shap:num_full_subsets = 1\n",
      "INFO:shap:phi = [0.05256283 0.08365554]\n",
      "INFO:shap:phi = [-0.05256283 -0.08365554]\n",
      "INFO:shap:num_full_subsets = 1\n",
      "INFO:shap:phi = [ 0.08779345 -0.07911768]\n",
      "INFO:shap:phi = [-0.08779345  0.07911768]\n",
      "INFO:shap:num_full_subsets = 1\n",
      "INFO:shap:phi = [-0.24041384 -0.1811726 ]\n",
      "INFO:shap:phi = [0.24041384 0.1811726 ]\n",
      "INFO:shap:num_full_subsets = 1\n",
      "INFO:shap:phi = [0.06125807 0.08816744]\n",
      "INFO:shap:phi = [-0.06125807 -0.08816744]\n",
      "INFO:shap:num_full_subsets = 1\n",
      "INFO:shap:phi = [-0.02771281  0.14244534]\n",
      "INFO:shap:phi = [ 0.02771281 -0.14244534]\n",
      "INFO:shap:num_full_subsets = 1\n",
      "INFO:shap:phi = [0.02262374 0.17998913]\n",
      "INFO:shap:phi = [-0.02262374 -0.17998913]\n",
      "INFO:shap:num_full_subsets = 1\n",
      "INFO:shap:phi = [-0.0165452  -0.43497942]\n",
      "INFO:shap:phi = [0.0165452  0.43497942]\n",
      "INFO:shap:num_full_subsets = 1\n",
      "INFO:shap:phi = [-0.00597988 -0.43451191]\n",
      "INFO:shap:phi = [0.00597988 0.43451191]\n",
      "INFO:shap:num_full_subsets = 1\n",
      "INFO:shap:phi = [-0.19679623 -0.29035179]\n",
      "INFO:shap:phi = [0.19679623 0.29035179]\n",
      "INFO:shap:num_full_subsets = 1\n",
      "INFO:shap:phi = [0.07416738 0.17692112]\n",
      "INFO:shap:phi = [-0.07416738 -0.17692112]\n",
      "INFO:shap:num_full_subsets = 1\n",
      "INFO:shap:phi = [ 0.03813949 -0.21151957]\n",
      "INFO:shap:phi = [-0.03813949  0.21151957]\n",
      "INFO:shap:num_full_subsets = 1\n",
      "INFO:shap:phi = [0.06785394 0.1607652 ]\n",
      "INFO:shap:phi = [-0.06785394 -0.1607652 ]\n",
      "INFO:shap:num_full_subsets = 1\n",
      "INFO:shap:phi = [0.05227763 0.20327874]\n",
      "INFO:shap:phi = [-0.05227763 -0.20327874]\n",
      "INFO:shap:num_full_subsets = 1\n",
      "INFO:shap:phi = [0.04378767 0.35474269]\n",
      "INFO:shap:phi = [-0.04378767 -0.35474269]\n",
      "INFO:shap:num_full_subsets = 1\n",
      "INFO:shap:phi = [-0.43967998 -0.04858138]\n",
      "INFO:shap:phi = [0.43967998 0.04858138]\n",
      "INFO:shap:num_full_subsets = 1\n",
      "INFO:shap:phi = [0.0374706  0.33830724]\n",
      "INFO:shap:phi = [-0.0374706  -0.33830724]\n",
      "INFO:shap:num_full_subsets = 1\n",
      "INFO:shap:phi = [0.08801546 0.31014847]\n",
      "INFO:shap:phi = [-0.08801546 -0.31014847]\n",
      "INFO:shap:num_full_subsets = 1\n",
      "INFO:shap:phi = [0.26707773 0.15871267]\n",
      "INFO:shap:phi = [-0.26707773 -0.15871267]\n",
      "INFO:shap:num_full_subsets = 1\n",
      "INFO:shap:phi = [0.21373007 0.15559099]\n",
      "INFO:shap:phi = [-0.21373007 -0.15559099]\n",
      "INFO:shap:num_full_subsets = 1\n",
      "INFO:shap:phi = [0.0694313  0.15973408]\n",
      "INFO:shap:phi = [-0.0694313  -0.15973408]\n",
      "INFO:shap:num_full_subsets = 1\n",
      "INFO:shap:phi = [0.1697378  0.16385996]\n",
      "INFO:shap:phi = [-0.1697378  -0.16385996]\n",
      "INFO:shap:num_full_subsets = 1\n",
      "INFO:shap:phi = [0.03875079 0.18330335]\n",
      "INFO:shap:phi = [-0.03875079 -0.18330335]\n",
      "INFO:shap:num_full_subsets = 1\n",
      "INFO:shap:phi = [0.08815405 0.09962389]\n",
      "INFO:shap:phi = [-0.08815405 -0.09962389]\n",
      "INFO:shap:num_full_subsets = 1\n",
      "INFO:shap:phi = [0.22015884 0.16509722]\n",
      "INFO:shap:phi = [-0.22015884 -0.16509722]\n",
      "INFO:shap:num_full_subsets = 1\n",
      "INFO:shap:phi = [ 0.49556112 -0.30358559]\n",
      "INFO:shap:phi = [-0.49556112  0.30358559]\n",
      "INFO:shap:num_full_subsets = 1\n",
      "INFO:shap:phi = [0.03186808 0.06369449]\n",
      "INFO:shap:phi = [-0.03186808 -0.06369449]\n",
      "INFO:shap:num_full_subsets = 1\n",
      "INFO:shap:phi = [0.05618805 0.06270755]\n",
      "INFO:shap:phi = [-0.05618805 -0.06270755]\n",
      "INFO:shap:num_full_subsets = 1\n",
      "INFO:shap:phi = [0.05492203 0.29283557]\n",
      "INFO:shap:phi = [-0.05492203 -0.29283557]\n",
      "INFO:shap:num_full_subsets = 1\n",
      "INFO:shap:phi = [0.08914453 0.0615849 ]\n",
      "INFO:shap:phi = [-0.08914453 -0.0615849 ]\n",
      "INFO:shap:num_full_subsets = 1\n",
      "INFO:shap:phi = [ 0.06304662 -0.04322997]\n",
      "INFO:shap:phi = [-0.06304662  0.04322997]\n",
      "INFO:shap:num_full_subsets = 1\n",
      "INFO:shap:phi = [-0.00113745  0.23157396]\n",
      "INFO:shap:phi = [ 0.00113745 -0.23157396]\n",
      "INFO:shap:num_full_subsets = 1\n",
      "INFO:shap:phi = [0.04437501 0.17417884]\n",
      "INFO:shap:phi = [-0.04437501 -0.17417884]\n",
      "INFO:shap:num_full_subsets = 1\n",
      "INFO:shap:phi = [ 0.07286503 -0.19215823]\n",
      "INFO:shap:phi = [-0.07286503  0.19215823]\n",
      "INFO:shap:num_full_subsets = 1\n",
      "INFO:shap:phi = [ 0.04620384 -0.202023  ]\n",
      "INFO:shap:phi = [-0.04620384  0.202023  ]\n",
      "INFO:shap:num_full_subsets = 1\n",
      "INFO:shap:phi = [-0.03320306 -0.34888945]\n",
      "INFO:shap:phi = [0.03320306 0.34888945]\n",
      "INFO:shap:num_full_subsets = 1\n",
      "INFO:shap:phi = [-0.05932584 -0.4016798 ]\n",
      "INFO:shap:phi = [0.05932584 0.4016798 ]\n",
      "INFO:shap:num_full_subsets = 1\n",
      "INFO:shap:phi = [0.03572399 0.22767708]\n",
      "INFO:shap:phi = [-0.03572399 -0.22767708]\n",
      "INFO:shap:num_full_subsets = 1\n",
      "INFO:shap:phi = [-0.2002948  -0.28751013]\n",
      "INFO:shap:phi = [0.2002948  0.28751013]\n",
      "INFO:shap:num_full_subsets = 1\n",
      "INFO:shap:phi = [-0.1779334  -0.10725748]\n",
      "INFO:shap:phi = [0.1779334  0.10725748]\n",
      "INFO:shap:num_full_subsets = 1\n",
      "INFO:shap:phi = [ 0.00342363 -0.3685446 ]\n",
      "INFO:shap:phi = [-0.00342363  0.3685446 ]\n",
      "INFO:shap:num_full_subsets = 1\n",
      "INFO:shap:phi = [0.14105113 0.26767575]\n",
      "INFO:shap:phi = [-0.14105113 -0.26767575]\n",
      "INFO:shap:num_full_subsets = 1\n",
      "INFO:shap:phi = [ 0.11370159 -0.17998964]\n",
      "INFO:shap:phi = [-0.11370159  0.17998964]\n",
      "INFO:shap:num_full_subsets = 1\n",
      "INFO:shap:phi = [-0.24709205 -0.23399548]\n",
      "INFO:shap:phi = [0.24709205 0.23399548]\n",
      "INFO:shap:num_full_subsets = 1\n",
      "INFO:shap:phi = [-0.06094912 -0.10096947]\n",
      "INFO:shap:phi = [0.06094912 0.10096947]\n",
      "INFO:shap:num_full_subsets = 1\n",
      "INFO:shap:phi = [0.06819913 0.190925  ]\n",
      "INFO:shap:phi = [-0.06819913 -0.190925  ]\n",
      "INFO:shap:num_full_subsets = 1\n",
      "INFO:shap:phi = [0.00020992 0.18733431]\n",
      "INFO:shap:phi = [-0.00020992 -0.18733431]\n",
      "INFO:shap:num_full_subsets = 1\n",
      "INFO:shap:phi = [0.01495565 0.22996807]\n",
      "INFO:shap:phi = [-0.01495565 -0.22996807]\n",
      "INFO:shap:num_full_subsets = 1\n",
      "INFO:shap:phi = [-0.03205029 -0.46182618]\n",
      "INFO:shap:phi = [0.03205029 0.46182618]\n",
      "INFO:shap:num_full_subsets = 1\n",
      "INFO:shap:phi = [-0.5429621   0.10346808]\n",
      "INFO:shap:phi = [ 0.5429621  -0.10346808]\n",
      "INFO:shap:num_full_subsets = 1\n",
      "INFO:shap:phi = [0.03724363 0.19095907]\n",
      "INFO:shap:phi = [-0.03724363 -0.19095907]\n",
      "INFO:shap:num_full_subsets = 1\n",
      "INFO:shap:phi = [0.00075018 0.2841988 ]\n",
      "INFO:shap:phi = [-0.00075018 -0.2841988 ]\n",
      "INFO:shap:num_full_subsets = 1\n",
      "INFO:shap:phi = [0.11173797 0.26862138]\n",
      "INFO:shap:phi = [-0.11173797 -0.26862138]\n",
      "INFO:shap:num_full_subsets = 1\n",
      "INFO:shap:phi = [-0.45897622 -0.01790862]\n",
      "INFO:shap:phi = [0.45897622 0.01790862]\n",
      "INFO:shap:num_full_subsets = 1\n",
      "INFO:shap:phi = [0.07330863 0.34087811]\n",
      "INFO:shap:phi = [-0.07330863 -0.34087811]\n",
      "INFO:shap:num_full_subsets = 1\n",
      "INFO:shap:phi = [ 0.38875745 -0.07342831]\n",
      "INFO:shap:phi = [-0.38875745  0.07342831]\n",
      "INFO:shap:num_full_subsets = 1\n",
      "INFO:shap:phi = [-0.37414106 -0.08320291]\n",
      "INFO:shap:phi = [0.37414106 0.08320291]\n",
      "INFO:shap:num_full_subsets = 1\n",
      "INFO:shap:phi = [-0.0122761 -0.3665427]\n",
      "INFO:shap:phi = [0.0122761 0.3665427]\n",
      "INFO:shap:num_full_subsets = 1\n",
      "INFO:shap:phi = [ 0.04243927 -0.08299233]\n",
      "INFO:shap:phi = [-0.04243927  0.08299233]\n",
      "INFO:shap:num_full_subsets = 1\n",
      "INFO:shap:phi = [0.05620057 0.25877456]\n",
      "INFO:shap:phi = [-0.05620057 -0.25877456]\n",
      "INFO:shap:num_full_subsets = 1\n",
      "INFO:shap:phi = [0.01203502 0.14306069]\n",
      "INFO:shap:phi = [-0.01203502 -0.14306069]\n",
      "INFO:shap:num_full_subsets = 1\n",
      "INFO:shap:phi = [-0.37608562 -0.09177681]\n",
      "INFO:shap:phi = [0.37608562 0.09177681]\n",
      "INFO:shap:num_full_subsets = 1\n",
      "INFO:shap:phi = [-0.07451282 -0.14641842]\n",
      "INFO:shap:phi = [0.07451282 0.14641842]\n",
      "INFO:shap:num_full_subsets = 1\n",
      "INFO:shap:phi = [0.13856082 0.17503849]\n",
      "INFO:shap:phi = [-0.13856082 -0.17503849]\n",
      "INFO:shap:num_full_subsets = 1\n",
      "INFO:shap:phi = [-0.00571405 -0.46341752]\n",
      "INFO:shap:phi = [0.00571405 0.46341752]\n",
      "INFO:shap:num_full_subsets = 1\n",
      "INFO:shap:phi = [-0.26842055 -0.19537497]\n",
      "INFO:shap:phi = [0.26842055 0.19537497]\n"
     ]
    },
    {
     "name": "stdout",
     "output_type": "stream",
     "text": [
      "debug-2\n",
      "debug-3\n",
      "AUC_acc_loss=0.04927334570191713, stability=0.8602265736363256, consistency=0.867083508763887, joint_metric=0.08786510224310433\n"
     ]
    },
    {
     "data": {
      "text/plain": [
       "{'auc_acc_loss': 0.04927334570191713,\n",
       " 'stability': 0.8602265736363256,\n",
       " 'consistency': 0.867083508763887,\n",
       " 'joint_metric': 0.08786510224310433,\n",
       " 'w_svc_lin': 0.08613492155880342,\n",
       " 'w_svc_radial': 0.9999484634427774,\n",
       " 'w_xgbc': 4.4162394773005615e-05,\n",
       " 'w_rfc': 0.999991028037725,\n",
       " 'w_ctbc': 4.834288652796507e-05,\n",
       " 'w_': 2.0861669183206066}"
      ]
     },
     "execution_count": 336,
     "metadata": {},
     "output_type": "execute_result"
    }
   ],
   "source": [
    "# importance_stability jest wazniejszy - brak efektu\n",
    "e3 = run_experiment(importance_auc_acc_loss = 1.0, importance_stability = 3.0, importance_consistency = 1.0)\n",
    "to_pickle(e3, 'e3')\n",
    "print(naive_joint_metrics(e3['w0'], e3['w1'], e3['w2'], e3['w3'], e3['w4'], e3['importance_auc_acc_loss'], e3['importance_consistency'], e3['importance_stability']))\n",
    "r3 = exact_joint_metrics(e3['w0'], e3['w1'], e3['w2'], e3['w3'], e3['w4'], e3['importance_auc_acc_loss'], e3['importance_consistency'], e3['importance_stability'])\n",
    "to_pickle(r3, 'r3')\n",
    "r3"
   ]
  },
  {
   "cell_type": "code",
   "execution_count": 337,
   "id": "backed-blond",
   "metadata": {
    "collapsed": true,
    "jupyter": {
     "outputs_hidden": true
    }
   },
   "outputs": [
    {
     "name": "stderr",
     "output_type": "stream",
     "text": [
      "`np.float` is a deprecated alias for the builtin `float`. To silence this warning, use `float` by itself. Doing this will not modify any behavior and is safe. If you specifically wanted the numpy scalar type, use `np.float64` here.\n",
      "Deprecated in NumPy 1.20; for more details and guidance: https://numpy.org/devdocs/release/1.20.0-notes.html#deprecations\n",
      "INFO:smac.utils.io.cmd_reader.CMDReader:Output to smac3-output_2021-02-09_14:11:45_124164\n",
      "`np.float` is a deprecated alias for the builtin `float`. To silence this warning, use `float` by itself. Doing this will not modify any behavior and is safe. If you specifically wanted the numpy scalar type, use `np.float64` here.\n",
      "Deprecated in NumPy 1.20; for more details and guidance: https://numpy.org/devdocs/release/1.20.0-notes.html#deprecations\n",
      "INFO:smac.facade.smac_bo_facade.SMAC4BO:Optimizing a deterministic scenario for quality without a tuner timeout - will make SMAC deterministic and only evaluate one configuration per iteration!\n",
      "INFO:smac.initial_design.sobol_design.SobolDesign:Running initial design for 7 configurations\n",
      "INFO:smac.facade.smac_bo_facade.SMAC4BO:<class 'smac.facade.smac_bo_facade.SMAC4BO'>\n",
      "INFO:smac.optimizer.smbo.SMBO:Running initial design\n",
      "INFO:smac.intensification.intensification.Intensifier:First run, no incumbent provided; challenger is assumed to be the incumbent\n"
     ]
    },
    {
     "name": "stdout",
     "output_type": "stream",
     "text": [
      "naive\n",
      "w_svc_lin=0.1377031947, w_svc_radial=0.1559742808, w_xgbc=0.1773123705, w_rfc=0.1695355122, w_ctbc=0.3594746418, w_=1.0\n",
      "importance_auc_acc_loss=1.0, importance_stability=1.0, importance_consistency=3.0\n",
      "AUC_acc_loss=0.05079774622277981, stability=0.7067812153419838, consistency=0.4096159680933908, joint_metric=1.0457522564843864\n",
      "Default Value: 1.05\n",
      "Optimizing! Depending on your machine, this might take a few minutes.\n",
      "naive\n",
      "w_svc_lin=0.2, w_svc_radial=0.2, w_xgbc=0.2, w_rfc=0.2, w_ctbc=0.2, w_=1.0\n",
      "importance_auc_acc_loss=1.0, importance_stability=1.0, importance_consistency=3.0\n",
      "AUC_acc_loss=0.056880024737167564, stability=0.7067812153419838, consistency=0.5328851601905255, joint_metric=0.5318313077390984\n"
     ]
    },
    {
     "name": "stderr",
     "output_type": "stream",
     "text": [
      "INFO:smac.intensification.intensification.Intensifier:First run, no incumbent provided; challenger is assumed to be the incumbent\n",
      "INFO:smac.intensification.intensification.Intensifier:Updated estimated cost of incumbent on 1 runs: 0.5318\n"
     ]
    },
    {
     "name": "stdout",
     "output_type": "stream",
     "text": [
      "naive\n",
      "w_svc_lin=0.09090909090909091, w_svc_radial=0.2727272727272727, w_xgbc=0.2727272727272727, w_rfc=0.09090909090909091, w_ctbc=0.2727272727272727, w_=1.0\n",
      "importance_auc_acc_loss=1.0, importance_stability=1.0, importance_consistency=3.0\n",
      "AUC_acc_loss=0.053253780851183416, stability=0.7067812153419838, consistency=0.46014605337703784, joint_metric=0.7733540137593169\n"
     ]
    },
    {
     "name": "stderr",
     "output_type": "stream",
     "text": [
      "INFO:smac.intensification.intensification.Intensifier:Wallclock time limit for intensification reached (used: 0.068220 sec, available: 0.000010 sec)\n"
     ]
    },
    {
     "name": "stdout",
     "output_type": "stream",
     "text": [
      "naive\n",
      "w_svc_lin=0.3333333333333333, w_svc_radial=0.1111111111111111, w_xgbc=0.1111111111111111, w_rfc=0.3333333333333333, w_ctbc=0.1111111111111111, w_=1.0\n",
      "importance_auc_acc_loss=1.0, importance_stability=1.0, importance_consistency=3.0\n",
      "AUC_acc_loss=0.06131210059781485, stability=0.7067812153419838, consistency=0.6527278808485087, joint_metric=0.31193543062533624\n"
     ]
    },
    {
     "name": "stderr",
     "output_type": "stream",
     "text": [
      "INFO:smac.intensification.intensification.Intensifier:Challenger (0.3119) is better than incumbent (0.5318) on 1 runs.\n",
      "INFO:smac.intensification.intensification.Intensifier:Changes in incumbent:\n",
      "INFO:smac.intensification.intensification.Intensifier:  w0 : 0.5 -> 0.25\n",
      "INFO:smac.intensification.intensification.Intensifier:  w1 : 0.5 -> 0.75\n",
      "INFO:smac.intensification.intensification.Intensifier:  w2 : 0.5 -> 0.25\n",
      "INFO:smac.intensification.intensification.Intensifier:  w3 : 0.5 -> 0.75\n",
      "INFO:smac.intensification.intensification.Intensifier:  w4 : 0.5 -> 0.25\n",
      "INFO:smac.intensification.intensification.Intensifier:Wallclock time limit for intensification reached (used: 0.032743 sec, available: 0.000010 sec)\n"
     ]
    },
    {
     "name": "stdout",
     "output_type": "stream",
     "text": [
      "naive\n",
      "w_svc_lin=0.05263157894736842, w_svc_radial=0.3684210526315789, w_xgbc=0.15789473684210525, w_rfc=0.15789473684210525, w_ctbc=0.2631578947368421, w_=1.0\n",
      "importance_auc_acc_loss=1.0, importance_stability=1.0, importance_consistency=3.0\n",
      "AUC_acc_loss=0.05382693747355398, stability=0.7067812153419838, consistency=0.47059273922098976, joint_metric=0.730767132689654\n"
     ]
    },
    {
     "name": "stderr",
     "output_type": "stream",
     "text": [
      "INFO:smac.intensification.intensification.Intensifier:Wallclock time limit for intensification reached (used: 0.036548 sec, available: 0.000010 sec)\n"
     ]
    },
    {
     "name": "stdout",
     "output_type": "stream",
     "text": [
      "naive\n",
      "w_svc_lin=0.21739130434782608, w_svc_radial=0.13043478260869565, w_xgbc=0.30434782608695654, w_rfc=0.30434782608695654, w_ctbc=0.043478260869565216, w_=1.0\n",
      "importance_auc_acc_loss=1.0, importance_stability=1.0, importance_consistency=3.0\n",
      "AUC_acc_loss=0.0614402678067274, stability=0.7067812153419838, consistency=0.5733404953649649, joint_metric=0.4612434900845193\n"
     ]
    },
    {
     "name": "stderr",
     "output_type": "stream",
     "text": [
      "INFO:smac.intensification.intensification.Intensifier:Wallclock time limit for intensification reached (used: 0.031219 sec, available: 0.000010 sec)\n"
     ]
    },
    {
     "name": "stdout",
     "output_type": "stream",
     "text": [
      "naive\n",
      "w_svc_lin=0.23076923076923078, w_svc_radial=0.07692307692307693, w_xgbc=0.38461538461538464, w_rfc=0.07692307692307693, w_ctbc=0.23076923076923078, w_=1.0\n",
      "importance_auc_acc_loss=1.0, importance_stability=1.0, importance_consistency=3.0\n",
      "AUC_acc_loss=0.05520550877693732, stability=0.7067812153419838, consistency=0.47958632129918666, joint_metric=0.7081040122173824\n"
     ]
    },
    {
     "name": "stderr",
     "output_type": "stream",
     "text": [
      "INFO:smac.intensification.intensification.Intensifier:Wallclock time limit for intensification reached (used: 0.031353 sec, available: 0.000010 sec)\n"
     ]
    },
    {
     "name": "stdout",
     "output_type": "stream",
     "text": [
      "naive\n",
      "w_svc_lin=0.28, w_svc_radial=0.2, w_xgbc=0.04, w_rfc=0.2, w_ctbc=0.28, w_=1.0\n",
      "importance_auc_acc_loss=1.0, importance_stability=1.0, importance_consistency=3.0\n",
      "AUC_acc_loss=0.05587569573283855, stability=0.7067812153419838, consistency=0.46691930109578994, joint_metric=0.7766269641799589\n"
     ]
    },
    {
     "name": "stderr",
     "output_type": "stream",
     "text": [
      "INFO:smac.intensification.intensification.Intensifier:Wallclock time limit for intensification reached (used: 0.034142 sec, available: 0.000010 sec)\n"
     ]
    },
    {
     "name": "stdout",
     "output_type": "stream",
     "text": [
      "naive\n",
      "w_svc_lin=0.3328353203740848, w_svc_radial=0.1116136836944356, w_xgbc=0.11134107276895396, w_rfc=0.3330840443060054, w_ctbc=0.11112587885652019, w_=1.0\n",
      "importance_auc_acc_loss=1.0, importance_stability=1.0, importance_consistency=3.0\n",
      "AUC_acc_loss=0.06130674824043487, stability=0.7067812153419839, consistency=0.652717738311704, joint_metric=0.3119227400110389\n"
     ]
    },
    {
     "name": "stderr",
     "output_type": "stream",
     "text": [
      "INFO:smac.intensification.intensification.Intensifier:Challenger (0.3119) is better than incumbent (0.3119) on 1 runs.\n",
      "INFO:smac.intensification.intensification.Intensifier:Changes in incumbent:\n",
      "INFO:smac.intensification.intensification.Intensifier:  w0 : 0.25 -> 0.2504568507176073\n",
      "INFO:smac.intensification.intensification.Intensifier:  w1 : 0.75 -> 0.7492579215064613\n",
      "INFO:smac.intensification.intensification.Intensifier:  w2 : 0.25 -> 0.24997278146749685\n",
      "INFO:smac.intensification.intensification.Intensifier:  w3 : 0.75 -> 0.7486984279508693\n",
      "INFO:smac.intensification.intensification.Intensifier:  w4 : 0.25 -> 0.25107007701558837\n",
      "INFO:smac.intensification.intensification.Intensifier:Wallclock time limit for intensification reached (used: 0.037112 sec, available: 0.000010 sec)\n"
     ]
    },
    {
     "name": "stdout",
     "output_type": "stream",
     "text": [
      "naive\n",
      "w_svc_lin=0.33410015573102264, w_svc_radial=0.10867514856865557, w_xgbc=0.11243672210881214, w_rfc=0.3343785578010729, w_ctbc=0.11040941579043671, w_=1.0\n",
      "importance_auc_acc_loss=1.0, importance_stability=1.0, importance_consistency=3.0\n",
      "AUC_acc_loss=0.06132876527992144, stability=0.7067812153419839, consistency=0.653619898820988, joint_metric=0.3107444828147301\n"
     ]
    },
    {
     "name": "stderr",
     "output_type": "stream",
     "text": [
      "INFO:smac.intensification.intensification.Intensifier:Challenger (0.3107) is better than incumbent (0.3119) on 1 runs.\n",
      "INFO:smac.intensification.intensification.Intensifier:Changes in incumbent:\n",
      "INFO:smac.intensification.intensification.Intensifier:  w0 : 0.2504568507176073 -> 0.25209656402587555\n",
      "INFO:smac.intensification.intensification.Intensifier:  w1 : 0.7492579215064613 -> 0.7497166755181622\n",
      "INFO:smac.intensification.intensification.Intensifier:  w2 : 0.24997278146749685 -> 0.2475511010534154\n",
      "INFO:smac.intensification.intensification.Intensifier:  w3 : 0.7486984279508693 -> 0.7490924648158133\n",
      "INFO:smac.intensification.intensification.Intensifier:  w4 : 0.25107007701558837 -> 0.24366266674553316\n",
      "INFO:smac.intensification.intensification.Intensifier:Wallclock time limit for intensification reached (used: 0.036892 sec, available: 0.000010 sec)\n"
     ]
    },
    {
     "name": "stdout",
     "output_type": "stream",
     "text": [
      "naive\n",
      "w_svc_lin=0.3669632028231407, w_svc_radial=0.12194857233602717, w_xgbc=0.12493516590250744, w_rfc=0.3653307941752593, w_ctbc=0.020822264763065392, w_=1.0\n",
      "importance_auc_acc_loss=1.0, importance_stability=1.0, importance_consistency=3.0\n",
      "AUC_acc_loss=0.06465696849363928, stability=0.7067812153419838, consistency=0.7383573156917989, joint_metric=0.22726397224313058\n"
     ]
    },
    {
     "name": "stderr",
     "output_type": "stream",
     "text": [
      "INFO:smac.intensification.intensification.Intensifier:Challenger (0.2273) is better than incumbent (0.3107) on 1 runs.\n",
      "INFO:smac.intensification.intensification.Intensifier:Changes in incumbent:\n",
      "INFO:smac.intensification.intensification.Intensifier:  w0 : 0.25209656402587555 -> 0.2561978604213199\n",
      "INFO:smac.intensification.intensification.Intensifier:  w1 : 0.7497166755181622 -> 0.7491643136469758\n",
      "INFO:smac.intensification.intensification.Intensifier:  w2 : 0.2475511010534154 -> 0.04269910431452455\n",
      "INFO:smac.intensification.intensification.Intensifier:  w3 : 0.7490924648158133 -> 0.7525118067238796\n",
      "INFO:smac.intensification.intensification.Intensifier:  w4 : 0.24366266674553316 -> 0.25007341278359546\n",
      "INFO:smac.intensification.intensification.Intensifier:Wallclock time limit for intensification reached (used: 0.035128 sec, available: 0.000010 sec)\n"
     ]
    },
    {
     "name": "stdout",
     "output_type": "stream",
     "text": [
      "naive\n",
      "w_svc_lin=0.3229704137868988, w_svc_radial=0.12723905582286277, w_xgbc=0.1354878265368517, w_rfc=0.4142625360823172, w_ctbc=4.016777106956679e-05, w_=1.0\n",
      "importance_auc_acc_loss=1.0, importance_stability=1.0, importance_consistency=3.0\n",
      "AUC_acc_loss=0.06470540906708333, stability=0.7067812153419839, consistency=0.7175451941766195, joint_metric=0.24780371252450253\n"
     ]
    },
    {
     "name": "stderr",
     "output_type": "stream",
     "text": [
      "INFO:smac.intensification.intensification.Intensifier:Wallclock time limit for intensification reached (used: 0.035589 sec, available: 0.000010 sec)\n"
     ]
    },
    {
     "name": "stdout",
     "output_type": "stream",
     "text": [
      "naive\n",
      "w_svc_lin=0.4274081299239915, w_svc_radial=0.14019537112934588, w_xgbc=0.00817603989164167, w_rfc=0.42411518185602404, w_ctbc=0.00010527719899699522, w_=1.0\n",
      "importance_auc_acc_loss=1.0, importance_stability=1.0, importance_consistency=3.0\n",
      "AUC_acc_loss=0.06655222619043535, stability=0.7067812153419838, consistency=0.8758928540501112, joint_metric=0.14012790832294075\n"
     ]
    },
    {
     "name": "stderr",
     "output_type": "stream",
     "text": [
      "INFO:smac.intensification.intensification.Intensifier:Challenger (0.1401) is better than incumbent (0.2273) on 1 runs.\n",
      "INFO:smac.intensification.intensification.Intensifier:Changes in incumbent:\n",
      "INFO:smac.intensification.intensification.Intensifier:  w0 : 0.2561978604213199 -> 0.014350700538660551\n",
      "INFO:smac.intensification.intensification.Intensifier:  w1 : 0.7491643136469758 -> 0.7444129492246498\n",
      "INFO:smac.intensification.intensification.Intensifier:  w2 : 0.04269910431452455 -> 0.00018478402458619843\n",
      "INFO:smac.intensification.intensification.Intensifier:  w3 : 0.7525118067238796 -> 0.7501927781196962\n",
      "INFO:smac.intensification.intensification.Intensifier:  w4 : 0.25007341278359546 -> 0.24607289282435846\n",
      "INFO:smac.intensification.intensification.Intensifier:Wallclock time limit for intensification reached (used: 0.037268 sec, available: 0.000010 sec)\n"
     ]
    },
    {
     "name": "stdout",
     "output_type": "stream",
     "text": [
      "naive\n",
      "w_svc_lin=0.06755121998680665, w_svc_radial=0.3266940945203083, w_xgbc=0.24596967327408262, w_rfc=0.19874390464171016, w_ctbc=0.16104110757709225, w_=0.9999999999999999\n",
      "importance_auc_acc_loss=1.0, importance_stability=1.0, importance_consistency=3.0\n",
      "AUC_acc_loss=0.05681810096145705, stability=0.7067812153419838, consistency=0.5625620228858622, joint_metric=0.45153402684664146\n"
     ]
    },
    {
     "name": "stderr",
     "output_type": "stream",
     "text": [
      "INFO:smac.intensification.intensification.Intensifier:Wallclock time limit for intensification reached (used: 0.035325 sec, available: 0.000010 sec)\n"
     ]
    },
    {
     "name": "stdout",
     "output_type": "stream",
     "text": [
      "naive\n",
      "w_svc_lin=0.5207563303073985, w_svc_radial=0.11204791089747694, w_xgbc=8.95313861486292e-05, w_rfc=0.3670909006176267, w_ctbc=1.532679134911605e-05, w_=0.9999999999999999\n",
      "importance_auc_acc_loss=1.0, importance_stability=1.0, importance_consistency=3.0\n",
      "AUC_acc_loss=0.06772280779721009, stability=0.7067812153419839, consistency=0.8774153092676252, joint_metric=0.14185163111624752\n"
     ]
    },
    {
     "name": "stderr",
     "output_type": "stream",
     "text": [
      "INFO:smac.intensification.intensification.Intensifier:Wallclock time limit for intensification reached (used: 0.036790 sec, available: 0.000010 sec)\n"
     ]
    },
    {
     "name": "stdout",
     "output_type": "stream",
     "text": [
      "naive\n",
      "w_svc_lin=0.5112430664175778, w_svc_radial=0.050088858132391834, w_xgbc=7.293168594179224e-05, w_rfc=0.43858418794423365, w_ctbc=1.0955819854954514e-05, w_=1.0\n",
      "importance_auc_acc_loss=1.0, importance_stability=1.0, importance_consistency=3.0\n",
      "AUC_acc_loss=0.0672683812120453, stability=0.7067812153419838, consistency=0.8734267486048429, joint_metric=0.14283890565159274\n"
     ]
    },
    {
     "name": "stderr",
     "output_type": "stream",
     "text": [
      "INFO:smac.intensification.intensification.Intensifier:Wallclock time limit for intensification reached (used: 0.035031 sec, available: 0.000010 sec)\n"
     ]
    },
    {
     "name": "stdout",
     "output_type": "stream",
     "text": [
      "naive\n",
      "w_svc_lin=0.48366517852872704, w_svc_radial=0.14052641050405257, w_xgbc=2.0854129379045286e-05, w_rfc=0.37571517165452123, w_ctbc=7.238518332014329e-05, w_=0.9999999999999999\n",
      "importance_auc_acc_loss=1.0, importance_stability=1.0, importance_consistency=3.0\n",
      "AUC_acc_loss=0.0673557453655561, stability=0.7067812153419838, consistency=0.8828324087642874, joint_metric=0.13850161733596264\n"
     ]
    },
    {
     "name": "stderr",
     "output_type": "stream",
     "text": [
      "INFO:smac.intensification.intensification.Intensifier:Challenger (0.1385) is better than incumbent (0.1401) on 1 runs.\n",
      "INFO:smac.intensification.intensification.Intensifier:Changes in incumbent:\n",
      "INFO:smac.intensification.intensification.Intensifier:  w0 : 0.014350700538660551 -> 3.403300604134401e-05\n",
      "INFO:smac.intensification.intensification.Intensifier:  w1 : 0.7444129492246498 -> 0.6131503489947325\n",
      "INFO:smac.intensification.intensification.Intensifier:  w2 : 0.00018478402458619843 -> 0.00011812938034774052\n",
      "INFO:smac.intensification.intensification.Intensifier:  w3 : 0.7501927781196962 -> 0.7893199300564362\n",
      "INFO:smac.intensification.intensification.Intensifier:  w4 : 0.24607289282435846 -> 0.22933281417436743\n",
      "INFO:smac.intensification.intensification.Intensifier:Wallclock time limit for intensification reached (used: 0.038212 sec, available: 0.000010 sec)\n"
     ]
    },
    {
     "name": "stdout",
     "output_type": "stream",
     "text": [
      "naive\n",
      "w_svc_lin=0.41403323024268374, w_svc_radial=0.2563159422265165, w_xgbc=1.663732425733816e-05, w_rfc=0.32957644165495176, w_ctbc=5.774855159065974e-05, w_=1.0\n",
      "importance_auc_acc_loss=1.0, importance_stability=1.0, importance_consistency=3.0\n",
      "AUC_acc_loss=0.06699491573050396, stability=0.7067812153419838, consistency=0.8971483316649733, joint_metric=0.13126957682215173\n"
     ]
    },
    {
     "name": "stderr",
     "output_type": "stream",
     "text": [
      "INFO:smac.intensification.intensification.Intensifier:Challenger (0.1313) is better than incumbent (0.1385) on 1 runs.\n",
      "INFO:smac.intensification.intensification.Intensifier:Changes in incumbent:\n",
      "INFO:smac.intensification.intensification.Intensifier:  w1 : 0.6131503489947325 -> 0.6741755378711469\n",
      "INFO:smac.intensification.intensification.Intensifier:  w3 : 0.7893199300564362 -> 0.8469387990650875\n",
      "INFO:smac.intensification.intensification.Intensifier:  w4 : 0.22933281417436743 -> 0.5243152008917725\n",
      "INFO:smac.intensification.intensification.Intensifier:Wallclock time limit for intensification reached (used: 0.035594 sec, available: 0.000010 sec)\n"
     ]
    },
    {
     "name": "stdout",
     "output_type": "stream",
     "text": [
      "naive\n",
      "w_svc_lin=0.3361328901334732, w_svc_radial=0.33618789432703894, w_xgbc=0.0001156194885271569, w_rfc=0.327509495522042, w_ctbc=5.410052891863578e-05, w_=0.9999999999999999\n",
      "importance_auc_acc_loss=1.0, importance_stability=1.0, importance_consistency=3.0\n",
      "AUC_acc_loss=0.06633178628249113, stability=0.7067812153419838, consistency=0.9021405136064128, joint_metric=0.12782450932983092\n"
     ]
    },
    {
     "name": "stderr",
     "output_type": "stream",
     "text": [
      "INFO:smac.intensification.intensification.Intensifier:Challenger (0.1278) is better than incumbent (0.1313) on 1 runs.\n",
      "INFO:smac.intensification.intensification.Intensifier:Changes in incumbent:\n",
      "INFO:smac.intensification.intensification.Intensifier:  w0 : 3.403300604134401e-05 -> 0.0003438672151637378\n",
      "INFO:smac.intensification.intensification.Intensifier:  w1 : 0.6741755378711469 -> 0.974055322329098\n",
      "INFO:smac.intensification.intensification.Intensifier:  w2 : 0.00011812938034774052 -> 0.0001609019245381539\n",
      "INFO:smac.intensification.intensification.Intensifier:  w3 : 0.8469387990650875 -> 0.9997024059485201\n",
      "INFO:smac.intensification.intensification.Intensifier:  w4 : 0.5243152008917725 -> 0.9998659954878334\n",
      "INFO:smac.intensification.intensification.Intensifier:Wallclock time limit for intensification reached (used: 0.036604 sec, available: 0.000010 sec)\n"
     ]
    },
    {
     "name": "stdout",
     "output_type": "stream",
     "text": [
      "naive\n",
      "w_svc_lin=0.3836378958835961, w_svc_radial=0.28677932677547197, w_xgbc=2.2441025293235945e-05, w_rfc=0.3295441893270737, w_ctbc=1.6146988564987348e-05, w_=1.0\n",
      "importance_auc_acc_loss=1.0, importance_stability=1.0, importance_consistency=3.0\n",
      "AUC_acc_loss=0.06673387915627942, stability=0.7067812153419838, consistency=0.9010069931748905, joint_metric=0.12908532925525593\n"
     ]
    },
    {
     "name": "stderr",
     "output_type": "stream",
     "text": [
      "INFO:smac.intensification.intensification.Intensifier:Wallclock time limit for intensification reached (used: 0.037300 sec, available: 0.000010 sec)\n"
     ]
    },
    {
     "name": "stdout",
     "output_type": "stream",
     "text": [
      "naive\n",
      "w_svc_lin=0.2479338542012875, w_svc_radial=0.39532726572735116, w_xgbc=2.3124075708013298e-05, w_rfc=0.35667774560883647, w_ctbc=3.8010386816805004e-05, w_=1.0\n",
      "importance_auc_acc_loss=1.0, importance_stability=1.0, importance_consistency=3.0\n",
      "AUC_acc_loss=0.06541886588666353, stability=0.7067812153419838, consistency=0.8922068219924698, joint_metric=0.13032309746922513\n"
     ]
    },
    {
     "name": "stderr",
     "output_type": "stream",
     "text": [
      "INFO:smac.intensification.intensification.Intensifier:Wallclock time limit for intensification reached (used: 0.035236 sec, available: 0.000010 sec)\n"
     ]
    },
    {
     "name": "stdout",
     "output_type": "stream",
     "text": [
      "naive\n",
      "w_svc_lin=0.3039497622805759, w_svc_radial=0.30606905367859155, w_xgbc=3.0168446469200762e-05, w_rfc=0.38990810858510044, w_ctbc=4.2907009262917386e-05, w_=1.0\n",
      "importance_auc_acc_loss=1.0, importance_stability=1.0, importance_consistency=3.0\n",
      "AUC_acc_loss=0.06572961125389933, stability=0.7067812153419838, consistency=0.8941795991797199, joint_metric=0.13007738389037418\n"
     ]
    },
    {
     "name": "stderr",
     "output_type": "stream",
     "text": [
      "INFO:smac.intensification.intensification.Intensifier:Wallclock time limit for intensification reached (used: 0.034938 sec, available: 0.000010 sec)\n"
     ]
    },
    {
     "name": "stdout",
     "output_type": "stream",
     "text": [
      "naive\n",
      "w_svc_lin=0.33475911837405037, w_svc_radial=0.3849845144718628, w_xgbc=2.2520205139354357e-05, w_rfc=0.2802176429881161, w_ctbc=1.6203960831323003e-05, w_=1.0\n",
      "importance_auc_acc_loss=1.0, importance_stability=1.0, importance_consistency=3.0\n",
      "AUC_acc_loss=0.06656844368109938, stability=0.7067812153419838, consistency=0.8985979625034899, joint_metric=0.12980371332055965\n"
     ]
    },
    {
     "name": "stderr",
     "output_type": "stream",
     "text": [
      "INFO:smac.intensification.intensification.Intensifier:Wallclock time limit for intensification reached (used: 0.036374 sec, available: 0.000010 sec)\n"
     ]
    },
    {
     "name": "stdout",
     "output_type": "stream",
     "text": [
      "naive\n",
      "w_svc_lin=0.315648660631385, w_svc_radial=0.3511816929722169, w_xgbc=2.211500681564559e-05, w_rfc=0.3331452520591999, w_ctbc=2.2793303824599438e-06, w_=1.0\n",
      "importance_auc_acc_loss=1.0, importance_stability=1.0, importance_consistency=3.0\n",
      "AUC_acc_loss=0.06612803034690126, stability=0.7067812153419838, consistency=0.9005572193108281, joint_metric=0.12810516864948\n"
     ]
    },
    {
     "name": "stderr",
     "output_type": "stream",
     "text": [
      "INFO:smac.intensification.intensification.Intensifier:Wallclock time limit for intensification reached (used: 0.037595 sec, available: 0.000010 sec)\n"
     ]
    },
    {
     "name": "stdout",
     "output_type": "stream",
     "text": [
      "naive\n",
      "w_svc_lin=4.139649898058291e-06, w_svc_radial=0.4999093164571471, w_xgbc=3.165114459087313e-05, w_rfc=0.499925013311584, w_ctbc=0.00012987943677990435, w_=0.9999999999999999\n",
      "importance_auc_acc_loss=1.0, importance_stability=1.0, importance_consistency=3.0\n",
      "AUC_acc_loss=0.06252631068322911, stability=0.7067812153419838, consistency=0.862063221298796, joint_metric=0.13808943574241161\n"
     ]
    },
    {
     "name": "stderr",
     "output_type": "stream",
     "text": [
      "INFO:smac.intensification.intensification.Intensifier:Wallclock time limit for intensification reached (used: 0.035954 sec, available: 0.000010 sec)\n"
     ]
    },
    {
     "name": "stdout",
     "output_type": "stream",
     "text": [
      "naive\n",
      "w_svc_lin=0.13023571138159934, w_svc_radial=0.40961266795652457, w_xgbc=2.3966661312250306e-05, w_rfc=0.4097610672668415, w_ctbc=0.05036658673372217, w_=0.9999999999999998\n",
      "importance_auc_acc_loss=1.0, importance_stability=1.0, importance_consistency=3.0\n",
      "AUC_acc_loss=0.06226926132554381, stability=0.7067812153419838, consistency=0.7737621148288886, joint_metric=0.19018065110913612\n"
     ]
    },
    {
     "name": "stderr",
     "output_type": "stream",
     "text": [
      "INFO:smac.intensification.intensification.Intensifier:Wallclock time limit for intensification reached (used: 0.043252 sec, available: 0.000010 sec)\n"
     ]
    },
    {
     "name": "stdout",
     "output_type": "stream",
     "text": [
      "naive\n",
      "w_svc_lin=0.06307252625802214, w_svc_radial=0.5994574292889259, w_xgbc=1.8500306189029988e-05, w_rfc=0.3374283487720837, w_ctbc=2.319537477924722e-05, w_=1.0\n",
      "importance_auc_acc_loss=1.0, importance_stability=1.0, importance_consistency=3.0\n",
      "AUC_acc_loss=0.06392207000646187, stability=0.7067812153419838, consistency=0.8553422460787503, joint_metric=0.1445260268853174\n"
     ]
    },
    {
     "name": "stderr",
     "output_type": "stream",
     "text": [
      "INFO:smac.intensification.intensification.Intensifier:Wallclock time limit for intensification reached (used: 0.036862 sec, available: 0.000010 sec)\n"
     ]
    },
    {
     "name": "stdout",
     "output_type": "stream",
     "text": [
      "naive\n",
      "w_svc_lin=0.5000045198768269, w_svc_radial=0.4997939667950875, w_xgbc=5.0148984318068285e-05, w_rfc=0.00013031958423894314, w_ctbc=2.1044759528508115e-05, w_=0.9999999999999999\n",
      "importance_auc_acc_loss=1.0, importance_stability=1.0, importance_consistency=3.0\n",
      "AUC_acc_loss=0.06945551935103171, stability=0.7067812153419839, consistency=0.8712320629939132, joint_metric=0.14860048092352499\n"
     ]
    },
    {
     "name": "stderr",
     "output_type": "stream",
     "text": [
      "INFO:smac.intensification.intensification.Intensifier:Wallclock time limit for intensification reached (used: 0.036152 sec, available: 0.000010 sec)\n"
     ]
    },
    {
     "name": "stdout",
     "output_type": "stream",
     "text": [
      "naive\n",
      "w_svc_lin=0.3195862150781972, w_svc_radial=0.5258438996551849, w_xgbc=3.075606978259536e-05, w_rfc=0.1545359592568536, w_ctbc=3.1699399817020277e-06, w_=1.0\n",
      "importance_auc_acc_loss=1.0, importance_stability=1.0, importance_consistency=3.0\n",
      "AUC_acc_loss=0.06709256218807845, stability=0.7067812153419839, consistency=0.8712998171503599, joint_metric=0.14351143607213065\n"
     ]
    },
    {
     "name": "stderr",
     "output_type": "stream",
     "text": [
      "INFO:smac.intensification.intensification.Intensifier:Wallclock time limit for intensification reached (used: 0.036177 sec, available: 0.000010 sec)\n"
     ]
    },
    {
     "name": "stdout",
     "output_type": "stream",
     "text": [
      "naive\n",
      "w_svc_lin=0.46659427747319376, w_svc_radial=0.3734159514906134, w_xgbc=3.605205036142693e-05, w_rfc=0.15994431907692835, w_ctbc=9.399908902871917e-06, w_=0.9999999999999999\n",
      "importance_auc_acc_loss=1.0, importance_stability=1.0, importance_consistency=3.0\n",
      "AUC_acc_loss=0.06833463618438963, stability=0.706781215341984, consistency=0.8888336011621358, joint_metric=0.13768749402817143\n"
     ]
    },
    {
     "name": "stderr",
     "output_type": "stream",
     "text": [
      "INFO:smac.intensification.intensification.Intensifier:Wallclock time limit for intensification reached (used: 0.035549 sec, available: 0.000010 sec)\n"
     ]
    },
    {
     "name": "stdout",
     "output_type": "stream",
     "text": [
      "naive\n",
      "w_svc_lin=0.000393636712027192, w_svc_radial=0.30830801008879416, w_xgbc=0.0001853672768981566, w_rfc=0.6910553868656306, w_ctbc=5.759905664991214e-05, w_=1.0\n",
      "importance_auc_acc_loss=1.0, importance_stability=1.0, importance_consistency=3.0\n",
      "AUC_acc_loss=0.06153529719525057, stability=0.7067812153419838, consistency=0.8385000925811156, joint_metric=0.14768281412966527\n"
     ]
    },
    {
     "name": "stderr",
     "output_type": "stream",
     "text": [
      "INFO:smac.intensification.intensification.Intensifier:Wallclock time limit for intensification reached (used: 0.036349 sec, available: 0.000010 sec)\n",
      "INFO:smac.stats.stats.Stats:##########################################################\n",
      "INFO:smac.stats.stats.Stats:Statistics:\n",
      "INFO:smac.stats.stats.Stats:#Incumbent changed: 8\n",
      "INFO:smac.stats.stats.Stats:#Submitted target algorithm runs: 30 / 30.0\n",
      "INFO:smac.stats.stats.Stats:#Finished target algorithm runs: 30 / 30.0\n",
      "INFO:smac.stats.stats.Stats:#Configurations: 30\n",
      "INFO:smac.stats.stats.Stats:Used wallclock time: 112.30 / inf sec \n",
      "INFO:smac.stats.stats.Stats:Used target algorithm runtime: 0.69 / inf sec\n",
      "INFO:smac.stats.stats.Stats:##########################################################\n",
      "INFO:smac.facade.smac_bo_facade.SMAC4BO:Final Incumbent: Configuration:\n",
      "  importance_auc_acc_loss, Constant: 1.0\n",
      "  importance_consistency, Constant: 3.0\n",
      "  importance_stability, Constant: 1.0\n",
      "  w0, Value: 0.0003438672151637378\n",
      "  w1, Value: 0.974055322329098\n",
      "  w2, Value: 0.0001609019245381539\n",
      "  w3, Value: 0.9997024059485201\n",
      "  w4, Value: 0.9998659954878334\n",
      "\n",
      "INFO:smac.facade.smac_bo_facade.SMAC4BO:Estimated cost of incumbent: 0.127825\n"
     ]
    },
    {
     "name": "stdout",
     "output_type": "stream",
     "text": [
      "AUC_acc_loss=0.06633178628249113, stability=0.23764313378794, consistency=0.9021405136064315, joint_metric=5.47862649969783\n",
      "{'auc_acc_loss': 0.06633178628249113, 'stability': 0.23764313378794, 'consistency': 0.9021405136064315, 'joint_metric': 5.47862649969783, 'w_svc_lin': 0.9997024059485201, 'w_svc_radial': 0.9998659954878334, 'w_xgbc': 0.0003438672151637378, 'w_rfc': 0.974055322329098, 'w_ctbc': 0.0001609019245381539, 'w_': 2.9741284929051535}\n"
     ]
    },
    {
     "data": {
      "application/vnd.jupyter.widget-view+json": {
       "model_id": "f1f7e31ae08545e39657d49df5bba7e4",
       "version_major": 2,
       "version_minor": 0
      },
      "text/plain": [
       "  0%|          | 0/66 [00:00<?, ?it/s]"
      ]
     },
     "metadata": {},
     "output_type": "display_data"
    },
    {
     "name": "stderr",
     "output_type": "stream",
     "text": [
      "INFO:shap:num_full_subsets = 1\n",
      "INFO:shap:phi = [-0.05569867 -0.40487597]\n",
      "INFO:shap:phi = [0.05569867 0.40487597]\n",
      "INFO:shap:num_full_subsets = 1\n",
      "INFO:shap:phi = [0.05694667 0.05769639]\n",
      "INFO:shap:phi = [-0.05694667 -0.05769639]\n",
      "INFO:shap:num_full_subsets = 1\n",
      "INFO:shap:phi = [ 0.06197934 -0.13490441]\n",
      "INFO:shap:phi = [-0.06197934  0.13490441]\n",
      "INFO:shap:num_full_subsets = 1\n",
      "INFO:shap:phi = [-0.23717319 -0.17504709]\n",
      "INFO:shap:phi = [0.23717319 0.17504709]\n",
      "INFO:shap:num_full_subsets = 1\n",
      "INFO:shap:phi = [0.05902414 0.06064712]\n",
      "INFO:shap:phi = [-0.05902414 -0.06064712]\n",
      "INFO:shap:num_full_subsets = 1\n",
      "INFO:shap:phi = [0.01694961 0.17837493]\n",
      "INFO:shap:phi = [-0.01694961 -0.17837493]\n",
      "INFO:shap:num_full_subsets = 1\n",
      "INFO:shap:phi = [0.04924462 0.18655623]\n",
      "INFO:shap:phi = [-0.04924462 -0.18655623]\n",
      "INFO:shap:num_full_subsets = 1\n",
      "INFO:shap:phi = [-0.02893668 -0.38856068]\n",
      "INFO:shap:phi = [0.02893668 0.38856068]\n",
      "INFO:shap:num_full_subsets = 1\n",
      "INFO:shap:phi = [-0.0064341  -0.38895223]\n",
      "INFO:shap:phi = [0.0064341  0.38895223]\n",
      "INFO:shap:num_full_subsets = 1\n",
      "INFO:shap:phi = [-0.18522607 -0.30603445]\n",
      "INFO:shap:phi = [0.18522607 0.30603445]\n",
      "INFO:shap:num_full_subsets = 1\n",
      "INFO:shap:phi = [0.10248533 0.19237928]\n",
      "INFO:shap:phi = [-0.10248533 -0.19237928]\n",
      "INFO:shap:num_full_subsets = 1\n",
      "INFO:shap:phi = [ 0.01866875 -0.22185827]\n",
      "INFO:shap:phi = [-0.01866875  0.22185827]\n",
      "INFO:shap:num_full_subsets = 1\n",
      "INFO:shap:phi = [0.09635898 0.18629202]\n",
      "INFO:shap:phi = [-0.09635898 -0.18629202]\n",
      "INFO:shap:num_full_subsets = 1\n",
      "INFO:shap:phi = [0.03122485 0.22536245]\n",
      "INFO:shap:phi = [-0.03122485 -0.22536245]\n",
      "INFO:shap:num_full_subsets = 1\n",
      "INFO:shap:phi = [0.01208639 0.36221115]\n",
      "INFO:shap:phi = [-0.01208639 -0.36221115]\n",
      "INFO:shap:num_full_subsets = 1\n",
      "INFO:shap:phi = [-0.41136692 -0.05874933]\n",
      "INFO:shap:phi = [0.41136692 0.05874933]\n",
      "INFO:shap:num_full_subsets = 1\n",
      "INFO:shap:phi = [0.05318442 0.32900991]\n",
      "INFO:shap:phi = [-0.05318442 -0.32900991]\n",
      "INFO:shap:num_full_subsets = 1\n",
      "INFO:shap:phi = [0.10040482 0.31487749]\n",
      "INFO:shap:phi = [-0.10040482 -0.31487749]\n",
      "INFO:shap:num_full_subsets = 1\n",
      "INFO:shap:phi = [0.26411131 0.16515449]\n",
      "INFO:shap:phi = [-0.26411131 -0.16515449]\n",
      "INFO:shap:num_full_subsets = 1\n",
      "INFO:shap:phi = [0.22635091 0.13117975]\n",
      "INFO:shap:phi = [-0.22635091 -0.13117975]\n",
      "INFO:shap:num_full_subsets = 1\n",
      "INFO:shap:phi = [0.05689606 0.12598367]\n",
      "INFO:shap:phi = [-0.05689606 -0.12598367]\n",
      "INFO:shap:num_full_subsets = 1\n",
      "INFO:shap:phi = [0.19065476 0.13228332]\n",
      "INFO:shap:phi = [-0.19065476 -0.13228332]\n",
      "INFO:shap:num_full_subsets = 1\n",
      "INFO:shap:phi = [-0.01594761  0.1723169 ]\n",
      "INFO:shap:phi = [ 0.01594761 -0.1723169 ]\n",
      "INFO:shap:num_full_subsets = 1\n",
      "INFO:shap:phi = [0.11727834 0.08374774]\n",
      "INFO:shap:phi = [-0.11727834 -0.08374774]\n",
      "INFO:shap:num_full_subsets = 1\n",
      "INFO:shap:phi = [0.23106145 0.15908189]\n",
      "INFO:shap:phi = [-0.23106145 -0.15908189]\n",
      "INFO:shap:num_full_subsets = 1\n",
      "INFO:shap:phi = [ 0.45797499 -0.29831315]\n",
      "INFO:shap:phi = [-0.45797499  0.29831315]\n",
      "INFO:shap:num_full_subsets = 1\n",
      "INFO:shap:phi = [0.047667   0.05034705]\n",
      "INFO:shap:phi = [-0.047667   -0.05034705]\n",
      "INFO:shap:num_full_subsets = 1\n",
      "INFO:shap:phi = [0.05697679 0.05351288]\n",
      "INFO:shap:phi = [-0.05697679 -0.05351288]\n",
      "INFO:shap:num_full_subsets = 1\n",
      "INFO:shap:phi = [0.04784425 0.29775673]\n",
      "INFO:shap:phi = [-0.04784425 -0.29775673]\n",
      "INFO:shap:num_full_subsets = 1\n",
      "INFO:shap:phi = [0.07606448 0.02651866]\n",
      "INFO:shap:phi = [-0.07606448 -0.02651866]\n",
      "INFO:shap:num_full_subsets = 1\n",
      "INFO:shap:phi = [ 0.06105366 -0.06783371]\n",
      "INFO:shap:phi = [-0.06105366  0.06783371]\n",
      "INFO:shap:num_full_subsets = 1\n",
      "INFO:shap:phi = [-0.05542047  0.21035389]\n",
      "INFO:shap:phi = [ 0.05542047 -0.21035389]\n",
      "INFO:shap:num_full_subsets = 1\n",
      "INFO:shap:phi = [0.03609153 0.20300693]\n",
      "INFO:shap:phi = [-0.03609153 -0.20300693]\n",
      "INFO:shap:num_full_subsets = 1\n",
      "INFO:shap:phi = [ 0.10826711 -0.17981971]\n",
      "INFO:shap:phi = [-0.10826711  0.17981971]\n",
      "INFO:shap:num_full_subsets = 1\n",
      "INFO:shap:phi = [ 0.00709139 -0.19683247]\n",
      "INFO:shap:phi = [-0.00709139  0.19683247]\n",
      "INFO:shap:num_full_subsets = 1\n",
      "INFO:shap:phi = [ 0.02430966 -0.32076217]\n",
      "INFO:shap:phi = [-0.02430966  0.32076217]\n",
      "INFO:shap:num_full_subsets = 1\n",
      "INFO:shap:phi = [-0.0924599  -0.36813585]\n",
      "INFO:shap:phi = [0.0924599  0.36813585]\n",
      "INFO:shap:num_full_subsets = 1\n",
      "INFO:shap:phi = [0.04811191 0.22762633]\n",
      "INFO:shap:phi = [-0.04811191 -0.22762633]\n",
      "INFO:shap:num_full_subsets = 1\n",
      "INFO:shap:phi = [-0.20203197 -0.27579042]\n",
      "INFO:shap:phi = [0.20203197 0.27579042]\n",
      "INFO:shap:num_full_subsets = 1\n",
      "INFO:shap:phi = [-0.19513007 -0.10785336]\n",
      "INFO:shap:phi = [0.19513007 0.10785336]\n",
      "INFO:shap:num_full_subsets = 1\n",
      "INFO:shap:phi = [ 0.01965775 -0.33716042]\n",
      "INFO:shap:phi = [-0.01965775  0.33716042]\n",
      "INFO:shap:num_full_subsets = 1\n",
      "INFO:shap:phi = [0.15142089 0.26925454]\n",
      "INFO:shap:phi = [-0.15142089 -0.26925454]\n",
      "INFO:shap:num_full_subsets = 1\n",
      "INFO:shap:phi = [ 0.15201232 -0.18702127]\n",
      "INFO:shap:phi = [-0.15201232  0.18702127]\n",
      "INFO:shap:num_full_subsets = 1\n",
      "INFO:shap:phi = [-0.25135703 -0.23405771]\n",
      "INFO:shap:phi = [0.25135703 0.23405771]\n",
      "INFO:shap:num_full_subsets = 1\n",
      "INFO:shap:phi = [-0.1005917  -0.10068615]\n",
      "INFO:shap:phi = [0.1005917  0.10068615]\n",
      "INFO:shap:num_full_subsets = 1\n",
      "INFO:shap:phi = [0.06811899 0.15878127]\n",
      "INFO:shap:phi = [-0.06811899 -0.15878127]\n",
      "INFO:shap:num_full_subsets = 1\n",
      "INFO:shap:phi = [0.00336098 0.18772999]\n",
      "INFO:shap:phi = [-0.00336098 -0.18772999]\n",
      "INFO:shap:num_full_subsets = 1\n",
      "INFO:shap:phi = [0.05066506 0.199796  ]\n",
      "INFO:shap:phi = [-0.05066506 -0.199796  ]\n",
      "INFO:shap:num_full_subsets = 1\n",
      "INFO:shap:phi = [-0.06070142 -0.4260488 ]\n",
      "INFO:shap:phi = [0.06070142 0.4260488 ]\n",
      "INFO:shap:num_full_subsets = 1\n",
      "INFO:shap:phi = [-0.51075196  0.12073267]\n",
      "INFO:shap:phi = [ 0.51075196 -0.12073267]\n",
      "INFO:shap:num_full_subsets = 1\n",
      "INFO:shap:phi = [-0.01350314  0.14505618]\n",
      "INFO:shap:phi = [ 0.01350314 -0.14505618]\n",
      "INFO:shap:num_full_subsets = 1\n",
      "INFO:shap:phi = [0.02255335 0.32232847]\n",
      "INFO:shap:phi = [-0.02255335 -0.32232847]\n",
      "INFO:shap:num_full_subsets = 1\n",
      "INFO:shap:phi = [0.06321263 0.25882431]\n",
      "INFO:shap:phi = [-0.06321263 -0.25882431]\n",
      "INFO:shap:num_full_subsets = 1\n",
      "INFO:shap:phi = [-0.41881809 -0.03025777]\n",
      "INFO:shap:phi = [0.41881809 0.03025777]\n",
      "INFO:shap:num_full_subsets = 1\n",
      "INFO:shap:phi = [0.03736744 0.34040357]\n",
      "INFO:shap:phi = [-0.03736744 -0.34040357]\n",
      "INFO:shap:num_full_subsets = 1\n",
      "INFO:shap:phi = [ 0.36719469 -0.08134357]\n",
      "INFO:shap:phi = [-0.36719469  0.08134357]\n",
      "INFO:shap:num_full_subsets = 1\n",
      "INFO:shap:phi = [-0.34416419 -0.08777364]\n",
      "INFO:shap:phi = [0.34416419 0.08777364]\n",
      "INFO:shap:num_full_subsets = 1\n",
      "INFO:shap:phi = [-0.0255795  -0.33682611]\n",
      "INFO:shap:phi = [0.0255795  0.33682611]\n",
      "INFO:shap:num_full_subsets = 1\n",
      "INFO:shap:phi = [ 0.03044089 -0.08597146]\n",
      "INFO:shap:phi = [-0.03044089  0.08597146]\n",
      "INFO:shap:num_full_subsets = 1\n",
      "INFO:shap:phi = [0.07720613 0.22522013]\n",
      "INFO:shap:phi = [-0.07720613 -0.22522013]\n",
      "INFO:shap:num_full_subsets = 1\n",
      "INFO:shap:phi = [-0.00046938  0.10949925]\n",
      "INFO:shap:phi = [ 0.00046938 -0.10949925]\n",
      "INFO:shap:num_full_subsets = 1\n",
      "INFO:shap:phi = [-0.34852884 -0.09542539]\n",
      "INFO:shap:phi = [0.34852884 0.09542539]\n",
      "INFO:shap:num_full_subsets = 1\n",
      "INFO:shap:phi = [-0.09650055 -0.14429739]\n",
      "INFO:shap:phi = [0.09650055 0.14429739]\n",
      "INFO:shap:num_full_subsets = 1\n",
      "INFO:shap:phi = [0.1512598  0.19179526]\n",
      "INFO:shap:phi = [-0.1512598  -0.19179526]\n",
      "INFO:shap:num_full_subsets = 1\n",
      "INFO:shap:phi = [ 0.0055657  -0.41899183]\n",
      "INFO:shap:phi = [-0.0055657   0.41899183]\n",
      "INFO:shap:num_full_subsets = 1\n",
      "INFO:shap:phi = [-0.25960868 -0.20151402]\n",
      "INFO:shap:phi = [0.25960868 0.20151402]\n"
     ]
    },
    {
     "name": "stdout",
     "output_type": "stream",
     "text": [
      "debug-2\n",
      "debug-3\n",
      "AUC_acc_loss=0.05238095238095234, stability=0.8747820243726622, consistency=0.9021405136064315, joint_metric=0.08673605252126754\n"
     ]
    },
    {
     "data": {
      "text/plain": [
       "{'auc_acc_loss': 0.05238095238095234,\n",
       " 'stability': 0.8747820243726622,\n",
       " 'consistency': 0.9021405136064315,\n",
       " 'joint_metric': 0.08673605252126754,\n",
       " 'w_svc_lin': 0.9997024059485201,\n",
       " 'w_svc_radial': 0.9998659954878334,\n",
       " 'w_xgbc': 0.0003438672151637378,\n",
       " 'w_rfc': 0.974055322329098,\n",
       " 'w_ctbc': 0.0001609019245381539,\n",
       " 'w_': 2.9741284929051535}"
      ]
     },
     "execution_count": 337,
     "metadata": {},
     "output_type": "execute_result"
    }
   ],
   "source": [
    "# importance_consistency jest wazniejszy - brak efektu\n",
    "e4 = run_experiment(importance_auc_acc_loss = 1.0, importance_stability = 1.0, importance_consistency = 3.0)\n",
    "to_pickle(e4, 'e4')\n",
    "print(naive_joint_metrics(e4['w0'], e4['w1'], e4['w2'], e4['w3'], e4['w4'], e4['importance_auc_acc_loss'], e4['importance_consistency'], e4['importance_stability']))\n",
    "r4 = exact_joint_metrics(e4['w0'], e4['w1'], e4['w2'], e4['w3'], e4['w4'], e4['importance_auc_acc_loss'], e4['importance_consistency'], e4['importance_stability'])\n",
    "to_pickle(r4, 'r4')\n",
    "r4"
   ]
  },
  {
   "cell_type": "code",
   "execution_count": 338,
   "id": "foster-carrier",
   "metadata": {
    "collapsed": true,
    "jupyter": {
     "outputs_hidden": true
    }
   },
   "outputs": [
    {
     "name": "stderr",
     "output_type": "stream",
     "text": [
      "`np.float` is a deprecated alias for the builtin `float`. To silence this warning, use `float` by itself. Doing this will not modify any behavior and is safe. If you specifically wanted the numpy scalar type, use `np.float64` here.\n",
      "Deprecated in NumPy 1.20; for more details and guidance: https://numpy.org/devdocs/release/1.20.0-notes.html#deprecations\n",
      "INFO:smac.utils.io.cmd_reader.CMDReader:Output to smac3-output_2021-02-09_14:13:47_769150\n",
      "`np.float` is a deprecated alias for the builtin `float`. To silence this warning, use `float` by itself. Doing this will not modify any behavior and is safe. If you specifically wanted the numpy scalar type, use `np.float64` here.\n",
      "Deprecated in NumPy 1.20; for more details and guidance: https://numpy.org/devdocs/release/1.20.0-notes.html#deprecations\n",
      "INFO:smac.facade.smac_bo_facade.SMAC4BO:Optimizing a deterministic scenario for quality without a tuner timeout - will make SMAC deterministic and only evaluate one configuration per iteration!\n",
      "INFO:smac.initial_design.sobol_design.SobolDesign:Running initial design for 7 configurations\n",
      "INFO:smac.facade.smac_bo_facade.SMAC4BO:<class 'smac.facade.smac_bo_facade.SMAC4BO'>\n",
      "INFO:smac.optimizer.smbo.SMBO:Running initial design\n",
      "INFO:smac.intensification.intensification.Intensifier:First run, no incumbent provided; challenger is assumed to be the incumbent\n"
     ]
    },
    {
     "name": "stdout",
     "output_type": "stream",
     "text": [
      "naive\n",
      "w_svc_lin=0.1377031947, w_svc_radial=0.1559742808, w_xgbc=0.1773123705, w_rfc=0.1695355122, w_ctbc=0.3594746418, w_=1.0\n",
      "importance_auc_acc_loss=2.0, importance_stability=2.0, importance_consistency=1.0\n",
      "AUC_acc_loss=0.05079774622277981, stability=0.7067812153419838, consistency=0.4096159680933908, joint_metric=0.012610781846072498\n",
      "Default Value: 0.01\n",
      "Optimizing! Depending on your machine, this might take a few minutes.\n",
      "naive\n",
      "w_svc_lin=0.2, w_svc_radial=0.2, w_xgbc=0.2, w_rfc=0.2, w_ctbc=0.2, w_=1.0\n",
      "importance_auc_acc_loss=2.0, importance_stability=2.0, importance_consistency=1.0\n",
      "AUC_acc_loss=0.056880024737167564, stability=0.7067812153419838, consistency=0.5328851601905255, joint_metric=0.012153907597247002\n"
     ]
    },
    {
     "name": "stderr",
     "output_type": "stream",
     "text": [
      "INFO:smac.intensification.intensification.Intensifier:First run, no incumbent provided; challenger is assumed to be the incumbent\n",
      "INFO:smac.intensification.intensification.Intensifier:Updated estimated cost of incumbent on 1 runs: 0.0122\n"
     ]
    },
    {
     "name": "stdout",
     "output_type": "stream",
     "text": [
      "naive\n",
      "w_svc_lin=0.09090909090909091, w_svc_radial=0.2727272727272727, w_xgbc=0.2727272727272727, w_rfc=0.09090909090909091, w_ctbc=0.2727272727272727, w_=1.0\n",
      "importance_auc_acc_loss=2.0, importance_stability=2.0, importance_consistency=1.0\n",
      "AUC_acc_loss=0.053253780851183416, stability=0.7067812153419838, consistency=0.46014605337703784, joint_metric=0.01233772810553127\n"
     ]
    },
    {
     "name": "stderr",
     "output_type": "stream",
     "text": [
      "INFO:smac.intensification.intensification.Intensifier:Wallclock time limit for intensification reached (used: 0.071175 sec, available: 0.000010 sec)\n"
     ]
    },
    {
     "name": "stdout",
     "output_type": "stream",
     "text": [
      "naive\n",
      "w_svc_lin=0.3333333333333333, w_svc_radial=0.1111111111111111, w_xgbc=0.1111111111111111, w_rfc=0.3333333333333333, w_ctbc=0.1111111111111111, w_=1.0\n",
      "importance_auc_acc_loss=2.0, importance_stability=2.0, importance_consistency=1.0\n",
      "AUC_acc_loss=0.06131210059781485, stability=0.7067812153419838, consistency=0.6527278808485087, joint_metric=0.011528962610586767\n"
     ]
    },
    {
     "name": "stderr",
     "output_type": "stream",
     "text": [
      "INFO:smac.intensification.intensification.Intensifier:Challenger (0.0115) is better than incumbent (0.0122) on 1 runs.\n",
      "INFO:smac.intensification.intensification.Intensifier:Changes in incumbent:\n",
      "INFO:smac.intensification.intensification.Intensifier:  w0 : 0.5 -> 0.25\n",
      "INFO:smac.intensification.intensification.Intensifier:  w1 : 0.5 -> 0.75\n",
      "INFO:smac.intensification.intensification.Intensifier:  w2 : 0.5 -> 0.25\n",
      "INFO:smac.intensification.intensification.Intensifier:  w3 : 0.5 -> 0.75\n",
      "INFO:smac.intensification.intensification.Intensifier:  w4 : 0.5 -> 0.25\n",
      "INFO:smac.intensification.intensification.Intensifier:Wallclock time limit for intensification reached (used: 0.037286 sec, available: 0.000010 sec)\n"
     ]
    },
    {
     "name": "stdout",
     "output_type": "stream",
     "text": [
      "naive\n",
      "w_svc_lin=0.05263157894736842, w_svc_radial=0.3684210526315789, w_xgbc=0.15789473684210525, w_rfc=0.15789473684210525, w_ctbc=0.2631578947368421, w_=1.0\n",
      "importance_auc_acc_loss=2.0, importance_stability=2.0, importance_consistency=1.0\n",
      "AUC_acc_loss=0.05382693747355398, stability=0.7067812153419838, consistency=0.47059273922098976, joint_metric=0.012324920397206568\n"
     ]
    },
    {
     "name": "stderr",
     "output_type": "stream",
     "text": [
      "INFO:smac.intensification.intensification.Intensifier:Wallclock time limit for intensification reached (used: 0.032776 sec, available: 0.000010 sec)\n"
     ]
    },
    {
     "name": "stdout",
     "output_type": "stream",
     "text": [
      "naive\n",
      "w_svc_lin=0.21739130434782608, w_svc_radial=0.13043478260869565, w_xgbc=0.30434782608695654, w_rfc=0.30434782608695654, w_ctbc=0.043478260869565216, w_=1.0\n",
      "importance_auc_acc_loss=2.0, importance_stability=2.0, importance_consistency=1.0\n",
      "AUC_acc_loss=0.0614402678067274, stability=0.7067812153419838, consistency=0.5733404953649649, joint_metric=0.013180248117842836\n"
     ]
    },
    {
     "name": "stderr",
     "output_type": "stream",
     "text": [
      "INFO:smac.intensification.intensification.Intensifier:Wallclock time limit for intensification reached (used: 0.032923 sec, available: 0.000010 sec)\n"
     ]
    },
    {
     "name": "stdout",
     "output_type": "stream",
     "text": [
      "naive\n",
      "w_svc_lin=0.23076923076923078, w_svc_radial=0.07692307692307693, w_xgbc=0.38461538461538464, w_rfc=0.07692307692307693, w_ctbc=0.23076923076923078, w_=1.0\n",
      "importance_auc_acc_loss=2.0, importance_stability=2.0, importance_consistency=1.0\n",
      "AUC_acc_loss=0.05520550877693732, stability=0.7067812153419838, consistency=0.47958632129918666, joint_metric=0.012721199072382573\n"
     ]
    },
    {
     "name": "stderr",
     "output_type": "stream",
     "text": [
      "INFO:smac.intensification.intensification.Intensifier:Wallclock time limit for intensification reached (used: 0.035748 sec, available: 0.000010 sec)\n"
     ]
    },
    {
     "name": "stdout",
     "output_type": "stream",
     "text": [
      "naive\n",
      "w_svc_lin=0.28, w_svc_radial=0.2, w_xgbc=0.04, w_rfc=0.2, w_ctbc=0.28, w_=1.0\n",
      "importance_auc_acc_loss=2.0, importance_stability=2.0, importance_consistency=1.0\n",
      "AUC_acc_loss=0.05587569573283855, stability=0.7067812153419838, consistency=0.46691930109578994, joint_metric=0.01338548352662433\n"
     ]
    },
    {
     "name": "stderr",
     "output_type": "stream",
     "text": [
      "INFO:smac.intensification.intensification.Intensifier:Wallclock time limit for intensification reached (used: 0.034585 sec, available: 0.000010 sec)\n"
     ]
    },
    {
     "name": "stdout",
     "output_type": "stream",
     "text": [
      "naive\n",
      "w_svc_lin=0.33314208227779923, w_svc_radial=0.11087068374116406, w_xgbc=0.11053834574355476, w_rfc=0.33394480003760696, w_ctbc=0.11150408819987512, w_=1.0\n",
      "importance_auc_acc_loss=2.0, importance_stability=2.0, importance_consistency=1.0\n",
      "AUC_acc_loss=0.0612972608956699, stability=0.7067812153419837, consistency=0.6521015128435642, joint_metric=0.011534451092371865\n"
     ]
    },
    {
     "name": "stderr",
     "output_type": "stream",
     "text": [
      "INFO:smac.intensification.intensification.Intensifier:Wallclock time limit for intensification reached (used: 0.035765 sec, available: 0.000010 sec)\n"
     ]
    },
    {
     "name": "stdout",
     "output_type": "stream",
     "text": [
      "naive\n",
      "w_svc_lin=0.3327491068855517, w_svc_radial=0.1121617249856679, w_xgbc=0.11032256400641922, w_rfc=0.3316905783754345, w_ctbc=0.11307602574692668, w_=1.0\n",
      "importance_auc_acc_loss=2.0, importance_stability=2.0, importance_consistency=1.0\n",
      "AUC_acc_loss=0.061249337731583565, stability=0.7067812153419838, consistency=0.6496216116764142, joint_metric=0.011560385934428957\n"
     ]
    },
    {
     "name": "stderr",
     "output_type": "stream",
     "text": [
      "INFO:smac.intensification.intensification.Intensifier:Wallclock time limit for intensification reached (used: 0.039904 sec, available: 0.000010 sec)\n"
     ]
    },
    {
     "name": "stdout",
     "output_type": "stream",
     "text": [
      "naive\n",
      "w_svc_lin=0.34581292442166756, w_svc_radial=0.09741140370093648, w_xgbc=0.115211468619883, w_rfc=0.34555891716734843, w_ctbc=0.0960052860901646, w_=1.0\n",
      "importance_auc_acc_loss=2.0, importance_stability=2.0, importance_consistency=1.0\n",
      "AUC_acc_loss=0.06188112627939071, stability=0.7067812153419838, consistency=0.6771318590331464, joint_metric=0.011320697205117265\n"
     ]
    },
    {
     "name": "stderr",
     "output_type": "stream",
     "text": [
      "INFO:smac.intensification.intensification.Intensifier:Challenger (0.0113) is better than incumbent (0.0115) on 1 runs.\n",
      "INFO:smac.intensification.intensification.Intensifier:Changes in incumbent:\n",
      "INFO:smac.intensification.intensification.Intensifier:  w0 : 0.25 -> 0.25002125990257784\n",
      "INFO:smac.intensification.intensification.Intensifier:  w1 : 0.75 -> 0.7498999611384237\n",
      "INFO:smac.intensification.intensification.Intensifier:  w2 : 0.25 -> 0.20834178118816135\n",
      "INFO:smac.intensification.intensification.Intensifier:  w3 : 0.75 -> 0.7504511841591005\n",
      "INFO:smac.intensification.intensification.Intensifier:  w4 : 0.25 -> 0.21139320741184997\n",
      "INFO:smac.intensification.intensification.Intensifier:Wallclock time limit for intensification reached (used: 0.037426 sec, available: 0.000010 sec)\n"
     ]
    },
    {
     "name": "stdout",
     "output_type": "stream",
     "text": [
      "naive\n",
      "w_svc_lin=0.36141242080161684, w_svc_radial=0.106390104188426, w_xgbc=0.120676190951988, w_rfc=0.35488101631730307, w_ctbc=0.056640267740666196, w_=1.0\n",
      "importance_auc_acc_loss=2.0, importance_stability=2.0, importance_consistency=1.0\n",
      "AUC_acc_loss=0.06337607874698552, stability=0.7067812153419837, consistency=0.7338007833863344, joint_metric=0.010957274999921386\n"
     ]
    },
    {
     "name": "stderr",
     "output_type": "stream",
     "text": [
      "INFO:smac.intensification.intensification.Intensifier:Challenger (0.0110) is better than incumbent (0.0113) on 1 runs.\n",
      "INFO:smac.intensification.intensification.Intensifier:Changes in incumbent:\n",
      "INFO:smac.intensification.intensification.Intensifier:  w0 : 0.25002125990257784 -> 0.2497568564434461\n",
      "INFO:smac.intensification.intensification.Intensifier:  w1 : 0.7498999611384237 -> 0.7344776657901695\n",
      "INFO:smac.intensification.intensification.Intensifier:  w2 : 0.20834178118816135 -> 0.11722523811388891\n",
      "INFO:smac.intensification.intensification.Intensifier:  w3 : 0.7504511841591005 -> 0.7479953534077033\n",
      "INFO:smac.intensification.intensification.Intensifier:  w4 : 0.21139320741184997 -> 0.22018973062684533\n",
      "INFO:smac.intensification.intensification.Intensifier:Wallclock time limit for intensification reached (used: 0.036801 sec, available: 0.000010 sec)\n"
     ]
    },
    {
     "name": "stdout",
     "output_type": "stream",
     "text": [
      "naive\n",
      "w_svc_lin=0.3849829241364224, w_svc_radial=0.11021034455083109, w_xgbc=0.12931296080002883, w_rfc=0.37548642032309487, w_ctbc=7.3501896228362335e-06, w_=1.0\n",
      "importance_auc_acc_loss=2.0, importance_stability=2.0, importance_consistency=1.0\n",
      "AUC_acc_loss=0.06549300138552118, stability=0.7067812153419838, consistency=0.7253154121550882, joint_metric=0.011838396577577213\n"
     ]
    },
    {
     "name": "stderr",
     "output_type": "stream",
     "text": [
      "INFO:smac.intensification.intensification.Intensifier:Wallclock time limit for intensification reached (used: 0.034885 sec, available: 0.000010 sec)\n"
     ]
    },
    {
     "name": "stdout",
     "output_type": "stream",
     "text": [
      "naive\n",
      "w_svc_lin=0.3664824949647128, w_svc_radial=0.1167030858106359, w_xgbc=0.10880949468774301, w_rfc=0.34299992604858437, w_ctbc=0.06500499848832411, w_=1.0000000000000002\n",
      "importance_auc_acc_loss=2.0, importance_stability=2.0, importance_consistency=1.0\n",
      "AUC_acc_loss=0.06326637916520657, stability=0.7067812153419837, consistency=0.7356079031977996, joint_metric=0.01089255035341932\n"
     ]
    },
    {
     "name": "stderr",
     "output_type": "stream",
     "text": [
      "INFO:smac.intensification.intensification.Intensifier:Challenger (0.0109) is better than incumbent (0.0110) on 1 runs.\n",
      "INFO:smac.intensification.intensification.Intensifier:Changes in incumbent:\n",
      "INFO:smac.intensification.intensification.Intensifier:  w0 : 0.2497568564434461 -> 0.2225112740133854\n",
      "INFO:smac.intensification.intensification.Intensifier:  w1 : 0.7344776657901695 -> 0.7014217899880093\n",
      "INFO:smac.intensification.intensification.Intensifier:  w2 : 0.11722523811388891 -> 0.13293274702161215\n",
      "INFO:smac.intensification.intensification.Intensifier:  w3 : 0.7479953534077033 -> 0.7494427493870924\n",
      "INFO:smac.intensification.intensification.Intensifier:  w4 : 0.22018973062684533 -> 0.23865336733287126\n",
      "INFO:smac.intensification.intensification.Intensifier:Wallclock time limit for intensification reached (used: 0.037396 sec, available: 0.000010 sec)\n"
     ]
    },
    {
     "name": "stdout",
     "output_type": "stream",
     "text": [
      "naive\n",
      "w_svc_lin=0.34686193494283096, w_svc_radial=0.15715871308324564, w_xgbc=0.10494640952913112, w_rfc=0.3322893689452351, w_ctbc=0.05874357349955719, w_=1.0\n",
      "importance_auc_acc_loss=2.0, importance_stability=2.0, importance_consistency=1.0\n",
      "AUC_acc_loss=0.06341377631216423, stability=0.7067812153419838, consistency=0.7511526435801713, joint_metric=0.010716896484182236\n"
     ]
    },
    {
     "name": "stderr",
     "output_type": "stream",
     "text": [
      "INFO:smac.intensification.intensification.Intensifier:Challenger (0.0107) is better than incumbent (0.0109) on 1 runs.\n",
      "INFO:smac.intensification.intensification.Intensifier:Changes in incumbent:\n",
      "INFO:smac.intensification.intensification.Intensifier:  w0 : 0.2225112740133854 -> 0.22721210052816715\n",
      "INFO:smac.intensification.intensification.Intensifier:  w1 : 0.7014217899880093 -> 0.7194163748905443\n",
      "INFO:smac.intensification.intensification.Intensifier:  w2 : 0.13293274702161215 -> 0.12718158522288675\n",
      "INFO:smac.intensification.intensification.Intensifier:  w3 : 0.7494427493870924 -> 0.7509664140510552\n",
      "INFO:smac.intensification.intensification.Intensifier:  w4 : 0.23865336733287126 -> 0.34025329190548276\n",
      "INFO:smac.intensification.intensification.Intensifier:Wallclock time limit for intensification reached (used: 0.036885 sec, available: 0.000010 sec)\n"
     ]
    },
    {
     "name": "stdout",
     "output_type": "stream",
     "text": [
      "naive\n",
      "w_svc_lin=0.3132197966747028, w_svc_radial=0.24938691662694287, w_xgbc=0.08296880456940611, w_rfc=0.3003361381240932, w_ctbc=0.05408834400485501, w_=1.0\n",
      "importance_auc_acc_loss=2.0, importance_stability=2.0, importance_consistency=1.0\n",
      "AUC_acc_loss=0.06363343697317671, stability=0.7067812153419838, consistency=0.7802942975454179, joint_metric=0.010388248551878379\n"
     ]
    },
    {
     "name": "stderr",
     "output_type": "stream",
     "text": [
      "INFO:smac.intensification.intensification.Intensifier:Challenger (0.0104) is better than incumbent (0.0107) on 1 runs.\n",
      "INFO:smac.intensification.intensification.Intensifier:Changes in incumbent:\n",
      "INFO:smac.intensification.intensification.Intensifier:  w0 : 0.22721210052816715 -> 0.19852180871889108\n",
      "INFO:smac.intensification.intensification.Intensifier:  w1 : 0.7194163748905443 -> 0.7186227844727456\n",
      "INFO:smac.intensification.intensification.Intensifier:  w2 : 0.12718158522288675 -> 0.12941871270991925\n",
      "INFO:smac.intensification.intensification.Intensifier:  w3 : 0.7509664140510552 -> 0.7494498792062131\n",
      "INFO:smac.intensification.intensification.Intensifier:  w4 : 0.34025329190548276 -> 0.59671513910017\n",
      "INFO:smac.intensification.intensification.Intensifier:Wallclock time limit for intensification reached (used: 0.037437 sec, available: 0.000010 sec)\n"
     ]
    },
    {
     "name": "stdout",
     "output_type": "stream",
     "text": [
      "naive\n",
      "w_svc_lin=0.3155834087426669, w_svc_radial=0.29833735231731895, w_xgbc=0.03048906658528236, w_rfc=0.30267704764490366, w_ctbc=0.05291312470982804, w_=0.9999999999999999\n",
      "importance_auc_acc_loss=2.0, importance_stability=2.0, importance_consistency=1.0\n",
      "AUC_acc_loss=0.06409636983981351, stability=0.7067812153419838, consistency=0.7914876429035892, joint_metric=0.010390889618815034\n"
     ]
    },
    {
     "name": "stderr",
     "output_type": "stream",
     "text": [
      "INFO:smac.intensification.intensification.Intensifier:Wallclock time limit for intensification reached (used: 0.037221 sec, available: 0.000010 sec)\n"
     ]
    },
    {
     "name": "stdout",
     "output_type": "stream",
     "text": [
      "naive\n",
      "w_svc_lin=0.27704530566473423, w_svc_radial=0.36066747290689605, w_xgbc=0.05993793218623662, w_rfc=0.25488186591737155, w_ctbc=0.047467423324761726, w_=1.0000000000000004\n",
      "importance_auc_acc_loss=2.0, importance_stability=2.0, importance_consistency=1.0\n",
      "AUC_acc_loss=0.06398229438473178, stability=0.7067812153419838, consistency=0.8007069236616141, joint_metric=0.010234721718271512\n"
     ]
    },
    {
     "name": "stderr",
     "output_type": "stream",
     "text": [
      "INFO:smac.intensification.intensification.Intensifier:Challenger (0.0102) is better than incumbent (0.0104) on 1 runs.\n",
      "INFO:smac.intensification.intensification.Intensifier:Changes in incumbent:\n",
      "INFO:smac.intensification.intensification.Intensifier:  w0 : 0.19852180871889108 -> 0.163534453237612\n",
      "INFO:smac.intensification.intensification.Intensifier:  w1 : 0.7186227844727456 -> 0.6954188284885644\n",
      "INFO:smac.intensification.intensification.Intensifier:  w2 : 0.12941871270991925 -> 0.12950995866680357\n",
      "INFO:smac.intensification.intensification.Intensifier:  w3 : 0.7494498792062131 -> 0.7558894831932991\n",
      "INFO:smac.intensification.intensification.Intensifier:  w4 : 0.59671513910017 -> 0.9840439239571274\n",
      "INFO:smac.intensification.intensification.Intensifier:Wallclock time limit for intensification reached (used: 0.036434 sec, available: 0.000010 sec)\n"
     ]
    },
    {
     "name": "stdout",
     "output_type": "stream",
     "text": [
      "naive\n",
      "w_svc_lin=0.30749266390862595, w_svc_radial=0.37004419810850187, w_xgbc=0.06011503515707546, w_rfc=0.215656148824536, w_ctbc=0.046691954001260624, w_=0.9999999999999999\n",
      "importance_auc_acc_loss=2.0, importance_stability=2.0, importance_consistency=1.0\n",
      "AUC_acc_loss=0.06447701984931056, stability=0.7067812153419839, consistency=0.8016502894435894, joint_metric=0.010381376969979842\n"
     ]
    },
    {
     "name": "stderr",
     "output_type": "stream",
     "text": [
      "INFO:smac.intensification.intensification.Intensifier:Wallclock time limit for intensification reached (used: 0.035827 sec, available: 0.000010 sec)\n"
     ]
    },
    {
     "name": "stdout",
     "output_type": "stream",
     "text": [
      "naive\n",
      "w_svc_lin=0.27195561201697965, w_svc_radial=0.3773078449054272, w_xgbc=0.04210663801884689, w_rfc=0.24175076077712654, w_ctbc=0.0668791442816197, w_=0.9999999999999999\n",
      "importance_auc_acc_loss=2.0, importance_stability=2.0, importance_consistency=1.0\n",
      "AUC_acc_loss=0.06343071051559028, stability=0.7067812153419838, consistency=0.7507574518654833, joint_metric=0.010728265279845392\n"
     ]
    },
    {
     "name": "stderr",
     "output_type": "stream",
     "text": [
      "INFO:smac.intensification.intensification.Intensifier:Wallclock time limit for intensification reached (used: 0.037272 sec, available: 0.000010 sec)\n"
     ]
    },
    {
     "name": "stdout",
     "output_type": "stream",
     "text": [
      "naive\n",
      "w_svc_lin=0.28246696318428116, w_svc_radial=0.33410073411014796, w_xgbc=0.06325031685334197, w_rfc=0.2866687119615589, w_ctbc=0.03351327389066998, w_=0.9999999999999999\n",
      "importance_auc_acc_loss=2.0, importance_stability=2.0, importance_consistency=1.0\n",
      "AUC_acc_loss=0.06435211205341795, stability=0.7067812153419838, consistency=0.8324813235385324, joint_metric=0.009958206191834086\n"
     ]
    },
    {
     "name": "stderr",
     "output_type": "stream",
     "text": [
      "INFO:smac.intensification.intensification.Intensifier:Challenger (0.0100) is better than incumbent (0.0102) on 1 runs.\n",
      "INFO:smac.intensification.intensification.Intensifier:Changes in incumbent:\n",
      "INFO:smac.intensification.intensification.Intensifier:  w0 : 0.163534453237612 -> 0.18928992081881457\n",
      "INFO:smac.intensification.intensification.Intensifier:  w1 : 0.6954188284885644 -> 0.857916615884398\n",
      "INFO:smac.intensification.intensification.Intensifier:  w2 : 0.12950995866680357 -> 0.1002955443820671\n",
      "INFO:smac.intensification.intensification.Intensifier:  w3 : 0.7558894831932991 -> 0.8453419959786097\n",
      "INFO:smac.intensification.intensification.Intensifier:  w4 : 0.9840439239571274 -> 0.9998669516843093\n",
      "INFO:smac.intensification.intensification.Intensifier:Wallclock time limit for intensification reached (used: 0.036324 sec, available: 0.000010 sec)\n"
     ]
    },
    {
     "name": "stdout",
     "output_type": "stream",
     "text": [
      "naive\n",
      "w_svc_lin=0.3216448521287078, w_svc_radial=0.3216801205789301, w_xgbc=0.07312875255029916, w_rfc=0.2500194788543694, w_ctbc=0.033526795887693396, w_=0.9999999999999999\n",
      "importance_auc_acc_loss=2.0, importance_stability=2.0, importance_consistency=1.0\n",
      "AUC_acc_loss=0.06480372947172035, stability=0.7067812153419838, consistency=0.8210394963616379, joint_metric=0.01023919831003433\n"
     ]
    },
    {
     "name": "stderr",
     "output_type": "stream",
     "text": [
      "INFO:smac.intensification.intensification.Intensifier:Wallclock time limit for intensification reached (used: 0.036815 sec, available: 0.000010 sec)\n"
     ]
    },
    {
     "name": "stdout",
     "output_type": "stream",
     "text": [
      "naive\n",
      "w_svc_lin=0.2555464447406964, w_svc_radial=0.336704246668606, w_xgbc=0.047842969700906485, w_rfc=0.33669056121346114, w_ctbc=0.023215777676329902, w_=0.9999999999999999\n",
      "importance_auc_acc_loss=2.0, importance_stability=2.0, importance_consistency=1.0\n",
      "AUC_acc_loss=0.06435930315529846, stability=0.7067812153419839, consistency=0.8617155046792498, joint_metric=0.00962251866795301\n"
     ]
    },
    {
     "name": "stderr",
     "output_type": "stream",
     "text": [
      "INFO:smac.intensification.intensification.Intensifier:Challenger (0.0096) is better than incumbent (0.0100) on 1 runs.\n",
      "INFO:smac.intensification.intensification.Intensifier:Changes in incumbent:\n",
      "INFO:smac.intensification.intensification.Intensifier:  w0 : 0.18928992081881457 -> 0.1420822421231813\n",
      "INFO:smac.intensification.intensification.Intensifier:  w1 : 0.857916615884398 -> 0.9998908959452488\n",
      "INFO:smac.intensification.intensification.Intensifier:  w2 : 0.1002955443820671 -> 0.0689453385838579\n",
      "INFO:smac.intensification.intensification.Intensifier:  w3 : 0.8453419959786097 -> 0.7589121675002932\n",
      "INFO:smac.intensification.intensification.Intensifier:  w4 : 0.9998669516843093 -> 0.9999315384923902\n",
      "INFO:smac.intensification.intensification.Intensifier:Wallclock time limit for intensification reached (used: 0.037060 sec, available: 0.000010 sec)\n"
     ]
    },
    {
     "name": "stdout",
     "output_type": "stream",
     "text": [
      "naive\n",
      "w_svc_lin=0.19484216257617185, w_svc_radial=0.37800455902835794, w_xgbc=0.03439837405688559, w_rfc=0.377980308952874, w_ctbc=0.014774595385710576, w_=1.0\n",
      "importance_auc_acc_loss=2.0, importance_stability=2.0, importance_consistency=1.0\n",
      "AUC_acc_loss=0.06403617840323438, stability=0.7067812153419839, consistency=0.8745522158574335, joint_metric=0.0093863138245989\n"
     ]
    },
    {
     "name": "stderr",
     "output_type": "stream",
     "text": [
      "INFO:smac.intensification.intensification.Intensifier:Challenger (0.0094) is better than incumbent (0.0096) on 1 runs.\n",
      "INFO:smac.intensification.intensification.Intensifier:Changes in incumbent:\n",
      "INFO:smac.intensification.intensification.Intensifier:  w0 : 0.1420822421231813 -> 0.09099957644199899\n",
      "INFO:smac.intensification.intensification.Intensifier:  w1 : 0.9998908959452488 -> 0.9999323793980992\n",
      "INFO:smac.intensification.intensification.Intensifier:  w2 : 0.0689453385838579 -> 0.0390856242210218\n",
      "INFO:smac.intensification.intensification.Intensifier:  w3 : 0.7589121675002932 -> 0.5154474522008864\n",
      "INFO:smac.intensification.intensification.Intensifier:  w4 : 0.9999315384923902 -> 0.9999965320407235\n",
      "INFO:smac.intensification.intensification.Intensifier:Wallclock time limit for intensification reached (used: 0.036087 sec, available: 0.000010 sec)\n"
     ]
    },
    {
     "name": "stdout",
     "output_type": "stream",
     "text": [
      "naive\n",
      "w_svc_lin=0.054981348635690735, w_svc_radial=0.4335872499714573, w_xgbc=0.05714174940713529, w_rfc=0.4335668615563804, w_ctbc=0.020722790429336252, w_=0.9999999999999999\n",
      "importance_auc_acc_loss=2.0, importance_stability=2.0, importance_consistency=1.0\n",
      "AUC_acc_loss=0.06214019510543389, stability=0.7067812153419838, consistency=0.8221495865611352, joint_metric=0.009402089596354427\n"
     ]
    },
    {
     "name": "stderr",
     "output_type": "stream",
     "text": [
      "INFO:smac.intensification.intensification.Intensifier:Wallclock time limit for intensification reached (used: 0.036818 sec, available: 0.000010 sec)\n"
     ]
    },
    {
     "name": "stdout",
     "output_type": "stream",
     "text": [
      "naive\n",
      "w_svc_lin=0.08858247000925248, w_svc_radial=0.45553515505459524, w_xgbc=0.00028103026475077126, w_rfc=0.4555166428371221, w_ctbc=8.470183427942754e-05, w_=1.0\n",
      "importance_auc_acc_loss=2.0, importance_stability=2.0, importance_consistency=1.0\n",
      "AUC_acc_loss=0.06352294365924667, stability=0.7067812153419838, consistency=0.8726672973380657, joint_metric=0.009256408917869026\n"
     ]
    },
    {
     "name": "stderr",
     "output_type": "stream",
     "text": [
      "INFO:smac.intensification.intensification.Intensifier:Challenger (0.0093) is better than incumbent (0.0094) on 1 runs.\n",
      "INFO:smac.intensification.intensification.Intensifier:Changes in incumbent:\n",
      "INFO:smac.intensification.intensification.Intensifier:  w0 : 0.09099957644199899 -> 0.000616912074669333\n",
      "INFO:smac.intensification.intensification.Intensifier:  w1 : 0.9999323793980992 -> 0.9999411181862302\n",
      "INFO:smac.intensification.intensification.Intensifier:  w2 : 0.0390856242210218 -> 0.0001859357900828233\n",
      "INFO:smac.intensification.intensification.Intensifier:  w3 : 0.5154474522008864 -> 0.19445448482641384\n",
      "INFO:smac.intensification.intensification.Intensifier:  w4 : 0.9999965320407235 -> 0.9999817558396097\n",
      "INFO:smac.intensification.intensification.Intensifier:Wallclock time limit for intensification reached (used: 0.035541 sec, available: 0.000010 sec)\n"
     ]
    },
    {
     "name": "stdout",
     "output_type": "stream",
     "text": [
      "naive\n",
      "w_svc_lin=0.0004094271479897976, w_svc_radial=0.6038186251225914, w_xgbc=1.8209901729730518e-05, w_rfc=0.395743905618806, w_ctbc=9.832208882938981e-06, w_=0.9999999999999999\n",
      "importance_auc_acc_loss=2.0, importance_stability=2.0, importance_consistency=1.0\n",
      "AUC_acc_loss=0.06307715663796883, stability=0.7067812153419838, consistency=0.8536601234676412, joint_metric=0.009330162861300525\n"
     ]
    },
    {
     "name": "stderr",
     "output_type": "stream",
     "text": [
      "INFO:smac.intensification.intensification.Intensifier:Wallclock time limit for intensification reached (used: 0.035639 sec, available: 0.000010 sec)\n"
     ]
    },
    {
     "name": "stdout",
     "output_type": "stream",
     "text": [
      "naive\n",
      "w_svc_lin=5.916507819389714e-05, w_svc_radial=0.5109713318263158, w_xgbc=3.4948102630904293e-06, w_rfc=0.46739753234776577, w_ctbc=0.02156847593746144, w_=1.0\n",
      "importance_auc_acc_loss=2.0, importance_stability=2.0, importance_consistency=1.0\n",
      "AUC_acc_loss=0.06190596038803128, stability=0.7067812153419838, consistency=0.8345948267022161, joint_metric=0.009192195359965474\n"
     ]
    },
    {
     "name": "stderr",
     "output_type": "stream",
     "text": [
      "INFO:smac.intensification.intensification.Intensifier:Challenger (0.0092) is better than incumbent (0.0093) on 1 runs.\n",
      "INFO:smac.intensification.intensification.Intensifier:Changes in incumbent:\n",
      "INFO:smac.intensification.intensification.Intensifier:  w0 : 0.000616912074669333 -> 6.838963453744507e-06\n",
      "INFO:smac.intensification.intensification.Intensifier:  w1 : 0.9999411181862302 -> 0.9146461185192031\n",
      "INFO:smac.intensification.intensification.Intensifier:  w2 : 0.0001859357900828233 -> 0.0422071607855553\n",
      "INFO:smac.intensification.intensification.Intensifier:  w3 : 0.19445448482641384 -> 0.00011577962093661413\n",
      "INFO:smac.intensification.intensification.Intensifier:  w4 : 0.9999817558396097 -> 0.999915303322122\n",
      "INFO:smac.intensification.intensification.Intensifier:Wallclock time limit for intensification reached (used: 0.035512 sec, available: 0.000010 sec)\n"
     ]
    },
    {
     "name": "stdout",
     "output_type": "stream",
     "text": [
      "naive\n",
      "w_svc_lin=0.08423841438586466, w_svc_radial=0.48759540976832133, w_xgbc=7.409395906621407e-05, w_rfc=0.40908591250244264, w_ctbc=0.019006169384305188, w_=1.0\n",
      "importance_auc_acc_loss=2.0, importance_stability=2.0, importance_consistency=1.0\n",
      "AUC_acc_loss=0.06303123131585589, stability=0.7067812153419838, consistency=0.8459867635393765, joint_metric=0.009401085823876472\n"
     ]
    },
    {
     "name": "stderr",
     "output_type": "stream",
     "text": [
      "INFO:smac.intensification.intensification.Intensifier:Wallclock time limit for intensification reached (used: 0.035578 sec, available: 0.000010 sec)\n"
     ]
    },
    {
     "name": "stdout",
     "output_type": "stream",
     "text": [
      "naive\n",
      "w_svc_lin=5.78869394891216e-05, w_svc_radial=0.4999328568310223, w_xgbc=3.4193121415724654e-06, w_rfc=0.4998237250103911, w_ctbc=0.0001821119069559113, w_=1.0\n",
      "importance_auc_acc_loss=2.0, importance_stability=2.0, importance_consistency=1.0\n",
      "AUC_acc_loss=0.06252559822172735, stability=0.7067812153419838, consistency=0.8620002911307612, joint_metric=0.009079005973638006\n"
     ]
    },
    {
     "name": "stderr",
     "output_type": "stream",
     "text": [
      "INFO:smac.intensification.intensification.Intensifier:Challenger (0.0091) is better than incumbent (0.0092) on 1 runs.\n",
      "INFO:smac.intensification.intensification.Intensifier:Changes in incumbent:\n",
      "INFO:smac.intensification.intensification.Intensifier:  w1 : 0.9146461185192031 -> 0.9996970288557862\n",
      "INFO:smac.intensification.intensification.Intensifier:  w2 : 0.0422071607855553 -> 0.0003642418780727166\n",
      "INFO:smac.intensification.intensification.Intensifier:Wallclock time limit for intensification reached (used: 0.037549 sec, available: 0.000010 sec)\n"
     ]
    },
    {
     "name": "stdout",
     "output_type": "stream",
     "text": [
      "naive\n",
      "w_svc_lin=0.27251108531559104, w_svc_radial=0.13178116557314293, w_xgbc=0.09632591052863873, w_rfc=0.23677121223999065, w_ctbc=0.2626106263426366, w_=1.0\n",
      "importance_auc_acc_loss=2.0, importance_stability=2.0, importance_consistency=1.0\n",
      "AUC_acc_loss=0.05581908190632852, stability=0.706781215341984, consistency=0.47823311946247343, joint_metric=0.01304234643706824\n"
     ]
    },
    {
     "name": "stderr",
     "output_type": "stream",
     "text": [
      "INFO:smac.intensification.intensification.Intensifier:Wallclock time limit for intensification reached (used: 0.033840 sec, available: 0.000010 sec)\n",
      "INFO:smac.stats.stats.Stats:##########################################################\n",
      "INFO:smac.stats.stats.Stats:Statistics:\n",
      "INFO:smac.stats.stats.Stats:#Incumbent changed: 13\n",
      "INFO:smac.stats.stats.Stats:#Submitted target algorithm runs: 30 / 30.0\n",
      "INFO:smac.stats.stats.Stats:#Finished target algorithm runs: 30 / 30.0\n",
      "INFO:smac.stats.stats.Stats:#Configurations: 30\n",
      "INFO:smac.stats.stats.Stats:Used wallclock time: 116.33 / inf sec \n",
      "INFO:smac.stats.stats.Stats:Used target algorithm runtime: 0.69 / inf sec\n",
      "INFO:smac.stats.stats.Stats:##########################################################\n",
      "INFO:smac.facade.smac_bo_facade.SMAC4BO:Final Incumbent: Configuration:\n",
      "  importance_auc_acc_loss, Constant: 2.0\n",
      "  importance_consistency, Constant: 1.0\n",
      "  importance_stability, Constant: 2.0\n",
      "  w0, Value: 6.838963453744507e-06\n",
      "  w1, Value: 0.9996970288557862\n",
      "  w2, Value: 0.0003642418780727166\n",
      "  w3, Value: 0.00011577962093661413\n",
      "  w4, Value: 0.999915303322122\n",
      "\n",
      "INFO:smac.facade.smac_bo_facade.SMAC4BO:Estimated cost of incumbent: 0.009079\n"
     ]
    },
    {
     "name": "stdout",
     "output_type": "stream",
     "text": [
      "AUC_acc_loss=0.06252559822172736, stability=0.3533730816664886, consistency=0.8620002911308302, joint_metric=0.014889064877016573\n",
      "{'auc_acc_loss': 0.06252559822172736, 'stability': 0.3533730816664886, 'consistency': 0.8620002911308302, 'joint_metric': 0.014889064877016573, 'w_svc_lin': 0.00011577962093661413, 'w_svc_radial': 0.999915303322122, 'w_xgbc': 6.838963453744507e-06, 'w_rfc': 0.9996970288557862, 'w_ctbc': 0.0003642418780727166, 'w_': 2.0000991926403713}\n"
     ]
    },
    {
     "data": {
      "application/vnd.jupyter.widget-view+json": {
       "model_id": "6d0523d6ba1e44749fec2f2b0956f5b1",
       "version_major": 2,
       "version_minor": 0
      },
      "text/plain": [
       "  0%|          | 0/66 [00:00<?, ?it/s]"
      ]
     },
     "metadata": {},
     "output_type": "display_data"
    },
    {
     "name": "stderr",
     "output_type": "stream",
     "text": [
      "INFO:shap:num_full_subsets = 1\n",
      "INFO:shap:phi = [-0.03008883 -0.45236731]\n",
      "INFO:shap:phi = [0.03008883 0.45236731]\n",
      "INFO:shap:num_full_subsets = 1\n",
      "INFO:shap:phi = [0.05194526 0.08731711]\n",
      "INFO:shap:phi = [-0.05194526 -0.08731711]\n",
      "INFO:shap:num_full_subsets = 1\n",
      "INFO:shap:phi = [ 0.09129902 -0.07165999]\n",
      "INFO:shap:phi = [-0.09129902  0.07165999]\n",
      "INFO:shap:num_full_subsets = 1\n",
      "INFO:shap:phi = [-0.24083585 -0.18204773]\n",
      "INFO:shap:phi = [0.24083585 0.18204773]\n",
      "INFO:shap:num_full_subsets = 1\n",
      "INFO:shap:phi = [0.06156185 0.09203598]\n",
      "INFO:shap:phi = [-0.06156185 -0.09203598]\n",
      "INFO:shap:num_full_subsets = 1\n",
      "INFO:shap:phi = [-0.03389287  0.13754939]\n",
      "INFO:shap:phi = [ 0.03389287 -0.13754939]\n",
      "INFO:shap:num_full_subsets = 1\n",
      "INFO:shap:phi = [0.01894765 0.17917454]\n",
      "INFO:shap:phi = [-0.01894765 -0.17917454]\n",
      "INFO:shap:num_full_subsets = 1\n",
      "INFO:shap:phi = [-0.01478103 -0.44144819]\n",
      "INFO:shap:phi = [0.01478103 0.44144819]\n",
      "INFO:shap:num_full_subsets = 1\n",
      "INFO:shap:phi = [-0.0059154  -0.44084562]\n",
      "INFO:shap:phi = [0.0059154  0.44084562]\n",
      "INFO:shap:num_full_subsets = 1\n",
      "INFO:shap:phi = [-0.19836735 -0.28817456]\n",
      "INFO:shap:phi = [0.19836735 0.28817456]\n",
      "INFO:shap:num_full_subsets = 1\n",
      "INFO:shap:phi = [0.0702002  0.17489251]\n",
      "INFO:shap:phi = [-0.0702002  -0.17489251]\n",
      "INFO:shap:num_full_subsets = 1\n",
      "INFO:shap:phi = [ 0.04081161 -0.21029042]\n",
      "INFO:shap:phi = [-0.04081161  0.21029042]\n",
      "INFO:shap:num_full_subsets = 1\n",
      "INFO:shap:phi = [0.06382451 0.1572673 ]\n",
      "INFO:shap:phi = [-0.06382451 -0.1572673 ]\n",
      "INFO:shap:num_full_subsets = 1\n",
      "INFO:shap:phi = [0.05529814 0.2002863 ]\n",
      "INFO:shap:phi = [-0.05529814 -0.2002863 ]\n",
      "INFO:shap:num_full_subsets = 1\n",
      "INFO:shap:phi = [0.04825708 0.35362782]\n",
      "INFO:shap:phi = [-0.04825708 -0.35362782]\n",
      "INFO:shap:num_full_subsets = 1\n",
      "INFO:shap:phi = [-0.44363725 -0.04713547]\n",
      "INFO:shap:phi = [0.44363725 0.04713547]\n",
      "INFO:shap:num_full_subsets = 1\n",
      "INFO:shap:phi = [0.0352864  0.33955499]\n",
      "INFO:shap:phi = [-0.0352864  -0.33955499]\n",
      "INFO:shap:num_full_subsets = 1\n",
      "INFO:shap:phi = [0.08623478 0.30944   ]\n",
      "INFO:shap:phi = [-0.08623478 -0.30944   ]\n",
      "INFO:shap:num_full_subsets = 1\n",
      "INFO:shap:phi = [0.26743264 0.15781152]\n",
      "INFO:shap:phi = [-0.26743264 -0.15781152]\n",
      "INFO:shap:num_full_subsets = 1\n",
      "INFO:shap:phi = [0.21189622 0.15901337]\n",
      "INFO:shap:phi = [-0.21189622 -0.15901337]\n",
      "INFO:shap:num_full_subsets = 1\n",
      "INFO:shap:phi = [0.07118963 0.16448528]\n",
      "INFO:shap:phi = [-0.07118963 -0.16448528]\n",
      "INFO:shap:num_full_subsets = 1\n",
      "INFO:shap:phi = [0.16675539 0.16826633]\n",
      "INFO:shap:phi = [-0.16675539 -0.16826633]\n",
      "INFO:shap:num_full_subsets = 1\n",
      "INFO:shap:phi = [0.04640563 0.18495552]\n",
      "INFO:shap:phi = [-0.04640563 -0.18495552]\n",
      "INFO:shap:num_full_subsets = 1\n",
      "INFO:shap:phi = [0.08404505 0.10191943]\n",
      "INFO:shap:phi = [-0.08404505 -0.10191943]\n",
      "INFO:shap:num_full_subsets = 1\n",
      "INFO:shap:phi = [0.21859108 0.16596715]\n",
      "INFO:shap:phi = [-0.21859108 -0.16596715]\n",
      "INFO:shap:num_full_subsets = 1\n",
      "INFO:shap:phi = [ 0.50086302 -0.30425573]\n",
      "INFO:shap:phi = [-0.50086302  0.30425573]\n",
      "INFO:shap:num_full_subsets = 1\n",
      "INFO:shap:phi = [0.02965434 0.06554177]\n",
      "INFO:shap:phi = [-0.02965434 -0.06554177]\n",
      "INFO:shap:num_full_subsets = 1\n",
      "INFO:shap:phi = [0.05606163 0.06402143]\n",
      "INFO:shap:phi = [-0.05606163 -0.06402143]\n",
      "INFO:shap:num_full_subsets = 1\n",
      "INFO:shap:phi = [0.05593942 0.29216768]\n",
      "INFO:shap:phi = [-0.05593942 -0.29216768]\n",
      "INFO:shap:num_full_subsets = 1\n",
      "INFO:shap:phi = [0.09090803 0.06644164]\n",
      "INFO:shap:phi = [-0.09090803 -0.06644164]\n",
      "INFO:shap:num_full_subsets = 1\n",
      "INFO:shap:phi = [ 0.06327335 -0.03988343]\n",
      "INFO:shap:phi = [-0.06327335  0.03988343]\n",
      "INFO:shap:num_full_subsets = 1\n",
      "INFO:shap:phi = [0.00642156 0.23458889]\n",
      "INFO:shap:phi = [-0.00642156 -0.23458889]\n",
      "INFO:shap:num_full_subsets = 1\n",
      "INFO:shap:phi = [0.04558127 0.17026319]\n",
      "INFO:shap:phi = [-0.04558127 -0.17026319]\n",
      "INFO:shap:num_full_subsets = 1\n",
      "INFO:shap:phi = [ 0.06788428 -0.19393999]\n",
      "INFO:shap:phi = [-0.06788428  0.19393999]\n",
      "INFO:shap:num_full_subsets = 1\n",
      "INFO:shap:phi = [ 0.05165056 -0.20283546]\n",
      "INFO:shap:phi = [-0.05165056  0.20283546]\n",
      "INFO:shap:num_full_subsets = 1\n",
      "INFO:shap:phi = [-0.04117819 -0.35284347]\n",
      "INFO:shap:phi = [0.04117819 0.35284347]\n",
      "INFO:shap:num_full_subsets = 1\n",
      "INFO:shap:phi = [-0.05473032 -0.40635208]\n",
      "INFO:shap:phi = [0.05473032 0.40635208]\n",
      "INFO:shap:num_full_subsets = 1\n",
      "INFO:shap:phi = [0.03403291 0.22777324]\n",
      "INFO:shap:phi = [-0.03403291 -0.22777324]\n",
      "INFO:shap:num_full_subsets = 1\n",
      "INFO:shap:phi = [-0.20002339 -0.2891496 ]\n",
      "INFO:shap:phi = [0.20002339 0.2891496 ]\n",
      "INFO:shap:num_full_subsets = 1\n",
      "INFO:shap:phi = [-0.17559187 -0.10720079]\n",
      "INFO:shap:phi = [0.17559187 0.10720079]\n",
      "INFO:shap:num_full_subsets = 1\n",
      "INFO:shap:phi = [ 0.00113311 -0.37296041]\n",
      "INFO:shap:phi = [-0.00113311  0.37296041]\n",
      "INFO:shap:num_full_subsets = 1\n",
      "INFO:shap:phi = [0.13954928 0.26741133]\n",
      "INFO:shap:phi = [-0.13954928 -0.26741133]\n",
      "INFO:shap:num_full_subsets = 1\n",
      "INFO:shap:phi = [ 0.10839858 -0.17915077]\n",
      "INFO:shap:phi = [-0.10839858  0.17915077]\n",
      "INFO:shap:num_full_subsets = 1\n",
      "INFO:shap:phi = [-0.24648851 -0.23395563]\n",
      "INFO:shap:phi = [0.24648851 0.23395563]\n",
      "INFO:shap:num_full_subsets = 1\n",
      "INFO:shap:phi = [-0.05545895 -0.10100485]\n",
      "INFO:shap:phi = [0.05545895 0.10100485]\n",
      "INFO:shap:num_full_subsets = 1\n",
      "INFO:shap:phi = [0.06819936 0.19542935]\n",
      "INFO:shap:phi = [-0.06819936 -0.19542935]\n",
      "INFO:shap:num_full_subsets = 1\n",
      "INFO:shap:phi = [-1.26948385e-04  1.87387397e-01]\n",
      "INFO:shap:phi = [ 1.26948385e-04 -1.87387397e-01]\n",
      "INFO:shap:num_full_subsets = 1\n",
      "INFO:shap:phi = [0.01000656 0.23419878]\n",
      "INFO:shap:phi = [-0.01000656 -0.23419878]\n",
      "INFO:shap:num_full_subsets = 1\n",
      "INFO:shap:phi = [-0.02805324 -0.46679861]\n",
      "INFO:shap:phi = [0.02805324 0.46679861]\n",
      "INFO:shap:num_full_subsets = 1\n",
      "INFO:shap:phi = [-0.54751158  0.10106972]\n",
      "INFO:shap:phi = [ 0.54751158 -0.10106972]\n",
      "INFO:shap:num_full_subsets = 1\n",
      "INFO:shap:phi = [0.04436631 0.19736824]\n",
      "INFO:shap:phi = [-0.04436631 -0.19736824]\n",
      "INFO:shap:num_full_subsets = 1\n",
      "INFO:shap:phi = [-0.0022518   0.27870416]\n",
      "INFO:shap:phi = [ 0.0022518  -0.27870416]\n",
      "INFO:shap:num_full_subsets = 1\n",
      "INFO:shap:phi = [0.11849803 0.27002013]\n",
      "INFO:shap:phi = [-0.11849803 -0.27002013]\n",
      "INFO:shap:num_full_subsets = 1\n",
      "INFO:shap:phi = [-0.46458335 -0.01615231]\n",
      "INFO:shap:phi = [0.46458335 0.01615231]\n",
      "INFO:shap:num_full_subsets = 1\n",
      "INFO:shap:phi = [0.07835112 0.34088742]\n",
      "INFO:shap:phi = [-0.07835112 -0.34088742]\n",
      "INFO:shap:num_full_subsets = 1\n",
      "INFO:shap:phi = [ 0.39175895 -0.07234589]\n",
      "INFO:shap:phi = [-0.39175895  0.07234589]\n",
      "INFO:shap:num_full_subsets = 1\n",
      "INFO:shap:phi = [-0.378291   -0.08254397]\n",
      "INFO:shap:phi = [0.378291   0.08254397]\n",
      "INFO:shap:num_full_subsets = 1\n",
      "INFO:shap:phi = [-0.01038968 -0.3707564 ]\n",
      "INFO:shap:phi = [0.01038968 0.3707564 ]\n",
      "INFO:shap:num_full_subsets = 1\n",
      "INFO:shap:phi = [ 0.04411192 -0.08254438]\n",
      "INFO:shap:phi = [-0.04411192  0.08254438]\n",
      "INFO:shap:num_full_subsets = 1\n",
      "INFO:shap:phi = [0.05324424 0.26345318]\n",
      "INFO:shap:phi = [-0.05324424 -0.26345318]\n",
      "INFO:shap:num_full_subsets = 1\n",
      "INFO:shap:phi = [0.01384248 0.14777791]\n",
      "INFO:shap:phi = [-0.01384248 -0.14777791]\n",
      "INFO:shap:num_full_subsets = 1\n",
      "INFO:shap:phi = [-0.37989001 -0.09126643]\n",
      "INFO:shap:phi = [0.37989001 0.09126643]\n",
      "INFO:shap:num_full_subsets = 1\n",
      "INFO:shap:phi = [-0.0713889 -0.1467386]\n",
      "INFO:shap:phi = [0.0713889 0.1467386]\n",
      "INFO:shap:num_full_subsets = 1\n",
      "INFO:shap:phi = [0.13666963 0.17273006]\n",
      "INFO:shap:phi = [-0.13666963 -0.17273006]\n",
      "INFO:shap:num_full_subsets = 1\n",
      "INFO:shap:phi = [-0.00729711 -0.46958165]\n",
      "INFO:shap:phi = [0.00729711 0.46958165]\n",
      "INFO:shap:num_full_subsets = 1\n",
      "INFO:shap:phi = [-0.26960868 -0.19457032]\n",
      "INFO:shap:phi = [0.26960868 0.19457032]\n"
     ]
    },
    {
     "name": "stdout",
     "output_type": "stream",
     "text": [
      "debug-2\n",
      "debug-3\n",
      "AUC_acc_loss=0.05106679035250463, stability=0.8580708712393368, consistency=0.8620002911308302, joint_metric=0.004090149107265952\n"
     ]
    },
    {
     "data": {
      "text/plain": [
       "{'auc_acc_loss': 0.05106679035250463,\n",
       " 'stability': 0.8580708712393368,\n",
       " 'consistency': 0.8620002911308302,\n",
       " 'joint_metric': 0.004090149107265952,\n",
       " 'w_svc_lin': 0.00011577962093661413,\n",
       " 'w_svc_radial': 0.999915303322122,\n",
       " 'w_xgbc': 6.838963453744507e-06,\n",
       " 'w_rfc': 0.9996970288557862,\n",
       " 'w_ctbc': 0.0003642418780727166,\n",
       " 'w_': 2.0000991926403713}"
      ]
     },
     "execution_count": 338,
     "metadata": {},
     "output_type": "execute_result"
    }
   ],
   "source": [
    "e5 = run_experiment(importance_auc_acc_loss = 2.0, importance_stability = 2.0, importance_consistency = 1.0)\n",
    "to_pickle(e5, 'e5')\n",
    "print(naive_joint_metrics(e5['w0'], e5['w1'], e5['w2'], e5['w3'], e5['w4'], e5['importance_auc_acc_loss'], e5['importance_consistency'], e5['importance_stability']))\n",
    "r5 = exact_joint_metrics(e5['w0'], e5['w1'], e5['w2'], e5['w3'], e5['w4'], e5['importance_auc_acc_loss'], e5['importance_consistency'], e5['importance_stability'])\n",
    "to_pickle(r5, 'r5')\n",
    "r5"
   ]
  },
  {
   "cell_type": "code",
   "execution_count": 339,
   "id": "grand-vietnamese",
   "metadata": {
    "collapsed": true,
    "jupyter": {
     "outputs_hidden": true
    }
   },
   "outputs": [
    {
     "name": "stderr",
     "output_type": "stream",
     "text": [
      "`np.float` is a deprecated alias for the builtin `float`. To silence this warning, use `float` by itself. Doing this will not modify any behavior and is safe. If you specifically wanted the numpy scalar type, use `np.float64` here.\n",
      "Deprecated in NumPy 1.20; for more details and guidance: https://numpy.org/devdocs/release/1.20.0-notes.html#deprecations\n",
      "INFO:smac.utils.io.cmd_reader.CMDReader:Output to smac3-output_2021-02-09_14:15:54_684855\n",
      "`np.float` is a deprecated alias for the builtin `float`. To silence this warning, use `float` by itself. Doing this will not modify any behavior and is safe. If you specifically wanted the numpy scalar type, use `np.float64` here.\n",
      "Deprecated in NumPy 1.20; for more details and guidance: https://numpy.org/devdocs/release/1.20.0-notes.html#deprecations\n",
      "INFO:smac.facade.smac_bo_facade.SMAC4BO:Optimizing a deterministic scenario for quality without a tuner timeout - will make SMAC deterministic and only evaluate one configuration per iteration!\n",
      "INFO:smac.initial_design.sobol_design.SobolDesign:Running initial design for 7 configurations\n",
      "INFO:smac.facade.smac_bo_facade.SMAC4BO:<class 'smac.facade.smac_bo_facade.SMAC4BO'>\n",
      "INFO:smac.optimizer.smbo.SMBO:Running initial design\n",
      "INFO:smac.intensification.intensification.Intensifier:First run, no incumbent provided; challenger is assumed to be the incumbent\n"
     ]
    },
    {
     "name": "stdout",
     "output_type": "stream",
     "text": [
      "naive\n",
      "w_svc_lin=0.1377031947, w_svc_radial=0.1559742808, w_xgbc=0.1773123705, w_rfc=0.1695355122, w_ctbc=0.3594746418, w_=1.0\n",
      "importance_auc_acc_loss=2.0, importance_stability=1.0, importance_consistency=2.0\n",
      "AUC_acc_loss=0.05079774622277981, stability=0.7067812153419838, consistency=0.4096159680933908, joint_metric=0.021759561183775932\n",
      "Default Value: 0.02\n",
      "Optimizing! Depending on your machine, this might take a few minutes.\n",
      "naive\n",
      "w_svc_lin=0.2, w_svc_radial=0.2, w_xgbc=0.2, w_rfc=0.2, w_ctbc=0.2, w_=1.0\n",
      "importance_auc_acc_loss=2.0, importance_stability=1.0, importance_consistency=2.0\n",
      "AUC_acc_loss=0.056880024737167564, stability=0.7067812153419838, consistency=0.5328851601905255, joint_metric=0.0161200840715195\n"
     ]
    },
    {
     "name": "stderr",
     "output_type": "stream",
     "text": [
      "INFO:smac.intensification.intensification.Intensifier:First run, no incumbent provided; challenger is assumed to be the incumbent\n",
      "INFO:smac.intensification.intensification.Intensifier:Updated estimated cost of incumbent on 1 runs: 0.0161\n"
     ]
    },
    {
     "name": "stdout",
     "output_type": "stream",
     "text": [
      "naive\n",
      "w_svc_lin=0.09090909090909091, w_svc_radial=0.2727272727272727, w_xgbc=0.2727272727272727, w_rfc=0.09090909090909091, w_ctbc=0.2727272727272727, w_=1.0\n",
      "importance_auc_acc_loss=2.0, importance_stability=1.0, importance_consistency=2.0\n",
      "AUC_acc_loss=0.053253780851183416, stability=0.7067812153419838, consistency=0.46014605337703784, joint_metric=0.018950666643751966\n"
     ]
    },
    {
     "name": "stderr",
     "output_type": "stream",
     "text": [
      "INFO:smac.intensification.intensification.Intensifier:Wallclock time limit for intensification reached (used: 0.072562 sec, available: 0.000010 sec)\n"
     ]
    },
    {
     "name": "stdout",
     "output_type": "stream",
     "text": [
      "naive\n",
      "w_svc_lin=0.3333333333333333, w_svc_radial=0.1111111111111111, w_xgbc=0.1111111111111111, w_rfc=0.3333333333333333, w_ctbc=0.1111111111111111, w_=1.0\n",
      "importance_auc_acc_loss=2.0, importance_stability=1.0, importance_consistency=2.0\n",
      "AUC_acc_loss=0.06131210059781485, stability=0.7067812153419838, consistency=0.6527278808485087, joint_metric=0.012483692584037137\n"
     ]
    },
    {
     "name": "stderr",
     "output_type": "stream",
     "text": [
      "INFO:smac.intensification.intensification.Intensifier:Challenger (0.0125) is better than incumbent (0.0161) on 1 runs.\n",
      "INFO:smac.intensification.intensification.Intensifier:Changes in incumbent:\n",
      "INFO:smac.intensification.intensification.Intensifier:  w0 : 0.5 -> 0.25\n",
      "INFO:smac.intensification.intensification.Intensifier:  w1 : 0.5 -> 0.75\n",
      "INFO:smac.intensification.intensification.Intensifier:  w2 : 0.5 -> 0.25\n",
      "INFO:smac.intensification.intensification.Intensifier:  w3 : 0.5 -> 0.75\n",
      "INFO:smac.intensification.intensification.Intensifier:  w4 : 0.5 -> 0.25\n",
      "INFO:smac.intensification.intensification.Intensifier:Wallclock time limit for intensification reached (used: 0.037132 sec, available: 0.000010 sec)\n"
     ]
    },
    {
     "name": "stdout",
     "output_type": "stream",
     "text": [
      "naive\n",
      "w_svc_lin=0.05263157894736842, w_svc_radial=0.3684210526315789, w_xgbc=0.15789473684210525, w_rfc=0.15789473684210525, w_ctbc=0.2631578947368421, w_=1.0\n",
      "importance_auc_acc_loss=2.0, importance_stability=1.0, importance_consistency=2.0\n",
      "AUC_acc_loss=0.05382693747355398, stability=0.7067812153419838, consistency=0.47059273922098976, joint_metric=0.01851074504836374\n"
     ]
    },
    {
     "name": "stderr",
     "output_type": "stream",
     "text": [
      "INFO:smac.intensification.intensification.Intensifier:Wallclock time limit for intensification reached (used: 0.036180 sec, available: 0.000010 sec)\n"
     ]
    },
    {
     "name": "stdout",
     "output_type": "stream",
     "text": [
      "naive\n",
      "w_svc_lin=0.21739130434782608, w_svc_radial=0.13043478260869565, w_xgbc=0.30434782608695654, w_rfc=0.30434782608695654, w_ctbc=0.043478260869565216, w_=1.0\n",
      "importance_auc_acc_loss=2.0, importance_stability=1.0, importance_consistency=2.0\n",
      "AUC_acc_loss=0.0614402678067274, stability=0.7067812153419838, consistency=0.5733404953649649, joint_metric=0.016247852469077662\n"
     ]
    },
    {
     "name": "stderr",
     "output_type": "stream",
     "text": [
      "INFO:smac.intensification.intensification.Intensifier:Wallclock time limit for intensification reached (used: 0.034412 sec, available: 0.000010 sec)\n"
     ]
    },
    {
     "name": "stdout",
     "output_type": "stream",
     "text": [
      "naive\n",
      "w_svc_lin=0.23076923076923078, w_svc_radial=0.07692307692307693, w_xgbc=0.38461538461538464, w_rfc=0.07692307692307693, w_ctbc=0.23076923076923078, w_=1.0\n",
      "importance_auc_acc_loss=2.0, importance_stability=1.0, importance_consistency=2.0\n",
      "AUC_acc_loss=0.05520550877693732, stability=0.7067812153419838, consistency=0.47958632129918666, joint_metric=0.018747625071184697\n"
     ]
    },
    {
     "name": "stderr",
     "output_type": "stream",
     "text": [
      "INFO:smac.intensification.intensification.Intensifier:Wallclock time limit for intensification reached (used: 0.034812 sec, available: 0.000010 sec)\n"
     ]
    },
    {
     "name": "stdout",
     "output_type": "stream",
     "text": [
      "naive\n",
      "w_svc_lin=0.28, w_svc_radial=0.2, w_xgbc=0.04, w_rfc=0.2, w_ctbc=0.28, w_=1.0\n",
      "importance_auc_acc_loss=2.0, importance_stability=1.0, importance_consistency=2.0\n",
      "AUC_acc_loss=0.05587569573283855, stability=0.7067812153419838, consistency=0.46691930109578994, joint_metric=0.020261763205515405\n"
     ]
    },
    {
     "name": "stderr",
     "output_type": "stream",
     "text": [
      "INFO:smac.intensification.intensification.Intensifier:Wallclock time limit for intensification reached (used: 0.035181 sec, available: 0.000010 sec)\n"
     ]
    },
    {
     "name": "stdout",
     "output_type": "stream",
     "text": [
      "naive\n",
      "w_svc_lin=0.33278041889146526, w_svc_radial=0.11071122070580508, w_xgbc=0.11096766680688273, w_rfc=0.33379896169905166, w_ctbc=0.11174173189679522, w_=1.0\n",
      "importance_auc_acc_loss=2.0, importance_stability=1.0, importance_consistency=2.0\n",
      "AUC_acc_loss=0.0612827669514966, stability=0.7067812153419838, consistency=0.6516641439352053, joint_metric=0.012512499740007283\n"
     ]
    },
    {
     "name": "stderr",
     "output_type": "stream",
     "text": [
      "INFO:smac.intensification.intensification.Intensifier:Wallclock time limit for intensification reached (used: 0.035463 sec, available: 0.000010 sec)\n"
     ]
    },
    {
     "name": "stdout",
     "output_type": "stream",
     "text": [
      "naive\n",
      "w_svc_lin=0.3427548248287023, w_svc_radial=0.10879929575878479, w_xgbc=0.10963253632939353, w_rfc=0.32894108108940007, w_ctbc=0.10987226199371941, w_=1.0\n",
      "importance_auc_acc_loss=2.0, importance_stability=1.0, importance_consistency=2.0\n",
      "AUC_acc_loss=0.06147368215797914, stability=0.7067812153419837, consistency=0.6548376339345333, joint_metric=0.012468844101128926\n"
     ]
    },
    {
     "name": "stderr",
     "output_type": "stream",
     "text": [
      "INFO:smac.intensification.intensification.Intensifier:Challenger (0.0125) is better than incumbent (0.0125) on 1 runs.\n",
      "INFO:smac.intensification.intensification.Intensifier:Changes in incumbent:\n",
      "INFO:smac.intensification.intensification.Intensifier:  w0 : 0.25 -> 0.24986294954580257\n",
      "INFO:smac.intensification.intensification.Intensifier:  w1 : 0.75 -> 0.7496879256796557\n",
      "INFO:smac.intensification.intensification.Intensifier:  w2 : 0.25 -> 0.2504093070741035\n",
      "INFO:smac.intensification.intensification.Intensifier:  w3 : 0.75 -> 0.7811707579713548\n",
      "INFO:smac.intensification.intensification.Intensifier:  w4 : 0.25 -> 0.2479639152479186\n",
      "INFO:smac.intensification.intensification.Intensifier:Wallclock time limit for intensification reached (used: 0.036543 sec, available: 0.000010 sec)\n"
     ]
    },
    {
     "name": "stdout",
     "output_type": "stream",
     "text": [
      "naive\n",
      "w_svc_lin=0.33384173397411204, w_svc_radial=0.10823404805161987, w_xgbc=0.12381190259532958, w_rfc=0.32526728152558604, w_ctbc=0.10884503385335247, w_=1.0\n",
      "importance_auc_acc_loss=2.0, importance_stability=1.0, importance_consistency=2.0\n",
      "AUC_acc_loss=0.06134252342395372, stability=0.7067812153419839, consistency=0.6552077544839696, joint_metric=0.012401671373302788\n"
     ]
    },
    {
     "name": "stderr",
     "output_type": "stream",
     "text": [
      "INFO:smac.intensification.intensification.Intensifier:Challenger (0.0124) is better than incumbent (0.0125) on 1 runs.\n",
      "INFO:smac.intensification.intensification.Intensifier:Changes in incumbent:\n",
      "INFO:smac.intensification.intensification.Intensifier:  w0 : 0.24986294954580257 -> 0.2853134228743874\n",
      "INFO:smac.intensification.intensification.Intensifier:  w1 : 0.7496879256796557 -> 0.7495492718856955\n",
      "INFO:smac.intensification.intensification.Intensifier:  w2 : 0.2504093070741035 -> 0.250823616474738\n",
      "INFO:smac.intensification.intensification.Intensifier:  w3 : 0.7811707579713548 -> 0.7693083283744608\n",
      "INFO:smac.intensification.intensification.Intensifier:  w4 : 0.2479639152479186 -> 0.24941565450366854\n",
      "INFO:smac.intensification.intensification.Intensifier:Wallclock time limit for intensification reached (used: 0.036047 sec, available: 0.000010 sec)\n"
     ]
    },
    {
     "name": "stdout",
     "output_type": "stream",
     "text": [
      "naive\n",
      "w_svc_lin=0.33202848465170554, w_svc_radial=0.13569084897477496, w_xgbc=0.12246414259103662, w_rfc=0.3213439960039625, w_ctbc=0.08847252777852019, w_=0.9999999999999999\n",
      "importance_auc_acc_loss=2.0, importance_stability=1.0, importance_consistency=2.0\n",
      "AUC_acc_loss=0.062109070767185214, stability=0.706781215341984, consistency=0.6922940389102678, joint_metric=0.01138790618698124\n"
     ]
    },
    {
     "name": "stderr",
     "output_type": "stream",
     "text": [
      "INFO:smac.intensification.intensification.Intensifier:Challenger (0.0114) is better than incumbent (0.0124) on 1 runs.\n",
      "INFO:smac.intensification.intensification.Intensifier:Changes in incumbent:\n",
      "INFO:smac.intensification.intensification.Intensifier:  w0 : 0.2853134228743874 -> 0.2853763403925473\n",
      "INFO:smac.intensification.intensification.Intensifier:  w1 : 0.7495492718856955 -> 0.7488230566637728\n",
      "INFO:smac.intensification.intensification.Intensifier:  w2 : 0.250823616474738 -> 0.20616619418980864\n",
      "INFO:smac.intensification.intensification.Intensifier:  w3 : 0.7693083283744608 -> 0.7737209590599129\n",
      "INFO:smac.intensification.intensification.Intensifier:  w4 : 0.24941565450366854 -> 0.31619833435238787\n",
      "INFO:smac.intensification.intensification.Intensifier:Wallclock time limit for intensification reached (used: 0.036759 sec, available: 0.000010 sec)\n"
     ]
    },
    {
     "name": "stdout",
     "output_type": "stream",
     "text": [
      "naive\n",
      "w_svc_lin=0.3281342480060701, w_svc_radial=0.17963923162500087, w_xgbc=0.1182873900292794, w_rfc=0.3144156750116695, w_ctbc=0.05952345532798025, w_=1.0000000000000002\n",
      "importance_auc_acc_loss=2.0, importance_stability=1.0, importance_consistency=2.0\n",
      "AUC_acc_loss=0.06321171636447713, stability=0.7067812153419837, consistency=0.740858618124818, joint_metric=0.010300053786486407\n"
     ]
    },
    {
     "name": "stderr",
     "output_type": "stream",
     "text": [
      "INFO:smac.intensification.intensification.Intensifier:Challenger (0.0103) is better than incumbent (0.0114) on 1 runs.\n",
      "INFO:smac.intensification.intensification.Intensifier:Changes in incumbent:\n",
      "INFO:smac.intensification.intensification.Intensifier:  w0 : 0.2853763403925473 -> 0.28154837883793277\n",
      "INFO:smac.intensification.intensification.Intensifier:  w1 : 0.7488230566637728 -> 0.7483741382649319\n",
      "INFO:smac.intensification.intensification.Intensifier:  w2 : 0.20616619418980864 -> 0.1416780972703574\n",
      "INFO:smac.intensification.intensification.Intensifier:  w3 : 0.7737209590599129 -> 0.7810271707275408\n",
      "INFO:smac.intensification.intensification.Intensifier:  w4 : 0.31619833435238787 -> 0.42757841243425576\n",
      "INFO:smac.intensification.intensification.Intensifier:Wallclock time limit for intensification reached (used: 0.036165 sec, available: 0.000010 sec)\n"
     ]
    },
    {
     "name": "stdout",
     "output_type": "stream",
     "text": [
      "naive\n",
      "w_svc_lin=0.3503450053673408, w_svc_radial=0.18653325123227718, w_xgbc=0.12206244508960531, w_rfc=0.3250846968137428, w_ctbc=0.015974601497033853, w_=1.0\n",
      "importance_auc_acc_loss=2.0, importance_stability=1.0, importance_consistency=2.0\n",
      "AUC_acc_loss=0.06492430783771266, stability=0.7067812153419839, consistency=0.7483612324535399, joint_metric=0.010648957531778526\n"
     ]
    },
    {
     "name": "stderr",
     "output_type": "stream",
     "text": [
      "INFO:smac.intensification.intensification.Intensifier:Wallclock time limit for intensification reached (used: 0.037333 sec, available: 0.000010 sec)\n"
     ]
    },
    {
     "name": "stdout",
     "output_type": "stream",
     "text": [
      "naive\n",
      "w_svc_lin=0.29450925500827596, w_svc_radial=0.2677839588721027, w_xgbc=0.10661878276209452, w_rfc=0.28679933827122345, w_ctbc=0.04428866508630334, w_=1.0\n",
      "importance_auc_acc_loss=2.0, importance_stability=1.0, importance_consistency=2.0\n",
      "AUC_acc_loss=0.06371822986179664, stability=0.7067812153419838, consistency=0.7697246340121032, joint_metric=0.009695531787297868\n"
     ]
    },
    {
     "name": "stderr",
     "output_type": "stream",
     "text": [
      "INFO:smac.intensification.intensification.Intensifier:Challenger (0.0097) is better than incumbent (0.0103) on 1 runs.\n",
      "INFO:smac.intensification.intensification.Intensifier:Changes in incumbent:\n",
      "INFO:smac.intensification.intensification.Intensifier:  w0 : 0.28154837883793277 -> 0.2781386746736821\n",
      "INFO:smac.intensification.intensification.Intensifier:  w1 : 0.7483741382649319 -> 0.7481795024995092\n",
      "INFO:smac.intensification.intensification.Intensifier:  w2 : 0.1416780972703574 -> 0.11553677777074063\n",
      "INFO:smac.intensification.intensification.Intensifier:  w3 : 0.7810271707275408 -> 0.7682925254353761\n",
      "INFO:smac.intensification.intensification.Intensifier:  w4 : 0.42757841243425576 -> 0.6985736798904649\n",
      "INFO:smac.intensification.intensification.Intensifier:Wallclock time limit for intensification reached (used: 0.035969 sec, available: 0.000010 sec)\n"
     ]
    },
    {
     "name": "stdout",
     "output_type": "stream",
     "text": [
      "naive\n",
      "w_svc_lin=0.34358353405370146, w_svc_radial=0.25264632100236684, w_xgbc=0.10866709814418438, w_rfc=0.25313062317094365, w_ctbc=0.04197242362880374, w_=1.0\n",
      "importance_auc_acc_loss=2.0, importance_stability=1.0, importance_consistency=2.0\n",
      "AUC_acc_loss=0.06438713244300573, stability=0.7067812153419838, consistency=0.7677917592001331, joint_metric=0.009950073206992574\n"
     ]
    },
    {
     "name": "stderr",
     "output_type": "stream",
     "text": [
      "INFO:smac.intensification.intensification.Intensifier:Wallclock time limit for intensification reached (used: 0.036823 sec, available: 0.000010 sec)\n"
     ]
    },
    {
     "name": "stdout",
     "output_type": "stream",
     "text": [
      "naive\n",
      "w_svc_lin=0.31310541921451324, w_svc_radial=0.3195868527204569, w_xgbc=0.05733757809896485, w_rfc=0.2780951179431595, w_ctbc=0.031875032022905314, w_=0.9999999999999998\n",
      "importance_auc_acc_loss=2.0, importance_stability=1.0, importance_consistency=2.0\n",
      "AUC_acc_loss=0.06476833288687789, stability=0.706781215341984, consistency=0.8434914184285431, joint_metric=0.00834217126798141\n"
     ]
    },
    {
     "name": "stderr",
     "output_type": "stream",
     "text": [
      "INFO:smac.intensification.intensification.Intensifier:Challenger (0.0083) is better than incumbent (0.0097) on 1 runs.\n",
      "INFO:smac.intensification.intensification.Intensifier:Changes in incumbent:\n",
      "INFO:smac.intensification.intensification.Intensifier:  w0 : 0.2781386746736821 -> 0.16635574919843718\n",
      "INFO:smac.intensification.intensification.Intensifier:  w1 : 0.7481795024995092 -> 0.8068482002154405\n",
      "INFO:smac.intensification.intensification.Intensifier:  w2 : 0.11553677777074063 -> 0.09248027225255823\n",
      "INFO:smac.intensification.intensification.Intensifier:  w3 : 0.7682925254353761 -> 0.9084249512879486\n",
      "INFO:smac.intensification.intensification.Intensifier:  w4 : 0.6985736798904649 -> 0.9272297868340209\n",
      "INFO:smac.intensification.intensification.Intensifier:Wallclock time limit for intensification reached (used: 0.036125 sec, available: 0.000010 sec)\n"
     ]
    },
    {
     "name": "stdout",
     "output_type": "stream",
     "text": [
      "naive\n",
      "w_svc_lin=0.33324606646670996, w_svc_radial=0.3456044539889688, w_xgbc=2.4985163980026727e-06, w_rfc=0.30701680799566855, w_ctbc=0.014130173032254707, w_=1.0\n",
      "importance_auc_acc_loss=2.0, importance_stability=1.0, importance_consistency=2.0\n",
      "AUC_acc_loss=0.06589545697944661, stability=0.7067812153419838, consistency=0.8814026510970737, joint_metric=0.007908192730008952\n"
     ]
    },
    {
     "name": "stderr",
     "output_type": "stream",
     "text": [
      "INFO:smac.intensification.intensification.Intensifier:Challenger (0.0079) is better than incumbent (0.0083) on 1 runs.\n",
      "INFO:smac.intensification.intensification.Intensifier:Changes in incumbent:\n",
      "INFO:smac.intensification.intensification.Intensifier:  w0 : 0.16635574919843718 -> 7.229304955181531e-06\n",
      "INFO:smac.intensification.intensification.Intensifier:  w1 : 0.8068482002154405 -> 0.8883344264385848\n",
      "INFO:smac.intensification.intensification.Intensifier:  w2 : 0.09248027225255823 -> 0.04088479467307547\n",
      "INFO:smac.intensification.intensification.Intensifier:  w3 : 0.9084249512879486 -> 0.9642271875935725\n",
      "INFO:smac.intensification.intensification.Intensifier:  w4 : 0.9272297868340209 -> 0.9999854288539222\n",
      "INFO:smac.intensification.intensification.Intensifier:Wallclock time limit for intensification reached (used: 0.037374 sec, available: 0.000010 sec)\n"
     ]
    },
    {
     "name": "stdout",
     "output_type": "stream",
     "text": [
      "naive\n",
      "w_svc_lin=0.30225218276894106, w_svc_radial=0.3186161378159869, w_xgbc=0.026960272379788458, w_rfc=0.31865026868654417, w_ctbc=0.03352113834873927, w_=0.9999999999999998\n",
      "importance_auc_acc_loss=2.0, importance_stability=1.0, importance_consistency=2.0\n",
      "AUC_acc_loss=0.0646406471329959, stability=0.706781215341984, consistency=0.847724552591139, joint_metric=0.008226533474874403\n"
     ]
    },
    {
     "name": "stderr",
     "output_type": "stream",
     "text": [
      "INFO:smac.intensification.intensification.Intensifier:Wallclock time limit for intensification reached (used: 0.035909 sec, available: 0.000010 sec)\n"
     ]
    },
    {
     "name": "stdout",
     "output_type": "stream",
     "text": [
      "naive\n",
      "w_svc_lin=0.25171706802206395, w_svc_radial=0.38527940529097415, w_xgbc=2.785342899437697e-06, w_rfc=0.3628005441763545, w_ctbc=0.00020019716770805287, w_=1.0000000000000002\n",
      "importance_auc_acc_loss=2.0, importance_stability=1.0, importance_consistency=2.0\n",
      "AUC_acc_loss=0.06541384006219955, stability=0.7067812153419838, consistency=0.892660376290521, joint_metric=0.007597693610211252\n"
     ]
    },
    {
     "name": "stderr",
     "output_type": "stream",
     "text": [
      "INFO:smac.intensification.intensification.Intensifier:Challenger (0.0076) is better than incumbent (0.0079) on 1 runs.\n",
      "INFO:smac.intensification.intensification.Intensifier:Changes in incumbent:\n",
      "INFO:smac.intensification.intensification.Intensifier:  w1 : 0.8883344264385848 -> 0.9416419688527984\n",
      "INFO:smac.intensification.intensification.Intensifier:  w2 : 0.04088479467307547 -> 0.00051960797243934\n",
      "INFO:smac.intensification.intensification.Intensifier:  w3 : 0.9642271875935725 -> 0.6533269018773383\n",
      "INFO:smac.intensification.intensification.Intensifier:Wallclock time limit for intensification reached (used: 0.042576 sec, available: 0.000010 sec)\n"
     ]
    },
    {
     "name": "stdout",
     "output_type": "stream",
     "text": [
      "naive\n",
      "w_svc_lin=0.25976217538233953, w_svc_radial=0.3748693147848946, w_xgbc=4.89477755869914e-05, w_rfc=0.3291278140140255, w_ctbc=0.03619174804315325, w_=0.9999999999999998\n",
      "importance_auc_acc_loss=2.0, importance_stability=1.0, importance_consistency=2.0\n",
      "AUC_acc_loss=0.06433130561395882, stability=0.7067812153419839, consistency=0.8179708211396869, joint_metric=0.008751532487970462\n"
     ]
    },
    {
     "name": "stderr",
     "output_type": "stream",
     "text": [
      "INFO:smac.intensification.intensification.Intensifier:Wallclock time limit for intensification reached (used: 0.036040 sec, available: 0.000010 sec)\n"
     ]
    },
    {
     "name": "stdout",
     "output_type": "stream",
     "text": [
      "naive\n",
      "w_svc_lin=0.2799390549883204, w_svc_radial=0.3410507873318527, w_xgbc=0.037932530577876655, w_rfc=0.34107301911396054, w_ctbc=4.607987989680915e-06, w_=1.0\n",
      "importance_auc_acc_loss=2.0, importance_stability=1.0, importance_consistency=2.0\n",
      "AUC_acc_loss=0.06548085252385166, stability=0.7067812153419838, consistency=0.8625083700812887, joint_metric=0.008154869490842548\n"
     ]
    },
    {
     "name": "stderr",
     "output_type": "stream",
     "text": [
      "INFO:smac.intensification.intensification.Intensifier:Wallclock time limit for intensification reached (used: 0.037471 sec, available: 0.000010 sec)\n"
     ]
    },
    {
     "name": "stdout",
     "output_type": "stream",
     "text": [
      "naive\n",
      "w_svc_lin=0.2875076503073552, w_svc_radial=0.3115809363446143, w_xgbc=1.6903390248561453e-05, w_rfc=0.4008513181628843, w_ctbc=4.319179489770858e-05, w_=1.0\n",
      "importance_auc_acc_loss=2.0, importance_stability=1.0, importance_consistency=2.0\n",
      "AUC_acc_loss=0.0655305859593573, stability=0.7067812153419838, consistency=0.8921874152436616, joint_metric=0.007632923649411981\n"
     ]
    },
    {
     "name": "stderr",
     "output_type": "stream",
     "text": [
      "INFO:smac.intensification.intensification.Intensifier:Wallclock time limit for intensification reached (used: 0.037279 sec, available: 0.000010 sec)\n"
     ]
    },
    {
     "name": "stdout",
     "output_type": "stream",
     "text": [
      "naive\n",
      "w_svc_lin=0.09062911376264726, w_svc_radial=0.42584378953564117, w_xgbc=0.00015659146445773692, w_rfc=0.483333794102697, w_ctbc=3.671113455684626e-05, w_=1.0000000000000002\n",
      "importance_auc_acc_loss=2.0, importance_stability=1.0, importance_consistency=2.0\n",
      "AUC_acc_loss=0.06339844214675805, stability=0.7067812153419838, consistency=0.8705604817966276, joint_metric=0.007503679507424452\n"
     ]
    },
    {
     "name": "stderr",
     "output_type": "stream",
     "text": [
      "INFO:smac.intensification.intensification.Intensifier:Challenger (0.0075) is better than incumbent (0.0076) on 1 runs.\n",
      "INFO:smac.intensification.intensification.Intensifier:Changes in incumbent:\n",
      "INFO:smac.intensification.intensification.Intensifier:  w0 : 7.229304955181531e-06 -> 0.0003239492992173445\n",
      "INFO:smac.intensification.intensification.Intensifier:  w1 : 0.9416419688527984 -> 0.9998989691413722\n",
      "INFO:smac.intensification.intensification.Intensifier:  w2 : 0.00051960797243934 -> 7.594632539102225e-05\n",
      "INFO:smac.intensification.intensification.Intensifier:  w3 : 0.6533269018773383 -> 0.18748938835055376\n",
      "INFO:smac.intensification.intensification.Intensifier:  w4 : 0.9999854288539222 -> 0.8809662625855424\n",
      "INFO:smac.intensification.intensification.Intensifier:Wallclock time limit for intensification reached (used: 0.035967 sec, available: 0.000010 sec)\n"
     ]
    },
    {
     "name": "stdout",
     "output_type": "stream",
     "text": [
      "naive\n",
      "w_svc_lin=0.18480116766534804, w_svc_radial=0.38021655577116586, w_xgbc=0.00014101617957789256, w_rfc=0.4348082007023915, w_ctbc=3.305968151650828e-05, w_=0.9999999999999997\n",
      "importance_auc_acc_loss=2.0, importance_stability=1.0, importance_consistency=2.0\n",
      "AUC_acc_loss=0.06446541661324612, stability=0.706781215341984, consistency=0.8820304896621324, joint_metric=0.007557904380995407\n"
     ]
    },
    {
     "name": "stderr",
     "output_type": "stream",
     "text": [
      "INFO:smac.intensification.intensification.Intensifier:Wallclock time limit for intensification reached (used: 0.037520 sec, available: 0.000010 sec)\n"
     ]
    },
    {
     "name": "stdout",
     "output_type": "stream",
     "text": [
      "naive\n",
      "w_svc_lin=0.00017203017823351588, w_svc_radial=0.3403759516170821, w_xgbc=2.7844598220134484e-05, w_rfc=0.6593740962855992, w_ctbc=5.007732086500903e-05, w_=1.0\n",
      "importance_auc_acc_loss=2.0, importance_stability=1.0, importance_consistency=2.0\n",
      "AUC_acc_loss=0.06169996200989213, stability=0.7067812153419838, consistency=0.8432363291157845, joint_metric=0.0075750617406988895\n"
     ]
    },
    {
     "name": "stderr",
     "output_type": "stream",
     "text": [
      "INFO:smac.intensification.intensification.Intensifier:Wallclock time limit for intensification reached (used: 0.036796 sec, available: 0.000010 sec)\n"
     ]
    },
    {
     "name": "stdout",
     "output_type": "stream",
     "text": [
      "naive\n",
      "w_svc_lin=5.772185390427755e-06, w_svc_radial=0.49130881462401876, w_xgbc=1.0571601859934628e-05, w_rfc=0.5086615166660036, w_ctbc=1.3324922727340526e-05, w_=1.0\n",
      "importance_auc_acc_loss=2.0, importance_stability=1.0, importance_consistency=2.0\n",
      "AUC_acc_loss=0.06248526833321492, stability=0.7067812153419838, consistency=0.8616877685551035, joint_metric=0.007439956963218043\n"
     ]
    },
    {
     "name": "stderr",
     "output_type": "stream",
     "text": [
      "INFO:smac.intensification.intensification.Intensifier:Challenger (0.0074) is better than incumbent (0.0075) on 1 runs.\n",
      "INFO:smac.intensification.intensification.Intensifier:Changes in incumbent:\n",
      "INFO:smac.intensification.intensification.Intensifier:  w0 : 0.0003239492992173445 -> 1.607286425834515e-05\n",
      "INFO:smac.intensification.intensification.Intensifier:  w1 : 0.9998989691413722 -> 0.7733593848063438\n",
      "INFO:smac.intensification.intensification.Intensifier:  w2 : 7.594632539102225e-05 -> 2.0258961422030592e-05\n",
      "INFO:smac.intensification.intensification.Intensifier:  w3 : 0.18748938835055376 -> 8.775921897509107e-06\n",
      "INFO:smac.intensification.intensification.Intensifier:  w4 : 0.8809662625855424 -> 0.7469766636131285\n",
      "INFO:smac.intensification.intensification.Intensifier:Wallclock time limit for intensification reached (used: 0.037169 sec, available: 0.000010 sec)\n"
     ]
    },
    {
     "name": "stdout",
     "output_type": "stream",
     "text": [
      "naive\n",
      "w_svc_lin=2.9129225754699875e-05, w_svc_radial=0.4385257884638966, w_xgbc=0.0003686777459166035, w_rfc=0.5610311128427198, w_ctbc=4.52917217123849e-05, w_=1.0\n",
      "importance_auc_acc_loss=2.0, importance_stability=1.0, importance_consistency=2.0\n",
      "AUC_acc_loss=0.062208624889235224, stability=0.7067812153419837, consistency=0.856249694438434, joint_metric=0.007468189776997047\n"
     ]
    },
    {
     "name": "stderr",
     "output_type": "stream",
     "text": [
      "INFO:smac.intensification.intensification.Intensifier:Wallclock time limit for intensification reached (used: 0.037462 sec, available: 0.000010 sec)\n"
     ]
    },
    {
     "name": "stdout",
     "output_type": "stream",
     "text": [
      "naive\n",
      "w_svc_lin=0.0002703647010683815, w_svc_radial=0.8290436153521206, w_xgbc=0.00025010023736457245, w_rfc=0.1703314730483792, w_ctbc=0.00010444666106738152, w_=1.0\n",
      "importance_auc_acc_loss=2.0, importance_stability=1.0, importance_consistency=2.0\n",
      "AUC_acc_loss=0.06424510700902292, stability=0.7067812153419838, consistency=0.8143465336068658, joint_metric=0.008805958027089106\n"
     ]
    },
    {
     "name": "stderr",
     "output_type": "stream",
     "text": [
      "INFO:smac.intensification.intensification.Intensifier:Wallclock time limit for intensification reached (used: 0.037862 sec, available: 0.000010 sec)\n"
     ]
    },
    {
     "name": "stdout",
     "output_type": "stream",
     "text": [
      "naive\n",
      "w_svc_lin=0.19381014584642758, w_svc_radial=0.4384523427164794, w_xgbc=3.513476431633551e-05, w_rfc=0.36769518325381073, w_ctbc=7.193418965884766e-06, w_=1.0\n",
      "importance_auc_acc_loss=2.0, importance_stability=1.0, importance_consistency=2.0\n",
      "AUC_acc_loss=0.06489473755630604, stability=0.7067812153419838, consistency=0.8844225031158054, joint_metric=0.0076175338730453\n"
     ]
    },
    {
     "name": "stderr",
     "output_type": "stream",
     "text": [
      "INFO:smac.intensification.intensification.Intensifier:Wallclock time limit for intensification reached (used: 0.036623 sec, available: 0.000010 sec)\n"
     ]
    },
    {
     "name": "stdout",
     "output_type": "stream",
     "text": [
      "naive\n",
      "w_svc_lin=0.27251108531559104, w_svc_radial=0.13178116557314293, w_xgbc=0.09632591052863873, w_rfc=0.23677121223999065, w_ctbc=0.2626106263426366, w_=1.0\n",
      "importance_auc_acc_loss=2.0, importance_stability=1.0, importance_consistency=2.0\n",
      "AUC_acc_loss=0.05581908190632852, stability=0.706781215341984, consistency=0.47823311946247343, joint_metric=0.01927529711046209\n"
     ]
    },
    {
     "name": "stderr",
     "output_type": "stream",
     "text": [
      "INFO:smac.intensification.intensification.Intensifier:Wallclock time limit for intensification reached (used: 0.033780 sec, available: 0.000010 sec)\n",
      "INFO:smac.stats.stats.Stats:##########################################################\n",
      "INFO:smac.stats.stats.Stats:Statistics:\n",
      "INFO:smac.stats.stats.Stats:#Incumbent changed: 11\n",
      "INFO:smac.stats.stats.Stats:#Submitted target algorithm runs: 30 / 30.0\n",
      "INFO:smac.stats.stats.Stats:#Finished target algorithm runs: 30 / 30.0\n",
      "INFO:smac.stats.stats.Stats:#Configurations: 30\n",
      "INFO:smac.stats.stats.Stats:Used wallclock time: 113.84 / inf sec \n",
      "INFO:smac.stats.stats.Stats:Used target algorithm runtime: 0.71 / inf sec\n",
      "INFO:smac.stats.stats.Stats:##########################################################\n",
      "INFO:smac.facade.smac_bo_facade.SMAC4BO:Final Incumbent: Configuration:\n",
      "  importance_auc_acc_loss, Constant: 2.0\n",
      "  importance_consistency, Constant: 2.0\n",
      "  importance_stability, Constant: 1.0\n",
      "  w0, Value: 1.607286425834515e-05\n",
      "  w1, Value: 0.7733593848063438\n",
      "  w2, Value: 2.0258961422030592e-05\n",
      "  w3, Value: 8.775921897509107e-06\n",
      "  w4, Value: 0.7469766636131285\n",
      "\n",
      "INFO:smac.facade.smac_bo_facade.SMAC4BO:Estimated cost of incumbent: 0.007440\n"
     ]
    },
    {
     "name": "stdout",
     "output_type": "stream",
     "text": [
      "AUC_acc_loss=0.06248526833321492, stability=0.4648710703070085, consistency=0.8616877685550909, joint_metric=0.02096719381606669\n",
      "{'auc_acc_loss': 0.06248526833321492, 'stability': 0.4648710703070085, 'consistency': 0.8616877685550909, 'joint_metric': 0.02096719381606669, 'w_svc_lin': 8.775921897509107e-06, 'w_svc_radial': 0.7469766636131285, 'w_xgbc': 1.607286425834515e-05, 'w_rfc': 0.7733593848063438, 'w_ctbc': 2.0258961422030592e-05, 'w_': 1.5203811561670502}\n"
     ]
    },
    {
     "data": {
      "application/vnd.jupyter.widget-view+json": {
       "model_id": "8c2587c8c94940c2a19f0a5de426f222",
       "version_major": 2,
       "version_minor": 0
      },
      "text/plain": [
       "  0%|          | 0/66 [00:00<?, ?it/s]"
      ]
     },
     "metadata": {},
     "output_type": "display_data"
    },
    {
     "name": "stderr",
     "output_type": "stream",
     "text": [
      "INFO:shap:num_full_subsets = 1\n",
      "INFO:shap:phi = [-0.0304663  -0.45251194]\n",
      "INFO:shap:phi = [0.0304663  0.45251194]\n",
      "INFO:shap:num_full_subsets = 1\n",
      "INFO:shap:phi = [0.05211289 0.08742031]\n",
      "INFO:shap:phi = [-0.05211289 -0.08742031]\n",
      "INFO:shap:num_full_subsets = 1\n",
      "INFO:shap:phi = [ 0.09291287 -0.06656163]\n",
      "INFO:shap:phi = [-0.09291287  0.06656163]\n",
      "INFO:shap:num_full_subsets = 1\n",
      "INFO:shap:phi = [-0.24136828 -0.18184443]\n",
      "INFO:shap:phi = [0.24136828 0.18184443]\n",
      "INFO:shap:num_full_subsets = 1\n",
      "INFO:shap:phi = [0.06179821 0.09217861]\n",
      "INFO:shap:phi = [-0.06179821 -0.09217861]\n",
      "INFO:shap:num_full_subsets = 1\n",
      "INFO:shap:phi = [-0.03515939  0.13512717]\n",
      "INFO:shap:phi = [ 0.03515939 -0.13512717]\n",
      "INFO:shap:num_full_subsets = 1\n",
      "INFO:shap:phi = [0.0184849  0.17770029]\n",
      "INFO:shap:phi = [-0.0184849  -0.17770029]\n",
      "INFO:shap:num_full_subsets = 1\n",
      "INFO:shap:phi = [-0.01514966 -0.44188356]\n",
      "INFO:shap:phi = [0.01514966 0.44188356]\n",
      "INFO:shap:num_full_subsets = 1\n",
      "INFO:shap:phi = [-0.00599068 -0.44139108]\n",
      "INFO:shap:phi = [0.00599068 0.44139108]\n",
      "INFO:shap:num_full_subsets = 1\n",
      "INFO:shap:phi = [-0.19907971 -0.28790958]\n",
      "INFO:shap:phi = [0.19907971 0.28790958]\n",
      "INFO:shap:num_full_subsets = 1\n",
      "INFO:shap:phi = [0.07043613 0.17343528]\n",
      "INFO:shap:phi = [-0.07043613 -0.17343528]\n",
      "INFO:shap:num_full_subsets = 1\n",
      "INFO:shap:phi = [ 0.04141296 -0.20776566]\n",
      "INFO:shap:phi = [-0.04141296  0.20776566]\n",
      "INFO:shap:num_full_subsets = 1\n",
      "INFO:shap:phi = [0.06402296 0.15552628]\n",
      "INFO:shap:phi = [-0.06402296 -0.15552628]\n",
      "INFO:shap:num_full_subsets = 1\n",
      "INFO:shap:phi = [0.05463134 0.19871774]\n",
      "INFO:shap:phi = [-0.05463134 -0.19871774]\n",
      "INFO:shap:num_full_subsets = 1\n",
      "INFO:shap:phi = [0.04785028 0.35464799]\n",
      "INFO:shap:phi = [-0.04785028 -0.35464799]\n",
      "INFO:shap:num_full_subsets = 1\n",
      "INFO:shap:phi = [-0.44377457 -0.04737622]\n",
      "INFO:shap:phi = [0.44377457 0.04737622]\n",
      "INFO:shap:num_full_subsets = 1\n",
      "INFO:shap:phi = [0.03513013 0.34043756]\n",
      "INFO:shap:phi = [-0.03513013 -0.34043756]\n",
      "INFO:shap:num_full_subsets = 1\n",
      "INFO:shap:phi = [0.08673224 0.31035447]\n",
      "INFO:shap:phi = [-0.08673224 -0.31035447]\n",
      "INFO:shap:num_full_subsets = 1\n",
      "INFO:shap:phi = [0.26836201 0.15778494]\n",
      "INFO:shap:phi = [-0.26836201 -0.15778494]\n",
      "INFO:shap:num_full_subsets = 1\n",
      "INFO:shap:phi = [0.21276144 0.15912343]\n",
      "INFO:shap:phi = [-0.21276144 -0.15912343]\n",
      "INFO:shap:num_full_subsets = 1\n",
      "INFO:shap:phi = [0.07118659 0.16448937]\n",
      "INFO:shap:phi = [-0.07118659 -0.16448937]\n",
      "INFO:shap:num_full_subsets = 1\n",
      "INFO:shap:phi = [0.16740956 0.16868848]\n",
      "INFO:shap:phi = [-0.16740956 -0.16868848]\n",
      "INFO:shap:num_full_subsets = 1\n",
      "INFO:shap:phi = [0.04656468 0.18365803]\n",
      "INFO:shap:phi = [-0.04656468 -0.18365803]\n",
      "INFO:shap:num_full_subsets = 1\n",
      "INFO:shap:phi = [0.0845337 0.1014152]\n",
      "INFO:shap:phi = [-0.0845337 -0.1014152]\n",
      "INFO:shap:num_full_subsets = 1\n",
      "INFO:shap:phi = [0.21922762 0.165715  ]\n",
      "INFO:shap:phi = [-0.21922762 -0.165715  ]\n",
      "INFO:shap:num_full_subsets = 1\n",
      "INFO:shap:phi = [ 0.50069698 -0.30498789]\n",
      "INFO:shap:phi = [-0.50069698  0.30498789]\n",
      "INFO:shap:num_full_subsets = 1\n",
      "INFO:shap:phi = [0.02951542 0.06493768]\n",
      "INFO:shap:phi = [-0.02951542 -0.06493768]\n",
      "INFO:shap:num_full_subsets = 1\n",
      "INFO:shap:phi = [0.05612922 0.06293739]\n",
      "INFO:shap:phi = [-0.05612922 -0.06293739]\n",
      "INFO:shap:num_full_subsets = 1\n",
      "INFO:shap:phi = [0.0555901  0.29213845]\n",
      "INFO:shap:phi = [-0.0555901  -0.29213845]\n",
      "INFO:shap:num_full_subsets = 1\n",
      "INFO:shap:phi = [0.09183546 0.06757192]\n",
      "INFO:shap:phi = [-0.09183546 -0.06757192]\n",
      "INFO:shap:num_full_subsets = 1\n",
      "INFO:shap:phi = [ 0.06415442 -0.03812982]\n",
      "INFO:shap:phi = [-0.06415442  0.03812982]\n",
      "INFO:shap:num_full_subsets = 1\n",
      "INFO:shap:phi = [0.00713803 0.23413647]\n",
      "INFO:shap:phi = [-0.00713803 -0.23413647]\n",
      "INFO:shap:num_full_subsets = 1\n",
      "INFO:shap:phi = [0.04490129 0.16822569]\n",
      "INFO:shap:phi = [-0.04490129 -0.16822569]\n",
      "INFO:shap:num_full_subsets = 1\n",
      "INFO:shap:phi = [ 0.0680293  -0.19362516]\n",
      "INFO:shap:phi = [-0.0680293   0.19362516]\n",
      "INFO:shap:num_full_subsets = 1\n",
      "INFO:shap:phi = [ 0.05216708 -0.20196764]\n",
      "INFO:shap:phi = [-0.05216708  0.20196764]\n",
      "INFO:shap:num_full_subsets = 1\n",
      "INFO:shap:phi = [-0.04222166 -0.35264145]\n",
      "INFO:shap:phi = [0.04222166 0.35264145]\n",
      "INFO:shap:num_full_subsets = 1\n",
      "INFO:shap:phi = [-0.0540345  -0.40688907]\n",
      "INFO:shap:phi = [0.0540345  0.40688907]\n",
      "INFO:shap:num_full_subsets = 1\n",
      "INFO:shap:phi = [0.03360226 0.22687499]\n",
      "INFO:shap:phi = [-0.03360226 -0.22687499]\n",
      "INFO:shap:num_full_subsets = 1\n",
      "INFO:shap:phi = [-0.2004931  -0.28908419]\n",
      "INFO:shap:phi = [0.2004931  0.28908419]\n",
      "INFO:shap:num_full_subsets = 1\n",
      "INFO:shap:phi = [-0.17489491 -0.10715439]\n",
      "INFO:shap:phi = [0.17489491 0.10715439]\n",
      "INFO:shap:num_full_subsets = 1\n",
      "INFO:shap:phi = [ 0.00138153 -0.37285697]\n",
      "INFO:shap:phi = [-0.00138153  0.37285697]\n",
      "INFO:shap:num_full_subsets = 1\n",
      "INFO:shap:phi = [0.14016939 0.26818341]\n",
      "INFO:shap:phi = [-0.14016939 -0.26818341]\n",
      "INFO:shap:num_full_subsets = 1\n",
      "INFO:shap:phi = [ 0.10761022 -0.17749849]\n",
      "INFO:shap:phi = [-0.10761022  0.17749849]\n",
      "INFO:shap:num_full_subsets = 1\n",
      "INFO:shap:phi = [-0.24660762 -0.23438936]\n",
      "INFO:shap:phi = [0.24660762 0.23438936]\n",
      "INFO:shap:num_full_subsets = 1\n",
      "INFO:shap:phi = [-0.05480292 -0.10121791]\n",
      "INFO:shap:phi = [0.05480292 0.10121791]\n",
      "INFO:shap:num_full_subsets = 1\n",
      "INFO:shap:phi = [0.06840414 0.19545619]\n",
      "INFO:shap:phi = [-0.06840414 -0.19545619]\n",
      "INFO:shap:num_full_subsets = 1\n",
      "INFO:shap:phi = [-0.00166489  0.18597805]\n",
      "INFO:shap:phi = [ 0.00166489 -0.18597805]\n",
      "INFO:shap:num_full_subsets = 1\n",
      "INFO:shap:phi = [0.00948214 0.2343982 ]\n",
      "INFO:shap:phi = [-0.00948214 -0.2343982 ]\n",
      "INFO:shap:num_full_subsets = 1\n",
      "INFO:shap:phi = [-0.02786512 -0.46729228]\n",
      "INFO:shap:phi = [0.02786512 0.46729228]\n",
      "INFO:shap:num_full_subsets = 1\n",
      "INFO:shap:phi = [-0.54699315  0.10079815]\n",
      "INFO:shap:phi = [ 0.54699315 -0.10079815]\n",
      "INFO:shap:num_full_subsets = 1\n",
      "INFO:shap:phi = [0.04424426 0.19774572]\n",
      "INFO:shap:phi = [-0.04424426 -0.19774572]\n",
      "INFO:shap:num_full_subsets = 1\n",
      "INFO:shap:phi = [-0.00303644  0.28138434]\n",
      "INFO:shap:phi = [ 0.00303644 -0.28138434]\n",
      "INFO:shap:num_full_subsets = 1\n",
      "INFO:shap:phi = [0.11895056 0.2697205 ]\n",
      "INFO:shap:phi = [-0.11895056 -0.2697205 ]\n",
      "INFO:shap:num_full_subsets = 1\n",
      "INFO:shap:phi = [-0.46492987 -0.01635914]\n",
      "INFO:shap:phi = [0.46492987 0.01635914]\n",
      "INFO:shap:num_full_subsets = 1\n",
      "INFO:shap:phi = [0.07823791 0.34166514]\n",
      "INFO:shap:phi = [-0.07823791 -0.34166514]\n",
      "INFO:shap:num_full_subsets = 1\n",
      "INFO:shap:phi = [ 0.3924436  -0.07221119]\n",
      "INFO:shap:phi = [-0.3924436   0.07221119]\n",
      "INFO:shap:num_full_subsets = 1\n",
      "INFO:shap:phi = [-0.37899417 -0.08273824]\n",
      "INFO:shap:phi = [0.37899417 0.08273824]\n",
      "INFO:shap:num_full_subsets = 1\n",
      "INFO:shap:phi = [-0.01069677 -0.3702796 ]\n",
      "INFO:shap:phi = [0.01069677 0.3702796 ]\n",
      "INFO:shap:num_full_subsets = 1\n",
      "INFO:shap:phi = [ 0.04412383 -0.08280546]\n",
      "INFO:shap:phi = [-0.04412383  0.08280546]\n",
      "INFO:shap:num_full_subsets = 1\n",
      "INFO:shap:phi = [0.05346479 0.26392587]\n",
      "INFO:shap:phi = [-0.05346479 -0.26392587]\n",
      "INFO:shap:num_full_subsets = 1\n",
      "INFO:shap:phi = [0.01257918 0.14761236]\n",
      "INFO:shap:phi = [-0.01257918 -0.14761236]\n",
      "INFO:shap:num_full_subsets = 1\n",
      "INFO:shap:phi = [-0.38033284 -0.091542  ]\n",
      "INFO:shap:phi = [0.38033284 0.091542  ]\n",
      "INFO:shap:num_full_subsets = 1\n",
      "INFO:shap:phi = [-0.07223941 -0.14646307]\n",
      "INFO:shap:phi = [0.07223941 0.14646307]\n",
      "INFO:shap:num_full_subsets = 1\n",
      "INFO:shap:phi = [0.13777456 0.17151172]\n",
      "INFO:shap:phi = [-0.13777456 -0.17151172]\n",
      "INFO:shap:num_full_subsets = 1\n",
      "INFO:shap:phi = [-0.00724036 -0.47026335]\n",
      "INFO:shap:phi = [0.00724036 0.47026335]\n",
      "INFO:shap:num_full_subsets = 1\n",
      "INFO:shap:phi = [-0.27015988 -0.19398163]\n",
      "INFO:shap:phi = [0.27015988 0.19398163]\n"
     ]
    },
    {
     "name": "stdout",
     "output_type": "stream",
     "text": [
      "debug-2\n",
      "debug-3\n",
      "AUC_acc_loss=0.05086580086580085, stability=0.8576937314511935, consistency=0.8616877685550909, joint_metric=0.004081665147915853\n"
     ]
    },
    {
     "data": {
      "text/plain": [
       "{'auc_acc_loss': 0.05086580086580085,\n",
       " 'stability': 0.8576937314511935,\n",
       " 'consistency': 0.8616877685550909,\n",
       " 'joint_metric': 0.004081665147915853,\n",
       " 'w_svc_lin': 8.775921897509107e-06,\n",
       " 'w_svc_radial': 0.7469766636131285,\n",
       " 'w_xgbc': 1.607286425834515e-05,\n",
       " 'w_rfc': 0.7733593848063438,\n",
       " 'w_ctbc': 2.0258961422030592e-05,\n",
       " 'w_': 1.5203811561670502}"
      ]
     },
     "execution_count": 339,
     "metadata": {},
     "output_type": "execute_result"
    }
   ],
   "source": [
    "e6 = run_experiment(importance_auc_acc_loss = 2.0, importance_stability = 1.0, importance_consistency = 2.0)\n",
    "to_pickle(e6, 'e6')\n",
    "print(naive_joint_metrics(e6['w0'], e6['w1'], e6['w2'], e6['w3'], e6['w4'], e6['importance_auc_acc_loss'], e6['importance_consistency'], e6['importance_stability']))\n",
    "r6 = exact_joint_metrics(e6['w0'], e6['w1'], e6['w2'], e6['w3'], e6['w4'], e6['importance_auc_acc_loss'], e6['importance_consistency'], e6['importance_stability'])\n",
    "to_pickle(r6, 'r6')\n",
    "r6"
   ]
  },
  {
   "cell_type": "code",
   "execution_count": 340,
   "id": "accomplished-laser",
   "metadata": {
    "collapsed": true,
    "jupyter": {
     "outputs_hidden": true
    }
   },
   "outputs": [
    {
     "name": "stderr",
     "output_type": "stream",
     "text": [
      "`np.float` is a deprecated alias for the builtin `float`. To silence this warning, use `float` by itself. Doing this will not modify any behavior and is safe. If you specifically wanted the numpy scalar type, use `np.float64` here.\n",
      "Deprecated in NumPy 1.20; for more details and guidance: https://numpy.org/devdocs/release/1.20.0-notes.html#deprecations\n",
      "INFO:smac.utils.io.cmd_reader.CMDReader:Output to smac3-output_2021-02-09_14:17:59_038660\n",
      "`np.float` is a deprecated alias for the builtin `float`. To silence this warning, use `float` by itself. Doing this will not modify any behavior and is safe. If you specifically wanted the numpy scalar type, use `np.float64` here.\n",
      "Deprecated in NumPy 1.20; for more details and guidance: https://numpy.org/devdocs/release/1.20.0-notes.html#deprecations\n",
      "INFO:smac.facade.smac_bo_facade.SMAC4BO:Optimizing a deterministic scenario for quality without a tuner timeout - will make SMAC deterministic and only evaluate one configuration per iteration!\n",
      "INFO:smac.initial_design.sobol_design.SobolDesign:Running initial design for 7 configurations\n",
      "INFO:smac.facade.smac_bo_facade.SMAC4BO:<class 'smac.facade.smac_bo_facade.SMAC4BO'>\n",
      "INFO:smac.optimizer.smbo.SMBO:Running initial design\n",
      "INFO:smac.intensification.intensification.Intensifier:First run, no incumbent provided; challenger is assumed to be the incumbent\n"
     ]
    },
    {
     "name": "stdout",
     "output_type": "stream",
     "text": [
      "naive\n",
      "w_svc_lin=0.1377031947, w_svc_radial=0.1559742808, w_xgbc=0.1773123705, w_rfc=0.1695355122, w_ctbc=0.3594746418, w_=1.0\n",
      "importance_auc_acc_loss=1.0, importance_stability=2.0, importance_consistency=2.0\n",
      "AUC_acc_loss=0.05079774622277981, stability=0.7067812153419838, consistency=0.4096159680933908, joint_metric=0.606067073696115\n",
      "Default Value: 0.61\n",
      "Optimizing! Depending on your machine, this might take a few minutes.\n",
      "naive\n",
      "w_svc_lin=0.2, w_svc_radial=0.2, w_xgbc=0.2, w_rfc=0.2, w_ctbc=0.2, w_=1.0\n",
      "importance_auc_acc_loss=1.0, importance_stability=2.0, importance_consistency=2.0\n",
      "AUC_acc_loss=0.056880024737167564, stability=0.7067812153419838, consistency=0.5328851601905255, joint_metric=0.4009798300620616\n"
     ]
    },
    {
     "name": "stderr",
     "output_type": "stream",
     "text": [
      "INFO:smac.intensification.intensification.Intensifier:First run, no incumbent provided; challenger is assumed to be the incumbent\n",
      "INFO:smac.intensification.intensification.Intensifier:Updated estimated cost of incumbent on 1 runs: 0.4010\n"
     ]
    },
    {
     "name": "stdout",
     "output_type": "stream",
     "text": [
      "naive\n",
      "w_svc_lin=0.09090909090909091, w_svc_radial=0.2727272727272727, w_xgbc=0.2727272727272727, w_rfc=0.09090909090909091, w_ctbc=0.2727272727272727, w_=1.0\n",
      "importance_auc_acc_loss=1.0, importance_stability=2.0, importance_consistency=2.0\n",
      "AUC_acc_loss=0.053253780851183416, stability=0.7067812153419838, consistency=0.46014605337703784, joint_metric=0.5034879105020588\n"
     ]
    },
    {
     "name": "stderr",
     "output_type": "stream",
     "text": [
      "INFO:smac.intensification.intensification.Intensifier:Wallclock time limit for intensification reached (used: 0.074346 sec, available: 0.000010 sec)\n"
     ]
    },
    {
     "name": "stdout",
     "output_type": "stream",
     "text": [
      "naive\n",
      "w_svc_lin=0.3333333333333333, w_svc_radial=0.1111111111111111, w_xgbc=0.1111111111111111, w_rfc=0.3333333333333333, w_ctbc=0.1111111111111111, w_=1.0\n",
      "importance_auc_acc_loss=1.0, importance_stability=2.0, importance_consistency=2.0\n",
      "AUC_acc_loss=0.06131210059781485, stability=0.7067812153419838, consistency=0.6527278808485087, joint_metric=0.2880791794885555\n"
     ]
    },
    {
     "name": "stderr",
     "output_type": "stream",
     "text": [
      "INFO:smac.intensification.intensification.Intensifier:Challenger (0.2881) is better than incumbent (0.4010) on 1 runs.\n",
      "INFO:smac.intensification.intensification.Intensifier:Changes in incumbent:\n",
      "INFO:smac.intensification.intensification.Intensifier:  w0 : 0.5 -> 0.25\n",
      "INFO:smac.intensification.intensification.Intensifier:  w1 : 0.5 -> 0.75\n",
      "INFO:smac.intensification.intensification.Intensifier:  w2 : 0.5 -> 0.25\n",
      "INFO:smac.intensification.intensification.Intensifier:  w3 : 0.5 -> 0.75\n",
      "INFO:smac.intensification.intensification.Intensifier:  w4 : 0.5 -> 0.25\n",
      "INFO:smac.intensification.intensification.Intensifier:Wallclock time limit for intensification reached (used: 0.034726 sec, available: 0.000010 sec)\n"
     ]
    },
    {
     "name": "stdout",
     "output_type": "stream",
     "text": [
      "naive\n",
      "w_svc_lin=0.05263157894736842, w_svc_radial=0.3684210526315789, w_xgbc=0.15789473684210525, w_rfc=0.15789473684210525, w_ctbc=0.2631578947368421, w_=1.0\n",
      "importance_auc_acc_loss=1.0, importance_stability=2.0, importance_consistency=2.0\n",
      "AUC_acc_loss=0.05382693747355398, stability=0.7067812153419838, consistency=0.47059273922098976, joint_metric=0.4865631672719203\n"
     ]
    },
    {
     "name": "stderr",
     "output_type": "stream",
     "text": [
      "INFO:smac.intensification.intensification.Intensifier:Wallclock time limit for intensification reached (used: 0.034502 sec, available: 0.000010 sec)\n"
     ]
    },
    {
     "name": "stdout",
     "output_type": "stream",
     "text": [
      "naive\n",
      "w_svc_lin=0.21739130434782608, w_svc_radial=0.13043478260869565, w_xgbc=0.30434782608695654, w_rfc=0.30434782608695654, w_ctbc=0.043478260869565216, w_=1.0\n",
      "importance_auc_acc_loss=1.0, importance_stability=2.0, importance_consistency=2.0\n",
      "AUC_acc_loss=0.0614402678067274, stability=0.7067812153419838, consistency=0.5733404953649649, joint_metric=0.3741604408104803\n"
     ]
    },
    {
     "name": "stderr",
     "output_type": "stream",
     "text": [
      "INFO:smac.intensification.intensification.Intensifier:Wallclock time limit for intensification reached (used: 0.033610 sec, available: 0.000010 sec)\n"
     ]
    },
    {
     "name": "stdout",
     "output_type": "stream",
     "text": [
      "naive\n",
      "w_svc_lin=0.23076923076923078, w_svc_radial=0.07692307692307693, w_xgbc=0.38461538461538464, w_rfc=0.07692307692307693, w_ctbc=0.23076923076923078, w_=1.0\n",
      "importance_auc_acc_loss=1.0, importance_stability=2.0, importance_consistency=2.0\n",
      "AUC_acc_loss=0.05520550877693732, stability=0.7067812153419838, consistency=0.47958632129918666, joint_metric=0.4804839049835401\n"
     ]
    },
    {
     "name": "stderr",
     "output_type": "stream",
     "text": [
      "INFO:smac.intensification.intensification.Intensifier:Wallclock time limit for intensification reached (used: 0.033689 sec, available: 0.000010 sec)\n"
     ]
    },
    {
     "name": "stdout",
     "output_type": "stream",
     "text": [
      "naive\n",
      "w_svc_lin=0.28, w_svc_radial=0.2, w_xgbc=0.04, w_rfc=0.2, w_ctbc=0.28, w_=1.0\n",
      "importance_auc_acc_loss=1.0, importance_stability=2.0, importance_consistency=2.0\n",
      "AUC_acc_loss=0.05587569573283855, stability=0.7067812153419838, consistency=0.46691930109578994, joint_metric=0.5130613426838075\n"
     ]
    },
    {
     "name": "stderr",
     "output_type": "stream",
     "text": [
      "INFO:smac.intensification.intensification.Intensifier:Wallclock time limit for intensification reached (used: 0.035259 sec, available: 0.000010 sec)\n"
     ]
    },
    {
     "name": "stdout",
     "output_type": "stream",
     "text": [
      "naive\n",
      "w_svc_lin=0.3275685776265019, w_svc_radial=0.11218418917638039, w_xgbc=0.11221120894749877, w_rfc=0.3354379076914193, w_ctbc=0.11259811655819958, w_=0.9999999999999999\n",
      "importance_auc_acc_loss=1.0, importance_stability=2.0, importance_consistency=2.0\n",
      "AUC_acc_loss=0.061187858210784096, stability=0.7067812153419838, consistency=0.6502101636126936, joint_metric=0.28972618459440846\n"
     ]
    },
    {
     "name": "stderr",
     "output_type": "stream",
     "text": [
      "INFO:smac.intensification.intensification.Intensifier:Wallclock time limit for intensification reached (used: 0.035281 sec, available: 0.000010 sec)\n"
     ]
    },
    {
     "name": "stdout",
     "output_type": "stream",
     "text": [
      "naive\n",
      "w_svc_lin=0.33702912668566115, w_svc_radial=0.09599038970967573, w_xgbc=0.11326165533371375, w_rfc=0.33999097263096206, w_ctbc=0.11372785563998723, w_=1.0\n",
      "importance_auc_acc_loss=1.0, importance_stability=2.0, importance_consistency=2.0\n",
      "AUC_acc_loss=0.06119600694318315, stability=0.7067812153419839, consistency=0.6472332621081004, joint_metric=0.29243640219308703\n"
     ]
    },
    {
     "name": "stderr",
     "output_type": "stream",
     "text": [
      "INFO:smac.intensification.intensification.Intensifier:Wallclock time limit for intensification reached (used: 0.035563 sec, available: 0.000010 sec)\n"
     ]
    },
    {
     "name": "stdout",
     "output_type": "stream",
     "text": [
      "naive\n",
      "w_svc_lin=0.34614405247848296, w_svc_radial=0.11713420036525676, w_xgbc=0.11714532996157108, w_rfc=0.34035300143189406, w_ctbc=0.07922341576279515, w_=1.0\n",
      "importance_auc_acc_loss=1.0, importance_stability=2.0, importance_consistency=2.0\n",
      "AUC_acc_loss=0.0625147655375408, stability=0.7067812153419838, consistency=0.7084326731056899, joint_metric=0.2493534861384955\n"
     ]
    },
    {
     "name": "stderr",
     "output_type": "stream",
     "text": [
      "INFO:smac.intensification.intensification.Intensifier:Challenger (0.2494) is better than incumbent (0.2881) on 1 runs.\n",
      "INFO:smac.intensification.intensification.Intensifier:Changes in incumbent:\n",
      "INFO:smac.intensification.intensification.Intensifier:  w0 : 0.25 -> 0.25039841972120563\n",
      "INFO:smac.intensification.intensification.Intensifier:  w1 : 0.75 -> 0.7275053451458351\n",
      "INFO:smac.intensification.intensification.Intensifier:  w2 : 0.25 -> 0.16934023847495688\n",
      "INFO:smac.intensification.intensification.Intensifier:  w3 : 0.75 -> 0.7398837304478048\n",
      "INFO:smac.intensification.intensification.Intensifier:  w4 : 0.25 -> 0.2503746301827737\n",
      "INFO:smac.intensification.intensification.Intensifier:Wallclock time limit for intensification reached (used: 0.036756 sec, available: 0.000010 sec)\n"
     ]
    },
    {
     "name": "stdout",
     "output_type": "stream",
     "text": [
      "naive\n",
      "w_svc_lin=0.37605286340152866, w_svc_radial=0.12652323604166435, w_xgbc=0.12724074958128065, w_rfc=0.36058289726754195, w_ctbc=0.009600253707984327, w_=0.9999999999999999\n",
      "importance_auc_acc_loss=1.0, importance_stability=2.0, importance_consistency=2.0\n",
      "AUC_acc_loss=0.06515599024630547, stability=0.7067812153419838, consistency=0.7358405631342941, joint_metric=0.24088896386413544\n"
     ]
    },
    {
     "name": "stderr",
     "output_type": "stream",
     "text": [
      "INFO:smac.intensification.intensification.Intensifier:Challenger (0.2409) is better than incumbent (0.2494) on 1 runs.\n",
      "INFO:smac.intensification.intensification.Intensifier:Changes in incumbent:\n",
      "INFO:smac.intensification.intensification.Intensifier:  w0 : 0.25039841972120563 -> 0.25037022856652275\n",
      "INFO:smac.intensification.intensification.Intensifier:  w1 : 0.7275053451458351 -> 0.7095150154580284\n",
      "INFO:smac.intensification.intensification.Intensifier:  w2 : 0.16934023847495688 -> 0.018890314015552277\n",
      "INFO:smac.intensification.intensification.Intensifier:  w3 : 0.7398837304478048 -> 0.7399550982902066\n",
      "INFO:smac.intensification.intensification.Intensifier:  w4 : 0.2503746301827737 -> 0.24895838503758666\n",
      "INFO:smac.intensification.intensification.Intensifier:Wallclock time limit for intensification reached (used: 0.035931 sec, available: 0.000010 sec)\n"
     ]
    },
    {
     "name": "stdout",
     "output_type": "stream",
     "text": [
      "naive\n",
      "w_svc_lin=0.3753339990888675, w_svc_radial=0.12314814056999546, w_xgbc=0.1240421228020016, w_rfc=0.33466626241579045, w_ctbc=0.042809475123345084, w_=1.0\n",
      "importance_auc_acc_loss=1.0, importance_stability=2.0, importance_consistency=2.0\n",
      "AUC_acc_loss=0.06408533117852135, stability=0.7067812153419838, consistency=0.7375202282677024, joint_metric=0.2358526516966041\n"
     ]
    },
    {
     "name": "stderr",
     "output_type": "stream",
     "text": [
      "INFO:smac.intensification.intensification.Intensifier:Challenger (0.2359) is better than incumbent (0.2409) on 1 runs.\n",
      "INFO:smac.intensification.intensification.Intensifier:Changes in incumbent:\n",
      "INFO:smac.intensification.intensification.Intensifier:  w0 : 0.25037022856652275 -> 0.250651670328674\n",
      "INFO:smac.intensification.intensification.Intensifier:  w1 : 0.7095150154580284 -> 0.6762594494700039\n",
      "INFO:smac.intensification.intensification.Intensifier:  w2 : 0.018890314015552277 -> 0.08650502106198328\n",
      "INFO:smac.intensification.intensification.Intensifier:  w3 : 0.7399550982902066 -> 0.7584366639140392\n",
      "INFO:smac.intensification.intensification.Intensifier:  w4 : 0.24895838503758666 -> 0.24884520221417578\n",
      "INFO:smac.intensification.intensification.Intensifier:Wallclock time limit for intensification reached (used: 0.036720 sec, available: 0.000010 sec)\n"
     ]
    },
    {
     "name": "stdout",
     "output_type": "stream",
     "text": [
      "naive\n",
      "w_svc_lin=0.32249011611181977, w_svc_radial=0.23308397951625076, w_xgbc=0.1078729194384816, w_rfc=0.29928457487025467, w_ctbc=0.037268410063193085, w_=0.9999999999999998\n",
      "importance_auc_acc_loss=1.0, importance_stability=2.0, importance_consistency=2.0\n",
      "AUC_acc_loss=0.06414403749256654, stability=0.706781215341984, consistency=0.7692801298254466, joint_metric=0.21697878152946876\n"
     ]
    },
    {
     "name": "stderr",
     "output_type": "stream",
     "text": [
      "INFO:smac.intensification.intensification.Intensifier:Challenger (0.2170) is better than incumbent (0.2359) on 1 runs.\n",
      "INFO:smac.intensification.intensification.Intensifier:Changes in incumbent:\n",
      "INFO:smac.intensification.intensification.Intensifier:  w0 : 0.250651670328674 -> 0.25014426368468684\n",
      "INFO:smac.intensification.intensification.Intensifier:  w1 : 0.6762594494700039 -> 0.6940047604422022\n",
      "INFO:smac.intensification.intensification.Intensifier:  w2 : 0.08650502106198328 -> 0.08642093903162495\n",
      "INFO:smac.intensification.intensification.Intensifier:  w3 : 0.7584366639140392 -> 0.7478156061807963\n",
      "INFO:smac.intensification.intensification.Intensifier:  w4 : 0.24884520221417578 -> 0.5404935801894143\n",
      "INFO:smac.intensification.intensification.Intensifier:Wallclock time limit for intensification reached (used: 0.036038 sec, available: 0.000010 sec)\n"
     ]
    },
    {
     "name": "stdout",
     "output_type": "stream",
     "text": [
      "naive\n",
      "w_svc_lin=0.39180685040550584, w_svc_radial=0.21161887903449011, w_xgbc=0.09806426515047735, w_rfc=0.27395786666156624, w_ctbc=0.02455213874796048, w_=1.0000000000000002\n",
      "importance_auc_acc_loss=1.0, importance_stability=2.0, importance_consistency=2.0\n",
      "AUC_acc_loss=0.0654208533544612, stability=0.7067812153419838, consistency=0.7817119461929487, joint_metric=0.21431506984083398\n"
     ]
    },
    {
     "name": "stderr",
     "output_type": "stream",
     "text": [
      "INFO:smac.intensification.intensification.Intensifier:Challenger (0.2143) is better than incumbent (0.2170) on 1 runs.\n",
      "INFO:smac.intensification.intensification.Intensifier:Changes in incumbent:\n",
      "INFO:smac.intensification.intensification.Intensifier:  w0 : 0.25014426368468684 -> 0.25019402354453035\n",
      "INFO:smac.intensification.intensification.Intensifier:  w1 : 0.6940047604422022 -> 0.6989561471404099\n",
      "INFO:smac.intensification.intensification.Intensifier:  w2 : 0.08642093903162495 -> 0.06264053853409107\n",
      "INFO:smac.intensification.intensification.Intensifier:  w3 : 0.7478156061807963 -> 0.999627460674305\n",
      "INFO:smac.intensification.intensification.Intensifier:  w4 : 0.5404935801894143 -> 0.539908994600411\n",
      "INFO:smac.intensification.intensification.Intensifier:Wallclock time limit for intensification reached (used: 0.036998 sec, available: 0.000010 sec)\n"
     ]
    },
    {
     "name": "stdout",
     "output_type": "stream",
     "text": [
      "naive\n",
      "w_svc_lin=0.4021708189978613, w_svc_radial=0.24463821326264862, w_xgbc=2.1236267466872683e-05, w_rfc=0.32168137066237606, w_ctbc=0.03148836080964719, w_=1.0\n",
      "importance_auc_acc_loss=1.0, importance_stability=2.0, importance_consistency=2.0\n",
      "AUC_acc_loss=0.0657745262614095, stability=0.7067812153419838, consistency=0.8328818224876071, joint_metric=0.18981081956802162\n"
     ]
    },
    {
     "name": "stderr",
     "output_type": "stream",
     "text": [
      "INFO:smac.intensification.intensification.Intensifier:Challenger (0.1898) is better than incumbent (0.2143) on 1 runs.\n",
      "INFO:smac.intensification.intensification.Intensifier:Changes in incumbent:\n",
      "INFO:smac.intensification.intensification.Intensifier:  w0 : 0.25019402354453035 -> 4.6571341319448425e-05\n",
      "INFO:smac.intensification.intensification.Intensifier:  w1 : 0.6989561471404099 -> 0.7054503778780898\n",
      "INFO:smac.intensification.intensification.Intensifier:  w2 : 0.06264053853409107 -> 0.06905428183853898\n",
      "INFO:smac.intensification.intensification.Intensifier:  w3 : 0.999627460674305 -> 0.8819645217545234\n",
      "INFO:smac.intensification.intensification.Intensifier:  w4 : 0.539908994600411 -> 0.5364939835782079\n",
      "INFO:smac.intensification.intensification.Intensifier:Wallclock time limit for intensification reached (used: 0.036778 sec, available: 0.000010 sec)\n"
     ]
    },
    {
     "name": "stdout",
     "output_type": "stream",
     "text": [
      "naive\n",
      "w_svc_lin=0.3672518240758479, w_svc_radial=0.34015228036099016, w_xgbc=1.4143119351812852e-05, w_rfc=0.2925597315568485, w_ctbc=2.2020886961787693e-05, w_=1.0\n",
      "importance_auc_acc_loss=1.0, importance_stability=2.0, importance_consistency=2.0\n",
      "AUC_acc_loss=0.06678480905607333, stability=0.7067812153419837, consistency=0.9025424590418765, joint_metric=0.16412411902840932\n"
     ]
    },
    {
     "name": "stderr",
     "output_type": "stream",
     "text": [
      "INFO:smac.intensification.intensification.Intensifier:Challenger (0.1641) is better than incumbent (0.1898) on 1 runs.\n",
      "INFO:smac.intensification.intensification.Intensifier:Changes in incumbent:\n",
      "INFO:smac.intensification.intensification.Intensifier:  w0 : 4.6571341319448425e-05 -> 3.597594905514008e-05\n",
      "INFO:smac.intensification.intensification.Intensifier:  w1 : 0.7054503778780898 -> 0.7441861824298004\n",
      "INFO:smac.intensification.intensification.Intensifier:  w2 : 0.06905428183853898 -> 5.601468019745772e-05\n",
      "INFO:smac.intensification.intensification.Intensifier:  w3 : 0.8819645217545234 -> 0.934180967062718\n",
      "INFO:smac.intensification.intensification.Intensifier:  w4 : 0.5364939835782079 -> 0.8652476730805599\n",
      "INFO:smac.intensification.intensification.Intensifier:Wallclock time limit for intensification reached (used: 0.036248 sec, available: 0.000010 sec)\n"
     ]
    },
    {
     "name": "stdout",
     "output_type": "stream",
     "text": [
      "naive\n",
      "w_svc_lin=0.3396887560443776, w_svc_radial=0.3297951490020602, w_xgbc=1.159166708085737e-05, w_rfc=0.3304854693026136, w_ctbc=1.903398386786959e-05, w_=1.0000000000000002\n",
      "importance_auc_acc_loss=1.0, importance_stability=2.0, importance_consistency=2.0\n",
      "AUC_acc_loss=0.06634912087889748, stability=0.7067812153419838, consistency=0.9021113811270354, joint_metric=0.16320928121374534\n"
     ]
    },
    {
     "name": "stderr",
     "output_type": "stream",
     "text": [
      "INFO:smac.intensification.intensification.Intensifier:Challenger (0.1632) is better than incumbent (0.1641) on 1 runs.\n",
      "INFO:smac.intensification.intensification.Intensifier:Changes in incumbent:\n",
      "INFO:smac.intensification.intensification.Intensifier:  w0 : 3.597594905514008e-05 -> 3.411285461819078e-05\n",
      "INFO:smac.intensification.intensification.Intensifier:  w1 : 0.7441861824298004 -> 0.9725782054560825\n",
      "INFO:smac.intensification.intensification.Intensifier:  w3 : 0.934180967062718 -> 0.9996623496470229\n",
      "INFO:smac.intensification.intensification.Intensifier:  w4 : 0.8652476730805599 -> 0.9705466774723595\n",
      "INFO:smac.intensification.intensification.Intensifier:Wallclock time limit for intensification reached (used: 0.036879 sec, available: 0.000010 sec)\n"
     ]
    },
    {
     "name": "stdout",
     "output_type": "stream",
     "text": [
      "naive\n",
      "w_svc_lin=0.2802862999330827, w_svc_radial=0.383215819909463, w_xgbc=2.5122456640217976e-05, w_rfc=0.33645280475276795, w_ctbc=1.995294804611066e-05, w_=1.0\n",
      "importance_auc_acc_loss=1.0, importance_stability=2.0, importance_consistency=2.0\n",
      "AUC_acc_loss=0.06580450095229284, stability=0.7067812153419838, consistency=0.8958819572615953, joint_metric=0.16412850843979426\n"
     ]
    },
    {
     "name": "stderr",
     "output_type": "stream",
     "text": [
      "INFO:smac.intensification.intensification.Intensifier:Wallclock time limit for intensification reached (used: 0.035935 sec, available: 0.000010 sec)\n"
     ]
    },
    {
     "name": "stdout",
     "output_type": "stream",
     "text": [
      "naive\n",
      "w_svc_lin=0.33340847332681384, w_svc_radial=0.3492262564077322, w_xgbc=3.9750694746738624e-05, w_rfc=0.29305421094874845, w_ctbc=0.024271308621958834, w_=1.0\n",
      "importance_auc_acc_loss=1.0, importance_stability=2.0, importance_consistency=2.0\n",
      "AUC_acc_loss=0.06559537481191018, stability=0.7067812153419838, consistency=0.8570349236612517, joint_metric=0.1787747511084671\n"
     ]
    },
    {
     "name": "stderr",
     "output_type": "stream",
     "text": [
      "INFO:smac.intensification.intensification.Intensifier:Wallclock time limit for intensification reached (used: 0.036611 sec, available: 0.000010 sec)\n"
     ]
    },
    {
     "name": "stdout",
     "output_type": "stream",
     "text": [
      "naive\n",
      "w_svc_lin=0.3286944871539734, w_svc_radial=0.30520088153371033, w_xgbc=2.543363344852799e-05, w_rfc=0.36605899758561683, w_ctbc=2.0200093250828598e-05, w_=1.0\n",
      "importance_auc_acc_loss=1.0, importance_stability=2.0, importance_consistency=2.0\n",
      "AUC_acc_loss=0.06606860334041673, stability=0.7067812153419838, consistency=0.8978347458773484, joint_metric=0.1640711841105791\n"
     ]
    },
    {
     "name": "stderr",
     "output_type": "stream",
     "text": [
      "INFO:smac.intensification.intensification.Intensifier:Wallclock time limit for intensification reached (used: 0.036072 sec, available: 0.000010 sec)\n"
     ]
    },
    {
     "name": "stdout",
     "output_type": "stream",
     "text": [
      "naive\n",
      "w_svc_lin=0.3063272605407496, w_svc_radial=0.3412619844771975, w_xgbc=0.041769331892866565, w_rfc=0.31062362356569867, w_ctbc=1.7799523487740867e-05, w_=1.0000000000000002\n",
      "importance_auc_acc_loss=1.0, importance_stability=2.0, importance_consistency=2.0\n",
      "AUC_acc_loss=0.06583700176820399, stability=0.7067812153419837, consistency=0.8584856790663813, joint_metric=0.17882734893892036\n"
     ]
    },
    {
     "name": "stderr",
     "output_type": "stream",
     "text": [
      "INFO:smac.intensification.intensification.Intensifier:Wallclock time limit for intensification reached (used: 0.037143 sec, available: 0.000010 sec)\n"
     ]
    },
    {
     "name": "stdout",
     "output_type": "stream",
     "text": [
      "naive\n",
      "w_svc_lin=0.014713316583351557, w_svc_radial=0.49267775009918124, w_xgbc=3.229842330539993e-05, w_rfc=0.49239022542831334, w_ctbc=0.0001864094658485193, w_=1.0\n",
      "importance_auc_acc_loss=1.0, importance_stability=2.0, importance_consistency=2.0\n",
      "AUC_acc_loss=0.06269060414539403, stability=0.7067812153419838, consistency=0.8637433124722254, joint_metric=0.16821435805321447\n"
     ]
    },
    {
     "name": "stderr",
     "output_type": "stream",
     "text": [
      "INFO:smac.intensification.intensification.Intensifier:Wallclock time limit for intensification reached (used: 0.035645 sec, available: 0.000010 sec)\n"
     ]
    },
    {
     "name": "stdout",
     "output_type": "stream",
     "text": [
      "naive\n",
      "w_svc_lin=0.1617304794184922, w_svc_radial=0.3965613648709589, w_xgbc=2.895431954279804e-05, w_rfc=0.441656205071744, w_ctbc=2.2996319262148526e-05, w_=1.0\n",
      "importance_auc_acc_loss=1.0, importance_stability=2.0, importance_consistency=2.0\n",
      "AUC_acc_loss=0.06423159664230534, stability=0.7067812153419838, consistency=0.8797856693658129, joint_metric=0.1661211594725333\n"
     ]
    },
    {
     "name": "stderr",
     "output_type": "stream",
     "text": [
      "INFO:smac.intensification.intensification.Intensifier:Wallclock time limit for intensification reached (used: 0.035193 sec, available: 0.000010 sec)\n"
     ]
    },
    {
     "name": "stdout",
     "output_type": "stream",
     "text": [
      "naive\n",
      "w_svc_lin=0.09581335395591699, w_svc_radial=0.5566439727544038, w_xgbc=1.1863454186271508e-05, w_rfc=0.34744713403675326, w_ctbc=8.367579873984023e-05, w_=1.0000000000000002\n",
      "importance_auc_acc_loss=1.0, importance_stability=2.0, importance_consistency=2.0\n",
      "AUC_acc_loss=0.06415065552164041, stability=0.7067812153419837, consistency=0.8635146398389496, joint_metric=0.17222321488375195\n"
     ]
    },
    {
     "name": "stderr",
     "output_type": "stream",
     "text": [
      "INFO:smac.intensification.intensification.Intensifier:Wallclock time limit for intensification reached (used: 0.037390 sec, available: 0.000010 sec)\n"
     ]
    },
    {
     "name": "stdout",
     "output_type": "stream",
     "text": [
      "naive\n",
      "w_svc_lin=0.00040097094566982343, w_svc_radial=0.4260729750246545, w_xgbc=1.437098032316752e-05, w_rfc=0.5734894701061385, w_ctbc=2.2212943213980485e-05, w_=1.0\n",
      "importance_auc_acc_loss=1.0, importance_stability=2.0, importance_consistency=2.0\n",
      "AUC_acc_loss=0.06215055546345501, stability=0.7067812153419838, consistency=0.8550183852165052, joint_metric=0.1701861097479993\n"
     ]
    },
    {
     "name": "stderr",
     "output_type": "stream",
     "text": [
      "INFO:smac.intensification.intensification.Intensifier:Wallclock time limit for intensification reached (used: 0.037540 sec, available: 0.000010 sec)\n"
     ]
    },
    {
     "name": "stdout",
     "output_type": "stream",
     "text": [
      "naive\n",
      "w_svc_lin=0.4836724133084169, w_svc_radial=0.48388679653969396, w_xgbc=0.0001108307211240024, w_rfc=0.03231258282947799, w_ctbc=1.7376601287110435e-05, w_=1.0000000000000002\n",
      "importance_auc_acc_loss=1.0, importance_stability=2.0, importance_consistency=2.0\n",
      "AUC_acc_loss=0.06914634978751064, stability=0.7067812153419838, consistency=0.8745986888804729, joint_metric=0.18095959602073886\n"
     ]
    },
    {
     "name": "stderr",
     "output_type": "stream",
     "text": [
      "INFO:smac.intensification.intensification.Intensifier:Wallclock time limit for intensification reached (used: 0.035248 sec, available: 0.000010 sec)\n"
     ]
    },
    {
     "name": "stdout",
     "output_type": "stream",
     "text": [
      "naive\n",
      "w_svc_lin=0.33578071728620623, w_svc_radial=0.4676603606035895, w_xgbc=0.0001815776012471348, w_rfc=0.19623821899169042, w_ctbc=0.00013912551726665107, w_=1.0\n",
      "importance_auc_acc_loss=1.0, importance_stability=2.0, importance_consistency=2.0\n",
      "AUC_acc_loss=0.06700904865430232, stability=0.7067812153419839, consistency=0.882766461475232, joint_metric=0.1721360391507043\n"
     ]
    },
    {
     "name": "stderr",
     "output_type": "stream",
     "text": [
      "INFO:smac.intensification.intensification.Intensifier:Wallclock time limit for intensification reached (used: 0.037268 sec, available: 0.000010 sec)\n"
     ]
    },
    {
     "name": "stdout",
     "output_type": "stream",
     "text": [
      "naive\n",
      "w_svc_lin=0.0003780172911053356, w_svc_radial=0.9992956607120711, w_xgbc=0.00012082899566828197, w_rfc=0.00016689538196955952, w_ctbc=3.8597619185755914e-05, w_=1.0\n",
      "importance_auc_acc_loss=1.0, importance_stability=2.0, importance_consistency=2.0\n",
      "AUC_acc_loss=0.06513608151359679, stability=0.7067812153419838, consistency=0.786147578898241, joint_metric=0.21098105961807564\n"
     ]
    },
    {
     "name": "stderr",
     "output_type": "stream",
     "text": [
      "INFO:smac.intensification.intensification.Intensifier:Wallclock time limit for intensification reached (used: 0.037322 sec, available: 0.000010 sec)\n"
     ]
    },
    {
     "name": "stdout",
     "output_type": "stream",
     "text": [
      "naive\n",
      "w_svc_lin=0.00013157221611757568, w_svc_radial=0.4196823544913956, w_xgbc=1.1177828716049415e-05, w_rfc=0.5247958821964118, w_ctbc=0.05537901326735883, w_=1.0\n",
      "importance_auc_acc_loss=1.0, importance_stability=2.0, importance_consistency=2.0\n",
      "AUC_acc_loss=0.06036074092094631, stability=0.7067812153419838, consistency=0.7554006338352819, joint_metric=0.21175314799732334\n"
     ]
    },
    {
     "name": "stderr",
     "output_type": "stream",
     "text": [
      "INFO:smac.intensification.intensification.Intensifier:Wallclock time limit for intensification reached (used: 0.035856 sec, available: 0.000010 sec)\n"
     ]
    },
    {
     "name": "stdout",
     "output_type": "stream",
     "text": [
      "naive\n",
      "w_svc_lin=0.27251108531559104, w_svc_radial=0.13178116557314293, w_xgbc=0.09632591052863873, w_rfc=0.23677121223999065, w_ctbc=0.2626106263426366, w_=1.0\n",
      "importance_auc_acc_loss=1.0, importance_stability=2.0, importance_consistency=2.0\n",
      "AUC_acc_loss=0.05581908190632852, stability=0.706781215341984, consistency=0.47823311946247343, joint_metric=0.4885774218965977\n"
     ]
    },
    {
     "name": "stderr",
     "output_type": "stream",
     "text": [
      "INFO:smac.intensification.intensification.Intensifier:Wallclock time limit for intensification reached (used: 0.032423 sec, available: 0.000010 sec)\n",
      "INFO:smac.stats.stats.Stats:##########################################################\n",
      "INFO:smac.stats.stats.Stats:Statistics:\n",
      "INFO:smac.stats.stats.Stats:#Incumbent changed: 9\n",
      "INFO:smac.stats.stats.Stats:#Submitted target algorithm runs: 30 / 30.0\n",
      "INFO:smac.stats.stats.Stats:#Finished target algorithm runs: 30 / 30.0\n",
      "INFO:smac.stats.stats.Stats:#Configurations: 30\n",
      "INFO:smac.stats.stats.Stats:Used wallclock time: 113.11 / inf sec \n",
      "INFO:smac.stats.stats.Stats:Used target algorithm runtime: 0.69 / inf sec\n",
      "INFO:smac.stats.stats.Stats:##########################################################\n",
      "INFO:smac.facade.smac_bo_facade.SMAC4BO:Final Incumbent: Configuration:\n",
      "  importance_auc_acc_loss, Constant: 1.0\n",
      "  importance_consistency, Constant: 2.0\n",
      "  importance_stability, Constant: 2.0\n",
      "  w0, Value: 3.411285461819078e-05\n",
      "  w1, Value: 0.9725782054560825\n",
      "  w2, Value: 5.601468019745772e-05\n",
      "  w3, Value: 0.9996623496470229\n",
      "  w4, Value: 0.9705466774723595\n",
      "\n",
      "INFO:smac.facade.smac_bo_facade.SMAC4BO:Estimated cost of incumbent: 0.163209\n"
     ]
    },
    {
     "name": "stdout",
     "output_type": "stream",
     "text": [
      "AUC_acc_loss=0.06634912087889748, stability=0.2401667242142561, consistency=0.9021113811268965, joint_metric=1.413478412169347\n",
      "{'auc_acc_loss': 0.06634912087889748, 'stability': 0.2401667242142561, 'consistency': 0.9021113811268965, 'joint_metric': 1.413478412169347, 'w_svc_lin': 0.9996623496470229, 'w_svc_radial': 0.9705466774723595, 'w_xgbc': 3.411285461819078e-05, 'w_rfc': 0.9725782054560825, 'w_ctbc': 5.601468019745772e-05, 'w_': 2.9428773601102804}\n"
     ]
    },
    {
     "data": {
      "application/vnd.jupyter.widget-view+json": {
       "model_id": "62dbfd8ab6f04370bdad9a80b919b739",
       "version_major": 2,
       "version_minor": 0
      },
      "text/plain": [
       "  0%|          | 0/66 [00:00<?, ?it/s]"
      ]
     },
     "metadata": {},
     "output_type": "display_data"
    },
    {
     "name": "stderr",
     "output_type": "stream",
     "text": [
      "INFO:shap:num_full_subsets = 1\n",
      "INFO:shap:phi = [-0.05617558 -0.4044459 ]\n",
      "INFO:shap:phi = [0.05617558 0.4044459 ]\n",
      "INFO:shap:num_full_subsets = 1\n",
      "INFO:shap:phi = [0.05709247 0.05746304]\n",
      "INFO:shap:phi = [-0.05709247 -0.05746304]\n",
      "INFO:shap:num_full_subsets = 1\n",
      "INFO:shap:phi = [ 0.06252499 -0.13280904]\n",
      "INFO:shap:phi = [-0.06252499  0.13280904]\n",
      "INFO:shap:num_full_subsets = 1\n",
      "INFO:shap:phi = [-0.23740785 -0.17487134]\n",
      "INFO:shap:phi = [0.23740785 0.17487134]\n",
      "INFO:shap:num_full_subsets = 1\n",
      "INFO:shap:phi = [0.05912815 0.06041467]\n",
      "INFO:shap:phi = [-0.05912815 -0.06041467]\n",
      "INFO:shap:num_full_subsets = 1\n",
      "INFO:shap:phi = [0.01681417 0.17748686]\n",
      "INFO:shap:phi = [-0.01681417 -0.17748686]\n",
      "INFO:shap:num_full_subsets = 1\n",
      "INFO:shap:phi = [0.04931708 0.18582577]\n",
      "INFO:shap:phi = [-0.04931708 -0.18582577]\n",
      "INFO:shap:num_full_subsets = 1\n",
      "INFO:shap:phi = [-0.0292796 -0.3882363]\n",
      "INFO:shap:phi = [0.0292796 0.3882363]\n",
      "INFO:shap:num_full_subsets = 1\n",
      "INFO:shap:phi = [-0.00647705 -0.38869412]\n",
      "INFO:shap:phi = [0.00647705 0.38869412]\n",
      "INFO:shap:num_full_subsets = 1\n",
      "INFO:shap:phi = [-0.18546815 -0.3060823 ]\n",
      "INFO:shap:phi = [0.18546815 0.3060823 ]\n",
      "INFO:shap:num_full_subsets = 1\n",
      "INFO:shap:phi = [0.10295221 0.19177143]\n",
      "INFO:shap:phi = [-0.10295221 -0.19177143]\n",
      "INFO:shap:num_full_subsets = 1\n",
      "INFO:shap:phi = [ 0.01875493 -0.22063749]\n",
      "INFO:shap:phi = [-0.01875493  0.22063749]\n",
      "INFO:shap:num_full_subsets = 1\n",
      "INFO:shap:phi = [0.09679086 0.18562697]\n",
      "INFO:shap:phi = [-0.09679086 -0.18562697]\n",
      "INFO:shap:num_full_subsets = 1\n",
      "INFO:shap:phi = [0.03063097 0.22477206]\n",
      "INFO:shap:phi = [-0.03063097 -0.22477206]\n",
      "INFO:shap:num_full_subsets = 1\n",
      "INFO:shap:phi = [0.01147942 0.36285451]\n",
      "INFO:shap:phi = [-0.01147942 -0.36285451]\n",
      "INFO:shap:num_full_subsets = 1\n",
      "INFO:shap:phi = [-0.4111024  -0.05899665]\n",
      "INFO:shap:phi = [0.4111024  0.05899665]\n",
      "INFO:shap:num_full_subsets = 1\n",
      "INFO:shap:phi = [0.0532999  0.32937434]\n",
      "INFO:shap:phi = [-0.0532999  -0.32937434]\n",
      "INFO:shap:num_full_subsets = 1\n",
      "INFO:shap:phi = [0.10082155 0.31543303]\n",
      "INFO:shap:phi = [-0.10082155 -0.31543303]\n",
      "INFO:shap:num_full_subsets = 1\n",
      "INFO:shap:phi = [0.26457654 0.16521987]\n",
      "INFO:shap:phi = [-0.26457654 -0.16521987]\n",
      "INFO:shap:num_full_subsets = 1\n",
      "INFO:shap:phi = [0.22696712 0.1309457 ]\n",
      "INFO:shap:phi = [-0.22696712 -0.1309457 ]\n",
      "INFO:shap:num_full_subsets = 1\n",
      "INFO:shap:phi = [0.05674693 0.12558365]\n",
      "INFO:shap:phi = [-0.05674693 -0.12558365]\n",
      "INFO:shap:num_full_subsets = 1\n",
      "INFO:shap:phi = [0.19126441 0.13212748]\n",
      "INFO:shap:phi = [-0.19126441 -0.13212748]\n",
      "INFO:shap:num_full_subsets = 1\n",
      "INFO:shap:phi = [-0.01652647  0.17148388]\n",
      "INFO:shap:phi = [ 0.01652647 -0.17148388]\n",
      "INFO:shap:num_full_subsets = 1\n",
      "INFO:shap:phi = [0.11789089 0.08327935]\n",
      "INFO:shap:phi = [-0.11789089 -0.08327935]\n",
      "INFO:shap:num_full_subsets = 1\n",
      "INFO:shap:phi = [0.23153344 0.15887433]\n",
      "INFO:shap:phi = [-0.23153344 -0.15887433]\n",
      "INFO:shap:num_full_subsets = 1\n",
      "INFO:shap:phi = [ 0.45743597 -0.29863881]\n",
      "INFO:shap:phi = [-0.45743597  0.29863881]\n",
      "INFO:shap:num_full_subsets = 1\n",
      "INFO:shap:phi = [0.04777624 0.04984799]\n",
      "INFO:shap:phi = [-0.04777624 -0.04984799]\n",
      "INFO:shap:num_full_subsets = 1\n",
      "INFO:shap:phi = [0.0570121  0.05279568]\n",
      "INFO:shap:phi = [-0.0570121  -0.05279568]\n",
      "INFO:shap:num_full_subsets = 1\n",
      "INFO:shap:phi = [0.04757512 0.29779565]\n",
      "INFO:shap:phi = [-0.04757512 -0.29779565]\n",
      "INFO:shap:num_full_subsets = 1\n",
      "INFO:shap:phi = [0.07639855 0.02671226]\n",
      "INFO:shap:phi = [-0.07639855 -0.02671226]\n",
      "INFO:shap:num_full_subsets = 1\n",
      "INFO:shap:phi = [ 0.06149419 -0.06717636]\n",
      "INFO:shap:phi = [-0.06149419  0.06717636]\n",
      "INFO:shap:num_full_subsets = 1\n",
      "INFO:shap:phi = [-0.05569375  0.20985356]\n",
      "INFO:shap:phi = [ 0.05569375 -0.20985356]\n",
      "INFO:shap:num_full_subsets = 1\n",
      "INFO:shap:phi = [0.03563963 0.2022594 ]\n",
      "INFO:shap:phi = [-0.03563963 -0.2022594 ]\n",
      "INFO:shap:num_full_subsets = 1\n",
      "INFO:shap:phi = [ 0.10877221 -0.17951323]\n",
      "INFO:shap:phi = [-0.10877221  0.17951323]\n",
      "INFO:shap:num_full_subsets = 1\n",
      "INFO:shap:phi = [ 0.00690241 -0.19630647]\n",
      "INFO:shap:phi = [-0.00690241  0.19630647]\n",
      "INFO:shap:num_full_subsets = 1\n",
      "INFO:shap:phi = [ 0.02444746 -0.32030801]\n",
      "INFO:shap:phi = [-0.02444746  0.32030801]\n",
      "INFO:shap:num_full_subsets = 1\n",
      "INFO:shap:phi = [-0.09248155 -0.36801891]\n",
      "INFO:shap:phi = [0.09248155 0.36801891]\n",
      "INFO:shap:num_full_subsets = 1\n",
      "INFO:shap:phi = [0.04802751 0.22714776]\n",
      "INFO:shap:phi = [-0.04802751 -0.22714776]\n",
      "INFO:shap:num_full_subsets = 1\n",
      "INFO:shap:phi = [-0.20230427 -0.27561348]\n",
      "INFO:shap:phi = [0.20230427 0.27561348]\n",
      "INFO:shap:num_full_subsets = 1\n",
      "INFO:shap:phi = [-0.1949531 -0.1078304]\n",
      "INFO:shap:phi = [0.1949531 0.1078304]\n",
      "INFO:shap:num_full_subsets = 1\n",
      "INFO:shap:phi = [ 0.01998545 -0.33671377]\n",
      "INFO:shap:phi = [-0.01998545  0.33671377]\n",
      "INFO:shap:num_full_subsets = 1\n",
      "INFO:shap:phi = [0.15187767 0.26969653]\n",
      "INFO:shap:phi = [-0.15187767 -0.26969653]\n",
      "INFO:shap:num_full_subsets = 1\n",
      "INFO:shap:phi = [ 0.15205456 -0.18622942]\n",
      "INFO:shap:phi = [-0.15205456  0.18622942]\n",
      "INFO:shap:num_full_subsets = 1\n",
      "INFO:shap:phi = [-0.25147272 -0.23429145]\n",
      "INFO:shap:phi = [0.25147272 0.23429145]\n",
      "INFO:shap:num_full_subsets = 1\n",
      "INFO:shap:phi = [-0.1007162  -0.10077929]\n",
      "INFO:shap:phi = [0.1007162  0.10077929]\n",
      "INFO:shap:num_full_subsets = 1\n",
      "INFO:shap:phi = [0.06822766 0.15841201]\n",
      "INFO:shap:phi = [-0.06822766 -0.15841201]\n",
      "INFO:shap:num_full_subsets = 1\n",
      "INFO:shap:phi = [0.00257708 0.18697993]\n",
      "INFO:shap:phi = [-0.00257708 -0.18697993]\n",
      "INFO:shap:num_full_subsets = 1\n",
      "INFO:shap:phi = [0.05081444 0.19953302]\n",
      "INFO:shap:phi = [-0.05081444 -0.19953302]\n",
      "INFO:shap:num_full_subsets = 1\n",
      "INFO:shap:phi = [-0.06094723 -0.42587998]\n",
      "INFO:shap:phi = [0.06094723 0.42587998]\n",
      "INFO:shap:num_full_subsets = 1\n",
      "INFO:shap:phi = [-0.5100811   0.12079047]\n",
      "INFO:shap:phi = [ 0.5100811  -0.12079047]\n",
      "INFO:shap:num_full_subsets = 1\n",
      "INFO:shap:phi = [-0.01419094  0.14470109]\n",
      "INFO:shap:phi = [ 0.01419094 -0.14470109]\n",
      "INFO:shap:num_full_subsets = 1\n",
      "INFO:shap:phi = [0.02239515 0.32424224]\n",
      "INFO:shap:phi = [-0.02239515 -0.32424224]\n",
      "INFO:shap:num_full_subsets = 1\n",
      "INFO:shap:phi = [0.06286712 0.25854365]\n",
      "INFO:shap:phi = [-0.06286712 -0.25854365]\n",
      "INFO:shap:num_full_subsets = 1\n",
      "INFO:shap:phi = [-0.4185282  -0.03050934]\n",
      "INFO:shap:phi = [0.4185282  0.03050934]\n",
      "INFO:shap:num_full_subsets = 1\n",
      "INFO:shap:phi = [0.03687163 0.34081639]\n",
      "INFO:shap:phi = [-0.03687163 -0.34081639]\n",
      "INFO:shap:num_full_subsets = 1\n",
      "INFO:shap:phi = [ 0.36730533 -0.08137364]\n",
      "INFO:shap:phi = [-0.36730533  0.08137364]\n",
      "INFO:shap:num_full_subsets = 1\n",
      "INFO:shap:phi = [-0.34418568 -0.08792683]\n",
      "INFO:shap:phi = [0.34418568 0.08792683]\n",
      "INFO:shap:num_full_subsets = 1\n",
      "INFO:shap:phi = [-0.02589651 -0.33620948]\n",
      "INFO:shap:phi = [0.02589651 0.33620948]\n",
      "INFO:shap:num_full_subsets = 1\n",
      "INFO:shap:phi = [ 0.03029892 -0.08614251]\n",
      "INFO:shap:phi = [-0.03029892  0.08614251]\n",
      "INFO:shap:num_full_subsets = 1\n",
      "INFO:shap:phi = [0.07758273 0.22506545]\n",
      "INFO:shap:phi = [-0.07758273 -0.22506545]\n",
      "INFO:shap:num_full_subsets = 1\n",
      "INFO:shap:phi = [-0.00130481  0.10900046]\n",
      "INFO:shap:phi = [ 0.00130481 -0.10900046]\n",
      "INFO:shap:num_full_subsets = 1\n",
      "INFO:shap:phi = [-0.3484306  -0.09561968]\n",
      "INFO:shap:phi = [0.3484306  0.09561968]\n",
      "INFO:shap:num_full_subsets = 1\n",
      "INFO:shap:phi = [-0.09722713 -0.14410904]\n",
      "INFO:shap:phi = [0.09722713 0.14410904]\n",
      "INFO:shap:num_full_subsets = 1\n",
      "INFO:shap:phi = [0.15199745 0.19131567]\n",
      "INFO:shap:phi = [-0.15199745 -0.19131567]\n",
      "INFO:shap:num_full_subsets = 1\n",
      "INFO:shap:phi = [ 0.00572917 -0.41881791]\n",
      "INFO:shap:phi = [-0.00572917  0.41881791]\n",
      "INFO:shap:num_full_subsets = 1\n",
      "INFO:shap:phi = [-0.2598009  -0.20126498]\n",
      "INFO:shap:phi = [0.2598009  0.20126498]\n"
     ]
    },
    {
     "name": "stdout",
     "output_type": "stream",
     "text": [
      "debug-2\n",
      "debug-3\n",
      "AUC_acc_loss=0.054545454545454536, stability=0.8747851462001395, consistency=0.9021113811268965, joint_metric=0.08758615089611406\n"
     ]
    },
    {
     "data": {
      "text/plain": [
       "{'auc_acc_loss': 0.054545454545454536,\n",
       " 'stability': 0.8747851462001395,\n",
       " 'consistency': 0.9021113811268965,\n",
       " 'joint_metric': 0.08758615089611406,\n",
       " 'w_svc_lin': 0.9996623496470229,\n",
       " 'w_svc_radial': 0.9705466774723595,\n",
       " 'w_xgbc': 3.411285461819078e-05,\n",
       " 'w_rfc': 0.9725782054560825,\n",
       " 'w_ctbc': 5.601468019745772e-05,\n",
       " 'w_': 2.9428773601102804}"
      ]
     },
     "execution_count": 340,
     "metadata": {},
     "output_type": "execute_result"
    }
   ],
   "source": [
    "e7 = run_experiment(importance_auc_acc_loss = 1.0, importance_stability = 2.0, importance_consistency = 2.0)\n",
    "to_pickle(e7, 'e7')\n",
    "print(naive_joint_metrics(e7['w0'], e7['w1'], e7['w2'], e7['w3'], e7['w4'], e7['importance_auc_acc_loss'], e7['importance_consistency'], e7['importance_stability']))\n",
    "r7 = exact_joint_metrics(e7['w0'], e7['w1'], e7['w2'], e7['w3'], e7['w4'], e7['importance_auc_acc_loss'], e7['importance_consistency'], e7['importance_stability'])\n",
    "to_pickle(r7, 'r7')\n",
    "r7"
   ]
  },
  {
   "cell_type": "code",
   "execution_count": 341,
   "id": "colored-booking",
   "metadata": {
    "collapsed": true,
    "jupyter": {
     "outputs_hidden": true
    }
   },
   "outputs": [
    {
     "name": "stderr",
     "output_type": "stream",
     "text": [
      "`np.float` is a deprecated alias for the builtin `float`. To silence this warning, use `float` by itself. Doing this will not modify any behavior and is safe. If you specifically wanted the numpy scalar type, use `np.float64` here.\n",
      "Deprecated in NumPy 1.20; for more details and guidance: https://numpy.org/devdocs/release/1.20.0-notes.html#deprecations\n",
      "INFO:smac.utils.io.cmd_reader.CMDReader:Output to smac3-output_2021-02-09_14:20:02_708909\n",
      "`np.float` is a deprecated alias for the builtin `float`. To silence this warning, use `float` by itself. Doing this will not modify any behavior and is safe. If you specifically wanted the numpy scalar type, use `np.float64` here.\n",
      "Deprecated in NumPy 1.20; for more details and guidance: https://numpy.org/devdocs/release/1.20.0-notes.html#deprecations\n",
      "INFO:smac.facade.smac_bo_facade.SMAC4BO:Optimizing a deterministic scenario for quality without a tuner timeout - will make SMAC deterministic and only evaluate one configuration per iteration!\n",
      "INFO:smac.initial_design.sobol_design.SobolDesign:Running initial design for 7 configurations\n",
      "INFO:smac.facade.smac_bo_facade.SMAC4BO:<class 'smac.facade.smac_bo_facade.SMAC4BO'>\n",
      "INFO:smac.optimizer.smbo.SMBO:Running initial design\n",
      "INFO:smac.intensification.intensification.Intensifier:First run, no incumbent provided; challenger is assumed to be the incumbent\n"
     ]
    },
    {
     "name": "stdout",
     "output_type": "stream",
     "text": [
      "naive\n",
      "w_svc_lin=0.1377031947, w_svc_radial=0.1559742808, w_xgbc=0.1773123705, w_rfc=0.1695355122, w_ctbc=0.3594746418, w_=1.0\n",
      "importance_auc_acc_loss=2.0, importance_stability=1.5, importance_consistency=1.5\n",
      "AUC_acc_loss=0.05079774622277981, stability=0.7067812153419838, consistency=0.4096159680933908, joint_metric=0.01656517670158895\n",
      "Default Value: 0.02\n",
      "Optimizing! Depending on your machine, this might take a few minutes.\n",
      "naive\n",
      "w_svc_lin=0.2, w_svc_radial=0.2, w_xgbc=0.2, w_rfc=0.2, w_ctbc=0.2, w_=1.0\n",
      "importance_auc_acc_loss=2.0, importance_stability=1.5, importance_consistency=1.5\n",
      "AUC_acc_loss=0.056880024737167564, stability=0.7067812153419838, consistency=0.5328851601905255, joint_metric=0.01399721444663549\n"
     ]
    },
    {
     "name": "stderr",
     "output_type": "stream",
     "text": [
      "INFO:smac.intensification.intensification.Intensifier:First run, no incumbent provided; challenger is assumed to be the incumbent\n",
      "INFO:smac.intensification.intensification.Intensifier:Updated estimated cost of incumbent on 1 runs: 0.0140\n"
     ]
    },
    {
     "name": "stdout",
     "output_type": "stream",
     "text": [
      "naive\n",
      "w_svc_lin=0.09090909090909091, w_svc_radial=0.2727272727272727, w_xgbc=0.2727272727272727, w_rfc=0.09090909090909091, w_ctbc=0.2727272727272727, w_=1.0\n",
      "importance_auc_acc_loss=2.0, importance_stability=1.5, importance_consistency=1.5\n",
      "AUC_acc_loss=0.053253780851183416, stability=0.7067812153419838, consistency=0.46014605337703784, joint_metric=0.015290787176243497\n"
     ]
    },
    {
     "name": "stderr",
     "output_type": "stream",
     "text": [
      "INFO:smac.intensification.intensification.Intensifier:Wallclock time limit for intensification reached (used: 0.068588 sec, available: 0.000010 sec)\n"
     ]
    },
    {
     "name": "stdout",
     "output_type": "stream",
     "text": [
      "naive\n",
      "w_svc_lin=0.3333333333333333, w_svc_radial=0.1111111111111111, w_xgbc=0.1111111111111111, w_rfc=0.3333333333333333, w_ctbc=0.1111111111111111, w_=1.0\n",
      "importance_auc_acc_loss=2.0, importance_stability=1.5, importance_consistency=1.5\n",
      "AUC_acc_loss=0.06131210059781485, stability=0.7067812153419838, consistency=0.6527278808485087, joint_metric=0.011996833959150369\n"
     ]
    },
    {
     "name": "stderr",
     "output_type": "stream",
     "text": [
      "INFO:smac.intensification.intensification.Intensifier:Challenger (0.0120) is better than incumbent (0.0140) on 1 runs.\n",
      "INFO:smac.intensification.intensification.Intensifier:Changes in incumbent:\n",
      "INFO:smac.intensification.intensification.Intensifier:  w0 : 0.5 -> 0.25\n",
      "INFO:smac.intensification.intensification.Intensifier:  w1 : 0.5 -> 0.75\n",
      "INFO:smac.intensification.intensification.Intensifier:  w2 : 0.5 -> 0.25\n",
      "INFO:smac.intensification.intensification.Intensifier:  w3 : 0.5 -> 0.75\n",
      "INFO:smac.intensification.intensification.Intensifier:  w4 : 0.5 -> 0.25\n",
      "INFO:smac.intensification.intensification.Intensifier:Wallclock time limit for intensification reached (used: 0.033596 sec, available: 0.000010 sec)\n"
     ]
    },
    {
     "name": "stdout",
     "output_type": "stream",
     "text": [
      "naive\n",
      "w_svc_lin=0.05263157894736842, w_svc_radial=0.3684210526315789, w_xgbc=0.15789473684210525, w_rfc=0.15789473684210525, w_ctbc=0.2631578947368421, w_=1.0\n",
      "importance_auc_acc_loss=2.0, importance_stability=1.5, importance_consistency=1.5\n",
      "AUC_acc_loss=0.05382693747355398, stability=0.7067812153419838, consistency=0.47059273922098976, joint_metric=0.015104418532802538\n"
     ]
    },
    {
     "name": "stderr",
     "output_type": "stream",
     "text": [
      "INFO:smac.intensification.intensification.Intensifier:Wallclock time limit for intensification reached (used: 0.034855 sec, available: 0.000010 sec)\n"
     ]
    },
    {
     "name": "stdout",
     "output_type": "stream",
     "text": [
      "naive\n",
      "w_svc_lin=0.21739130434782608, w_svc_radial=0.13043478260869565, w_xgbc=0.30434782608695654, w_rfc=0.30434782608695654, w_ctbc=0.043478260869565216, w_=1.0\n",
      "importance_auc_acc_loss=2.0, importance_stability=1.5, importance_consistency=1.5\n",
      "AUC_acc_loss=0.0614402678067274, stability=0.7067812153419838, consistency=0.5733404953649649, joint_metric=0.014633889671736252\n"
     ]
    },
    {
     "name": "stderr",
     "output_type": "stream",
     "text": [
      "INFO:smac.intensification.intensification.Intensifier:Wallclock time limit for intensification reached (used: 0.033797 sec, available: 0.000010 sec)\n"
     ]
    },
    {
     "name": "stdout",
     "output_type": "stream",
     "text": [
      "naive\n",
      "w_svc_lin=0.23076923076923078, w_svc_radial=0.07692307692307693, w_xgbc=0.38461538461538464, w_rfc=0.07692307692307693, w_ctbc=0.23076923076923078, w_=1.0\n",
      "importance_auc_acc_loss=2.0, importance_stability=1.5, importance_consistency=1.5\n",
      "AUC_acc_loss=0.05520550877693732, stability=0.7067812153419838, consistency=0.47958632129918666, joint_metric=0.015443194962990368\n"
     ]
    },
    {
     "name": "stderr",
     "output_type": "stream",
     "text": [
      "INFO:smac.intensification.intensification.Intensifier:Wallclock time limit for intensification reached (used: 0.034735 sec, available: 0.000010 sec)\n"
     ]
    },
    {
     "name": "stdout",
     "output_type": "stream",
     "text": [
      "naive\n",
      "w_svc_lin=0.28, w_svc_radial=0.2, w_xgbc=0.04, w_rfc=0.2, w_ctbc=0.28, w_=1.0\n",
      "importance_auc_acc_loss=2.0, importance_stability=1.5, importance_consistency=1.5\n",
      "AUC_acc_loss=0.05587569573283855, stability=0.7067812153419838, consistency=0.46691930109578994, joint_metric=0.01646856088453965\n"
     ]
    },
    {
     "name": "stderr",
     "output_type": "stream",
     "text": [
      "INFO:smac.intensification.intensification.Intensifier:Wallclock time limit for intensification reached (used: 0.035308 sec, available: 0.000010 sec)\n"
     ]
    },
    {
     "name": "stdout",
     "output_type": "stream",
     "text": [
      "naive\n",
      "w_svc_lin=0.33339152566999736, w_svc_radial=0.11124653389123583, w_xgbc=0.1113778577789846, w_rfc=0.33330190501148776, w_ctbc=0.1106821776482944, w_=0.9999999999999999\n",
      "importance_auc_acc_loss=2.0, importance_stability=1.5, importance_consistency=1.5\n",
      "AUC_acc_loss=0.06132649278409906, stability=0.7067812153419838, consistency=0.65342712392762, joint_metric=0.011983205909543505\n"
     ]
    },
    {
     "name": "stderr",
     "output_type": "stream",
     "text": [
      "INFO:smac.intensification.intensification.Intensifier:Challenger (0.0120) is better than incumbent (0.0120) on 1 runs.\n",
      "INFO:smac.intensification.intensification.Intensifier:Changes in incumbent:\n",
      "INFO:smac.intensification.intensification.Intensifier:  w0 : 0.25 -> 0.2508640093422085\n",
      "INFO:smac.intensification.intensification.Intensifier:  w1 : 0.75 -> 0.7507188042572894\n",
      "INFO:smac.intensification.intensification.Intensifier:  w2 : 0.25 -> 0.24929708113686475\n",
      "INFO:smac.intensification.intensification.Intensifier:  w3 : 0.75 -> 0.750920663030316\n",
      "INFO:smac.intensification.intensification.Intensifier:  w4 : 0.25 -> 0.25056821951773156\n",
      "INFO:smac.intensification.intensification.Intensifier:Wallclock time limit for intensification reached (used: 0.034874 sec, available: 0.000010 sec)\n"
     ]
    },
    {
     "name": "stdout",
     "output_type": "stream",
     "text": [
      "naive\n",
      "w_svc_lin=0.3306817248750505, w_svc_radial=0.11519522858518731, w_xgbc=0.11343119612616898, w_rfc=0.3307170154961762, w_ctbc=0.10997483491741702, w_=1.0\n",
      "importance_auc_acc_loss=2.0, importance_stability=1.5, importance_consistency=1.5\n",
      "AUC_acc_loss=0.06132652832821479, stability=0.7067812153419839, consistency=0.6547115299793412, joint_metric=0.011947974272455902\n"
     ]
    },
    {
     "name": "stderr",
     "output_type": "stream",
     "text": [
      "INFO:smac.intensification.intensification.Intensifier:Challenger (0.0119) is better than incumbent (0.0120) on 1 runs.\n",
      "INFO:smac.intensification.intensification.Intensifier:Changes in incumbent:\n",
      "INFO:smac.intensification.intensification.Intensifier:  w0 : 0.2508640093422085 -> 0.2573626794030704\n",
      "INFO:smac.intensification.intensification.Intensifier:  w1 : 0.7507188042572894 -> 0.7503598669418113\n",
      "INFO:smac.intensification.intensification.Intensifier:  w2 : 0.24929708113686475 -> 0.24952058294241236\n",
      "INFO:smac.intensification.intensification.Intensifier:  w3 : 0.750920663030316 -> 0.7502797964751241\n",
      "INFO:smac.intensification.intensification.Intensifier:  w4 : 0.25056821951773156 -> 0.2613650714760762\n",
      "INFO:smac.intensification.intensification.Intensifier:Wallclock time limit for intensification reached (used: 0.036847 sec, available: 0.000010 sec)\n"
     ]
    },
    {
     "name": "stdout",
     "output_type": "stream",
     "text": [
      "naive\n",
      "w_svc_lin=0.35329571576851737, w_svc_radial=0.11030584125267771, w_xgbc=0.10878316842792349, w_rfc=0.3208268897827871, w_ctbc=0.10678838476809425, w_=0.9999999999999999\n",
      "importance_auc_acc_loss=2.0, importance_stability=1.5, importance_consistency=1.5\n",
      "AUC_acc_loss=0.061727431651096745, stability=0.7067812153419838, consistency=0.6602315579231688, joint_metric=0.011953208593650655\n"
     ]
    },
    {
     "name": "stderr",
     "output_type": "stream",
     "text": [
      "INFO:smac.intensification.intensification.Intensifier:Wallclock time limit for intensification reached (used: 0.035866 sec, available: 0.000010 sec)\n"
     ]
    },
    {
     "name": "stdout",
     "output_type": "stream",
     "text": [
      "naive\n",
      "w_svc_lin=0.33131392599652737, w_svc_radial=0.10844269373701436, w_xgbc=0.13642908810575313, w_rfc=0.31915732188729456, w_ctbc=0.10465697027341064, w_=1.0\n",
      "importance_auc_acc_loss=2.0, importance_stability=1.5, importance_consistency=1.5\n",
      "AUC_acc_loss=0.06140804028114311, stability=0.7067812153419837, consistency=0.66031744453536, joint_metric=0.011827523566418936\n"
     ]
    },
    {
     "name": "stderr",
     "output_type": "stream",
     "text": [
      "INFO:smac.intensification.intensification.Intensifier:Challenger (0.0118) is better than incumbent (0.0119) on 1 runs.\n",
      "INFO:smac.intensification.intensification.Intensifier:Changes in incumbent:\n",
      "INFO:smac.intensification.intensification.Intensifier:  w0 : 0.2573626794030704 -> 0.32550131294939877\n",
      "INFO:smac.intensification.intensification.Intensifier:  w1 : 0.7503598669418113 -> 0.7614661122062243\n",
      "INFO:smac.intensification.intensification.Intensifier:  w2 : 0.24952058294241236 -> 0.2496973461179707\n",
      "INFO:smac.intensification.intensification.Intensifier:  w3 : 0.7502797964751241 -> 0.7904701219339303\n",
      "INFO:smac.intensification.intensification.Intensifier:  w4 : 0.2613650714760762 -> 0.25872956919426343\n",
      "INFO:smac.intensification.intensification.Intensifier:Wallclock time limit for intensification reached (used: 0.035415 sec, available: 0.000010 sec)\n"
     ]
    },
    {
     "name": "stdout",
     "output_type": "stream",
     "text": [
      "naive\n",
      "w_svc_lin=0.31019421825257915, w_svc_radial=0.1770395881744793, w_xgbc=0.11814783615779194, w_rfc=0.29845294130708433, w_ctbc=0.09616541610806535, w_=1.0\n",
      "importance_auc_acc_loss=2.0, importance_stability=1.5, importance_consistency=1.5\n",
      "AUC_acc_loss=0.06178980297515407, stability=0.7067812153419838, consistency=0.6825174782293164, joint_metric=0.011395554355262856\n"
     ]
    },
    {
     "name": "stderr",
     "output_type": "stream",
     "text": [
      "INFO:smac.intensification.intensification.Intensifier:Challenger (0.0114) is better than incumbent (0.0118) on 1 runs.\n",
      "INFO:smac.intensification.intensification.Intensifier:Changes in incumbent:\n",
      "INFO:smac.intensification.intensification.Intensifier:  w0 : 0.32550131294939877 -> 0.30170683868694465\n",
      "INFO:smac.intensification.intensification.Intensifier:  w1 : 0.7614661122062243 -> 0.762140859679571\n",
      "INFO:smac.intensification.intensification.Intensifier:  w2 : 0.2496973461179707 -> 0.24557168906783658\n",
      "INFO:smac.intensification.intensification.Intensifier:  w3 : 0.7904701219339303 -> 0.7921238341002118\n",
      "INFO:smac.intensification.intensification.Intensifier:  w4 : 0.25872956919426343 -> 0.4520950717982154\n",
      "INFO:smac.intensification.intensification.Intensifier:Wallclock time limit for intensification reached (used: 0.036027 sec, available: 0.000010 sec)\n"
     ]
    },
    {
     "name": "stdout",
     "output_type": "stream",
     "text": [
      "naive\n",
      "w_svc_lin=0.27460532050678454, w_svc_radial=0.2632039728283068, w_xgbc=0.11023968672756043, w_rfc=0.26936488330129826, w_ctbc=0.08258613663604994, w_=1.0\n",
      "importance_auc_acc_loss=2.0, importance_stability=1.5, importance_consistency=1.5\n",
      "AUC_acc_loss=0.06219648966361936, stability=0.7067812153419838, consistency=0.7123505246106991, joint_metric=0.010828383482887742\n"
     ]
    },
    {
     "name": "stderr",
     "output_type": "stream",
     "text": [
      "INFO:smac.intensification.intensification.Intensifier:Challenger (0.0108) is better than incumbent (0.0114) on 1 runs.\n",
      "INFO:smac.intensification.intensification.Intensifier:Changes in incumbent:\n",
      "INFO:smac.intensification.intensification.Intensifier:  w0 : 0.30170683868694465 -> 0.31099606334418095\n",
      "INFO:smac.intensification.intensification.Intensifier:  w1 : 0.762140859679571 -> 0.7599025432365024\n",
      "INFO:smac.intensification.intensification.Intensifier:  w2 : 0.24557168906783658 -> 0.23298291335034302\n",
      "INFO:smac.intensification.intensification.Intensifier:  w3 : 0.7921238341002118 -> 0.7746862875439068\n",
      "INFO:smac.intensification.intensification.Intensifier:  w4 : 0.4520950717982154 -> 0.7425220611198269\n",
      "INFO:smac.intensification.intensification.Intensifier:Wallclock time limit for intensification reached (used: 0.037458 sec, available: 0.000010 sec)\n"
     ]
    },
    {
     "name": "stdout",
     "output_type": "stream",
     "text": [
      "naive\n",
      "w_svc_lin=0.25701958313115214, w_svc_radial=0.3155426144141625, w_xgbc=0.11466562809603519, w_rfc=0.2375501278820563, w_ctbc=0.07522204647659386, w_=1.0\n",
      "importance_auc_acc_loss=2.0, importance_stability=1.5, importance_consistency=1.5\n",
      "AUC_acc_loss=0.06244711656745041, stability=0.7067812153419838, consistency=0.7240948166632396, joint_metric=0.010651336972647139\n"
     ]
    },
    {
     "name": "stderr",
     "output_type": "stream",
     "text": [
      "INFO:smac.intensification.intensification.Intensifier:Challenger (0.0107) is better than incumbent (0.0108) on 1 runs.\n",
      "INFO:smac.intensification.intensification.Intensifier:Changes in incumbent:\n",
      "INFO:smac.intensification.intensification.Intensifier:  w0 : 0.31099606334418095 -> 0.36337498388654227\n",
      "INFO:smac.intensification.intensification.Intensifier:  w1 : 0.7599025432365024 -> 0.7527955440935918\n",
      "INFO:smac.intensification.intensification.Intensifier:  w2 : 0.23298291335034302 -> 0.23837840842289995\n",
      "INFO:smac.intensification.intensification.Intensifier:  w3 : 0.7746862875439068 -> 0.8144941812954456\n",
      "INFO:smac.intensification.intensification.Intensifier:  w4 : 0.7425220611198269 -> 0.9999534675921629\n",
      "INFO:smac.intensification.intensification.Intensifier:Wallclock time limit for intensification reached (used: 0.036838 sec, available: 0.000010 sec)\n"
     ]
    },
    {
     "name": "stdout",
     "output_type": "stream",
     "text": [
      "naive\n",
      "w_svc_lin=0.24870917034583465, w_svc_radial=0.3034719083516144, w_xgbc=0.09015167206924316, w_rfc=0.291266951008531, w_ctbc=0.0664002982247768, w_=0.9999999999999999\n",
      "importance_auc_acc_loss=2.0, importance_stability=1.5, importance_consistency=1.5\n",
      "AUC_acc_loss=0.0626128610811417, stability=0.7067812153419838, consistency=0.7484256620110634, joint_metric=0.010190056583886189\n"
     ]
    },
    {
     "name": "stderr",
     "output_type": "stream",
     "text": [
      "INFO:smac.intensification.intensification.Intensifier:Challenger (0.0102) is better than incumbent (0.0107) on 1 runs.\n",
      "INFO:smac.intensification.intensification.Intensifier:Changes in incumbent:\n",
      "INFO:smac.intensification.intensification.Intensifier:  w0 : 0.36337498388654227 -> 0.2970537786661388\n",
      "INFO:smac.intensification.intensification.Intensifier:  w1 : 0.7527955440935918 -> 0.9597375890176946\n",
      "INFO:smac.intensification.intensification.Intensifier:  w2 : 0.23837840842289995 -> 0.21879194295008322\n",
      "INFO:smac.intensification.intensification.Intensifier:  w3 : 0.8144941812954456 -> 0.8195078043966314\n",
      "INFO:smac.intensification.intensification.Intensifier:Wallclock time limit for intensification reached (used: 0.036342 sec, available: 0.000010 sec)\n"
     ]
    },
    {
     "name": "stdout",
     "output_type": "stream",
     "text": [
      "naive\n",
      "w_svc_lin=0.26708263421710293, w_svc_radial=0.3328522643584875, w_xgbc=0.07747508345778972, w_rfc=0.2970594503167279, w_ctbc=0.025530567649892057, w_=1.0000000000000002\n",
      "importance_auc_acc_loss=2.0, importance_stability=1.5, importance_consistency=1.5\n",
      "AUC_acc_loss=0.06434786466624196, stability=0.7067812153419838, consistency=0.8156369671474795, joint_metric=0.009460093530785365\n"
     ]
    },
    {
     "name": "stderr",
     "output_type": "stream",
     "text": [
      "INFO:smac.intensification.intensification.Intensifier:Challenger (0.0095) is better than incumbent (0.0102) on 1 runs.\n",
      "INFO:smac.intensification.intensification.Intensifier:Changes in incumbent:\n",
      "INFO:smac.intensification.intensification.Intensifier:  w0 : 0.2970537786661388 -> 0.23274883851323658\n",
      "INFO:smac.intensification.intensification.Intensifier:  w1 : 0.9597375890176946 -> 0.8924190713297931\n",
      "INFO:smac.intensification.intensification.Intensifier:  w2 : 0.21879194295008322 -> 0.07669833579893394\n",
      "INFO:smac.intensification.intensification.Intensifier:  w3 : 0.8195078043966314 -> 0.8023634196529043\n",
      "INFO:smac.intensification.intensification.Intensifier:  w4 : 0.9999534675921629 -> 0.9999470083584586\n",
      "INFO:smac.intensification.intensification.Intensifier:Wallclock time limit for intensification reached (used: 0.036244 sec, available: 0.000010 sec)\n"
     ]
    },
    {
     "name": "stdout",
     "output_type": "stream",
     "text": [
      "naive\n",
      "w_svc_lin=0.32106134843623385, w_svc_radial=0.32091452002157544, w_xgbc=0.05886743282768725, w_rfc=0.29913205365475065, w_ctbc=2.4645059752729554e-05, w_=1.0\n",
      "importance_auc_acc_loss=2.0, importance_stability=1.5, importance_consistency=1.5\n",
      "AUC_acc_loss=0.06588993854024511, stability=0.7067812153419838, consistency=0.8307338355537526, joint_metric=0.009649789905243776\n"
     ]
    },
    {
     "name": "stderr",
     "output_type": "stream",
     "text": [
      "INFO:smac.intensification.intensification.Intensifier:Wallclock time limit for intensification reached (used: 0.035854 sec, available: 0.000010 sec)\n"
     ]
    },
    {
     "name": "stdout",
     "output_type": "stream",
     "text": [
      "naive\n",
      "w_svc_lin=0.16138772015107372, w_svc_radial=0.20629377747916605, w_xgbc=0.17831255756222736, w_rfc=0.358217997295805, w_ctbc=0.09578794751172766, w_=0.9999999999999999\n",
      "importance_auc_acc_loss=2.0, importance_stability=1.5, importance_consistency=1.5\n",
      "AUC_acc_loss=0.059734655982935106, stability=0.706781215341984, consistency=0.6575751658105341, joint_metric=0.011261782394935286\n"
     ]
    },
    {
     "name": "stderr",
     "output_type": "stream",
     "text": [
      "INFO:smac.intensification.intensification.Intensifier:Wallclock time limit for intensification reached (used: 0.034783 sec, available: 0.000010 sec)\n"
     ]
    },
    {
     "name": "stdout",
     "output_type": "stream",
     "text": [
      "naive\n",
      "w_svc_lin=0.23324161580818978, w_svc_radial=0.3089467055336763, w_xgbc=0.09372902235050212, w_rfc=0.36408221508702227, w_ctbc=4.4122060964297484e-07, w_=1.0\n",
      "importance_auc_acc_loss=2.0, importance_stability=1.5, importance_consistency=1.5\n",
      "AUC_acc_loss=0.06452017146118726, stability=0.7067812153419838, consistency=0.7743460542281264, joint_metric=0.010281604490066446\n"
     ]
    },
    {
     "name": "stderr",
     "output_type": "stream",
     "text": [
      "INFO:smac.intensification.intensification.Intensifier:Wallclock time limit for intensification reached (used: 0.036307 sec, available: 0.000010 sec)\n"
     ]
    },
    {
     "name": "stdout",
     "output_type": "stream",
     "text": [
      "naive\n",
      "w_svc_lin=0.287134765080703, w_svc_radial=0.36050830980618015, w_xgbc=0.01234825982861123, w_rfc=0.31830530263730544, w_ctbc=0.02170336264720011, w_=0.9999999999999998\n",
      "importance_auc_acc_loss=2.0, importance_stability=1.5, importance_consistency=1.5\n",
      "AUC_acc_loss=0.06506209584175418, stability=0.7067812153419838, consistency=0.8745471403407881, joint_metric=0.008710714195516757\n"
     ]
    },
    {
     "name": "stderr",
     "output_type": "stream",
     "text": [
      "INFO:smac.intensification.intensification.Intensifier:Challenger (0.0087) is better than incumbent (0.0095) on 1 runs.\n",
      "INFO:smac.intensification.intensification.Intensifier:Changes in incumbent:\n",
      "INFO:smac.intensification.intensification.Intensifier:  w0 : 0.23274883851323658 -> 0.034252124112062014\n",
      "INFO:smac.intensification.intensification.Intensifier:  w1 : 0.8924190713297931 -> 0.8829286784360312\n",
      "INFO:smac.intensification.intensification.Intensifier:  w2 : 0.07669833579893394 -> 0.060201703022035875\n",
      "INFO:smac.intensification.intensification.Intensifier:  w3 : 0.8023634196529043 -> 0.7964665262099622\n",
      "INFO:smac.intensification.intensification.Intensifier:  w4 : 0.9999470083584586 -> 0.9999931603560812\n",
      "INFO:smac.intensification.intensification.Intensifier:Wallclock time limit for intensification reached (used: 0.039058 sec, available: 0.000010 sec)\n"
     ]
    },
    {
     "name": "stdout",
     "output_type": "stream",
     "text": [
      "naive\n",
      "w_svc_lin=0.2557676521966514, w_svc_radial=0.41218103321863664, w_xgbc=3.12127473459804e-05, w_rfc=0.3319346767339663, w_ctbc=8.542510339974546e-05, w_=1.0\n",
      "importance_auc_acc_loss=2.0, importance_stability=1.5, importance_consistency=1.5\n",
      "AUC_acc_loss=0.06561367606345186, stability=0.7067812153419838, consistency=0.8913388265182203, joint_metric=0.008609878158746071\n"
     ]
    },
    {
     "name": "stderr",
     "output_type": "stream",
     "text": [
      "INFO:smac.intensification.intensification.Intensifier:Challenger (0.0086) is better than incumbent (0.0087) on 1 runs.\n",
      "INFO:smac.intensification.intensification.Intensifier:Changes in incumbent:\n",
      "INFO:smac.intensification.intensification.Intensifier:  w0 : 0.034252124112062014 -> 7.572463217932353e-05\n",
      "INFO:smac.intensification.intensification.Intensifier:  w1 : 0.8829286784360312 -> 0.8053001879207933\n",
      "INFO:smac.intensification.intensification.Intensifier:  w2 : 0.060201703022035875 -> 0.00020724816249343908\n",
      "INFO:smac.intensification.intensification.Intensifier:  w3 : 0.7964665262099622 -> 0.6205128683891644\n",
      "INFO:smac.intensification.intensification.Intensifier:  w4 : 0.9999931603560812 -> 0.9999842944230389\n",
      "INFO:smac.intensification.intensification.Intensifier:Wallclock time limit for intensification reached (used: 0.036102 sec, available: 0.000010 sec)\n"
     ]
    },
    {
     "name": "stdout",
     "output_type": "stream",
     "text": [
      "naive\n",
      "w_svc_lin=0.3294678893093759, w_svc_radial=0.39766748515922135, w_xgbc=6.095910873607412e-05, w_rfc=0.27267892380154474, w_ctbc=0.0001247426211218916, w_=1.0\n",
      "importance_auc_acc_loss=2.0, importance_stability=1.5, importance_consistency=1.5\n",
      "AUC_acc_loss=0.06655768916795476, stability=0.7067812153419839, consistency=0.8963420846411899, joint_metric=0.008785334284508343\n"
     ]
    },
    {
     "name": "stderr",
     "output_type": "stream",
     "text": [
      "INFO:smac.intensification.intensification.Intensifier:Wallclock time limit for intensification reached (used: 0.035930 sec, available: 0.000010 sec)\n"
     ]
    },
    {
     "name": "stdout",
     "output_type": "stream",
     "text": [
      "naive\n",
      "w_svc_lin=0.2944270185668044, w_svc_radial=0.38711529620646123, w_xgbc=2.7709117324415352e-05, w_rfc=0.3183085268021107, w_ctbc=0.00012144930729907641, w_=0.9999999999999999\n",
      "importance_auc_acc_loss=2.0, importance_stability=1.5, importance_consistency=1.5\n",
      "AUC_acc_loss=0.06601748646762737, stability=0.706781215341984, consistency=0.8964710733132496, joint_metric=0.008641438662373444\n"
     ]
    },
    {
     "name": "stderr",
     "output_type": "stream",
     "text": [
      "INFO:smac.intensification.intensification.Intensifier:Wallclock time limit for intensification reached (used: 0.037216 sec, available: 0.000010 sec)\n"
     ]
    },
    {
     "name": "stdout",
     "output_type": "stream",
     "text": [
      "naive\n",
      "w_svc_lin=0.00047804435827063094, w_svc_radial=0.4837565109831487, w_xgbc=7.069867827620539e-05, w_rfc=0.483753840584848, w_ctbc=0.0319409053954566, w_=1.0000000000000002\n",
      "importance_auc_acc_loss=2.0, importance_stability=1.5, importance_consistency=1.5\n",
      "AUC_acc_loss=0.06144136176439592, stability=0.7067812153419838, consistency=0.8153388210201864, joint_metric=0.008629526886307538\n"
     ]
    },
    {
     "name": "stderr",
     "output_type": "stream",
     "text": [
      "INFO:smac.intensification.intensification.Intensifier:Wallclock time limit for intensification reached (used: 0.037264 sec, available: 0.000010 sec)\n"
     ]
    },
    {
     "name": "stdout",
     "output_type": "stream",
     "text": [
      "naive\n",
      "w_svc_lin=0.1332548247761672, w_svc_radial=0.41292932369045277, w_xgbc=3.126941225667709e-05, w_rfc=0.41288611792141955, w_ctbc=0.040898464199703666, w_=1.0\n",
      "importance_auc_acc_loss=2.0, importance_stability=1.5, importance_consistency=1.5\n",
      "AUC_acc_loss=0.06262814060918445, stability=0.7067812153419839, consistency=0.7986287425915056, joint_metric=0.009248986248686855\n"
     ]
    },
    {
     "name": "stderr",
     "output_type": "stream",
     "text": [
      "INFO:smac.intensification.intensification.Intensifier:Wallclock time limit for intensification reached (used: 0.036144 sec, available: 0.000010 sec)\n"
     ]
    },
    {
     "name": "stdout",
     "output_type": "stream",
     "text": [
      "naive\n",
      "w_svc_lin=0.00042046335874617615, w_svc_radial=0.5435802802483927, w_xgbc=3.8903828790098674e-05, w_rfc=0.4559527605825839, w_ctbc=7.5919814872761156e-06, w_=1.0\n",
      "importance_auc_acc_loss=2.0, importance_stability=1.5, importance_consistency=1.5\n",
      "AUC_acc_loss=0.06276346826815342, stability=0.7067812153419838, consistency=0.860992640805082, joint_metric=0.008298263326868725\n"
     ]
    },
    {
     "name": "stderr",
     "output_type": "stream",
     "text": [
      "INFO:smac.intensification.intensification.Intensifier:Challenger (0.0083) is better than incumbent (0.0086) on 1 runs.\n",
      "INFO:smac.intensification.intensification.Intensifier:Changes in incumbent:\n",
      "INFO:smac.intensification.intensification.Intensifier:  w0 : 7.572463217932353e-05 -> 7.156005283089125e-05\n",
      "INFO:smac.intensification.intensification.Intensifier:  w1 : 0.8053001879207933 -> 0.8386836116239668\n",
      "INFO:smac.intensification.intensification.Intensifier:  w2 : 0.00020724816249343908 -> 1.3964759079417315e-05\n",
      "INFO:smac.intensification.intensification.Intensifier:  w3 : 0.6205128683891644 -> 0.0007734040864632859\n",
      "INFO:smac.intensification.intensification.Intensifier:  w4 : 0.9999842944230389 -> 0.9998664599898108\n",
      "INFO:smac.intensification.intensification.Intensifier:Wallclock time limit for intensification reached (used: 0.034544 sec, available: 0.000010 sec)\n"
     ]
    },
    {
     "name": "stdout",
     "output_type": "stream",
     "text": [
      "naive\n",
      "w_svc_lin=3.925179412587568e-05, w_svc_radial=0.6550544824594138, w_xgbc=4.9604538809558136e-05, w_rfc=0.34481355137882386, w_ctbc=4.310982882689859e-05, w_=1.0\n",
      "importance_auc_acc_loss=2.0, importance_stability=1.5, importance_consistency=1.5\n",
      "AUC_acc_loss=0.06333784490561722, stability=0.7067812153419838, consistency=0.8444912120491568, joint_metric=0.008699741833164536\n"
     ]
    },
    {
     "name": "stderr",
     "output_type": "stream",
     "text": [
      "INFO:smac.intensification.intensification.Intensifier:Wallclock time limit for intensification reached (used: 0.039982 sec, available: 0.000010 sec)\n"
     ]
    },
    {
     "name": "stdout",
     "output_type": "stream",
     "text": [
      "naive\n",
      "w_svc_lin=0.11603555836313752, w_svc_radial=0.20647485033170557, w_xgbc=0.10412836788431049, w_rfc=0.28604795155029344, w_ctbc=0.28731327187055294, w_=1.0\n",
      "importance_auc_acc_loss=2.0, importance_stability=1.5, importance_consistency=1.5\n",
      "AUC_acc_loss=0.05323794807550911, stability=0.7067812153419839, consistency=0.4572977047077576, joint_metric=0.015424695050397045\n"
     ]
    },
    {
     "name": "stderr",
     "output_type": "stream",
     "text": [
      "INFO:smac.intensification.intensification.Intensifier:Wallclock time limit for intensification reached (used: 0.033481 sec, available: 0.000010 sec)\n"
     ]
    },
    {
     "name": "stdout",
     "output_type": "stream",
     "text": [
      "naive\n",
      "w_svc_lin=0.00011994296437725913, w_svc_radial=0.4289635789117633, w_xgbc=5.6626343027668705e-05, w_rfc=0.5707698986599231, w_ctbc=8.995312090849686e-05, w_=0.9999999999999999\n",
      "importance_auc_acc_loss=2.0, importance_stability=1.5, importance_consistency=1.5\n",
      "AUC_acc_loss=0.06215946729312629, stability=0.7067812153419839, consistency=0.8552374752003629, joint_metric=0.008221612164182568\n"
     ]
    },
    {
     "name": "stderr",
     "output_type": "stream",
     "text": [
      "INFO:smac.intensification.intensification.Intensifier:Challenger (0.0082) is better than incumbent (0.0083) on 1 runs.\n",
      "INFO:smac.intensification.intensification.Intensifier:Changes in incumbent:\n",
      "INFO:smac.intensification.intensification.Intensifier:  w0 : 7.156005283089125e-05 -> 8.597292561806594e-05\n",
      "INFO:smac.intensification.intensification.Intensifier:  w1 : 0.8386836116239668 -> 0.8665712002370293\n",
      "INFO:smac.intensification.intensification.Intensifier:  w2 : 1.3964759079417315e-05 -> 0.00013657129455102446\n",
      "INFO:smac.intensification.intensification.Intensifier:  w3 : 0.0007734040864632859 -> 0.00018210336397280445\n",
      "INFO:smac.intensification.intensification.Intensifier:  w4 : 0.9998664599898108 -> 0.6512738045722021\n",
      "INFO:smac.intensification.intensification.Intensifier:Wallclock time limit for intensification reached (used: 0.040380 sec, available: 0.000010 sec)\n"
     ]
    },
    {
     "name": "stdout",
     "output_type": "stream",
     "text": [
      "naive\n",
      "w_svc_lin=3.897314820670022e-05, w_svc_radial=0.5000005076136045, w_xgbc=4.745530769933925e-05, w_rfc=0.499861510011241, w_ctbc=5.155391924856822e-05, w_=1.0\n",
      "importance_auc_acc_loss=2.0, importance_stability=1.5, importance_consistency=1.5\n",
      "AUC_acc_loss=0.06252970688277128, stability=0.7067812153419838, consistency=0.862183349895643, joint_metric=0.00821950834201878\n"
     ]
    },
    {
     "name": "stderr",
     "output_type": "stream",
     "text": [
      "INFO:smac.intensification.intensification.Intensifier:Challenger (0.0082) is better than incumbent (0.0082) on 1 runs.\n",
      "INFO:smac.intensification.intensification.Intensifier:Changes in incumbent:\n",
      "INFO:smac.intensification.intensification.Intensifier:  w0 : 8.597292561806594e-05 -> 7.572463217932353e-05\n",
      "INFO:smac.intensification.intensification.Intensifier:  w1 : 0.8665712002370293 -> 0.7976310937865756\n",
      "INFO:smac.intensification.intensification.Intensifier:  w2 : 0.00013657129455102446 -> 8.226480370192042e-05\n",
      "INFO:smac.intensification.intensification.Intensifier:  w3 : 0.00018210336397280445 -> 6.218961494298199e-05\n",
      "INFO:smac.intensification.intensification.Intensifier:  w4 : 0.6512738045722021 -> 0.7978528928396861\n",
      "INFO:smac.intensification.intensification.Intensifier:Wallclock time limit for intensification reached (used: 0.035566 sec, available: 0.000010 sec)\n",
      "INFO:smac.stats.stats.Stats:##########################################################\n",
      "INFO:smac.stats.stats.Stats:Statistics:\n",
      "INFO:smac.stats.stats.Stats:#Incumbent changed: 14\n",
      "INFO:smac.stats.stats.Stats:#Submitted target algorithm runs: 30 / 30.0\n",
      "INFO:smac.stats.stats.Stats:#Finished target algorithm runs: 30 / 30.0\n",
      "INFO:smac.stats.stats.Stats:#Configurations: 30\n",
      "INFO:smac.stats.stats.Stats:Used wallclock time: 114.24 / inf sec \n",
      "INFO:smac.stats.stats.Stats:Used target algorithm runtime: 0.69 / inf sec\n",
      "INFO:smac.stats.stats.Stats:##########################################################\n",
      "INFO:smac.facade.smac_bo_facade.SMAC4BO:Final Incumbent: Configuration:\n",
      "  importance_auc_acc_loss, Constant: 2.0\n",
      "  importance_consistency, Constant: 1.5\n",
      "  importance_stability, Constant: 1.5\n",
      "  w0, Value: 7.572463217932353e-05\n",
      "  w1, Value: 0.7976310937865756\n",
      "  w2, Value: 8.226480370192042e-05\n",
      "  w3, Value: 6.218961494298199e-05\n",
      "  w4, Value: 0.7978528928396861\n",
      "\n",
      "INFO:smac.facade.smac_bo_facade.SMAC4BO:Estimated cost of incumbent: 0.008220\n"
     ]
    },
    {
     "name": "stdout",
     "output_type": "stream",
     "text": [
      "AUC_acc_loss=0.06252970688277128, stability=0.4429274739920754, consistency=0.8621833498958842, joint_metric=0.016568164914905946\n",
      "{'auc_acc_loss': 0.06252970688277128, 'stability': 0.4429274739920754, 'consistency': 0.8621833498958842, 'joint_metric': 0.016568164914905946, 'w_svc_lin': 6.218961494298199e-05, 'w_svc_radial': 0.7978528928396861, 'w_xgbc': 7.572463217932353e-05, 'w_rfc': 0.7976310937865756, 'w_ctbc': 8.226480370192042e-05, 'w_': 1.5957041656770858}\n"
     ]
    },
    {
     "data": {
      "application/vnd.jupyter.widget-view+json": {
       "model_id": "4e57bf3a674741118d738cf964fe126d",
       "version_major": 2,
       "version_minor": 0
      },
      "text/plain": [
       "  0%|          | 0/66 [00:00<?, ?it/s]"
      ]
     },
     "metadata": {},
     "output_type": "display_data"
    },
    {
     "name": "stderr",
     "output_type": "stream",
     "text": [
      "INFO:shap:num_full_subsets = 1\n",
      "INFO:shap:phi = [-0.03009095 -0.45236354]\n",
      "INFO:shap:phi = [0.03009095 0.45236354]\n",
      "INFO:shap:num_full_subsets = 1\n",
      "INFO:shap:phi = [0.05193794 0.0872802 ]\n",
      "INFO:shap:phi = [-0.05193794 -0.0872802 ]\n",
      "INFO:shap:num_full_subsets = 1\n",
      "INFO:shap:phi = [ 0.09128953 -0.07170363]\n",
      "INFO:shap:phi = [-0.09128953  0.07170363]\n",
      "INFO:shap:num_full_subsets = 1\n",
      "INFO:shap:phi = [-0.24083354 -0.18204304]\n",
      "INFO:shap:phi = [0.24083354 0.18204304]\n",
      "INFO:shap:num_full_subsets = 1\n",
      "INFO:shap:phi = [0.06155349 0.09200574]\n",
      "INFO:shap:phi = [-0.06155349 -0.09200574]\n",
      "INFO:shap:num_full_subsets = 1\n",
      "INFO:shap:phi = [-0.03387385  0.13759749]\n",
      "INFO:shap:phi = [ 0.03387385 -0.13759749]\n",
      "INFO:shap:num_full_subsets = 1\n",
      "INFO:shap:phi = [0.01893857 0.17918777]\n",
      "INFO:shap:phi = [-0.01893857 -0.17918777]\n",
      "INFO:shap:num_full_subsets = 1\n",
      "INFO:shap:phi = [-0.01478453 -0.44144134]\n",
      "INFO:shap:phi = [0.01478453 0.44144133]\n",
      "INFO:shap:num_full_subsets = 1\n",
      "INFO:shap:phi = [-0.00591299 -0.44084469]\n",
      "INFO:shap:phi = [0.00591299 0.44084469]\n",
      "INFO:shap:num_full_subsets = 1\n",
      "INFO:shap:phi = [-0.19836251 -0.28817685]\n",
      "INFO:shap:phi = [0.19836251 0.28817685]\n",
      "INFO:shap:num_full_subsets = 1\n",
      "INFO:shap:phi = [0.07019171 0.1748807 ]\n",
      "INFO:shap:phi = [-0.07019171 -0.1748807 ]\n",
      "INFO:shap:num_full_subsets = 1\n",
      "INFO:shap:phi = [ 0.04081643 -0.21026917]\n",
      "INFO:shap:phi = [-0.04081643  0.21026917]\n",
      "INFO:shap:num_full_subsets = 1\n",
      "INFO:shap:phi = [0.06385091 0.15732562]\n",
      "INFO:shap:phi = [-0.06385091 -0.15732562]\n",
      "INFO:shap:num_full_subsets = 1\n",
      "INFO:shap:phi = [0.05527355 0.20030871]\n",
      "INFO:shap:phi = [-0.05527355 -0.20030871]\n",
      "INFO:shap:num_full_subsets = 1\n",
      "INFO:shap:phi = [0.04825685 0.3536199 ]\n",
      "INFO:shap:phi = [-0.04825685 -0.3536199 ]\n",
      "INFO:shap:num_full_subsets = 1\n",
      "INFO:shap:phi = [-0.44363091 -0.0471409 ]\n",
      "INFO:shap:phi = [0.44363091 0.0471409 ]\n",
      "INFO:shap:num_full_subsets = 1\n",
      "INFO:shap:phi = [0.03528117 0.33954325]\n",
      "INFO:shap:phi = [-0.03528117 -0.33954325]\n",
      "INFO:shap:num_full_subsets = 1\n",
      "INFO:shap:phi = [0.08624159 0.30942032]\n",
      "INFO:shap:phi = [-0.08624159 -0.30942032]\n",
      "INFO:shap:num_full_subsets = 1\n",
      "INFO:shap:phi = [0.2674238  0.15781226]\n",
      "INFO:shap:phi = [-0.2674238  -0.15781226]\n",
      "INFO:shap:num_full_subsets = 1\n",
      "INFO:shap:phi = [0.21189794 0.1590013 ]\n",
      "INFO:shap:phi = [-0.21189794 -0.1590013 ]\n",
      "INFO:shap:num_full_subsets = 1\n",
      "INFO:shap:phi = [0.07118494 0.16446147]\n",
      "INFO:shap:phi = [-0.07118494 -0.16446147]\n",
      "INFO:shap:num_full_subsets = 1\n",
      "INFO:shap:phi = [0.16675762 0.16825135]\n",
      "INFO:shap:phi = [-0.16675762 -0.16825135]\n",
      "INFO:shap:num_full_subsets = 1\n",
      "INFO:shap:phi = [0.04639628 0.18494534]\n",
      "INFO:shap:phi = [-0.04639628 -0.18494534]\n",
      "INFO:shap:num_full_subsets = 1\n",
      "INFO:shap:phi = [0.08404352 0.10189548]\n",
      "INFO:shap:phi = [-0.08404352 -0.10189548]\n",
      "INFO:shap:num_full_subsets = 1\n",
      "INFO:shap:phi = [0.21858707 0.16596034]\n",
      "INFO:shap:phi = [-0.21858707 -0.16596034]\n",
      "INFO:shap:num_full_subsets = 1\n",
      "INFO:shap:phi = [ 0.50083894 -0.3042655 ]\n",
      "INFO:shap:phi = [-0.50083894  0.3042655 ]\n",
      "INFO:shap:num_full_subsets = 1\n",
      "INFO:shap:phi = [0.02966727 0.06559524]\n",
      "INFO:shap:phi = [-0.02966727 -0.06559524]\n",
      "INFO:shap:num_full_subsets = 1\n",
      "INFO:shap:phi = [0.05607355 0.06407099]\n",
      "INFO:shap:phi = [-0.05607355 -0.06407099]\n",
      "INFO:shap:num_full_subsets = 1\n",
      "INFO:shap:phi = [0.0559376 0.2921561]\n",
      "INFO:shap:phi = [-0.0559376 -0.2921561]\n",
      "INFO:shap:num_full_subsets = 1\n",
      "INFO:shap:phi = [0.09090691 0.06641042]\n",
      "INFO:shap:phi = [-0.09090691 -0.06641042]\n",
      "INFO:shap:num_full_subsets = 1\n",
      "INFO:shap:phi = [ 0.06326534 -0.03991657]\n",
      "INFO:shap:phi = [-0.06326534  0.03991657]\n",
      "INFO:shap:num_full_subsets = 1\n",
      "INFO:shap:phi = [0.00640811 0.23458085]\n",
      "INFO:shap:phi = [-0.00640811 -0.23458085]\n",
      "INFO:shap:num_full_subsets = 1\n",
      "INFO:shap:phi = [0.04557968 0.17029198]\n",
      "INFO:shap:phi = [-0.04557968 -0.17029198]\n",
      "INFO:shap:num_full_subsets = 1\n",
      "INFO:shap:phi = [ 0.06789673 -0.19391263]\n",
      "INFO:shap:phi = [-0.06789673  0.19391263]\n",
      "INFO:shap:num_full_subsets = 1\n",
      "INFO:shap:phi = [ 0.05163774 -0.20281996]\n",
      "INFO:shap:phi = [-0.05163774  0.20281996]\n",
      "INFO:shap:num_full_subsets = 1\n",
      "INFO:shap:phi = [-0.04117295 -0.35284314]\n",
      "INFO:shap:phi = [0.04117295 0.35284314]\n",
      "INFO:shap:num_full_subsets = 1\n",
      "INFO:shap:phi = [-0.0547419  -0.40633711]\n",
      "INFO:shap:phi = [0.0547419  0.40633711]\n",
      "INFO:shap:num_full_subsets = 1\n",
      "INFO:shap:phi = [0.03402738 0.22775679]\n",
      "INFO:shap:phi = [-0.03402738 -0.22775679]\n",
      "INFO:shap:num_full_subsets = 1\n",
      "INFO:shap:phi = [-0.20001819 -0.28915345]\n",
      "INFO:shap:phi = [0.20001819 0.28915345]\n",
      "INFO:shap:num_full_subsets = 1\n",
      "INFO:shap:phi = [-0.17558783 -0.10718589]\n",
      "INFO:shap:phi = [0.17558783 0.10718589]\n",
      "INFO:shap:num_full_subsets = 1\n",
      "INFO:shap:phi = [ 0.00113402 -0.37295238]\n",
      "INFO:shap:phi = [-0.00113402  0.37295238]\n",
      "INFO:shap:num_full_subsets = 1\n",
      "INFO:shap:phi = [0.13955248 0.26739681]\n",
      "INFO:shap:phi = [-0.13955248 -0.26739681]\n",
      "INFO:shap:num_full_subsets = 1\n",
      "INFO:shap:phi = [ 0.1084002  -0.17913344]\n",
      "INFO:shap:phi = [-0.1084002   0.17913344]\n",
      "INFO:shap:num_full_subsets = 1\n",
      "INFO:shap:phi = [-0.24648678 -0.23395409]\n",
      "INFO:shap:phi = [0.24648678 0.23395409]\n",
      "INFO:shap:num_full_subsets = 1\n",
      "INFO:shap:phi = [-0.05545562 -0.10100278]\n",
      "INFO:shap:phi = [0.05545562 0.10100278]\n",
      "INFO:shap:num_full_subsets = 1\n",
      "INFO:shap:phi = [0.06819605 0.19542071]\n",
      "INFO:shap:phi = [-0.06819605 -0.19542071]\n",
      "INFO:shap:num_full_subsets = 1\n",
      "INFO:shap:phi = [-1.18338558e-04  1.87386284e-01]\n",
      "INFO:shap:phi = [ 1.18338559e-04 -1.87386284e-01]\n",
      "INFO:shap:num_full_subsets = 1\n",
      "INFO:shap:phi = [0.01000192 0.23418274]\n",
      "INFO:shap:phi = [-0.01000192 -0.23418274]\n",
      "INFO:shap:num_full_subsets = 1\n",
      "INFO:shap:phi = [-0.02805525 -0.46679566]\n",
      "INFO:shap:phi = [0.02805525 0.46679566]\n",
      "INFO:shap:num_full_subsets = 1\n",
      "INFO:shap:phi = [-0.54751027  0.10107436]\n",
      "INFO:shap:phi = [ 0.54751027 -0.10107436]\n",
      "INFO:shap:num_full_subsets = 1\n",
      "INFO:shap:phi = [0.04435974 0.19735766]\n",
      "INFO:shap:phi = [-0.04435974 -0.19735766]\n",
      "INFO:shap:num_full_subsets = 1\n",
      "INFO:shap:phi = [-0.00224312  0.27866604]\n",
      "INFO:shap:phi = [ 0.00224312 -0.27866604]\n",
      "INFO:shap:num_full_subsets = 1\n",
      "INFO:shap:phi = [0.11849457 0.27001689]\n",
      "INFO:shap:phi = [-0.11849457 -0.27001689]\n",
      "INFO:shap:num_full_subsets = 1\n",
      "INFO:shap:phi = [-0.4645686  -0.01616493]\n",
      "INFO:shap:phi = [0.4645686  0.01616493]\n",
      "INFO:shap:num_full_subsets = 1\n",
      "INFO:shap:phi = [0.07834736 0.34088526]\n",
      "INFO:shap:phi = [-0.07834736 -0.34088526]\n",
      "INFO:shap:num_full_subsets = 1\n",
      "INFO:shap:phi = [ 0.39173044 -0.07233265]\n",
      "INFO:shap:phi = [-0.39173044  0.07233265]\n",
      "INFO:shap:num_full_subsets = 1\n",
      "INFO:shap:phi = [-0.37828145 -0.08254973]\n",
      "INFO:shap:phi = [0.37828145 0.08254973]\n",
      "INFO:shap:num_full_subsets = 1\n",
      "INFO:shap:phi = [-0.01039419 -0.37074257]\n",
      "INFO:shap:phi = [0.01039419 0.37074257]\n",
      "INFO:shap:num_full_subsets = 1\n",
      "INFO:shap:phi = [ 0.04411688 -0.08255448]\n",
      "INFO:shap:phi = [-0.04411688  0.08255448]\n",
      "INFO:shap:num_full_subsets = 1\n",
      "INFO:shap:phi = [0.05324311 0.26343941]\n",
      "INFO:shap:phi = [-0.05324311 -0.26343941]\n",
      "INFO:shap:num_full_subsets = 1\n",
      "INFO:shap:phi = [0.01387297 0.14777285]\n",
      "INFO:shap:phi = [-0.01387297 -0.14777285]\n",
      "INFO:shap:num_full_subsets = 1\n",
      "INFO:shap:phi = [-0.37990356 -0.09125014]\n",
      "INFO:shap:phi = [0.37990356 0.09125014]\n",
      "INFO:shap:num_full_subsets = 1\n",
      "INFO:shap:phi = [-0.07137465 -0.14674246]\n",
      "INFO:shap:phi = [0.07137465 0.14674246]\n",
      "INFO:shap:num_full_subsets = 1\n",
      "INFO:shap:phi = [0.13669493 0.17278246]\n",
      "INFO:shap:phi = [-0.13669493 -0.17278246]\n",
      "INFO:shap:num_full_subsets = 1\n",
      "INFO:shap:phi = [-0.00729539 -0.46958209]\n",
      "INFO:shap:phi = [0.00729539 0.46958209]\n",
      "INFO:shap:num_full_subsets = 1\n",
      "INFO:shap:phi = [-0.26960946 -0.19456633]\n",
      "INFO:shap:phi = [0.26960946 0.19456633]\n"
     ]
    },
    {
     "name": "stdout",
     "output_type": "stream",
     "text": [
      "debug-2\n",
      "debug-3\n",
      "AUC_acc_loss=0.04995361781076066, stability=0.8580768813243798, consistency=0.8621833498958842, joint_metric=0.003921436115336422\n"
     ]
    },
    {
     "data": {
      "text/plain": [
       "{'auc_acc_loss': 0.04995361781076066,\n",
       " 'stability': 0.8580768813243798,\n",
       " 'consistency': 0.8621833498958842,\n",
       " 'joint_metric': 0.003921436115336422,\n",
       " 'w_svc_lin': 6.218961494298199e-05,\n",
       " 'w_svc_radial': 0.7978528928396861,\n",
       " 'w_xgbc': 7.572463217932353e-05,\n",
       " 'w_rfc': 0.7976310937865756,\n",
       " 'w_ctbc': 8.226480370192042e-05,\n",
       " 'w_': 1.5957041656770858}"
      ]
     },
     "execution_count": 341,
     "metadata": {},
     "output_type": "execute_result"
    }
   ],
   "source": [
    "e8 = run_experiment(importance_auc_acc_loss = 2.0, importance_stability = 1.5, importance_consistency = 1.5)\n",
    "to_pickle(e8, 'e8')\n",
    "print(naive_joint_metrics(e8['w0'], e8['w1'], e8['w2'], e8['w3'], e8['w4'], e8['importance_auc_acc_loss'], e8['importance_consistency'], e8['importance_stability']))\n",
    "r8 = exact_joint_metrics(e8['w0'], e8['w1'], e8['w2'], e8['w3'], e8['w4'], e8['importance_auc_acc_loss'], e8['importance_consistency'], e8['importance_stability'])\n",
    "to_pickle(r8, 'r8')\n",
    "r8"
   ]
  },
  {
   "cell_type": "code",
   "execution_count": 353,
   "id": "humanitarian-school",
   "metadata": {},
   "outputs": [
    {
     "name": "stdout",
     "output_type": "stream",
     "text": [
      "\n",
      "\n",
      "{'importance_auc_acc_loss': 1.0, 'importance_consistency': 1.0, 'importance_stability': 1.0, 'w0': 4.4162394773005615e-05, 'w1': 0.999991028037725, 'w2': 4.834288652796507e-05, 'w3': 0.08613492155880342, 'w4': 0.9999484634427774}\n",
      "{'auc_acc_loss': 0.04729437229437229, 'stability': 0.8602265736363256, 'consistency': 0.867083508763887, 'joint_metric': 0.06340677797035194, 'w_svc_lin': 0.08613492155880342, 'w_svc_radial': 0.9999484634427774, 'w_xgbc': 4.4162394773005615e-05, 'w_rfc': 0.999991028037725, 'w_ctbc': 4.834288652796507e-05, 'w_': 2.0861669183206066}\n",
      "              precision    recall  f1-score   support\n",
      "\n",
      "           0       0.72      0.82      0.77        34\n",
      "           1       0.78      0.66      0.71        32\n",
      "\n",
      "    accuracy                           0.74        66\n",
      "   macro avg       0.75      0.74      0.74        66\n",
      "weighted avg       0.75      0.74      0.74        66\n",
      "\n",
      "\n",
      "\n",
      "{'importance_auc_acc_loss': 3.0, 'importance_consistency': 1.0, 'importance_stability': 1.0, 'w0': 2.7527651841731697e-05, 'w1': 9.57825454251725e-06, 'w2': 0.9995806745097552, 'w3': 2.515710068428335e-05, 'w4': 1.669680117650954e-05}\n",
      "{'auc_acc_loss': 0.031106988249845372, 'stability': 0.7538509017481968, 'consistency': 0.2256293436058978, 'joint_metric': 0.0001769672315163885, 'w_svc_lin': 2.515710068428335e-05, 'w_svc_radial': 1.669680117650954e-05, 'w_xgbc': 2.7527651841731697e-05, 'w_rfc': 9.57825454251725e-06, 'w_ctbc': 0.9995806745097552, 'w_': 0.9996596343180002}\n",
      "              precision    recall  f1-score   support\n",
      "\n",
      "           0       0.67      0.65      0.66        34\n",
      "           1       0.64      0.66      0.65        32\n",
      "\n",
      "    accuracy                           0.65        66\n",
      "   macro avg       0.65      0.65      0.65        66\n",
      "weighted avg       0.65      0.65      0.65        66\n",
      "\n",
      "\n",
      "\n",
      "{'importance_auc_acc_loss': 1.0, 'importance_consistency': 1.0, 'importance_stability': 3.0, 'w0': 4.4162394773005615e-05, 'w1': 0.999991028037725, 'w2': 4.834288652796507e-05, 'w3': 0.08613492155880342, 'w4': 0.9999484634427774}\n",
      "{'auc_acc_loss': 0.04927334570191713, 'stability': 0.8602265736363256, 'consistency': 0.867083508763887, 'joint_metric': 0.08786510224310433, 'w_svc_lin': 0.08613492155880342, 'w_svc_radial': 0.9999484634427774, 'w_xgbc': 4.4162394773005615e-05, 'w_rfc': 0.999991028037725, 'w_ctbc': 4.834288652796507e-05, 'w_': 2.0861669183206066}\n",
      "              precision    recall  f1-score   support\n",
      "\n",
      "           0       0.72      0.82      0.77        34\n",
      "           1       0.78      0.66      0.71        32\n",
      "\n",
      "    accuracy                           0.74        66\n",
      "   macro avg       0.75      0.74      0.74        66\n",
      "weighted avg       0.75      0.74      0.74        66\n",
      "\n",
      "\n",
      "\n",
      "{'importance_auc_acc_loss': 1.0, 'importance_consistency': 3.0, 'importance_stability': 1.0, 'w0': 0.0003438672151637378, 'w1': 0.974055322329098, 'w2': 0.0001609019245381539, 'w3': 0.9997024059485201, 'w4': 0.9998659954878334}\n",
      "{'auc_acc_loss': 0.05238095238095234, 'stability': 0.8747820243726622, 'consistency': 0.9021405136064315, 'joint_metric': 0.08673605252126754, 'w_svc_lin': 0.9997024059485201, 'w_svc_radial': 0.9998659954878334, 'w_xgbc': 0.0003438672151637378, 'w_rfc': 0.974055322329098, 'w_ctbc': 0.0001609019245381539, 'w_': 2.9741284929051535}\n",
      "              precision    recall  f1-score   support\n",
      "\n",
      "           0       0.74      0.82      0.78        34\n",
      "           1       0.79      0.69      0.73        32\n",
      "\n",
      "    accuracy                           0.76        66\n",
      "   macro avg       0.76      0.76      0.76        66\n",
      "weighted avg       0.76      0.76      0.76        66\n",
      "\n",
      "\n",
      "\n",
      "{'importance_auc_acc_loss': 2.0, 'importance_consistency': 1.0, 'importance_stability': 2.0, 'w0': 6.838963453744507e-06, 'w1': 0.9996970288557862, 'w2': 0.0003642418780727166, 'w3': 0.00011577962093661413, 'w4': 0.999915303322122}\n",
      "{'auc_acc_loss': 0.05106679035250463, 'stability': 0.8580708712393368, 'consistency': 0.8620002911308302, 'joint_metric': 0.004090149107265952, 'w_svc_lin': 0.00011577962093661413, 'w_svc_radial': 0.999915303322122, 'w_xgbc': 6.838963453744507e-06, 'w_rfc': 0.9996970288557862, 'w_ctbc': 0.0003642418780727166, 'w_': 2.0000991926403713}\n",
      "              precision    recall  f1-score   support\n",
      "\n",
      "           0       0.72      0.82      0.77        34\n",
      "           1       0.78      0.66      0.71        32\n",
      "\n",
      "    accuracy                           0.74        66\n",
      "   macro avg       0.75      0.74      0.74        66\n",
      "weighted avg       0.75      0.74      0.74        66\n",
      "\n",
      "\n",
      "\n",
      "{'importance_auc_acc_loss': 2.0, 'importance_consistency': 2.0, 'importance_stability': 1.0, 'w0': 1.607286425834515e-05, 'w1': 0.7733593848063438, 'w2': 2.0258961422030592e-05, 'w3': 8.775921897509107e-06, 'w4': 0.7469766636131285}\n",
      "{'auc_acc_loss': 0.05086580086580085, 'stability': 0.8576937314511935, 'consistency': 0.8616877685550909, 'joint_metric': 0.004081665147915853, 'w_svc_lin': 8.775921897509107e-06, 'w_svc_radial': 0.7469766636131285, 'w_xgbc': 1.607286425834515e-05, 'w_rfc': 0.7733593848063438, 'w_ctbc': 2.0258961422030592e-05, 'w_': 1.5203811561670502}\n",
      "              precision    recall  f1-score   support\n",
      "\n",
      "           0       0.72      0.82      0.77        34\n",
      "           1       0.78      0.66      0.71        32\n",
      "\n",
      "    accuracy                           0.74        66\n",
      "   macro avg       0.75      0.74      0.74        66\n",
      "weighted avg       0.75      0.74      0.74        66\n",
      "\n",
      "\n",
      "\n",
      "{'importance_auc_acc_loss': 1.0, 'importance_consistency': 2.0, 'importance_stability': 2.0, 'w0': 3.411285461819078e-05, 'w1': 0.9725782054560825, 'w2': 5.601468019745772e-05, 'w3': 0.9996623496470229, 'w4': 0.9705466774723595}\n",
      "{'auc_acc_loss': 0.054545454545454536, 'stability': 0.8747851462001395, 'consistency': 0.9021113811268965, 'joint_metric': 0.08758615089611406, 'w_svc_lin': 0.9996623496470229, 'w_svc_radial': 0.9705466774723595, 'w_xgbc': 3.411285461819078e-05, 'w_rfc': 0.9725782054560825, 'w_ctbc': 5.601468019745772e-05, 'w_': 2.9428773601102804}\n",
      "              precision    recall  f1-score   support\n",
      "\n",
      "           0       0.74      0.82      0.78        34\n",
      "           1       0.79      0.69      0.73        32\n",
      "\n",
      "    accuracy                           0.76        66\n",
      "   macro avg       0.76      0.76      0.76        66\n",
      "weighted avg       0.76      0.76      0.76        66\n",
      "\n",
      "\n",
      "\n",
      "{'importance_auc_acc_loss': 2.0, 'importance_consistency': 1.5, 'importance_stability': 1.5, 'w0': 7.572463217932353e-05, 'w1': 0.7976310937865756, 'w2': 8.226480370192042e-05, 'w3': 6.218961494298199e-05, 'w4': 0.7978528928396861}\n",
      "{'auc_acc_loss': 0.04995361781076066, 'stability': 0.8580768813243798, 'consistency': 0.8621833498958842, 'joint_metric': 0.003921436115336422, 'w_svc_lin': 6.218961494298199e-05, 'w_svc_radial': 0.7978528928396861, 'w_xgbc': 7.572463217932353e-05, 'w_rfc': 0.7976310937865756, 'w_ctbc': 8.226480370192042e-05, 'w_': 1.5957041656770858}\n",
      "              precision    recall  f1-score   support\n",
      "\n",
      "           0       0.72      0.82      0.77        34\n",
      "           1       0.78      0.66      0.71        32\n",
      "\n",
      "    accuracy                           0.74        66\n",
      "   macro avg       0.75      0.74      0.74        66\n",
      "weighted avg       0.75      0.74      0.74        66\n",
      "\n"
     ]
    }
   ],
   "source": [
    "print('\\n'); print(e1); print(r1); print(classification_report(y_test, weighted_model(w1=e1['w0'], m1=xgbc, w2=e1['w1'], m2=rfc, w3=e1['w2'], m3=ctbc, w4=e1['w3'], m4=svc_lin, w5=e1['w4'], m5=svc_radial).predict(X_test)))\n",
    "print('\\n'); print(e2); print(r2); print(classification_report(y_test, weighted_model(w1=e2['w0'], m1=xgbc, w2=e2['w1'], m2=rfc, w3=e2['w2'], m3=ctbc, w4=e2['w3'], m4=svc_lin, w5=e2['w4'], m5=svc_radial).predict(X_test)))\n",
    "print('\\n'); print(e3); print(r3); print(classification_report(y_test, weighted_model(w1=e3['w0'], m1=xgbc, w2=e3['w1'], m2=rfc, w3=e3['w2'], m3=ctbc, w4=e3['w3'], m4=svc_lin, w5=e3['w4'], m5=svc_radial).predict(X_test)))\n",
    "print('\\n'); print(e4); print(r4); print(classification_report(y_test, weighted_model(w1=e4['w0'], m1=xgbc, w2=e4['w1'], m2=rfc, w3=e4['w2'], m3=ctbc, w4=e4['w3'], m4=svc_lin, w5=e4['w4'], m5=svc_radial).predict(X_test)))\n",
    "print('\\n'); print(e5); print(r5); print(classification_report(y_test, weighted_model(w1=e5['w0'], m1=xgbc, w2=e5['w1'], m2=rfc, w3=e5['w2'], m3=ctbc, w4=e5['w3'], m4=svc_lin, w5=e5['w4'], m5=svc_radial).predict(X_test)))\n",
    "print('\\n'); print(e6); print(r6); print(classification_report(y_test, weighted_model(w1=e6['w0'], m1=xgbc, w2=e6['w1'], m2=rfc, w3=e6['w2'], m3=ctbc, w4=e6['w3'], m4=svc_lin, w5=e6['w4'], m5=svc_radial).predict(X_test)))\n",
    "print('\\n'); print(e7); print(r7); print(classification_report(y_test, weighted_model(w1=e7['w0'], m1=xgbc, w2=e7['w1'], m2=rfc, w3=e7['w2'], m3=ctbc, w4=e7['w3'], m4=svc_lin, w5=e7['w4'], m5=svc_radial).predict(X_test)))\n",
    "print('\\n'); print(e8); print(r8); print(classification_report(y_test, weighted_model(w1=e8['w0'], m1=xgbc, w2=e8['w1'], m2=rfc, w3=e8['w2'], m3=ctbc, w4=e8['w3'], m4=svc_lin, w5=e8['w4'], m5=svc_radial).predict(X_test)))"
   ]
  },
  {
   "cell_type": "markdown",
   "id": "perceived-bridges",
   "metadata": {},
   "source": [
    "## TODO\n",
    "## Optimizing weighted LIME and SHAP values for xgbc.\n"
   ]
  },
  {
   "cell_type": "code",
   "execution_count": 342,
   "id": "perfect-kingdom",
   "metadata": {},
   "outputs": [
    {
     "data": {
      "text/plain": [
       "2"
      ]
     },
     "execution_count": 342,
     "metadata": {},
     "output_type": "execute_result"
    }
   ],
   "source": [
    "1 + 1"
   ]
  },
  {
   "cell_type": "code",
   "execution_count": null,
   "id": "streaming-miller",
   "metadata": {},
   "outputs": [],
   "source": []
  }
 ],
 "metadata": {
  "kernelspec": {
   "display_name": "Python 3",
   "language": "python",
   "name": "python3"
  },
  "language_info": {
   "codemirror_mode": {
    "name": "ipython",
    "version": 3
   },
   "file_extension": ".py",
   "mimetype": "text/x-python",
   "name": "python",
   "nbconvert_exporter": "python",
   "pygments_lexer": "ipython3",
   "version": "3.8.5"
  }
 },
 "nbformat": 4,
 "nbformat_minor": 5
}
