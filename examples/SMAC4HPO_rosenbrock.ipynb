{
 "cells": [
  {
   "cell_type": "code",
   "execution_count": 1,
   "metadata": {
    "collapsed": false,
    "jupyter": {
     "outputs_hidden": false
    }
   },
   "outputs": [],
   "source": [
    "%matplotlib inline"
   ]
  },
  {
   "cell_type": "markdown",
   "metadata": {},
   "source": [
    "\n",
    "# Using the SMAC interface tuned for hyperparameter optimization for black-box optimization\n",
    "\n"
   ]
  },
  {
   "cell_type": "code",
   "execution_count": null,
   "metadata": {
    "collapsed": false,
    "jupyter": {
     "outputs_hidden": false
    }
   },
   "outputs": [
    {
     "name": "stdout",
     "output_type": "stream",
     "text": [
      "1.20.0\n"
     ]
    },
    {
     "name": "stderr",
     "output_type": "stream",
     "text": [
      "/usr/local/lib/python3.8/dist-packages/pyparsing.py:3190: FutureWarning: Possible set intersection at position 3\n",
      "  self.re = re.compile(self.reString)\n",
      "<ipython-input-1-5b9577c70b81>:36: DeprecationWarning: `np.float` is a deprecated alias for the builtin `float`. To silence this warning, use `float` by itself. Doing this will not modify any behavior and is safe. If you specifically wanted the numpy scalar type, use `np.float64` here.\n",
      "Deprecated in NumPy 1.20; for more details and guidance: https://numpy.org/devdocs/release/1.20.0-notes.html#deprecations\n",
      "  cs.add_hyperparameters([x0, x1])\n",
      "INFO:smac.utils.io.cmd_reader.CMDReader:Output to smac3-output_2021-01-31_19:53:21_478678\n",
      "<ipython-input-1-5b9577c70b81>:47: DeprecationWarning: `np.float` is a deprecated alias for the builtin `float`. To silence this warning, use `float` by itself. Doing this will not modify any behavior and is safe. If you specifically wanted the numpy scalar type, use `np.float64` here.\n",
      "Deprecated in NumPy 1.20; for more details and guidance: https://numpy.org/devdocs/release/1.20.0-notes.html#deprecations\n",
      "  def_value = rosenbrock_2d(cs.get_default_configuration())\n",
      "INFO:smac.facade.smac_hpo_facade.SMAC4HPO:Optimizing a deterministic scenario for quality without a tuner timeout - will make SMAC deterministic and only evaluate one configuration per iteration!\n"
     ]
    }
   ],
   "source": [
    "import logging\n",
    "\n",
    "import numpy as np\n",
    "print(np.version.version)\n",
    "\n",
    "from ConfigSpace.hyperparameters import UniformFloatHyperparameter\n",
    "\n",
    "# Import ConfigSpace and different types of parameters\n",
    "from smac.configspace import ConfigurationSpace\n",
    "from smac.facade.smac_hpo_facade import SMAC4HPO\n",
    "# Import SMAC-utilities\n",
    "from smac.scenario.scenario import Scenario\n",
    "\n",
    "\n",
    "def rosenbrock_2d(x):\n",
    "    \"\"\" The 2 dimensional Rosenbrock function as a toy model\n",
    "    The Rosenbrock function is well know in the optimization community and\n",
    "    often serves as a toy problem. It can be defined for arbitrary\n",
    "    dimensions. The minimium is always at x_i = 1 with a function value of\n",
    "    zero. All input parameters are continuous. The search domain for\n",
    "    all x's is the interval [-5, 10].\n",
    "    \"\"\"\n",
    "    x1 = x[\"x0\"]\n",
    "    x2 = x[\"x1\"]\n",
    "\n",
    "    val = 100. * (x2 - x1 ** 2.) ** 2. + (1 - x1) ** 2.\n",
    "    return val\n",
    "\n",
    "\n",
    "logging.basicConfig(level=logging.INFO)  # logging.DEBUG for debug output\n",
    "\n",
    "# Build Configuration Space which defines all parameters and their ranges\n",
    "cs = ConfigurationSpace()\n",
    "x0 = UniformFloatHyperparameter(\"x0\", -5, 10, default_value=-3)\n",
    "x1 = UniformFloatHyperparameter(\"x1\", -5, 10, default_value=-4)\n",
    "cs.add_hyperparameters([x0, x1])\n",
    "\n",
    "# Scenario object\n",
    "scenario = Scenario({\"run_obj\": \"quality\",  # we optimize quality (alternatively runtime)\n",
    "                     \"runcount-limit\": 10,  # max. number of function evaluations; for this example set to a low number\n",
    "                     \"cs\": cs,  # configuration space\n",
    "                     \"deterministic\": \"true\"\n",
    "                     })\n",
    "\n",
    "# Example call of the function\n",
    "# It returns: Status, Cost, Runtime, Additional Infos\n",
    "def_value = rosenbrock_2d(cs.get_default_configuration())\n",
    "print(\"Default Value: %.2f\" % def_value)\n",
    "\n",
    "# Optimize, using a SMAC-object\n",
    "print(\"Optimizing! Depending on your machine, this might take a few minutes.\")\n",
    "smac = SMAC4HPO(scenario=scenario,\n",
    "                rng=np.random.RandomState(42),\n",
    "                tae_runner=rosenbrock_2d)\n",
    "\n",
    "smac.optimize()"
   ]
  },
  {
   "cell_type": "code",
   "execution_count": 1,
   "metadata": {},
   "outputs": [
    {
     "data": {
      "text/plain": [
       "2"
      ]
     },
     "execution_count": 1,
     "metadata": {},
     "output_type": "execute_result"
    }
   ],
   "source": [
    "1+1"
   ]
  },
  {
   "cell_type": "code",
   "execution_count": null,
   "metadata": {},
   "outputs": [],
   "source": []
  }
 ],
 "metadata": {
  "kernelspec": {
   "display_name": "Python 3",
   "language": "python",
   "name": "python3"
  },
  "language_info": {
   "codemirror_mode": {
    "name": "ipython",
    "version": 3
   },
   "file_extension": ".py",
   "mimetype": "text/x-python",
   "name": "python",
   "nbconvert_exporter": "python",
   "pygments_lexer": "ipython3",
   "version": "3.8.5"
  }
 },
 "nbformat": 4,
 "nbformat_minor": 4
}
