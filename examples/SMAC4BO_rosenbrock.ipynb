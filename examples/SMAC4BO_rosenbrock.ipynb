{
 "cells": [
  {
   "cell_type": "code",
   "execution_count": 3,
   "metadata": {},
   "outputs": [
    {
     "name": "stdout",
     "output_type": "stream",
     "text": [
      "Reading package lists... Done\n",
      "Building dependency tree       \n",
      "Reading state information... Done\n",
      "build-essential is already the newest version (12.8ubuntu1.1).\n",
      "build-essential set to manually installed.\n",
      "0 upgraded, 0 newly installed, 0 to remove and 304 not upgraded.\n"
     ]
    }
   ],
   "source": [
    "! sudo apt-get install build-essential\n"
   ]
  },
  {
   "cell_type": "code",
   "execution_count": 4,
   "metadata": {
    "collapsed": true,
    "jupyter": {
     "outputs_hidden": true
    }
   },
   "outputs": [
    {
     "name": "stdout",
     "output_type": "stream",
     "text": [
      "Requirement already satisfied: smac in /home/ava/.local/lib/python3.8/site-packages (0.13.1)\n",
      "Requirement already satisfied: psutil in /home/ava/.local/lib/python3.8/site-packages (from smac) (5.8.0)\n",
      "Requirement already satisfied: distributed in /home/ava/.local/lib/python3.8/site-packages (from smac) (2021.1.1)\n",
      "Requirement already satisfied: scikit-learn>=0.22.0 in /home/ava/.local/lib/python3.8/site-packages (from smac) (0.24.1)\n",
      "Requirement already satisfied: scipy>=0.18.1 in /home/ava/.local/lib/python3.8/site-packages (from smac) (1.6.0)\n",
      "Requirement already satisfied: ConfigSpace<0.5,>=0.4.14 in /home/ava/.local/lib/python3.8/site-packages (from smac) (0.4.17)\n",
      "Requirement already satisfied: numpy>=1.7.1 in /home/ava/.local/lib/python3.8/site-packages (from smac) (1.20.0)\n",
      "Requirement already satisfied: pynisher>=0.4.1 in /home/ava/.local/lib/python3.8/site-packages (from smac) (0.6.3)\n",
      "Requirement already satisfied: pyrfr>=0.8.0 in /home/ava/.local/lib/python3.8/site-packages (from smac) (0.8.0)\n",
      "Requirement already satisfied: lazy-import in /home/ava/.local/lib/python3.8/site-packages (from smac) (0.2.2)\n",
      "Requirement already satisfied: dask in /home/ava/.local/lib/python3.8/site-packages (from smac) (2021.1.1)\n",
      "Requirement already satisfied: joblib in /home/ava/.local/lib/python3.8/site-packages (from smac) (1.0.0)\n",
      "Requirement already satisfied: setuptools in /usr/lib/python3/dist-packages (from distributed->smac) (45.2.0)\n",
      "Requirement already satisfied: cloudpickle>=1.5.0 in /home/ava/.local/lib/python3.8/site-packages (from distributed->smac) (1.6.0)\n",
      "Requirement already satisfied: pyyaml in /home/ava/.local/lib/python3.8/site-packages (from distributed->smac) (3.11)\n",
      "Requirement already satisfied: zict>=0.1.3 in /home/ava/.local/lib/python3.8/site-packages (from distributed->smac) (2.0.0)\n",
      "Requirement already satisfied: click>=6.6 in /usr/lib/python3/dist-packages (from distributed->smac) (7.0)\n",
      "Requirement already satisfied: toolz>=0.8.2 in /home/ava/.local/lib/python3.8/site-packages (from distributed->smac) (0.11.1)\n",
      "Requirement already satisfied: sortedcontainers!=2.0.0,!=2.0.1 in /home/ava/.local/lib/python3.8/site-packages (from distributed->smac) (2.3.0)\n",
      "Requirement already satisfied: tblib>=1.6.0 in /home/ava/.local/lib/python3.8/site-packages (from distributed->smac) (1.7.0)\n",
      "Requirement already satisfied: tornado>=6.0.3; python_version >= \"3.8\" in /usr/local/lib/python3.8/dist-packages (from distributed->smac) (6.1)\n",
      "Requirement already satisfied: msgpack>=0.6.0 in /home/ava/.local/lib/python3.8/site-packages (from distributed->smac) (1.0.2)\n",
      "Requirement already satisfied: threadpoolctl>=2.0.0 in /home/ava/.local/lib/python3.8/site-packages (from scikit-learn>=0.22.0->smac) (2.1.0)\n",
      "Requirement already satisfied: pyparsing in /usr/local/lib/python3.8/dist-packages (from ConfigSpace<0.5,>=0.4.14->smac) (2.4.7)\n",
      "Requirement already satisfied: cython in /home/ava/.local/lib/python3.8/site-packages (from ConfigSpace<0.5,>=0.4.14->smac) (0.29.21)\n",
      "Requirement already satisfied: docutils>=0.3 in /home/ava/.local/lib/python3.8/site-packages (from pynisher>=0.4.1->smac) (0.15.2)\n",
      "Requirement already satisfied: six in /usr/lib/python3/dist-packages (from lazy-import->smac) (1.14.0)\n",
      "Requirement already satisfied: heapdict in /home/ava/.local/lib/python3.8/site-packages (from zict>=0.1.3->distributed->smac) (1.0.1)\n",
      "Requirement already up-to-date: ConfigSpace in /home/ava/.local/lib/python3.8/site-packages (0.4.17)\n",
      "Requirement already satisfied, skipping upgrade: pyparsing in /usr/local/lib/python3.8/dist-packages (from ConfigSpace) (2.4.7)\n",
      "Requirement already satisfied, skipping upgrade: cython in /home/ava/.local/lib/python3.8/site-packages (from ConfigSpace) (0.29.21)\n",
      "Requirement already satisfied, skipping upgrade: numpy in /home/ava/.local/lib/python3.8/site-packages (from ConfigSpace) (1.20.0)\n",
      "Requirement already satisfied: scikit-optimize[plots] in /home/ava/.local/lib/python3.8/site-packages (0.8.1)\n",
      "Requirement already satisfied: scikit-learn>=0.20.0 in /home/ava/.local/lib/python3.8/site-packages (from scikit-optimize[plots]) (0.24.1)\n",
      "Requirement already satisfied: scipy>=0.19.1 in /home/ava/.local/lib/python3.8/site-packages (from scikit-optimize[plots]) (1.6.0)\n",
      "Requirement already satisfied: numpy>=1.13.3 in /home/ava/.local/lib/python3.8/site-packages (from scikit-optimize[plots]) (1.20.0)\n",
      "Requirement already satisfied: pyaml>=16.9 in /home/ava/.local/lib/python3.8/site-packages (from scikit-optimize[plots]) (20.4.0)\n",
      "Requirement already satisfied: joblib>=0.11 in /home/ava/.local/lib/python3.8/site-packages (from scikit-optimize[plots]) (1.0.0)\n",
      "Requirement already satisfied: matplotlib>=2.0.0; extra == \"plots\" in /home/ava/.local/lib/python3.8/site-packages (from scikit-optimize[plots]) (3.3.4)\n",
      "Requirement already satisfied: threadpoolctl>=2.0.0 in /home/ava/.local/lib/python3.8/site-packages (from scikit-learn>=0.20.0->scikit-optimize[plots]) (2.1.0)\n",
      "Requirement already satisfied: PyYAML in /home/ava/.local/lib/python3.8/site-packages (from pyaml>=16.9->scikit-optimize[plots]) (3.11)\n",
      "Requirement already satisfied: kiwisolver>=1.0.1 in /home/ava/.local/lib/python3.8/site-packages (from matplotlib>=2.0.0; extra == \"plots\"->scikit-optimize[plots]) (1.3.1)\n",
      "Requirement already satisfied: python-dateutil>=2.1 in /usr/lib/python3/dist-packages (from matplotlib>=2.0.0; extra == \"plots\"->scikit-optimize[plots]) (2.7.3)\n",
      "Requirement already satisfied: cycler>=0.10 in /home/ava/.local/lib/python3.8/site-packages (from matplotlib>=2.0.0; extra == \"plots\"->scikit-optimize[plots]) (0.10.0)\n",
      "Requirement already satisfied: pyparsing!=2.0.4,!=2.1.2,!=2.1.6,>=2.0.3 in /usr/local/lib/python3.8/dist-packages (from matplotlib>=2.0.0; extra == \"plots\"->scikit-optimize[plots]) (2.4.7)\n",
      "Requirement already satisfied: pillow>=6.2.0 in /usr/lib/python3/dist-packages (from matplotlib>=2.0.0; extra == \"plots\"->scikit-optimize[plots]) (7.0.0)\n",
      "Requirement already satisfied: six in /usr/lib/python3/dist-packages (from cycler>=0.10->matplotlib>=2.0.0; extra == \"plots\"->scikit-optimize[plots]) (1.14.0)\n",
      "Requirement already satisfied: emcee in /home/ava/.local/lib/python3.8/site-packages (3.0.2)\n",
      "Requirement already satisfied: numpy in /home/ava/.local/lib/python3.8/site-packages (from emcee) (1.20.0)\n"
     ]
    }
   ],
   "source": [
    "! pip3 install smac\n",
    "! pip3 install -U ConfigSpace\n",
    "\n",
    "! pip3 install 'scikit-optimize[plots]'\n",
    "! pip3 install emcee"
   ]
  },
  {
   "cell_type": "code",
   "execution_count": 5,
   "metadata": {
    "collapsed": false,
    "jupyter": {
     "outputs_hidden": false
    }
   },
   "outputs": [],
   "source": [
    "%matplotlib inline"
   ]
  },
  {
   "cell_type": "markdown",
   "metadata": {},
   "source": [
    "\n",
    "# Using the black-box optimization interface of SMAC\n",
    "\n"
   ]
  },
  {
   "cell_type": "code",
   "execution_count": 2,
   "metadata": {
    "collapsed": false,
    "jupyter": {
     "outputs_hidden": false
    }
   },
   "outputs": [
    {
     "name": "stdout",
     "output_type": "stream",
     "text": [
      "1.20.0\n"
     ]
    },
    {
     "name": "stderr",
     "output_type": "stream",
     "text": [
      "/usr/local/lib/python3.8/dist-packages/pyparsing.py:3190: FutureWarning: Possible set intersection at position 3\n",
      "  self.re = re.compile(self.reString)\n",
      "<ipython-input-2-362bb0fe55e3>:36: DeprecationWarning: `np.float` is a deprecated alias for the builtin `float`. To silence this warning, use `float` by itself. Doing this will not modify any behavior and is safe. If you specifically wanted the numpy scalar type, use `np.float64` here.\n",
      "Deprecated in NumPy 1.20; for more details and guidance: https://numpy.org/devdocs/release/1.20.0-notes.html#deprecations\n",
      "  cs.add_hyperparameters([x0, x1])\n",
      "INFO:smac.utils.io.cmd_reader.CMDReader:Output to smac3-output_2021-01-31_19:50:45_701857\n",
      "<ipython-input-2-362bb0fe55e3>:47: DeprecationWarning: `np.float` is a deprecated alias for the builtin `float`. To silence this warning, use `float` by itself. Doing this will not modify any behavior and is safe. If you specifically wanted the numpy scalar type, use `np.float64` here.\n",
      "Deprecated in NumPy 1.20; for more details and guidance: https://numpy.org/devdocs/release/1.20.0-notes.html#deprecations\n",
      "  def_value = rosenbrock_2d(cs.get_default_configuration())\n",
      "INFO:smac.facade.smac_bo_facade.SMAC4BO:Optimizing a deterministic scenario for quality without a tuner timeout - will make SMAC deterministic and only evaluate one configuration per iteration!\n",
      "INFO:smac.initial_design.sobol_design.SobolDesign:Running initial design for 2 configurations\n",
      "INFO:smac.facade.smac_bo_facade.SMAC4BO:<class 'smac.facade.smac_bo_facade.SMAC4BO'>\n",
      "INFO:smac.optimizer.smbo.SMBO:Running initial design\n",
      "INFO:smac.intensification.intensification.Intensifier:First run, no incumbent provided; challenger is assumed to be the incumbent\n"
     ]
    },
    {
     "name": "stdout",
     "output_type": "stream",
     "text": [
      "Default Value: 16916.00\n",
      "Optimizing! Depending on your machine, this might take a few minutes.\n"
     ]
    },
    {
     "name": "stderr",
     "output_type": "stream",
     "text": [
      "INFO:smac.intensification.intensification.Intensifier:First run, no incumbent provided; challenger is assumed to be the incumbent\n",
      "INFO:smac.intensification.intensification.Intensifier:Updated estimated cost of incumbent on 1 runs: 1408.5000\n",
      "INFO:smac.intensification.intensification.Intensifier:Wallclock time limit for intensification reached (used: 0.033603 sec, available: 0.000010 sec)\n",
      "INFO:smac.intensification.intensification.Intensifier:Challenger (1155.1637) is better than incumbent (1408.5000) on 1 runs.\n",
      "INFO:smac.intensification.intensification.Intensifier:Changes in incumbent:\n",
      "INFO:smac.intensification.intensification.Intensifier:  x0 : 2.5 -> 2.44601892544737\n",
      "INFO:smac.intensification.intensification.Intensifier:  x1 : 2.5 -> 2.587316111925789\n",
      "INFO:smac.intensification.intensification.Intensifier:Wallclock time limit for intensification reached (used: 0.014447 sec, available: 0.000010 sec)\n",
      "INFO:smac.intensification.intensification.Intensifier:Challenger (185.2604) is better than incumbent (1155.1637) on 1 runs.\n",
      "INFO:smac.intensification.intensification.Intensifier:Changes in incumbent:\n",
      "INFO:smac.intensification.intensification.Intensifier:  x0 : 2.44601892544737 -> 0.6992731210636443\n",
      "INFO:smac.intensification.intensification.Intensifier:  x1 : 2.587316111925789 -> 1.8497544285559195\n",
      "INFO:smac.intensification.intensification.Intensifier:Wallclock time limit for intensification reached (used: 0.015283 sec, available: 0.000010 sec)\n",
      "INFO:smac.intensification.intensification.Intensifier:Wallclock time limit for intensification reached (used: 0.017776 sec, available: 0.000010 sec)\n",
      "INFO:smac.intensification.intensification.Intensifier:Wallclock time limit for intensification reached (used: 0.015294 sec, available: 0.000010 sec)\n",
      "INFO:smac.intensification.intensification.Intensifier:Wallclock time limit for intensification reached (used: 0.015154 sec, available: 0.000010 sec)\n",
      "INFO:smac.intensification.intensification.Intensifier:Wallclock time limit for intensification reached (used: 0.014731 sec, available: 0.000010 sec)\n",
      "INFO:smac.intensification.intensification.Intensifier:Challenger (9.7329) is better than incumbent (185.2604) on 1 runs.\n",
      "INFO:smac.intensification.intensification.Intensifier:Changes in incumbent:\n",
      "INFO:smac.intensification.intensification.Intensifier:  x0 : 0.6992731210636443 -> -0.7845334063352647\n",
      "INFO:smac.intensification.intensification.Intensifier:  x1 : 1.8497544285559195 -> 0.35959503070043475\n",
      "INFO:smac.intensification.intensification.Intensifier:Wallclock time limit for intensification reached (used: 0.018116 sec, available: 0.000010 sec)\n",
      "INFO:smac.intensification.intensification.Intensifier:Wallclock time limit for intensification reached (used: 0.014080 sec, available: 0.000010 sec)\n",
      "INFO:smac.stats.stats.Stats:##########################################################\n",
      "INFO:smac.stats.stats.Stats:Statistics:\n",
      "INFO:smac.stats.stats.Stats:#Incumbent changed: 3\n",
      "INFO:smac.stats.stats.Stats:#Submitted target algorithm runs: 10 / 10.0\n",
      "INFO:smac.stats.stats.Stats:#Finished target algorithm runs: 10 / 10.0\n",
      "INFO:smac.stats.stats.Stats:#Configurations: 10\n",
      "INFO:smac.stats.stats.Stats:Used wallclock time: 8.65 / inf sec \n",
      "INFO:smac.stats.stats.Stats:Used target algorithm runtime: 0.05 / inf sec\n",
      "INFO:smac.stats.stats.Stats:##########################################################\n",
      "INFO:smac.facade.smac_bo_facade.SMAC4BO:Final Incumbent: Configuration:\n",
      "  x0, Value: -0.7845334063352647\n",
      "  x1, Value: 0.35959503070043475\n",
      "\n",
      "INFO:smac.facade.smac_bo_facade.SMAC4BO:Estimated cost of incumbent: 9.732919\n"
     ]
    },
    {
     "data": {
      "text/plain": [
       "Configuration:\n",
       "  x0, Value: -0.7845334063352647\n",
       "  x1, Value: 0.35959503070043475"
      ]
     },
     "execution_count": 2,
     "metadata": {},
     "output_type": "execute_result"
    }
   ],
   "source": [
    "import logging\n",
    "\n",
    "import numpy as np\n",
    "print(np.version.version)\n",
    "\n",
    "from ConfigSpace.hyperparameters import UniformFloatHyperparameter\n",
    "\n",
    "# Import ConfigSpace and different types of parameters\n",
    "from smac.configspace import ConfigurationSpace\n",
    "from smac.facade.smac_bo_facade import SMAC4BO\n",
    "# Import SMAC-utilities\n",
    "from smac.scenario.scenario import Scenario\n",
    "\n",
    "\n",
    "def rosenbrock_2d(x):\n",
    "    \"\"\" The 2 dimensional Rosenbrock function as a toy model\n",
    "    The Rosenbrock function is well know in the optimization community and\n",
    "    often serves as a toy problem. It can be defined for arbitrary\n",
    "    dimensions. The minimium is always at x_i = 1 with a function value of\n",
    "    zero. All input parameters are continuous. The search domain for\n",
    "    all x's is the interval [-5, 10].\n",
    "    \"\"\"\n",
    "    x1 = x[\"x0\"]\n",
    "    x2 = x[\"x1\"]\n",
    "\n",
    "    val = 100. * (x2 - x1 ** 2.) ** 2. + (1 - x1) ** 2.\n",
    "    return val\n",
    "\n",
    "\n",
    "logging.basicConfig(level=logging.INFO)  # logging.DEBUG for debug output\n",
    "\n",
    "# Build Configuration Space which defines all parameters and their ranges\n",
    "cs = ConfigurationSpace()\n",
    "x0 = UniformFloatHyperparameter(\"x0\", -5, 10, default_value=-3)\n",
    "x1 = UniformFloatHyperparameter(\"x1\", -5, 10, default_value=-4)\n",
    "cs.add_hyperparameters([x0, x1])\n",
    "\n",
    "# Scenario object\n",
    "scenario = Scenario({\"run_obj\": \"quality\",  # we optimize quality (alternatively runtime)\n",
    "                     \"runcount-limit\": 10,  # max. number of function evaluations; for this example set to a low number\n",
    "                     \"cs\": cs,  # configuration space\n",
    "                     \"deterministic\": \"true\"\n",
    "                     })\n",
    "\n",
    "# Example call of the function\n",
    "# It returns: Status, Cost, Runtime, Additional Infos\n",
    "def_value = rosenbrock_2d(cs.get_default_configuration())\n",
    "print(\"Default Value: %.2f\" % def_value)\n",
    "\n",
    "# Optimize, using a SMAC-object\n",
    "print(\"Optimizing! Depending on your machine, this might take a few minutes.\")\n",
    "smac = SMAC4BO(scenario=scenario,\n",
    "               rng=np.random.RandomState(42),\n",
    "               tae_runner=rosenbrock_2d,\n",
    "               )\n",
    "\n",
    "smac.optimize()"
   ]
  },
  {
   "cell_type": "code",
   "execution_count": null,
   "metadata": {},
   "outputs": [],
   "source": []
  }
 ],
 "metadata": {
  "kernelspec": {
   "display_name": "Python 3",
   "language": "python",
   "name": "python3"
  },
  "language_info": {
   "codemirror_mode": {
    "name": "ipython",
    "version": 3
   },
   "file_extension": ".py",
   "mimetype": "text/x-python",
   "name": "python",
   "nbconvert_exporter": "python",
   "pygments_lexer": "ipython3",
   "version": "3.8.5"
  }
 },
 "nbformat": 4,
 "nbformat_minor": 4
}
